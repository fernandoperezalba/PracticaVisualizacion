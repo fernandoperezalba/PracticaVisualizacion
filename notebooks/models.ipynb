{
 "cells": [
  {
   "cell_type": "code",
   "execution_count": 118,
   "metadata": {},
   "outputs": [],
   "source": [
    "import pandas as pd\n",
    "from sklearn.model_selection import train_test_split\n",
    "from sklearn.ensemble import RandomForestRegressor\n",
    "from sklearn.metrics import mean_squared_error, r2_score, mean_absolute_percentage_error, root_mean_squared_error, mean_absolute_error\n",
    "import plotly.express as px\n",
    "import plotly.graph_objects as go\n",
    "import optuna\n",
    "import xgboost as xgb"
   ]
  },
  {
   "cell_type": "code",
   "execution_count": 18,
   "metadata": {},
   "outputs": [],
   "source": [
    "df = pd.read_csv(\"../data/processed/df_model.csv\")"
   ]
  },
  {
   "cell_type": "code",
   "execution_count": 19,
   "metadata": {},
   "outputs": [
    {
     "data": {
      "text/html": [
       "<div>\n",
       "<style scoped>\n",
       "    .dataframe tbody tr th:only-of-type {\n",
       "        vertical-align: middle;\n",
       "    }\n",
       "\n",
       "    .dataframe tbody tr th {\n",
       "        vertical-align: top;\n",
       "    }\n",
       "\n",
       "    .dataframe thead th {\n",
       "        text-align: right;\n",
       "    }\n",
       "</style>\n",
       "<table border=\"1\" class=\"dataframe\">\n",
       "  <thead>\n",
       "    <tr style=\"text-align: right;\">\n",
       "      <th></th>\n",
       "      <th>budget</th>\n",
       "      <th>popularity</th>\n",
       "      <th>revenue</th>\n",
       "      <th>runtime</th>\n",
       "      <th>vote_average</th>\n",
       "      <th>vote_count</th>\n",
       "      <th>Action</th>\n",
       "      <th>Adventure</th>\n",
       "      <th>Animation</th>\n",
       "      <th>Comedy</th>\n",
       "      <th>...</th>\n",
       "      <th>Germany</th>\n",
       "      <th>Other_country</th>\n",
       "      <th>United Kingdom</th>\n",
       "      <th>United States of America</th>\n",
       "      <th>year</th>\n",
       "      <th>month</th>\n",
       "      <th>day</th>\n",
       "      <th>weekday</th>\n",
       "      <th>day_of_year</th>\n",
       "      <th>real_gdp</th>\n",
       "    </tr>\n",
       "  </thead>\n",
       "  <tbody>\n",
       "    <tr>\n",
       "      <th>0</th>\n",
       "      <td>237000000</td>\n",
       "      <td>150.437577</td>\n",
       "      <td>2787965087</td>\n",
       "      <td>162.0</td>\n",
       "      <td>7.2</td>\n",
       "      <td>11800</td>\n",
       "      <td>1</td>\n",
       "      <td>1</td>\n",
       "      <td>0</td>\n",
       "      <td>0</td>\n",
       "      <td>...</td>\n",
       "      <td>0</td>\n",
       "      <td>0</td>\n",
       "      <td>1</td>\n",
       "      <td>1</td>\n",
       "      <td>2009</td>\n",
       "      <td>12</td>\n",
       "      <td>10</td>\n",
       "      <td>3</td>\n",
       "      <td>344</td>\n",
       "      <td>16349100</td>\n",
       "    </tr>\n",
       "    <tr>\n",
       "      <th>1</th>\n",
       "      <td>300000000</td>\n",
       "      <td>139.082615</td>\n",
       "      <td>961000000</td>\n",
       "      <td>169.0</td>\n",
       "      <td>6.9</td>\n",
       "      <td>4500</td>\n",
       "      <td>1</td>\n",
       "      <td>1</td>\n",
       "      <td>0</td>\n",
       "      <td>0</td>\n",
       "      <td>...</td>\n",
       "      <td>0</td>\n",
       "      <td>0</td>\n",
       "      <td>0</td>\n",
       "      <td>1</td>\n",
       "      <td>2007</td>\n",
       "      <td>5</td>\n",
       "      <td>19</td>\n",
       "      <td>5</td>\n",
       "      <td>139</td>\n",
       "      <td>16762400</td>\n",
       "    </tr>\n",
       "    <tr>\n",
       "      <th>2</th>\n",
       "      <td>245000000</td>\n",
       "      <td>107.376788</td>\n",
       "      <td>880674609</td>\n",
       "      <td>148.0</td>\n",
       "      <td>6.3</td>\n",
       "      <td>4466</td>\n",
       "      <td>1</td>\n",
       "      <td>1</td>\n",
       "      <td>0</td>\n",
       "      <td>0</td>\n",
       "      <td>...</td>\n",
       "      <td>0</td>\n",
       "      <td>0</td>\n",
       "      <td>1</td>\n",
       "      <td>1</td>\n",
       "      <td>2015</td>\n",
       "      <td>10</td>\n",
       "      <td>26</td>\n",
       "      <td>0</td>\n",
       "      <td>299</td>\n",
       "      <td>18799600</td>\n",
       "    </tr>\n",
       "    <tr>\n",
       "      <th>3</th>\n",
       "      <td>250000000</td>\n",
       "      <td>112.312950</td>\n",
       "      <td>1084939099</td>\n",
       "      <td>165.0</td>\n",
       "      <td>7.6</td>\n",
       "      <td>9106</td>\n",
       "      <td>1</td>\n",
       "      <td>0</td>\n",
       "      <td>0</td>\n",
       "      <td>0</td>\n",
       "      <td>...</td>\n",
       "      <td>0</td>\n",
       "      <td>0</td>\n",
       "      <td>0</td>\n",
       "      <td>1</td>\n",
       "      <td>2012</td>\n",
       "      <td>7</td>\n",
       "      <td>16</td>\n",
       "      <td>0</td>\n",
       "      <td>198</td>\n",
       "      <td>17442800</td>\n",
       "    </tr>\n",
       "    <tr>\n",
       "      <th>4</th>\n",
       "      <td>260000000</td>\n",
       "      <td>43.926995</td>\n",
       "      <td>284139100</td>\n",
       "      <td>132.0</td>\n",
       "      <td>6.1</td>\n",
       "      <td>2124</td>\n",
       "      <td>1</td>\n",
       "      <td>1</td>\n",
       "      <td>0</td>\n",
       "      <td>0</td>\n",
       "      <td>...</td>\n",
       "      <td>0</td>\n",
       "      <td>0</td>\n",
       "      <td>0</td>\n",
       "      <td>1</td>\n",
       "      <td>2012</td>\n",
       "      <td>3</td>\n",
       "      <td>7</td>\n",
       "      <td>2</td>\n",
       "      <td>67</td>\n",
       "      <td>17442800</td>\n",
       "    </tr>\n",
       "  </tbody>\n",
       "</table>\n",
       "<p>5 rows × 54 columns</p>\n",
       "</div>"
      ],
      "text/plain": [
       "      budget  popularity     revenue  runtime  vote_average  vote_count  \\\n",
       "0  237000000  150.437577  2787965087    162.0           7.2       11800   \n",
       "1  300000000  139.082615   961000000    169.0           6.9        4500   \n",
       "2  245000000  107.376788   880674609    148.0           6.3        4466   \n",
       "3  250000000  112.312950  1084939099    165.0           7.6        9106   \n",
       "4  260000000   43.926995   284139100    132.0           6.1        2124   \n",
       "\n",
       "   Action  Adventure  Animation  Comedy  ...  Germany  Other_country  \\\n",
       "0       1          1          0       0  ...        0              0   \n",
       "1       1          1          0       0  ...        0              0   \n",
       "2       1          1          0       0  ...        0              0   \n",
       "3       1          0          0       0  ...        0              0   \n",
       "4       1          1          0       0  ...        0              0   \n",
       "\n",
       "   United Kingdom  United States of America  year  month  day  weekday  \\\n",
       "0               1                         1  2009     12   10        3   \n",
       "1               0                         1  2007      5   19        5   \n",
       "2               1                         1  2015     10   26        0   \n",
       "3               0                         1  2012      7   16        0   \n",
       "4               0                         1  2012      3    7        2   \n",
       "\n",
       "   day_of_year  real_gdp  \n",
       "0          344  16349100  \n",
       "1          139  16762400  \n",
       "2          299  18799600  \n",
       "3          198  17442800  \n",
       "4           67  17442800  \n",
       "\n",
       "[5 rows x 54 columns]"
      ]
     },
     "execution_count": 19,
     "metadata": {},
     "output_type": "execute_result"
    }
   ],
   "source": [
    "df.head()"
   ]
  },
  {
   "cell_type": "code",
   "execution_count": 75,
   "metadata": {},
   "outputs": [],
   "source": [
    "target = \"revenue\"\n",
    "df_X = df.drop(columns=target)\n",
    "df_y = df[[target]]"
   ]
  },
  {
   "cell_type": "code",
   "execution_count": 76,
   "metadata": {},
   "outputs": [],
   "source": [
    "# Split the data into training and testing sets\n",
    "X_train, X_test, y_train, y_test = train_test_split(df_X, df_y, test_size=0.2, random_state=42)"
   ]
  },
  {
   "cell_type": "code",
   "execution_count": 77,
   "metadata": {},
   "outputs": [
    {
     "name": "stderr",
     "output_type": "stream",
     "text": [
      "c:\\Users\\clopearg\\OneDrive - NTT DATA EMEAL\\Desktop\\Fer\\Visualización\\PracticaVisualizacion\\.venv\\Lib\\site-packages\\sklearn\\base.py:1473: DataConversionWarning:\n",
      "\n",
      "A column-vector y was passed when a 1d array was expected. Please change the shape of y to (n_samples,), for example using ravel().\n",
      "\n"
     ]
    }
   ],
   "source": [
    "# Initialize the RandomForestRegressor model\n",
    "rf_regressor = RandomForestRegressor(n_estimators=100, random_state=42)\n",
    "\n",
    "# Train the model\n",
    "rf_regressor.fit(X_train, y_train)\n",
    "\n",
    "# Predict on the test set\n",
    "y_pred = rf_regressor.predict(X_test)"
   ]
  },
  {
   "cell_type": "code",
   "execution_count": 80,
   "metadata": {},
   "outputs": [
    {
     "name": "stdout",
     "output_type": "stream",
     "text": [
      "mse: 1.5571457990414312e+16\n",
      "r2: 0.7169058389760959\n",
      "mape: 9.416478607792484\n"
     ]
    }
   ],
   "source": [
    "# Evaluate the model\n",
    "mse = mean_squared_error(y_test, y_pred)\n",
    "r2 = r2_score(y_test, y_pred)\n",
    "mape = mean_absolute_percentage_error(y_test, y_pred)\n",
    "print(f\"mse: {mse}\")\n",
    "print(f\"r2: {r2}\")\n",
    "print(f\"mape: {mape}\")"
   ]
  },
  {
   "cell_type": "code",
   "execution_count": 93,
   "metadata": {},
   "outputs": [
    {
     "data": {
      "text/html": [
       "<div>\n",
       "<style scoped>\n",
       "    .dataframe tbody tr th:only-of-type {\n",
       "        vertical-align: middle;\n",
       "    }\n",
       "\n",
       "    .dataframe tbody tr th {\n",
       "        vertical-align: top;\n",
       "    }\n",
       "\n",
       "    .dataframe thead th {\n",
       "        text-align: right;\n",
       "    }\n",
       "</style>\n",
       "<table border=\"1\" class=\"dataframe\">\n",
       "  <thead>\n",
       "    <tr style=\"text-align: right;\">\n",
       "      <th></th>\n",
       "      <th>budget</th>\n",
       "      <th>popularity</th>\n",
       "      <th>runtime</th>\n",
       "      <th>vote_average</th>\n",
       "      <th>vote_count</th>\n",
       "      <th>Action</th>\n",
       "      <th>Adventure</th>\n",
       "      <th>Animation</th>\n",
       "      <th>Comedy</th>\n",
       "      <th>Crime</th>\n",
       "      <th>...</th>\n",
       "      <th>Germany</th>\n",
       "      <th>Other_country</th>\n",
       "      <th>United Kingdom</th>\n",
       "      <th>United States of America</th>\n",
       "      <th>year</th>\n",
       "      <th>month</th>\n",
       "      <th>day</th>\n",
       "      <th>weekday</th>\n",
       "      <th>day_of_year</th>\n",
       "      <th>real_gdp</th>\n",
       "    </tr>\n",
       "  </thead>\n",
       "  <tbody>\n",
       "    <tr>\n",
       "      <th>1074</th>\n",
       "      <td>6000000</td>\n",
       "      <td>34.917447</td>\n",
       "      <td>108.0</td>\n",
       "      <td>7.2</td>\n",
       "      <td>837</td>\n",
       "      <td>1</td>\n",
       "      <td>0</td>\n",
       "      <td>0</td>\n",
       "      <td>0</td>\n",
       "      <td>1</td>\n",
       "      <td>...</td>\n",
       "      <td>0</td>\n",
       "      <td>0</td>\n",
       "      <td>0</td>\n",
       "      <td>1</td>\n",
       "      <td>1999</td>\n",
       "      <td>1</td>\n",
       "      <td>22</td>\n",
       "      <td>4</td>\n",
       "      <td>22</td>\n",
       "      <td>13543800</td>\n",
       "    </tr>\n",
       "  </tbody>\n",
       "</table>\n",
       "<p>1 rows × 53 columns</p>\n",
       "</div>"
      ],
      "text/plain": [
       "       budget  popularity  runtime  vote_average  vote_count  Action  \\\n",
       "1074  6000000   34.917447    108.0           7.2         837       1   \n",
       "\n",
       "      Adventure  Animation  Comedy  Crime  ...  Germany  Other_country  \\\n",
       "1074          0          0       0      1  ...        0              0   \n",
       "\n",
       "      United Kingdom  United States of America  year  month  day  weekday  \\\n",
       "1074               0                         1  1999      1   22        4   \n",
       "\n",
       "      day_of_year  real_gdp  \n",
       "1074           22  13543800  \n",
       "\n",
       "[1 rows x 53 columns]"
      ]
     },
     "execution_count": 93,
     "metadata": {},
     "output_type": "execute_result"
    }
   ],
   "source": [
    "df_X[df_X.index==1074]"
   ]
  },
  {
   "cell_type": "code",
   "execution_count": 79,
   "metadata": {},
   "outputs": [
    {
     "data": {
      "text/html": [
       "<div>\n",
       "<style scoped>\n",
       "    .dataframe tbody tr th:only-of-type {\n",
       "        vertical-align: middle;\n",
       "    }\n",
       "\n",
       "    .dataframe tbody tr th {\n",
       "        vertical-align: top;\n",
       "    }\n",
       "\n",
       "    .dataframe thead th {\n",
       "        text-align: right;\n",
       "    }\n",
       "</style>\n",
       "<table border=\"1\" class=\"dataframe\">\n",
       "  <thead>\n",
       "    <tr style=\"text-align: right;\">\n",
       "      <th></th>\n",
       "      <th>y_real</th>\n",
       "      <th>y_pred</th>\n",
       "      <th>mape</th>\n",
       "    </tr>\n",
       "  </thead>\n",
       "  <tbody>\n",
       "    <tr>\n",
       "      <th>548</th>\n",
       "      <td>170128460</td>\n",
       "      <td>6.489577e+07</td>\n",
       "      <td>61.854844</td>\n",
       "    </tr>\n",
       "    <tr>\n",
       "      <th>704</th>\n",
       "      <td>201634991</td>\n",
       "      <td>1.135467e+08</td>\n",
       "      <td>43.687009</td>\n",
       "    </tr>\n",
       "    <tr>\n",
       "      <th>244</th>\n",
       "      <td>384335608</td>\n",
       "      <td>2.533689e+08</td>\n",
       "      <td>34.076139</td>\n",
       "    </tr>\n",
       "    <tr>\n",
       "      <th>552</th>\n",
       "      <td>74597643</td>\n",
       "      <td>5.169058e+07</td>\n",
       "      <td>30.707483</td>\n",
       "    </tr>\n",
       "    <tr>\n",
       "      <th>1164</th>\n",
       "      <td>15992615</td>\n",
       "      <td>4.932078e+07</td>\n",
       "      <td>208.397217</td>\n",
       "    </tr>\n",
       "    <tr>\n",
       "      <th>...</th>\n",
       "      <td>...</td>\n",
       "      <td>...</td>\n",
       "      <td>...</td>\n",
       "    </tr>\n",
       "    <tr>\n",
       "      <th>808</th>\n",
       "      <td>131282949</td>\n",
       "      <td>1.600983e+08</td>\n",
       "      <td>21.949035</td>\n",
       "    </tr>\n",
       "    <tr>\n",
       "      <th>88</th>\n",
       "      <td>938212738</td>\n",
       "      <td>6.848676e+08</td>\n",
       "      <td>27.002957</td>\n",
       "    </tr>\n",
       "    <tr>\n",
       "      <th>1144</th>\n",
       "      <td>35564473</td>\n",
       "      <td>2.950633e+07</td>\n",
       "      <td>17.034251</td>\n",
       "    </tr>\n",
       "    <tr>\n",
       "      <th>298</th>\n",
       "      <td>219417255</td>\n",
       "      <td>1.844142e+08</td>\n",
       "      <td>15.952752</td>\n",
       "    </tr>\n",
       "    <tr>\n",
       "      <th>376</th>\n",
       "      <td>244082376</td>\n",
       "      <td>2.367949e+08</td>\n",
       "      <td>2.985676</td>\n",
       "    </tr>\n",
       "  </tbody>\n",
       "</table>\n",
       "<p>246 rows × 3 columns</p>\n",
       "</div>"
      ],
      "text/plain": [
       "         y_real        y_pred        mape\n",
       "548   170128460  6.489577e+07   61.854844\n",
       "704   201634991  1.135467e+08   43.687009\n",
       "244   384335608  2.533689e+08   34.076139\n",
       "552    74597643  5.169058e+07   30.707483\n",
       "1164   15992615  4.932078e+07  208.397217\n",
       "...         ...           ...         ...\n",
       "808   131282949  1.600983e+08   21.949035\n",
       "88    938212738  6.848676e+08   27.002957\n",
       "1144   35564473  2.950633e+07   17.034251\n",
       "298   219417255  1.844142e+08   15.952752\n",
       "376   244082376  2.367949e+08    2.985676\n",
       "\n",
       "[246 rows x 3 columns]"
      ]
     },
     "execution_count": 79,
     "metadata": {},
     "output_type": "execute_result"
    }
   ],
   "source": [
    "test_preds_df = pd.DataFrame({'y_real': y_test['revenue'], 'y_pred': y_pred})\n",
    "test_preds_df['mape'] = abs(test_preds_df['y_real']-test_preds_df['y_pred'])/test_preds_df['y_real']*100\n",
    "test_preds_df"
   ]
  },
  {
   "cell_type": "code",
   "execution_count": 29,
   "metadata": {},
   "outputs": [
    {
     "data": {
      "application/vnd.plotly.v1+json": {
       "config": {
        "plotlyServerURL": "https://plot.ly"
       },
       "data": [
        {
         "text": [
          0.454,
          0.309,
          0.051,
          0.026,
          0.02,
          0.018,
          0.017,
          0.013,
          0.011,
          0.01,
          0.009,
          0.008,
          0.007,
          0.006,
          0.006,
          0.004,
          0.004,
          0.003,
          0.003,
          0.002,
          0.002,
          0.002,
          0.002,
          0.002,
          0.002,
          0.001,
          0.001,
          0.001,
          0.001,
          0.001,
          0.001,
          0.001,
          0.001,
          0.001,
          0.001,
          0,
          0,
          0,
          0,
          0,
          0,
          0,
          0,
          0,
          0,
          0,
          0,
          0,
          0,
          0,
          0,
          0,
          0
         ],
         "textposition": "auto",
         "type": "bar",
         "x": [
          "vote_count",
          "budget",
          "popularity",
          "runtime",
          "Adventure",
          "day_of_year",
          "vote_average",
          "day",
          "year",
          "real_gdp",
          "weekday",
          "Twentieth Century Fox Film Corporation",
          "Family",
          "month",
          "Animation",
          "Dune Entertainment",
          "Fantasy",
          "Science_Fiction",
          "Paramount Pictures",
          "United Kingdom",
          "Universal Pictures",
          "Thriller",
          "Drama",
          "Comedy",
          "Romance",
          "Village Roadshow Pictures",
          "Warner Bros.",
          "Action",
          "Music",
          "Columbia Pictures",
          "Other_country",
          "New Line Cinema",
          "Crime",
          "Walt Disney Pictures",
          "France",
          "Germany",
          "Mystery",
          "Horror",
          "Canada",
          "Relativity Media",
          "Western",
          "War",
          "Other_company",
          "United States of America",
          "History",
          "en_language",
          "Other_language",
          "fr_language",
          "es_language",
          "Documentary",
          "ja_language",
          "zh_language",
          "Foreign"
         ],
         "y": [
          0.45431862700936876,
          0.3086381540979413,
          0.05100698097105305,
          0.02563621523724267,
          0.019675514787778008,
          0.018045218879148738,
          0.017003888199372444,
          0.012971848977898432,
          0.010874806045923493,
          0.009777069703593162,
          0.008649462001029824,
          0.00828279126138539,
          0.007286111011565945,
          0.0058711965403139945,
          0.0055547343460594905,
          0.004300605941554655,
          0.0037057220060785654,
          0.0027175510435714623,
          0.0027124323679705354,
          0.0019695396551469044,
          0.0019057585263600894,
          0.001805563640275179,
          0.0017076633329250297,
          0.001705356132693365,
          0.0016174067248544246,
          0.0014611566393145268,
          0.001315322544061925,
          0.0011819457870643991,
          0.0009861665988110358,
          0.00096312344639327,
          0.0009470813840304504,
          0.0008736320680651661,
          0.0007826815621054185,
          0.0007526991447613901,
          0.0005352570897412352,
          0.0003830760843458039,
          0.0003804927114833106,
          0.00029465260578430657,
          0.00023639055429201084,
          0.00023485910491589,
          0.00022453387777993607,
          0.00021003952509222065,
          0.00016679190111516633,
          0.00010389280121207958,
          0.000050449384167814474,
          0.00004245139443483577,
          0.00003767523180197025,
          0.00003390070025610885,
          0.000021750476566156028,
          0.00002106394088386867,
          0.000013312000781738664,
          0.000005382998887586216,
          7.455071981559537e-13
         ]
        }
       ],
       "layout": {
        "template": {
         "data": {
          "bar": [
           {
            "error_x": {
             "color": "#2a3f5f"
            },
            "error_y": {
             "color": "#2a3f5f"
            },
            "marker": {
             "line": {
              "color": "white",
              "width": 0.5
             },
             "pattern": {
              "fillmode": "overlay",
              "size": 10,
              "solidity": 0.2
             }
            },
            "type": "bar"
           }
          ],
          "barpolar": [
           {
            "marker": {
             "line": {
              "color": "white",
              "width": 0.5
             },
             "pattern": {
              "fillmode": "overlay",
              "size": 10,
              "solidity": 0.2
             }
            },
            "type": "barpolar"
           }
          ],
          "carpet": [
           {
            "aaxis": {
             "endlinecolor": "#2a3f5f",
             "gridcolor": "#C8D4E3",
             "linecolor": "#C8D4E3",
             "minorgridcolor": "#C8D4E3",
             "startlinecolor": "#2a3f5f"
            },
            "baxis": {
             "endlinecolor": "#2a3f5f",
             "gridcolor": "#C8D4E3",
             "linecolor": "#C8D4E3",
             "minorgridcolor": "#C8D4E3",
             "startlinecolor": "#2a3f5f"
            },
            "type": "carpet"
           }
          ],
          "choropleth": [
           {
            "colorbar": {
             "outlinewidth": 0,
             "ticks": ""
            },
            "type": "choropleth"
           }
          ],
          "contour": [
           {
            "colorbar": {
             "outlinewidth": 0,
             "ticks": ""
            },
            "colorscale": [
             [
              0,
              "#0d0887"
             ],
             [
              0.1111111111111111,
              "#46039f"
             ],
             [
              0.2222222222222222,
              "#7201a8"
             ],
             [
              0.3333333333333333,
              "#9c179e"
             ],
             [
              0.4444444444444444,
              "#bd3786"
             ],
             [
              0.5555555555555556,
              "#d8576b"
             ],
             [
              0.6666666666666666,
              "#ed7953"
             ],
             [
              0.7777777777777778,
              "#fb9f3a"
             ],
             [
              0.8888888888888888,
              "#fdca26"
             ],
             [
              1,
              "#f0f921"
             ]
            ],
            "type": "contour"
           }
          ],
          "contourcarpet": [
           {
            "colorbar": {
             "outlinewidth": 0,
             "ticks": ""
            },
            "type": "contourcarpet"
           }
          ],
          "heatmap": [
           {
            "colorbar": {
             "outlinewidth": 0,
             "ticks": ""
            },
            "colorscale": [
             [
              0,
              "#0d0887"
             ],
             [
              0.1111111111111111,
              "#46039f"
             ],
             [
              0.2222222222222222,
              "#7201a8"
             ],
             [
              0.3333333333333333,
              "#9c179e"
             ],
             [
              0.4444444444444444,
              "#bd3786"
             ],
             [
              0.5555555555555556,
              "#d8576b"
             ],
             [
              0.6666666666666666,
              "#ed7953"
             ],
             [
              0.7777777777777778,
              "#fb9f3a"
             ],
             [
              0.8888888888888888,
              "#fdca26"
             ],
             [
              1,
              "#f0f921"
             ]
            ],
            "type": "heatmap"
           }
          ],
          "heatmapgl": [
           {
            "colorbar": {
             "outlinewidth": 0,
             "ticks": ""
            },
            "colorscale": [
             [
              0,
              "#0d0887"
             ],
             [
              0.1111111111111111,
              "#46039f"
             ],
             [
              0.2222222222222222,
              "#7201a8"
             ],
             [
              0.3333333333333333,
              "#9c179e"
             ],
             [
              0.4444444444444444,
              "#bd3786"
             ],
             [
              0.5555555555555556,
              "#d8576b"
             ],
             [
              0.6666666666666666,
              "#ed7953"
             ],
             [
              0.7777777777777778,
              "#fb9f3a"
             ],
             [
              0.8888888888888888,
              "#fdca26"
             ],
             [
              1,
              "#f0f921"
             ]
            ],
            "type": "heatmapgl"
           }
          ],
          "histogram": [
           {
            "marker": {
             "pattern": {
              "fillmode": "overlay",
              "size": 10,
              "solidity": 0.2
             }
            },
            "type": "histogram"
           }
          ],
          "histogram2d": [
           {
            "colorbar": {
             "outlinewidth": 0,
             "ticks": ""
            },
            "colorscale": [
             [
              0,
              "#0d0887"
             ],
             [
              0.1111111111111111,
              "#46039f"
             ],
             [
              0.2222222222222222,
              "#7201a8"
             ],
             [
              0.3333333333333333,
              "#9c179e"
             ],
             [
              0.4444444444444444,
              "#bd3786"
             ],
             [
              0.5555555555555556,
              "#d8576b"
             ],
             [
              0.6666666666666666,
              "#ed7953"
             ],
             [
              0.7777777777777778,
              "#fb9f3a"
             ],
             [
              0.8888888888888888,
              "#fdca26"
             ],
             [
              1,
              "#f0f921"
             ]
            ],
            "type": "histogram2d"
           }
          ],
          "histogram2dcontour": [
           {
            "colorbar": {
             "outlinewidth": 0,
             "ticks": ""
            },
            "colorscale": [
             [
              0,
              "#0d0887"
             ],
             [
              0.1111111111111111,
              "#46039f"
             ],
             [
              0.2222222222222222,
              "#7201a8"
             ],
             [
              0.3333333333333333,
              "#9c179e"
             ],
             [
              0.4444444444444444,
              "#bd3786"
             ],
             [
              0.5555555555555556,
              "#d8576b"
             ],
             [
              0.6666666666666666,
              "#ed7953"
             ],
             [
              0.7777777777777778,
              "#fb9f3a"
             ],
             [
              0.8888888888888888,
              "#fdca26"
             ],
             [
              1,
              "#f0f921"
             ]
            ],
            "type": "histogram2dcontour"
           }
          ],
          "mesh3d": [
           {
            "colorbar": {
             "outlinewidth": 0,
             "ticks": ""
            },
            "type": "mesh3d"
           }
          ],
          "parcoords": [
           {
            "line": {
             "colorbar": {
              "outlinewidth": 0,
              "ticks": ""
             }
            },
            "type": "parcoords"
           }
          ],
          "pie": [
           {
            "automargin": true,
            "type": "pie"
           }
          ],
          "scatter": [
           {
            "fillpattern": {
             "fillmode": "overlay",
             "size": 10,
             "solidity": 0.2
            },
            "type": "scatter"
           }
          ],
          "scatter3d": [
           {
            "line": {
             "colorbar": {
              "outlinewidth": 0,
              "ticks": ""
             }
            },
            "marker": {
             "colorbar": {
              "outlinewidth": 0,
              "ticks": ""
             }
            },
            "type": "scatter3d"
           }
          ],
          "scattercarpet": [
           {
            "marker": {
             "colorbar": {
              "outlinewidth": 0,
              "ticks": ""
             }
            },
            "type": "scattercarpet"
           }
          ],
          "scattergeo": [
           {
            "marker": {
             "colorbar": {
              "outlinewidth": 0,
              "ticks": ""
             }
            },
            "type": "scattergeo"
           }
          ],
          "scattergl": [
           {
            "marker": {
             "colorbar": {
              "outlinewidth": 0,
              "ticks": ""
             }
            },
            "type": "scattergl"
           }
          ],
          "scattermapbox": [
           {
            "marker": {
             "colorbar": {
              "outlinewidth": 0,
              "ticks": ""
             }
            },
            "type": "scattermapbox"
           }
          ],
          "scatterpolar": [
           {
            "marker": {
             "colorbar": {
              "outlinewidth": 0,
              "ticks": ""
             }
            },
            "type": "scatterpolar"
           }
          ],
          "scatterpolargl": [
           {
            "marker": {
             "colorbar": {
              "outlinewidth": 0,
              "ticks": ""
             }
            },
            "type": "scatterpolargl"
           }
          ],
          "scatterternary": [
           {
            "marker": {
             "colorbar": {
              "outlinewidth": 0,
              "ticks": ""
             }
            },
            "type": "scatterternary"
           }
          ],
          "surface": [
           {
            "colorbar": {
             "outlinewidth": 0,
             "ticks": ""
            },
            "colorscale": [
             [
              0,
              "#0d0887"
             ],
             [
              0.1111111111111111,
              "#46039f"
             ],
             [
              0.2222222222222222,
              "#7201a8"
             ],
             [
              0.3333333333333333,
              "#9c179e"
             ],
             [
              0.4444444444444444,
              "#bd3786"
             ],
             [
              0.5555555555555556,
              "#d8576b"
             ],
             [
              0.6666666666666666,
              "#ed7953"
             ],
             [
              0.7777777777777778,
              "#fb9f3a"
             ],
             [
              0.8888888888888888,
              "#fdca26"
             ],
             [
              1,
              "#f0f921"
             ]
            ],
            "type": "surface"
           }
          ],
          "table": [
           {
            "cells": {
             "fill": {
              "color": "#EBF0F8"
             },
             "line": {
              "color": "white"
             }
            },
            "header": {
             "fill": {
              "color": "#C8D4E3"
             },
             "line": {
              "color": "white"
             }
            },
            "type": "table"
           }
          ]
         },
         "layout": {
          "annotationdefaults": {
           "arrowcolor": "#2a3f5f",
           "arrowhead": 0,
           "arrowwidth": 1
          },
          "autotypenumbers": "strict",
          "coloraxis": {
           "colorbar": {
            "outlinewidth": 0,
            "ticks": ""
           }
          },
          "colorscale": {
           "diverging": [
            [
             0,
             "#8e0152"
            ],
            [
             0.1,
             "#c51b7d"
            ],
            [
             0.2,
             "#de77ae"
            ],
            [
             0.3,
             "#f1b6da"
            ],
            [
             0.4,
             "#fde0ef"
            ],
            [
             0.5,
             "#f7f7f7"
            ],
            [
             0.6,
             "#e6f5d0"
            ],
            [
             0.7,
             "#b8e186"
            ],
            [
             0.8,
             "#7fbc41"
            ],
            [
             0.9,
             "#4d9221"
            ],
            [
             1,
             "#276419"
            ]
           ],
           "sequential": [
            [
             0,
             "#0d0887"
            ],
            [
             0.1111111111111111,
             "#46039f"
            ],
            [
             0.2222222222222222,
             "#7201a8"
            ],
            [
             0.3333333333333333,
             "#9c179e"
            ],
            [
             0.4444444444444444,
             "#bd3786"
            ],
            [
             0.5555555555555556,
             "#d8576b"
            ],
            [
             0.6666666666666666,
             "#ed7953"
            ],
            [
             0.7777777777777778,
             "#fb9f3a"
            ],
            [
             0.8888888888888888,
             "#fdca26"
            ],
            [
             1,
             "#f0f921"
            ]
           ],
           "sequentialminus": [
            [
             0,
             "#0d0887"
            ],
            [
             0.1111111111111111,
             "#46039f"
            ],
            [
             0.2222222222222222,
             "#7201a8"
            ],
            [
             0.3333333333333333,
             "#9c179e"
            ],
            [
             0.4444444444444444,
             "#bd3786"
            ],
            [
             0.5555555555555556,
             "#d8576b"
            ],
            [
             0.6666666666666666,
             "#ed7953"
            ],
            [
             0.7777777777777778,
             "#fb9f3a"
            ],
            [
             0.8888888888888888,
             "#fdca26"
            ],
            [
             1,
             "#f0f921"
            ]
           ]
          },
          "colorway": [
           "#636efa",
           "#EF553B",
           "#00cc96",
           "#ab63fa",
           "#FFA15A",
           "#19d3f3",
           "#FF6692",
           "#B6E880",
           "#FF97FF",
           "#FECB52"
          ],
          "font": {
           "color": "#2a3f5f"
          },
          "geo": {
           "bgcolor": "white",
           "lakecolor": "white",
           "landcolor": "white",
           "showlakes": true,
           "showland": true,
           "subunitcolor": "#C8D4E3"
          },
          "hoverlabel": {
           "align": "left"
          },
          "hovermode": "closest",
          "mapbox": {
           "style": "light"
          },
          "paper_bgcolor": "white",
          "plot_bgcolor": "white",
          "polar": {
           "angularaxis": {
            "gridcolor": "#EBF0F8",
            "linecolor": "#EBF0F8",
            "ticks": ""
           },
           "bgcolor": "white",
           "radialaxis": {
            "gridcolor": "#EBF0F8",
            "linecolor": "#EBF0F8",
            "ticks": ""
           }
          },
          "scene": {
           "xaxis": {
            "backgroundcolor": "white",
            "gridcolor": "#DFE8F3",
            "gridwidth": 2,
            "linecolor": "#EBF0F8",
            "showbackground": true,
            "ticks": "",
            "zerolinecolor": "#EBF0F8"
           },
           "yaxis": {
            "backgroundcolor": "white",
            "gridcolor": "#DFE8F3",
            "gridwidth": 2,
            "linecolor": "#EBF0F8",
            "showbackground": true,
            "ticks": "",
            "zerolinecolor": "#EBF0F8"
           },
           "zaxis": {
            "backgroundcolor": "white",
            "gridcolor": "#DFE8F3",
            "gridwidth": 2,
            "linecolor": "#EBF0F8",
            "showbackground": true,
            "ticks": "",
            "zerolinecolor": "#EBF0F8"
           }
          },
          "shapedefaults": {
           "line": {
            "color": "#2a3f5f"
           }
          },
          "ternary": {
           "aaxis": {
            "gridcolor": "#DFE8F3",
            "linecolor": "#A2B1C6",
            "ticks": ""
           },
           "baxis": {
            "gridcolor": "#DFE8F3",
            "linecolor": "#A2B1C6",
            "ticks": ""
           },
           "bgcolor": "white",
           "caxis": {
            "gridcolor": "#DFE8F3",
            "linecolor": "#A2B1C6",
            "ticks": ""
           }
          },
          "title": {
           "x": 0.05
          },
          "xaxis": {
           "automargin": true,
           "gridcolor": "#EBF0F8",
           "linecolor": "#EBF0F8",
           "ticks": "",
           "title": {
            "standoff": 15
           },
           "zerolinecolor": "#EBF0F8",
           "zerolinewidth": 2
          },
          "yaxis": {
           "automargin": true,
           "gridcolor": "#EBF0F8",
           "linecolor": "#EBF0F8",
           "ticks": "",
           "title": {
            "standoff": 15
           },
           "zerolinecolor": "#EBF0F8",
           "zerolinewidth": 2
          }
         }
        },
        "title": {
         "text": "Feature Importances from Random Forest"
        },
        "xaxis": {
         "title": {
          "text": "Feature"
         }
        },
        "yaxis": {
         "title": {
          "text": "Importance"
         }
        }
       }
      }
     },
     "metadata": {},
     "output_type": "display_data"
    }
   ],
   "source": [
    "# Extract feature importances\n",
    "importances = rf_regressor.feature_importances_\n",
    "\n",
    "# Create a DataFrame for easy visualization\n",
    "importance_df = pd.DataFrame({\n",
    "    'Feature': X_train.columns,\n",
    "    'Importance': importances\n",
    "}).sort_values(by='Importance', ascending=False)\n",
    "\n",
    "# Plotly bar chart\n",
    "fig = go.Figure(go.Bar(\n",
    "    x=importance_df['Feature'],\n",
    "    y=importance_df['Importance'],\n",
    "    text=importance_df['Importance'].round(3),  # Show importance values on bars\n",
    "    textposition='auto'  # Display text directly on top of bars\n",
    "))\n",
    "\n",
    "# Customize layout\n",
    "fig.update_layout(\n",
    "    title=\"Feature Importances from Random Forest\",\n",
    "    xaxis_title=\"Feature\",\n",
    "    yaxis_title=\"Importance\",\n",
    "    template=\"plotly_white\",\n",
    ")\n",
    "\n",
    "# Show plot\n",
    "fig.show()"
   ]
  },
  {
   "cell_type": "code",
   "execution_count": 13,
   "metadata": {},
   "outputs": [],
   "source": [
    "df_pred_test = pd.DataFrame(y_pred)\n",
    "df_pred_test.columns = [\"revenue\"]\n",
    "df_pred_test['date'] = pd.to_datetime(X_test[['year', 'month', 'day']]).reset_index(drop=True)"
   ]
  },
  {
   "cell_type": "code",
   "execution_count": 15,
   "metadata": {},
   "outputs": [],
   "source": [
    "y_test['date'] = pd.to_datetime(X_test[['year', 'month', 'day']]).reset_index(drop=True)"
   ]
  },
  {
   "cell_type": "code",
   "execution_count": 16,
   "metadata": {},
   "outputs": [
    {
     "data": {
      "application/vnd.plotly.v1+json": {
       "config": {
        "plotlyServerURL": "https://plot.ly"
       },
       "data": [
        {
         "hoverinfo": "x+y",
         "line": {
          "color": "steelblue",
          "width": 0.5
         },
         "mode": "lines",
         "name": "Revenue",
         "type": "scatter",
         "x": [
          1932,
          1936,
          1939,
          1940,
          1942,
          1944,
          1945,
          1946,
          1947,
          1948,
          1951,
          1952,
          1954,
          1956,
          1957,
          1959,
          1962,
          1963,
          1964,
          1966,
          1968,
          1970,
          1971,
          1972,
          1973,
          1974,
          1975,
          1976,
          1977,
          1978,
          1979,
          1980,
          1981,
          1982,
          1983,
          1984,
          1985,
          1986,
          1987,
          1988,
          1989,
          1990,
          1991,
          1992,
          1993,
          1994,
          1995,
          1996,
          1997,
          1998,
          1999,
          2000,
          2001,
          2002,
          2003,
          2004,
          2005,
          2006,
          2007,
          2008,
          2009,
          2010,
          2011,
          2012,
          2013,
          2014,
          2015
         ],
         "y": [
          3414387.25,
          72825135.75,
          10393195.28,
          78544591.52999999,
          110637911.69,
          8011937.82,
          5597904.76,
          20495814.87,
          11405079.72,
          7493520.405,
          14314150.43,
          10236567.595,
          47212741.705,
          13287440.59,
          57956743.87,
          15720684.55,
          60653968.45,
          81726319.92,
          109637048.75,
          52194427.295,
          27187583.505,
          10761088.596666666,
          31571920.24,
          161450198.085,
          10428079.73,
          74582261.965,
          14996140.27,
          28147078.31,
          20328742.27,
          70729397.525,
          8847765.575,
          53222458.24666666,
          29586786.635,
          100537663.94428572,
          87121013.38666667,
          79517845.215,
          46991052.81666667,
          31996929.07,
          52739683.9,
          77829501.838,
          61835235.038,
          86949715.3,
          288946042.47333336,
          120849919.10375,
          92793132.104,
          68365738.68333332,
          89230723.28812501,
          40068220.574705884,
          85979232.31916668,
          69413429.0288,
          81301248.30437501,
          97488361.35179487,
          62531631.97742857,
          78764898.79333334,
          111811051.8130303,
          86660650.15891892,
          57261204.34977272,
          98983902.60511628,
          100528247.07761905,
          83264570.75,
          62527143.45826087,
          102946618.5189796,
          94962010.07947369,
          115490685.632,
          185424281.71485716,
          125397105.93542373,
          99059752.4225641
         ]
        },
        {
         "hoverinfo": "x+y",
         "line": {
          "color": "firebrick",
          "width": 0.5
         },
         "mode": "lines",
         "name": "Revenue real",
         "type": "scatter",
         "x": [
          1940,
          1948,
          1954,
          1964,
          1966,
          1972,
          1977,
          1978,
          1979,
          1982,
          1983,
          1984,
          1985,
          1987,
          1988,
          1989,
          1991,
          1992,
          1994,
          1995,
          1996,
          1997,
          1998,
          1999,
          2000,
          2001,
          2002,
          2003,
          2004,
          2005,
          2006,
          2007,
          2008,
          2009,
          2010,
          2011,
          2012,
          2013,
          2014,
          2015
         ],
         "y": [
          415686217,
          133718711,
          442824138,
          521170825,
          80916492,
          60000000,
          38376497,
          117831631,
          1108561013,
          105316267,
          312573423,
          212639419,
          30824250,
          0,
          477200000,
          266805351,
          397850012,
          273486072.3333333,
          273664843.6666667,
          206772135.25,
          285752305.4,
          363987686.8333333,
          252329307.8,
          441011187.1666667,
          286494706.6666667,
          391585215.8333333,
          310602823,
          240885975.1111111,
          331582069,
          276772785.45454544,
          282487810,
          165309445.57142857,
          169002764.53846154,
          383090745,
          205057937.16666666,
          220030487.3,
          172230133.54545453,
          219744802,
          287371379.72727275,
          128655469.9
         ]
        }
       ],
       "layout": {
        "font": {
         "size": 8
        },
        "legend": {
         "bgcolor": "white",
         "x": 0.01,
         "xanchor": "left",
         "y": 0.99,
         "yanchor": "top"
        },
        "template": {
         "data": {
          "bar": [
           {
            "error_x": {
             "color": "#2a3f5f"
            },
            "error_y": {
             "color": "#2a3f5f"
            },
            "marker": {
             "line": {
              "color": "#E5ECF6",
              "width": 0.5
             },
             "pattern": {
              "fillmode": "overlay",
              "size": 10,
              "solidity": 0.2
             }
            },
            "type": "bar"
           }
          ],
          "barpolar": [
           {
            "marker": {
             "line": {
              "color": "#E5ECF6",
              "width": 0.5
             },
             "pattern": {
              "fillmode": "overlay",
              "size": 10,
              "solidity": 0.2
             }
            },
            "type": "barpolar"
           }
          ],
          "carpet": [
           {
            "aaxis": {
             "endlinecolor": "#2a3f5f",
             "gridcolor": "white",
             "linecolor": "white",
             "minorgridcolor": "white",
             "startlinecolor": "#2a3f5f"
            },
            "baxis": {
             "endlinecolor": "#2a3f5f",
             "gridcolor": "white",
             "linecolor": "white",
             "minorgridcolor": "white",
             "startlinecolor": "#2a3f5f"
            },
            "type": "carpet"
           }
          ],
          "choropleth": [
           {
            "colorbar": {
             "outlinewidth": 0,
             "ticks": ""
            },
            "type": "choropleth"
           }
          ],
          "contour": [
           {
            "colorbar": {
             "outlinewidth": 0,
             "ticks": ""
            },
            "colorscale": [
             [
              0,
              "#0d0887"
             ],
             [
              0.1111111111111111,
              "#46039f"
             ],
             [
              0.2222222222222222,
              "#7201a8"
             ],
             [
              0.3333333333333333,
              "#9c179e"
             ],
             [
              0.4444444444444444,
              "#bd3786"
             ],
             [
              0.5555555555555556,
              "#d8576b"
             ],
             [
              0.6666666666666666,
              "#ed7953"
             ],
             [
              0.7777777777777778,
              "#fb9f3a"
             ],
             [
              0.8888888888888888,
              "#fdca26"
             ],
             [
              1,
              "#f0f921"
             ]
            ],
            "type": "contour"
           }
          ],
          "contourcarpet": [
           {
            "colorbar": {
             "outlinewidth": 0,
             "ticks": ""
            },
            "type": "contourcarpet"
           }
          ],
          "heatmap": [
           {
            "colorbar": {
             "outlinewidth": 0,
             "ticks": ""
            },
            "colorscale": [
             [
              0,
              "#0d0887"
             ],
             [
              0.1111111111111111,
              "#46039f"
             ],
             [
              0.2222222222222222,
              "#7201a8"
             ],
             [
              0.3333333333333333,
              "#9c179e"
             ],
             [
              0.4444444444444444,
              "#bd3786"
             ],
             [
              0.5555555555555556,
              "#d8576b"
             ],
             [
              0.6666666666666666,
              "#ed7953"
             ],
             [
              0.7777777777777778,
              "#fb9f3a"
             ],
             [
              0.8888888888888888,
              "#fdca26"
             ],
             [
              1,
              "#f0f921"
             ]
            ],
            "type": "heatmap"
           }
          ],
          "heatmapgl": [
           {
            "colorbar": {
             "outlinewidth": 0,
             "ticks": ""
            },
            "colorscale": [
             [
              0,
              "#0d0887"
             ],
             [
              0.1111111111111111,
              "#46039f"
             ],
             [
              0.2222222222222222,
              "#7201a8"
             ],
             [
              0.3333333333333333,
              "#9c179e"
             ],
             [
              0.4444444444444444,
              "#bd3786"
             ],
             [
              0.5555555555555556,
              "#d8576b"
             ],
             [
              0.6666666666666666,
              "#ed7953"
             ],
             [
              0.7777777777777778,
              "#fb9f3a"
             ],
             [
              0.8888888888888888,
              "#fdca26"
             ],
             [
              1,
              "#f0f921"
             ]
            ],
            "type": "heatmapgl"
           }
          ],
          "histogram": [
           {
            "marker": {
             "pattern": {
              "fillmode": "overlay",
              "size": 10,
              "solidity": 0.2
             }
            },
            "type": "histogram"
           }
          ],
          "histogram2d": [
           {
            "colorbar": {
             "outlinewidth": 0,
             "ticks": ""
            },
            "colorscale": [
             [
              0,
              "#0d0887"
             ],
             [
              0.1111111111111111,
              "#46039f"
             ],
             [
              0.2222222222222222,
              "#7201a8"
             ],
             [
              0.3333333333333333,
              "#9c179e"
             ],
             [
              0.4444444444444444,
              "#bd3786"
             ],
             [
              0.5555555555555556,
              "#d8576b"
             ],
             [
              0.6666666666666666,
              "#ed7953"
             ],
             [
              0.7777777777777778,
              "#fb9f3a"
             ],
             [
              0.8888888888888888,
              "#fdca26"
             ],
             [
              1,
              "#f0f921"
             ]
            ],
            "type": "histogram2d"
           }
          ],
          "histogram2dcontour": [
           {
            "colorbar": {
             "outlinewidth": 0,
             "ticks": ""
            },
            "colorscale": [
             [
              0,
              "#0d0887"
             ],
             [
              0.1111111111111111,
              "#46039f"
             ],
             [
              0.2222222222222222,
              "#7201a8"
             ],
             [
              0.3333333333333333,
              "#9c179e"
             ],
             [
              0.4444444444444444,
              "#bd3786"
             ],
             [
              0.5555555555555556,
              "#d8576b"
             ],
             [
              0.6666666666666666,
              "#ed7953"
             ],
             [
              0.7777777777777778,
              "#fb9f3a"
             ],
             [
              0.8888888888888888,
              "#fdca26"
             ],
             [
              1,
              "#f0f921"
             ]
            ],
            "type": "histogram2dcontour"
           }
          ],
          "mesh3d": [
           {
            "colorbar": {
             "outlinewidth": 0,
             "ticks": ""
            },
            "type": "mesh3d"
           }
          ],
          "parcoords": [
           {
            "line": {
             "colorbar": {
              "outlinewidth": 0,
              "ticks": ""
             }
            },
            "type": "parcoords"
           }
          ],
          "pie": [
           {
            "automargin": true,
            "type": "pie"
           }
          ],
          "scatter": [
           {
            "fillpattern": {
             "fillmode": "overlay",
             "size": 10,
             "solidity": 0.2
            },
            "type": "scatter"
           }
          ],
          "scatter3d": [
           {
            "line": {
             "colorbar": {
              "outlinewidth": 0,
              "ticks": ""
             }
            },
            "marker": {
             "colorbar": {
              "outlinewidth": 0,
              "ticks": ""
             }
            },
            "type": "scatter3d"
           }
          ],
          "scattercarpet": [
           {
            "marker": {
             "colorbar": {
              "outlinewidth": 0,
              "ticks": ""
             }
            },
            "type": "scattercarpet"
           }
          ],
          "scattergeo": [
           {
            "marker": {
             "colorbar": {
              "outlinewidth": 0,
              "ticks": ""
             }
            },
            "type": "scattergeo"
           }
          ],
          "scattergl": [
           {
            "marker": {
             "colorbar": {
              "outlinewidth": 0,
              "ticks": ""
             }
            },
            "type": "scattergl"
           }
          ],
          "scattermapbox": [
           {
            "marker": {
             "colorbar": {
              "outlinewidth": 0,
              "ticks": ""
             }
            },
            "type": "scattermapbox"
           }
          ],
          "scatterpolar": [
           {
            "marker": {
             "colorbar": {
              "outlinewidth": 0,
              "ticks": ""
             }
            },
            "type": "scatterpolar"
           }
          ],
          "scatterpolargl": [
           {
            "marker": {
             "colorbar": {
              "outlinewidth": 0,
              "ticks": ""
             }
            },
            "type": "scatterpolargl"
           }
          ],
          "scatterternary": [
           {
            "marker": {
             "colorbar": {
              "outlinewidth": 0,
              "ticks": ""
             }
            },
            "type": "scatterternary"
           }
          ],
          "surface": [
           {
            "colorbar": {
             "outlinewidth": 0,
             "ticks": ""
            },
            "colorscale": [
             [
              0,
              "#0d0887"
             ],
             [
              0.1111111111111111,
              "#46039f"
             ],
             [
              0.2222222222222222,
              "#7201a8"
             ],
             [
              0.3333333333333333,
              "#9c179e"
             ],
             [
              0.4444444444444444,
              "#bd3786"
             ],
             [
              0.5555555555555556,
              "#d8576b"
             ],
             [
              0.6666666666666666,
              "#ed7953"
             ],
             [
              0.7777777777777778,
              "#fb9f3a"
             ],
             [
              0.8888888888888888,
              "#fdca26"
             ],
             [
              1,
              "#f0f921"
             ]
            ],
            "type": "surface"
           }
          ],
          "table": [
           {
            "cells": {
             "fill": {
              "color": "#EBF0F8"
             },
             "line": {
              "color": "white"
             }
            },
            "header": {
             "fill": {
              "color": "#C8D4E3"
             },
             "line": {
              "color": "white"
             }
            },
            "type": "table"
           }
          ]
         },
         "layout": {
          "annotationdefaults": {
           "arrowcolor": "#2a3f5f",
           "arrowhead": 0,
           "arrowwidth": 1
          },
          "autotypenumbers": "strict",
          "coloraxis": {
           "colorbar": {
            "outlinewidth": 0,
            "ticks": ""
           }
          },
          "colorscale": {
           "diverging": [
            [
             0,
             "#8e0152"
            ],
            [
             0.1,
             "#c51b7d"
            ],
            [
             0.2,
             "#de77ae"
            ],
            [
             0.3,
             "#f1b6da"
            ],
            [
             0.4,
             "#fde0ef"
            ],
            [
             0.5,
             "#f7f7f7"
            ],
            [
             0.6,
             "#e6f5d0"
            ],
            [
             0.7,
             "#b8e186"
            ],
            [
             0.8,
             "#7fbc41"
            ],
            [
             0.9,
             "#4d9221"
            ],
            [
             1,
             "#276419"
            ]
           ],
           "sequential": [
            [
             0,
             "#0d0887"
            ],
            [
             0.1111111111111111,
             "#46039f"
            ],
            [
             0.2222222222222222,
             "#7201a8"
            ],
            [
             0.3333333333333333,
             "#9c179e"
            ],
            [
             0.4444444444444444,
             "#bd3786"
            ],
            [
             0.5555555555555556,
             "#d8576b"
            ],
            [
             0.6666666666666666,
             "#ed7953"
            ],
            [
             0.7777777777777778,
             "#fb9f3a"
            ],
            [
             0.8888888888888888,
             "#fdca26"
            ],
            [
             1,
             "#f0f921"
            ]
           ],
           "sequentialminus": [
            [
             0,
             "#0d0887"
            ],
            [
             0.1111111111111111,
             "#46039f"
            ],
            [
             0.2222222222222222,
             "#7201a8"
            ],
            [
             0.3333333333333333,
             "#9c179e"
            ],
            [
             0.4444444444444444,
             "#bd3786"
            ],
            [
             0.5555555555555556,
             "#d8576b"
            ],
            [
             0.6666666666666666,
             "#ed7953"
            ],
            [
             0.7777777777777778,
             "#fb9f3a"
            ],
            [
             0.8888888888888888,
             "#fdca26"
            ],
            [
             1,
             "#f0f921"
            ]
           ]
          },
          "colorway": [
           "#636efa",
           "#EF553B",
           "#00cc96",
           "#ab63fa",
           "#FFA15A",
           "#19d3f3",
           "#FF6692",
           "#B6E880",
           "#FF97FF",
           "#FECB52"
          ],
          "font": {
           "color": "#2a3f5f"
          },
          "geo": {
           "bgcolor": "white",
           "lakecolor": "white",
           "landcolor": "#E5ECF6",
           "showlakes": true,
           "showland": true,
           "subunitcolor": "white"
          },
          "hoverlabel": {
           "align": "left"
          },
          "hovermode": "closest",
          "mapbox": {
           "style": "light"
          },
          "paper_bgcolor": "white",
          "plot_bgcolor": "#E5ECF6",
          "polar": {
           "angularaxis": {
            "gridcolor": "white",
            "linecolor": "white",
            "ticks": ""
           },
           "bgcolor": "#E5ECF6",
           "radialaxis": {
            "gridcolor": "white",
            "linecolor": "white",
            "ticks": ""
           }
          },
          "scene": {
           "xaxis": {
            "backgroundcolor": "#E5ECF6",
            "gridcolor": "white",
            "gridwidth": 2,
            "linecolor": "white",
            "showbackground": true,
            "ticks": "",
            "zerolinecolor": "white"
           },
           "yaxis": {
            "backgroundcolor": "#E5ECF6",
            "gridcolor": "white",
            "gridwidth": 2,
            "linecolor": "white",
            "showbackground": true,
            "ticks": "",
            "zerolinecolor": "white"
           },
           "zaxis": {
            "backgroundcolor": "#E5ECF6",
            "gridcolor": "white",
            "gridwidth": 2,
            "linecolor": "white",
            "showbackground": true,
            "ticks": "",
            "zerolinecolor": "white"
           }
          },
          "shapedefaults": {
           "line": {
            "color": "#2a3f5f"
           }
          },
          "ternary": {
           "aaxis": {
            "gridcolor": "white",
            "linecolor": "white",
            "ticks": ""
           },
           "baxis": {
            "gridcolor": "white",
            "linecolor": "white",
            "ticks": ""
           },
           "bgcolor": "#E5ECF6",
           "caxis": {
            "gridcolor": "white",
            "linecolor": "white",
            "ticks": ""
           }
          },
          "title": {
           "x": 0.05
          },
          "xaxis": {
           "automargin": true,
           "gridcolor": "white",
           "linecolor": "white",
           "ticks": "",
           "title": {
            "standoff": 15
           },
           "zerolinecolor": "white",
           "zerolinewidth": 2
          },
          "yaxis": {
           "automargin": true,
           "gridcolor": "white",
           "linecolor": "white",
           "ticks": "",
           "title": {
            "standoff": 15
           },
           "zerolinecolor": "white",
           "zerolinewidth": 2
          }
         }
        },
        "title": {
         "text": "Evolución Temporal"
        },
        "xaxis": {
         "title": {
          "text": "Año"
         }
        },
        "yaxis": {
         "title": {
          "text": "Ventas (Millones)"
         }
        }
       }
      }
     },
     "metadata": {},
     "output_type": "display_data"
    }
   ],
   "source": [
    "df_aux = df_pred_test.groupby(df_pred_test[\"date\"].dt.year)['revenue'].mean().reset_index()[:-1]\n",
    "df_aux2 = y_test.groupby(y_test[\"date\"].dt.year)['revenue'].mean().reset_index()[:-1]\n",
    "\n",
    "\n",
    "fig = go.Figure()\n",
    "fig.add_trace(go.Scatter(\n",
    "    x=df_aux['date'], y=df_aux['revenue'],\n",
    "    hoverinfo='x+y',\n",
    "    mode='lines',\n",
    "    line=dict(width=0.5, color='steelblue'),\n",
    "    name = 'Revenue'\n",
    "))\n",
    "fig.add_trace(go.Scatter(\n",
    "    x=df_aux2['date'], y=df_aux2['revenue'],\n",
    "    hoverinfo='x+y',\n",
    "    mode='lines',\n",
    "    line=dict(width=0.5, color='firebrick'),\n",
    "    name = 'Revenue real'\n",
    "))\n",
    "\n",
    "fig.update_layout(\n",
    "    title = 'Evolución Temporal',\n",
    "    xaxis_title = 'Año',\n",
    "    yaxis_title = 'Ventas (Millones)',\n",
    "    legend=dict(\n",
    "        bgcolor = 'white',\n",
    "        yanchor=\"top\",\n",
    "        y=0.99,\n",
    "        xanchor=\"left\",\n",
    "        x=0.01),\n",
    "    font=dict(size=8),\n",
    "    # margin=dict(\n",
    "    #     l=0,\n",
    "    #     r=0,\n",
    "    #     b=0,\n",
    "    #     t=25,\n",
    "    #     pad=4\n",
    "    # )\n",
    ")"
   ]
  },
  {
   "cell_type": "code",
   "execution_count": null,
   "metadata": {},
   "outputs": [],
   "source": []
  },
  {
   "cell_type": "code",
   "execution_count": null,
   "metadata": {},
   "outputs": [],
   "source": []
  },
  {
   "cell_type": "code",
   "execution_count": null,
   "metadata": {},
   "outputs": [],
   "source": []
  },
  {
   "cell_type": "code",
   "execution_count": 8,
   "metadata": {},
   "outputs": [
    {
     "name": "stderr",
     "output_type": "stream",
     "text": [
      "c:\\Users\\clopearg\\OneDrive - NTT DATA EMEAL\\Desktop\\Fer\\Visualización\\PracticaVisualizacion\\.venv\\Lib\\site-packages\\sklearn\\base.py:1473: DataConversionWarning: A column-vector y was passed when a 1d array was expected. Please change the shape of y to (n_samples,), for example using ravel().\n",
      "  return fit_method(estimator, *args, **kwargs)\n"
     ]
    }
   ],
   "source": [
    "rf_regressor.fit(df_X, df_y)\n",
    "\n",
    "# Predict on the test set\n",
    "y_pred = rf_regressor.predict(df_X)"
   ]
  },
  {
   "cell_type": "code",
   "execution_count": 9,
   "metadata": {},
   "outputs": [],
   "source": [
    "df_pred_test = pd.DataFrame(y_pred)\n",
    "df_pred_test.columns = [\"revenue\"]\n",
    "df_pred_test['date'] = pd.to_datetime(df_X[['year', 'month', 'day']]).reset_index(drop=True)"
   ]
  },
  {
   "cell_type": "code",
   "execution_count": 10,
   "metadata": {},
   "outputs": [
    {
     "name": "stderr",
     "output_type": "stream",
     "text": [
      "C:\\Users\\clopearg\\AppData\\Local\\Temp\\ipykernel_61528\\3413849141.py:1: SettingWithCopyWarning: \n",
      "A value is trying to be set on a copy of a slice from a DataFrame.\n",
      "Try using .loc[row_indexer,col_indexer] = value instead\n",
      "\n",
      "See the caveats in the documentation: https://pandas.pydata.org/pandas-docs/stable/user_guide/indexing.html#returning-a-view-versus-a-copy\n",
      "  df_y['date'] = pd.to_datetime(df_X[['year', 'month', 'day']]).reset_index(drop=True)\n"
     ]
    }
   ],
   "source": [
    "df_y['date'] = pd.to_datetime(df_X[['year', 'month', 'day']]).reset_index(drop=True)"
   ]
  },
  {
   "cell_type": "code",
   "execution_count": 11,
   "metadata": {},
   "outputs": [
    {
     "data": {
      "application/vnd.plotly.v1+json": {
       "config": {
        "plotlyServerURL": "https://plot.ly"
       },
       "data": [
        {
         "hoverinfo": "x+y",
         "line": {
          "color": "steelblue",
          "width": 0.5
         },
         "mode": "lines",
         "name": "Revenue",
         "type": "scatter",
         "x": [
          1916,
          1925,
          1927,
          1929,
          1930,
          1932,
          1933,
          1934,
          1935,
          1936,
          1937,
          1938,
          1939,
          1940,
          1941,
          1942,
          1944,
          1945,
          1946,
          1947,
          1948,
          1949,
          1950,
          1951,
          1952,
          1953,
          1954,
          1955,
          1956,
          1957,
          1958,
          1959,
          1960,
          1961,
          1962,
          1963,
          1964,
          1965,
          1966,
          1967,
          1968,
          1969,
          1970,
          1971,
          1972,
          1973,
          1974,
          1975,
          1976,
          1977,
          1978,
          1979,
          1980,
          1981,
          1982,
          1983,
          1984,
          1985,
          1986,
          1987,
          1988,
          1989,
          1990,
          1991,
          1992,
          1993,
          1994,
          1995,
          1996,
          1997,
          1998,
          1999,
          2000,
          2001,
          2002,
          2003,
          2004,
          2005,
          2006,
          2007,
          2008,
          2009,
          2010,
          2011,
          2012,
          2013,
          2014,
          2015,
          2016
         ],
         "y": [
          10738970.93,
          16634422.83,
          66084540.07,
          2875314.6350000002,
          13407963.63,
          1153592.26,
          3604579.7249999996,
          8249958.21,
          4537159.65,
          16858410.61,
          91569313.30499999,
          9243016.355,
          113502130.02333333,
          39691678.225999996,
          8069072.26,
          130782228.48,
          7468357.21,
          8059432.9325,
          22781995.14,
          6514832.293333333,
          5289174.153333333,
          7484921.83,
          8215584.16,
          17212042.586666666,
          14019436.7325,
          16324540.795,
          21800111.285,
          5930157.029999999,
          10597384.866666667,
          31268206.14,
          20223100.89,
          16850180.376666665,
          27404363.69,
          20110209.73,
          40544913.294285715,
          33229631.18,
          37656077.72,
          58717689.02375,
          15166426.719999999,
          35690049.3225,
          40035406.176,
          33076322.71,
          21380907.2975,
          29444569.439999998,
          38642293.09111111,
          84989544.6,
          52268969.07875,
          95308962.99000001,
          34713422.381111115,
          77463416.229375,
          61739161.28785714,
          59256787.381875,
          61888715.29136363,
          37523540.39848485,
          70944048.91625,
          67949348.9052174,
          64737694.21821428,
          57982639.263571426,
          55323936.02769231,
          52480021.258387096,
          61628312.47366667,
          85215247.841875,
          130496662.5662069,
          87914146.065,
          107049121.04705882,
          78536573.5380851,
          102118340.34963636,
          89048321.11428571,
          68170979.6556701,
          87592849.9364865,
          64643808.65878788,
          61216655.35358824,
          68104997.58030488,
          74658367.60497268,
          72155851.64308459,
          85456773.19728915,
          80599214.52965517,
          70815486.22649533,
          72456952.75351694,
          84140360.27784616,
          81702231.33551112,
          83961079.44281633,
          92072452.96152467,
          92684435.32497758,
          116936927.09383497,
          107402695.37756522,
          107974847.66545455,
          114762615.7225123,
          139954803.41028845
         ]
        },
        {
         "hoverinfo": "x+y",
         "line": {
          "color": "firebrick",
          "width": 0.5
         },
         "mode": "lines",
         "name": "Revenue real",
         "type": "scatter",
         "x": [
          1916,
          1925,
          1927,
          1929,
          1930,
          1932,
          1933,
          1934,
          1935,
          1936,
          1937,
          1938,
          1939,
          1940,
          1941,
          1942,
          1944,
          1945,
          1946,
          1947,
          1948,
          1949,
          1950,
          1951,
          1952,
          1953,
          1954,
          1955,
          1956,
          1957,
          1958,
          1959,
          1960,
          1961,
          1962,
          1963,
          1964,
          1965,
          1966,
          1967,
          1968,
          1969,
          1970,
          1971,
          1972,
          1973,
          1974,
          1975,
          1976,
          1977,
          1978,
          1979,
          1980,
          1981,
          1982,
          1983,
          1984,
          1985,
          1986,
          1987,
          1988,
          1989,
          1990,
          1991,
          1992,
          1993,
          1994,
          1995,
          1996,
          1997,
          1998,
          1999,
          2000,
          2001,
          2002,
          2003,
          2004,
          2005,
          2006,
          2007,
          2008,
          2009,
          2010,
          2011,
          2012,
          2013,
          2014,
          2015,
          2016
         ],
         "y": [
          8394751,
          22000000,
          650422,
          2179000,
          8000000,
          25,
          2240500,
          4500000,
          3202000,
          5618000,
          92462743,
          5716550.5,
          147843808.66666666,
          36558400,
          6000000,
          138954825,
          6127500,
          6783000,
          17898041.333333332,
          2600000,
          3989333.3333333335,
          6600000,
          8000000,
          16333333.333333334,
          12800000,
          20000000,
          13267960.25,
          3500000,
          11266666.666666666,
          17150000,
          17570324,
          16666666.666666666,
          22466666.666666668,
          14891364.4,
          30010747.285714287,
          35730404.5,
          34701446,
          69344564.125,
          9891666.666666666,
          31948084.5,
          18755447.7,
          31438585.4,
          20668065.75,
          29624179.8,
          32375855.666666668,
          106621070.22222222,
          48270896.75,
          109082928.33333333,
          33148207.777777776,
          91259932.5,
          68536915.07142857,
          61859555.6875,
          58681020.5,
          39846320.18181818,
          77176612.25,
          68410945.3478261,
          62632435,
          53529476.60714286,
          57765114.84615385,
          50236489.32258064,
          64437925.6,
          83964737.53125,
          133233512.20689656,
          88803583.06666666,
          110497217.76470588,
          82594738.44680852,
          107795500.07272728,
          88673473.18571429,
          70185644.44329897,
          86799516.21621622,
          62296219.95454545,
          60780828.87647059,
          66781819.12804878,
          72512949.66666667,
          72685858.4875622,
          85612329.68674698,
          80190574.22167487,
          69773781.39252336,
          70491070.97457626,
          84572418.74358974,
          80646132.45777778,
          86010822.47346939,
          91249214.20627803,
          92004130.76233184,
          117192768.18446602,
          101789101.2826087,
          104417708.17748918,
          112192237.54187192,
          139049586.03846154
         ]
        }
       ],
       "layout": {
        "font": {
         "size": 8
        },
        "legend": {
         "bgcolor": "white",
         "x": 0.01,
         "xanchor": "left",
         "y": 0.99,
         "yanchor": "top"
        },
        "template": {
         "data": {
          "bar": [
           {
            "error_x": {
             "color": "#2a3f5f"
            },
            "error_y": {
             "color": "#2a3f5f"
            },
            "marker": {
             "line": {
              "color": "#E5ECF6",
              "width": 0.5
             },
             "pattern": {
              "fillmode": "overlay",
              "size": 10,
              "solidity": 0.2
             }
            },
            "type": "bar"
           }
          ],
          "barpolar": [
           {
            "marker": {
             "line": {
              "color": "#E5ECF6",
              "width": 0.5
             },
             "pattern": {
              "fillmode": "overlay",
              "size": 10,
              "solidity": 0.2
             }
            },
            "type": "barpolar"
           }
          ],
          "carpet": [
           {
            "aaxis": {
             "endlinecolor": "#2a3f5f",
             "gridcolor": "white",
             "linecolor": "white",
             "minorgridcolor": "white",
             "startlinecolor": "#2a3f5f"
            },
            "baxis": {
             "endlinecolor": "#2a3f5f",
             "gridcolor": "white",
             "linecolor": "white",
             "minorgridcolor": "white",
             "startlinecolor": "#2a3f5f"
            },
            "type": "carpet"
           }
          ],
          "choropleth": [
           {
            "colorbar": {
             "outlinewidth": 0,
             "ticks": ""
            },
            "type": "choropleth"
           }
          ],
          "contour": [
           {
            "colorbar": {
             "outlinewidth": 0,
             "ticks": ""
            },
            "colorscale": [
             [
              0,
              "#0d0887"
             ],
             [
              0.1111111111111111,
              "#46039f"
             ],
             [
              0.2222222222222222,
              "#7201a8"
             ],
             [
              0.3333333333333333,
              "#9c179e"
             ],
             [
              0.4444444444444444,
              "#bd3786"
             ],
             [
              0.5555555555555556,
              "#d8576b"
             ],
             [
              0.6666666666666666,
              "#ed7953"
             ],
             [
              0.7777777777777778,
              "#fb9f3a"
             ],
             [
              0.8888888888888888,
              "#fdca26"
             ],
             [
              1,
              "#f0f921"
             ]
            ],
            "type": "contour"
           }
          ],
          "contourcarpet": [
           {
            "colorbar": {
             "outlinewidth": 0,
             "ticks": ""
            },
            "type": "contourcarpet"
           }
          ],
          "heatmap": [
           {
            "colorbar": {
             "outlinewidth": 0,
             "ticks": ""
            },
            "colorscale": [
             [
              0,
              "#0d0887"
             ],
             [
              0.1111111111111111,
              "#46039f"
             ],
             [
              0.2222222222222222,
              "#7201a8"
             ],
             [
              0.3333333333333333,
              "#9c179e"
             ],
             [
              0.4444444444444444,
              "#bd3786"
             ],
             [
              0.5555555555555556,
              "#d8576b"
             ],
             [
              0.6666666666666666,
              "#ed7953"
             ],
             [
              0.7777777777777778,
              "#fb9f3a"
             ],
             [
              0.8888888888888888,
              "#fdca26"
             ],
             [
              1,
              "#f0f921"
             ]
            ],
            "type": "heatmap"
           }
          ],
          "heatmapgl": [
           {
            "colorbar": {
             "outlinewidth": 0,
             "ticks": ""
            },
            "colorscale": [
             [
              0,
              "#0d0887"
             ],
             [
              0.1111111111111111,
              "#46039f"
             ],
             [
              0.2222222222222222,
              "#7201a8"
             ],
             [
              0.3333333333333333,
              "#9c179e"
             ],
             [
              0.4444444444444444,
              "#bd3786"
             ],
             [
              0.5555555555555556,
              "#d8576b"
             ],
             [
              0.6666666666666666,
              "#ed7953"
             ],
             [
              0.7777777777777778,
              "#fb9f3a"
             ],
             [
              0.8888888888888888,
              "#fdca26"
             ],
             [
              1,
              "#f0f921"
             ]
            ],
            "type": "heatmapgl"
           }
          ],
          "histogram": [
           {
            "marker": {
             "pattern": {
              "fillmode": "overlay",
              "size": 10,
              "solidity": 0.2
             }
            },
            "type": "histogram"
           }
          ],
          "histogram2d": [
           {
            "colorbar": {
             "outlinewidth": 0,
             "ticks": ""
            },
            "colorscale": [
             [
              0,
              "#0d0887"
             ],
             [
              0.1111111111111111,
              "#46039f"
             ],
             [
              0.2222222222222222,
              "#7201a8"
             ],
             [
              0.3333333333333333,
              "#9c179e"
             ],
             [
              0.4444444444444444,
              "#bd3786"
             ],
             [
              0.5555555555555556,
              "#d8576b"
             ],
             [
              0.6666666666666666,
              "#ed7953"
             ],
             [
              0.7777777777777778,
              "#fb9f3a"
             ],
             [
              0.8888888888888888,
              "#fdca26"
             ],
             [
              1,
              "#f0f921"
             ]
            ],
            "type": "histogram2d"
           }
          ],
          "histogram2dcontour": [
           {
            "colorbar": {
             "outlinewidth": 0,
             "ticks": ""
            },
            "colorscale": [
             [
              0,
              "#0d0887"
             ],
             [
              0.1111111111111111,
              "#46039f"
             ],
             [
              0.2222222222222222,
              "#7201a8"
             ],
             [
              0.3333333333333333,
              "#9c179e"
             ],
             [
              0.4444444444444444,
              "#bd3786"
             ],
             [
              0.5555555555555556,
              "#d8576b"
             ],
             [
              0.6666666666666666,
              "#ed7953"
             ],
             [
              0.7777777777777778,
              "#fb9f3a"
             ],
             [
              0.8888888888888888,
              "#fdca26"
             ],
             [
              1,
              "#f0f921"
             ]
            ],
            "type": "histogram2dcontour"
           }
          ],
          "mesh3d": [
           {
            "colorbar": {
             "outlinewidth": 0,
             "ticks": ""
            },
            "type": "mesh3d"
           }
          ],
          "parcoords": [
           {
            "line": {
             "colorbar": {
              "outlinewidth": 0,
              "ticks": ""
             }
            },
            "type": "parcoords"
           }
          ],
          "pie": [
           {
            "automargin": true,
            "type": "pie"
           }
          ],
          "scatter": [
           {
            "fillpattern": {
             "fillmode": "overlay",
             "size": 10,
             "solidity": 0.2
            },
            "type": "scatter"
           }
          ],
          "scatter3d": [
           {
            "line": {
             "colorbar": {
              "outlinewidth": 0,
              "ticks": ""
             }
            },
            "marker": {
             "colorbar": {
              "outlinewidth": 0,
              "ticks": ""
             }
            },
            "type": "scatter3d"
           }
          ],
          "scattercarpet": [
           {
            "marker": {
             "colorbar": {
              "outlinewidth": 0,
              "ticks": ""
             }
            },
            "type": "scattercarpet"
           }
          ],
          "scattergeo": [
           {
            "marker": {
             "colorbar": {
              "outlinewidth": 0,
              "ticks": ""
             }
            },
            "type": "scattergeo"
           }
          ],
          "scattergl": [
           {
            "marker": {
             "colorbar": {
              "outlinewidth": 0,
              "ticks": ""
             }
            },
            "type": "scattergl"
           }
          ],
          "scattermapbox": [
           {
            "marker": {
             "colorbar": {
              "outlinewidth": 0,
              "ticks": ""
             }
            },
            "type": "scattermapbox"
           }
          ],
          "scatterpolar": [
           {
            "marker": {
             "colorbar": {
              "outlinewidth": 0,
              "ticks": ""
             }
            },
            "type": "scatterpolar"
           }
          ],
          "scatterpolargl": [
           {
            "marker": {
             "colorbar": {
              "outlinewidth": 0,
              "ticks": ""
             }
            },
            "type": "scatterpolargl"
           }
          ],
          "scatterternary": [
           {
            "marker": {
             "colorbar": {
              "outlinewidth": 0,
              "ticks": ""
             }
            },
            "type": "scatterternary"
           }
          ],
          "surface": [
           {
            "colorbar": {
             "outlinewidth": 0,
             "ticks": ""
            },
            "colorscale": [
             [
              0,
              "#0d0887"
             ],
             [
              0.1111111111111111,
              "#46039f"
             ],
             [
              0.2222222222222222,
              "#7201a8"
             ],
             [
              0.3333333333333333,
              "#9c179e"
             ],
             [
              0.4444444444444444,
              "#bd3786"
             ],
             [
              0.5555555555555556,
              "#d8576b"
             ],
             [
              0.6666666666666666,
              "#ed7953"
             ],
             [
              0.7777777777777778,
              "#fb9f3a"
             ],
             [
              0.8888888888888888,
              "#fdca26"
             ],
             [
              1,
              "#f0f921"
             ]
            ],
            "type": "surface"
           }
          ],
          "table": [
           {
            "cells": {
             "fill": {
              "color": "#EBF0F8"
             },
             "line": {
              "color": "white"
             }
            },
            "header": {
             "fill": {
              "color": "#C8D4E3"
             },
             "line": {
              "color": "white"
             }
            },
            "type": "table"
           }
          ]
         },
         "layout": {
          "annotationdefaults": {
           "arrowcolor": "#2a3f5f",
           "arrowhead": 0,
           "arrowwidth": 1
          },
          "autotypenumbers": "strict",
          "coloraxis": {
           "colorbar": {
            "outlinewidth": 0,
            "ticks": ""
           }
          },
          "colorscale": {
           "diverging": [
            [
             0,
             "#8e0152"
            ],
            [
             0.1,
             "#c51b7d"
            ],
            [
             0.2,
             "#de77ae"
            ],
            [
             0.3,
             "#f1b6da"
            ],
            [
             0.4,
             "#fde0ef"
            ],
            [
             0.5,
             "#f7f7f7"
            ],
            [
             0.6,
             "#e6f5d0"
            ],
            [
             0.7,
             "#b8e186"
            ],
            [
             0.8,
             "#7fbc41"
            ],
            [
             0.9,
             "#4d9221"
            ],
            [
             1,
             "#276419"
            ]
           ],
           "sequential": [
            [
             0,
             "#0d0887"
            ],
            [
             0.1111111111111111,
             "#46039f"
            ],
            [
             0.2222222222222222,
             "#7201a8"
            ],
            [
             0.3333333333333333,
             "#9c179e"
            ],
            [
             0.4444444444444444,
             "#bd3786"
            ],
            [
             0.5555555555555556,
             "#d8576b"
            ],
            [
             0.6666666666666666,
             "#ed7953"
            ],
            [
             0.7777777777777778,
             "#fb9f3a"
            ],
            [
             0.8888888888888888,
             "#fdca26"
            ],
            [
             1,
             "#f0f921"
            ]
           ],
           "sequentialminus": [
            [
             0,
             "#0d0887"
            ],
            [
             0.1111111111111111,
             "#46039f"
            ],
            [
             0.2222222222222222,
             "#7201a8"
            ],
            [
             0.3333333333333333,
             "#9c179e"
            ],
            [
             0.4444444444444444,
             "#bd3786"
            ],
            [
             0.5555555555555556,
             "#d8576b"
            ],
            [
             0.6666666666666666,
             "#ed7953"
            ],
            [
             0.7777777777777778,
             "#fb9f3a"
            ],
            [
             0.8888888888888888,
             "#fdca26"
            ],
            [
             1,
             "#f0f921"
            ]
           ]
          },
          "colorway": [
           "#636efa",
           "#EF553B",
           "#00cc96",
           "#ab63fa",
           "#FFA15A",
           "#19d3f3",
           "#FF6692",
           "#B6E880",
           "#FF97FF",
           "#FECB52"
          ],
          "font": {
           "color": "#2a3f5f"
          },
          "geo": {
           "bgcolor": "white",
           "lakecolor": "white",
           "landcolor": "#E5ECF6",
           "showlakes": true,
           "showland": true,
           "subunitcolor": "white"
          },
          "hoverlabel": {
           "align": "left"
          },
          "hovermode": "closest",
          "mapbox": {
           "style": "light"
          },
          "paper_bgcolor": "white",
          "plot_bgcolor": "#E5ECF6",
          "polar": {
           "angularaxis": {
            "gridcolor": "white",
            "linecolor": "white",
            "ticks": ""
           },
           "bgcolor": "#E5ECF6",
           "radialaxis": {
            "gridcolor": "white",
            "linecolor": "white",
            "ticks": ""
           }
          },
          "scene": {
           "xaxis": {
            "backgroundcolor": "#E5ECF6",
            "gridcolor": "white",
            "gridwidth": 2,
            "linecolor": "white",
            "showbackground": true,
            "ticks": "",
            "zerolinecolor": "white"
           },
           "yaxis": {
            "backgroundcolor": "#E5ECF6",
            "gridcolor": "white",
            "gridwidth": 2,
            "linecolor": "white",
            "showbackground": true,
            "ticks": "",
            "zerolinecolor": "white"
           },
           "zaxis": {
            "backgroundcolor": "#E5ECF6",
            "gridcolor": "white",
            "gridwidth": 2,
            "linecolor": "white",
            "showbackground": true,
            "ticks": "",
            "zerolinecolor": "white"
           }
          },
          "shapedefaults": {
           "line": {
            "color": "#2a3f5f"
           }
          },
          "ternary": {
           "aaxis": {
            "gridcolor": "white",
            "linecolor": "white",
            "ticks": ""
           },
           "baxis": {
            "gridcolor": "white",
            "linecolor": "white",
            "ticks": ""
           },
           "bgcolor": "#E5ECF6",
           "caxis": {
            "gridcolor": "white",
            "linecolor": "white",
            "ticks": ""
           }
          },
          "title": {
           "x": 0.05
          },
          "xaxis": {
           "automargin": true,
           "gridcolor": "white",
           "linecolor": "white",
           "ticks": "",
           "title": {
            "standoff": 15
           },
           "zerolinecolor": "white",
           "zerolinewidth": 2
          },
          "yaxis": {
           "automargin": true,
           "gridcolor": "white",
           "linecolor": "white",
           "ticks": "",
           "title": {
            "standoff": 15
           },
           "zerolinecolor": "white",
           "zerolinewidth": 2
          }
         }
        },
        "title": {
         "text": "Evolución Temporal"
        },
        "xaxis": {
         "title": {
          "text": "Año"
         }
        },
        "yaxis": {
         "title": {
          "text": "Ventas (Millones)"
         }
        }
       }
      }
     },
     "metadata": {},
     "output_type": "display_data"
    }
   ],
   "source": [
    "df_aux = df_pred_test.groupby(df_pred_test[\"date\"].dt.year)['revenue'].mean().reset_index()[:-1]\n",
    "df_aux2 = df_y.groupby(df_y[\"date\"].dt.year)['revenue'].mean().reset_index()[:-1]\n",
    "\n",
    "\n",
    "fig = go.Figure()\n",
    "fig.add_trace(go.Scatter(\n",
    "    x=df_aux['date'], y=df_aux['revenue'],\n",
    "    hoverinfo='x+y',\n",
    "    mode='lines',\n",
    "    line=dict(width=0.5, color='steelblue'),\n",
    "    name = 'Revenue'\n",
    "))\n",
    "fig.add_trace(go.Scatter(\n",
    "    x=df_aux2['date'], y=df_aux2['revenue'],\n",
    "    hoverinfo='x+y',\n",
    "    mode='lines',\n",
    "    line=dict(width=0.5, color='firebrick'),\n",
    "    name = 'Revenue real'\n",
    "))\n",
    "\n",
    "fig.update_layout(\n",
    "    title = 'Evolución Temporal',\n",
    "    xaxis_title = 'Año',\n",
    "    yaxis_title = 'Ventas (Millones)',\n",
    "    legend=dict(\n",
    "        bgcolor = 'white',\n",
    "        yanchor=\"top\",\n",
    "        y=0.99,\n",
    "        xanchor=\"left\",\n",
    "        x=0.01),\n",
    "    font=dict(size=8),\n",
    "    # margin=dict(\n",
    "    #     l=0,\n",
    "    #     r=0,\n",
    "    #     b=0,\n",
    "    #     t=25,\n",
    "    #     pad=4\n",
    "    # )\n",
    ")"
   ]
  },
  {
   "cell_type": "markdown",
   "metadata": {},
   "source": [
    "#### Quitando columnas de votos, y algunas de fechas"
   ]
  },
  {
   "cell_type": "code",
   "execution_count": 120,
   "metadata": {},
   "outputs": [
    {
     "data": {
      "text/plain": [
       "Index(['budget', 'popularity', 'revenue', 'runtime', 'vote_average',\n",
       "       'vote_count', 'Action', 'Adventure', 'Animation', 'Comedy', 'Crime',\n",
       "       'Documentary', 'Drama', 'Family', 'Fantasy', 'Foreign', 'History',\n",
       "       'Horror', 'Music', 'Mystery', 'Romance', 'Science_Fiction', 'Thriller',\n",
       "       'War', 'Western', 'Other_language', 'en_language', 'es_language',\n",
       "       'fr_language', 'ja_language', 'zh_language', 'Columbia Pictures',\n",
       "       'Dune Entertainment', 'New Line Cinema', 'Other_company',\n",
       "       'Paramount Pictures', 'Relativity Media',\n",
       "       'Twentieth Century Fox Film Corporation', 'Universal Pictures',\n",
       "       'Village Roadshow Pictures', 'Walt Disney Pictures', 'Warner Bros.',\n",
       "       'Canada', 'France', 'Germany', 'Other_country', 'United Kingdom',\n",
       "       'United States of America', 'year', 'month', 'day', 'weekday',\n",
       "       'day_of_year', 'real_gdp'],\n",
       "      dtype='object')"
      ]
     },
     "execution_count": 120,
     "metadata": {},
     "output_type": "execute_result"
    }
   ],
   "source": [
    "df.columns"
   ]
  },
  {
   "cell_type": "code",
   "execution_count": 101,
   "metadata": {},
   "outputs": [],
   "source": [
    "target = \"revenue\"\n",
    "df_X = df.drop(columns=[target, \"vote_average\",'vote_count', \"day\"])\n",
    "df_y = df[[target]]"
   ]
  },
  {
   "cell_type": "code",
   "execution_count": 102,
   "metadata": {},
   "outputs": [],
   "source": [
    "# Split the data into training and testing sets\n",
    "X_train, X_test, y_train, y_test = train_test_split(df_X, df_y, test_size=0.2, random_state=42)"
   ]
  },
  {
   "cell_type": "code",
   "execution_count": 103,
   "metadata": {},
   "outputs": [
    {
     "name": "stderr",
     "output_type": "stream",
     "text": [
      "c:\\Users\\clopearg\\OneDrive - NTT DATA EMEAL\\Desktop\\Fer\\Visualización\\PracticaVisualizacion\\.venv\\Lib\\site-packages\\sklearn\\base.py:1473: DataConversionWarning:\n",
      "\n",
      "A column-vector y was passed when a 1d array was expected. Please change the shape of y to (n_samples,), for example using ravel().\n",
      "\n"
     ]
    }
   ],
   "source": [
    "# Initialize the RandomForestRegressor model\n",
    "rf_regressor = RandomForestRegressor(n_estimators=100, random_state=42)\n",
    "\n",
    "# Train the model\n",
    "rf_regressor.fit(X_train, y_train)\n",
    "\n",
    "# Predict on the test set\n",
    "y_pred = rf_regressor.predict(X_test)"
   ]
  },
  {
   "cell_type": "code",
   "execution_count": 104,
   "metadata": {},
   "outputs": [
    {
     "name": "stdout",
     "output_type": "stream",
     "text": [
      "mse: 1.8592924999891696e+16\n",
      "r2: 0.6619745879245914\n",
      "mape: 12.345118966662602\n"
     ]
    }
   ],
   "source": [
    "# Evaluate the model\n",
    "mse = mean_squared_error(y_test, y_pred)\n",
    "r2 = r2_score(y_test, y_pred)\n",
    "mape = mean_absolute_percentage_error(y_test, y_pred)\n",
    "print(f\"mse: {mse}\")\n",
    "print(f\"r2: {r2}\")\n",
    "print(f\"mape: {mape}\")"
   ]
  },
  {
   "cell_type": "code",
   "execution_count": 105,
   "metadata": {},
   "outputs": [
    {
     "data": {
      "text/html": [
       "<div>\n",
       "<style scoped>\n",
       "    .dataframe tbody tr th:only-of-type {\n",
       "        vertical-align: middle;\n",
       "    }\n",
       "\n",
       "    .dataframe tbody tr th {\n",
       "        vertical-align: top;\n",
       "    }\n",
       "\n",
       "    .dataframe thead th {\n",
       "        text-align: right;\n",
       "    }\n",
       "</style>\n",
       "<table border=\"1\" class=\"dataframe\">\n",
       "  <thead>\n",
       "    <tr style=\"text-align: right;\">\n",
       "      <th></th>\n",
       "      <th>y_real</th>\n",
       "      <th>y_pred</th>\n",
       "      <th>mape</th>\n",
       "    </tr>\n",
       "  </thead>\n",
       "  <tbody>\n",
       "    <tr>\n",
       "      <th>548</th>\n",
       "      <td>170128460</td>\n",
       "      <td>6.562693e+07</td>\n",
       "      <td>61.425074</td>\n",
       "    </tr>\n",
       "    <tr>\n",
       "      <th>704</th>\n",
       "      <td>201634991</td>\n",
       "      <td>1.584979e+08</td>\n",
       "      <td>21.393659</td>\n",
       "    </tr>\n",
       "    <tr>\n",
       "      <th>244</th>\n",
       "      <td>384335608</td>\n",
       "      <td>2.670424e+08</td>\n",
       "      <td>30.518435</td>\n",
       "    </tr>\n",
       "    <tr>\n",
       "      <th>552</th>\n",
       "      <td>74597643</td>\n",
       "      <td>5.273621e+07</td>\n",
       "      <td>29.305802</td>\n",
       "    </tr>\n",
       "    <tr>\n",
       "      <th>1164</th>\n",
       "      <td>15992615</td>\n",
       "      <td>4.164977e+07</td>\n",
       "      <td>160.431270</td>\n",
       "    </tr>\n",
       "    <tr>\n",
       "      <th>...</th>\n",
       "      <td>...</td>\n",
       "      <td>...</td>\n",
       "      <td>...</td>\n",
       "    </tr>\n",
       "    <tr>\n",
       "      <th>808</th>\n",
       "      <td>131282949</td>\n",
       "      <td>1.515745e+08</td>\n",
       "      <td>15.456370</td>\n",
       "    </tr>\n",
       "    <tr>\n",
       "      <th>88</th>\n",
       "      <td>938212738</td>\n",
       "      <td>6.292818e+08</td>\n",
       "      <td>32.927601</td>\n",
       "    </tr>\n",
       "    <tr>\n",
       "      <th>1144</th>\n",
       "      <td>35564473</td>\n",
       "      <td>2.646171e+07</td>\n",
       "      <td>25.595099</td>\n",
       "    </tr>\n",
       "    <tr>\n",
       "      <th>298</th>\n",
       "      <td>219417255</td>\n",
       "      <td>2.048990e+08</td>\n",
       "      <td>6.616730</td>\n",
       "    </tr>\n",
       "    <tr>\n",
       "      <th>376</th>\n",
       "      <td>244082376</td>\n",
       "      <td>1.979442e+08</td>\n",
       "      <td>18.902721</td>\n",
       "    </tr>\n",
       "  </tbody>\n",
       "</table>\n",
       "<p>246 rows × 3 columns</p>\n",
       "</div>"
      ],
      "text/plain": [
       "         y_real        y_pred        mape\n",
       "548   170128460  6.562693e+07   61.425074\n",
       "704   201634991  1.584979e+08   21.393659\n",
       "244   384335608  2.670424e+08   30.518435\n",
       "552    74597643  5.273621e+07   29.305802\n",
       "1164   15992615  4.164977e+07  160.431270\n",
       "...         ...           ...         ...\n",
       "808   131282949  1.515745e+08   15.456370\n",
       "88    938212738  6.292818e+08   32.927601\n",
       "1144   35564473  2.646171e+07   25.595099\n",
       "298   219417255  2.048990e+08    6.616730\n",
       "376   244082376  1.979442e+08   18.902721\n",
       "\n",
       "[246 rows x 3 columns]"
      ]
     },
     "execution_count": 105,
     "metadata": {},
     "output_type": "execute_result"
    }
   ],
   "source": [
    "test_preds_df = pd.DataFrame({'y_real': y_test['revenue'], 'y_pred': y_pred})\n",
    "test_preds_df['mape'] = abs(test_preds_df['y_real']-test_preds_df['y_pred'])/test_preds_df['y_real']*100\n",
    "test_preds_df"
   ]
  },
  {
   "cell_type": "code",
   "execution_count": 106,
   "metadata": {},
   "outputs": [
    {
     "data": {
      "application/vnd.plotly.v1+json": {
       "config": {
        "plotlyServerURL": "https://plot.ly"
       },
       "data": [
        {
         "text": [
          47.125,
          26.448,
          4.121,
          3.494,
          2.762,
          1.934,
          1.898,
          1.654,
          1.325,
          1.139,
          1.056,
          0.76,
          0.69,
          0.495,
          0.447,
          0.382,
          0.367,
          0.361,
          0.355,
          0.355,
          0.341,
          0.267,
          0.261,
          0.249,
          0.182,
          0.172,
          0.17,
          0.163,
          0.159,
          0.149,
          0.116,
          0.097,
          0.095,
          0.095,
          0.077,
          0.057,
          0.053,
          0.043,
          0.02,
          0.019,
          0.017,
          0.012,
          0.008,
          0.005,
          0.003,
          0.002,
          0.002,
          0.001,
          0,
          0
         ],
         "textposition": "auto",
         "type": "bar",
         "x": [
          "budget",
          "popularity",
          "runtime",
          "day_of_year",
          "Dune Entertainment",
          "real_gdp",
          "year",
          "weekday",
          "Twentieth Century Fox Film Corporation",
          "Adventure",
          "month",
          "Family",
          "Fantasy",
          "Animation",
          "Drama",
          "Romance",
          "Comedy",
          "Paramount Pictures",
          "Science_Fiction",
          "Thriller",
          "Warner Bros.",
          "Mystery",
          "Universal Pictures",
          "United Kingdom",
          "Walt Disney Pictures",
          "Action",
          "Crime",
          "Village Roadshow Pictures",
          "Columbia Pictures",
          "Other_country",
          "Horror",
          "Relativity Media",
          "New Line Cinema",
          "Germany",
          "Music",
          "Canada",
          "France",
          "Other_company",
          "Western",
          "United States of America",
          "War",
          "ja_language",
          "History",
          "en_language",
          "Documentary",
          "Other_language",
          "es_language",
          "fr_language",
          "zh_language",
          "Foreign"
         ],
         "y": [
          47.12486891015394,
          26.447845545865817,
          4.120585314998115,
          3.494058197441072,
          2.762428528728238,
          1.9341955425515693,
          1.8977024043736805,
          1.653556432561527,
          1.3248246963032453,
          1.1394853506507863,
          1.0557999460472387,
          0.7603603936913432,
          0.6895834302614194,
          0.4952495748450787,
          0.44736114447781994,
          0.3819708050644804,
          0.3672605055873257,
          0.3606206389087608,
          0.3554013586310203,
          0.35459584439550884,
          0.3411832560703639,
          0.26669483001666033,
          0.26100110988246783,
          0.24946546218580393,
          0.18166173926692714,
          0.1715021899638437,
          0.1695792422388174,
          0.16251569083616707,
          0.15871551040684953,
          0.1492950556585314,
          0.115726865010334,
          0.09677466530154465,
          0.09526136684758241,
          0.0948101095462081,
          0.07706687878455329,
          0.05703522109388932,
          0.05253619052403954,
          0.04267743053355096,
          0.019577239088120226,
          0.018659689018562648,
          0.017280163018464606,
          0.011701705122296895,
          0.008416702167336745,
          0.004516255128924091,
          0.003233683282757526,
          0.0024935603156561914,
          0.0018316816171710893,
          0.0010055821720252032,
          0.000026359359269026112,
          3.28139675595324e-12
         ]
        }
       ],
       "layout": {
        "template": {
         "data": {
          "bar": [
           {
            "error_x": {
             "color": "#2a3f5f"
            },
            "error_y": {
             "color": "#2a3f5f"
            },
            "marker": {
             "line": {
              "color": "white",
              "width": 0.5
             },
             "pattern": {
              "fillmode": "overlay",
              "size": 10,
              "solidity": 0.2
             }
            },
            "type": "bar"
           }
          ],
          "barpolar": [
           {
            "marker": {
             "line": {
              "color": "white",
              "width": 0.5
             },
             "pattern": {
              "fillmode": "overlay",
              "size": 10,
              "solidity": 0.2
             }
            },
            "type": "barpolar"
           }
          ],
          "carpet": [
           {
            "aaxis": {
             "endlinecolor": "#2a3f5f",
             "gridcolor": "#C8D4E3",
             "linecolor": "#C8D4E3",
             "minorgridcolor": "#C8D4E3",
             "startlinecolor": "#2a3f5f"
            },
            "baxis": {
             "endlinecolor": "#2a3f5f",
             "gridcolor": "#C8D4E3",
             "linecolor": "#C8D4E3",
             "minorgridcolor": "#C8D4E3",
             "startlinecolor": "#2a3f5f"
            },
            "type": "carpet"
           }
          ],
          "choropleth": [
           {
            "colorbar": {
             "outlinewidth": 0,
             "ticks": ""
            },
            "type": "choropleth"
           }
          ],
          "contour": [
           {
            "colorbar": {
             "outlinewidth": 0,
             "ticks": ""
            },
            "colorscale": [
             [
              0,
              "#0d0887"
             ],
             [
              0.1111111111111111,
              "#46039f"
             ],
             [
              0.2222222222222222,
              "#7201a8"
             ],
             [
              0.3333333333333333,
              "#9c179e"
             ],
             [
              0.4444444444444444,
              "#bd3786"
             ],
             [
              0.5555555555555556,
              "#d8576b"
             ],
             [
              0.6666666666666666,
              "#ed7953"
             ],
             [
              0.7777777777777778,
              "#fb9f3a"
             ],
             [
              0.8888888888888888,
              "#fdca26"
             ],
             [
              1,
              "#f0f921"
             ]
            ],
            "type": "contour"
           }
          ],
          "contourcarpet": [
           {
            "colorbar": {
             "outlinewidth": 0,
             "ticks": ""
            },
            "type": "contourcarpet"
           }
          ],
          "heatmap": [
           {
            "colorbar": {
             "outlinewidth": 0,
             "ticks": ""
            },
            "colorscale": [
             [
              0,
              "#0d0887"
             ],
             [
              0.1111111111111111,
              "#46039f"
             ],
             [
              0.2222222222222222,
              "#7201a8"
             ],
             [
              0.3333333333333333,
              "#9c179e"
             ],
             [
              0.4444444444444444,
              "#bd3786"
             ],
             [
              0.5555555555555556,
              "#d8576b"
             ],
             [
              0.6666666666666666,
              "#ed7953"
             ],
             [
              0.7777777777777778,
              "#fb9f3a"
             ],
             [
              0.8888888888888888,
              "#fdca26"
             ],
             [
              1,
              "#f0f921"
             ]
            ],
            "type": "heatmap"
           }
          ],
          "heatmapgl": [
           {
            "colorbar": {
             "outlinewidth": 0,
             "ticks": ""
            },
            "colorscale": [
             [
              0,
              "#0d0887"
             ],
             [
              0.1111111111111111,
              "#46039f"
             ],
             [
              0.2222222222222222,
              "#7201a8"
             ],
             [
              0.3333333333333333,
              "#9c179e"
             ],
             [
              0.4444444444444444,
              "#bd3786"
             ],
             [
              0.5555555555555556,
              "#d8576b"
             ],
             [
              0.6666666666666666,
              "#ed7953"
             ],
             [
              0.7777777777777778,
              "#fb9f3a"
             ],
             [
              0.8888888888888888,
              "#fdca26"
             ],
             [
              1,
              "#f0f921"
             ]
            ],
            "type": "heatmapgl"
           }
          ],
          "histogram": [
           {
            "marker": {
             "pattern": {
              "fillmode": "overlay",
              "size": 10,
              "solidity": 0.2
             }
            },
            "type": "histogram"
           }
          ],
          "histogram2d": [
           {
            "colorbar": {
             "outlinewidth": 0,
             "ticks": ""
            },
            "colorscale": [
             [
              0,
              "#0d0887"
             ],
             [
              0.1111111111111111,
              "#46039f"
             ],
             [
              0.2222222222222222,
              "#7201a8"
             ],
             [
              0.3333333333333333,
              "#9c179e"
             ],
             [
              0.4444444444444444,
              "#bd3786"
             ],
             [
              0.5555555555555556,
              "#d8576b"
             ],
             [
              0.6666666666666666,
              "#ed7953"
             ],
             [
              0.7777777777777778,
              "#fb9f3a"
             ],
             [
              0.8888888888888888,
              "#fdca26"
             ],
             [
              1,
              "#f0f921"
             ]
            ],
            "type": "histogram2d"
           }
          ],
          "histogram2dcontour": [
           {
            "colorbar": {
             "outlinewidth": 0,
             "ticks": ""
            },
            "colorscale": [
             [
              0,
              "#0d0887"
             ],
             [
              0.1111111111111111,
              "#46039f"
             ],
             [
              0.2222222222222222,
              "#7201a8"
             ],
             [
              0.3333333333333333,
              "#9c179e"
             ],
             [
              0.4444444444444444,
              "#bd3786"
             ],
             [
              0.5555555555555556,
              "#d8576b"
             ],
             [
              0.6666666666666666,
              "#ed7953"
             ],
             [
              0.7777777777777778,
              "#fb9f3a"
             ],
             [
              0.8888888888888888,
              "#fdca26"
             ],
             [
              1,
              "#f0f921"
             ]
            ],
            "type": "histogram2dcontour"
           }
          ],
          "mesh3d": [
           {
            "colorbar": {
             "outlinewidth": 0,
             "ticks": ""
            },
            "type": "mesh3d"
           }
          ],
          "parcoords": [
           {
            "line": {
             "colorbar": {
              "outlinewidth": 0,
              "ticks": ""
             }
            },
            "type": "parcoords"
           }
          ],
          "pie": [
           {
            "automargin": true,
            "type": "pie"
           }
          ],
          "scatter": [
           {
            "fillpattern": {
             "fillmode": "overlay",
             "size": 10,
             "solidity": 0.2
            },
            "type": "scatter"
           }
          ],
          "scatter3d": [
           {
            "line": {
             "colorbar": {
              "outlinewidth": 0,
              "ticks": ""
             }
            },
            "marker": {
             "colorbar": {
              "outlinewidth": 0,
              "ticks": ""
             }
            },
            "type": "scatter3d"
           }
          ],
          "scattercarpet": [
           {
            "marker": {
             "colorbar": {
              "outlinewidth": 0,
              "ticks": ""
             }
            },
            "type": "scattercarpet"
           }
          ],
          "scattergeo": [
           {
            "marker": {
             "colorbar": {
              "outlinewidth": 0,
              "ticks": ""
             }
            },
            "type": "scattergeo"
           }
          ],
          "scattergl": [
           {
            "marker": {
             "colorbar": {
              "outlinewidth": 0,
              "ticks": ""
             }
            },
            "type": "scattergl"
           }
          ],
          "scattermapbox": [
           {
            "marker": {
             "colorbar": {
              "outlinewidth": 0,
              "ticks": ""
             }
            },
            "type": "scattermapbox"
           }
          ],
          "scatterpolar": [
           {
            "marker": {
             "colorbar": {
              "outlinewidth": 0,
              "ticks": ""
             }
            },
            "type": "scatterpolar"
           }
          ],
          "scatterpolargl": [
           {
            "marker": {
             "colorbar": {
              "outlinewidth": 0,
              "ticks": ""
             }
            },
            "type": "scatterpolargl"
           }
          ],
          "scatterternary": [
           {
            "marker": {
             "colorbar": {
              "outlinewidth": 0,
              "ticks": ""
             }
            },
            "type": "scatterternary"
           }
          ],
          "surface": [
           {
            "colorbar": {
             "outlinewidth": 0,
             "ticks": ""
            },
            "colorscale": [
             [
              0,
              "#0d0887"
             ],
             [
              0.1111111111111111,
              "#46039f"
             ],
             [
              0.2222222222222222,
              "#7201a8"
             ],
             [
              0.3333333333333333,
              "#9c179e"
             ],
             [
              0.4444444444444444,
              "#bd3786"
             ],
             [
              0.5555555555555556,
              "#d8576b"
             ],
             [
              0.6666666666666666,
              "#ed7953"
             ],
             [
              0.7777777777777778,
              "#fb9f3a"
             ],
             [
              0.8888888888888888,
              "#fdca26"
             ],
             [
              1,
              "#f0f921"
             ]
            ],
            "type": "surface"
           }
          ],
          "table": [
           {
            "cells": {
             "fill": {
              "color": "#EBF0F8"
             },
             "line": {
              "color": "white"
             }
            },
            "header": {
             "fill": {
              "color": "#C8D4E3"
             },
             "line": {
              "color": "white"
             }
            },
            "type": "table"
           }
          ]
         },
         "layout": {
          "annotationdefaults": {
           "arrowcolor": "#2a3f5f",
           "arrowhead": 0,
           "arrowwidth": 1
          },
          "autotypenumbers": "strict",
          "coloraxis": {
           "colorbar": {
            "outlinewidth": 0,
            "ticks": ""
           }
          },
          "colorscale": {
           "diverging": [
            [
             0,
             "#8e0152"
            ],
            [
             0.1,
             "#c51b7d"
            ],
            [
             0.2,
             "#de77ae"
            ],
            [
             0.3,
             "#f1b6da"
            ],
            [
             0.4,
             "#fde0ef"
            ],
            [
             0.5,
             "#f7f7f7"
            ],
            [
             0.6,
             "#e6f5d0"
            ],
            [
             0.7,
             "#b8e186"
            ],
            [
             0.8,
             "#7fbc41"
            ],
            [
             0.9,
             "#4d9221"
            ],
            [
             1,
             "#276419"
            ]
           ],
           "sequential": [
            [
             0,
             "#0d0887"
            ],
            [
             0.1111111111111111,
             "#46039f"
            ],
            [
             0.2222222222222222,
             "#7201a8"
            ],
            [
             0.3333333333333333,
             "#9c179e"
            ],
            [
             0.4444444444444444,
             "#bd3786"
            ],
            [
             0.5555555555555556,
             "#d8576b"
            ],
            [
             0.6666666666666666,
             "#ed7953"
            ],
            [
             0.7777777777777778,
             "#fb9f3a"
            ],
            [
             0.8888888888888888,
             "#fdca26"
            ],
            [
             1,
             "#f0f921"
            ]
           ],
           "sequentialminus": [
            [
             0,
             "#0d0887"
            ],
            [
             0.1111111111111111,
             "#46039f"
            ],
            [
             0.2222222222222222,
             "#7201a8"
            ],
            [
             0.3333333333333333,
             "#9c179e"
            ],
            [
             0.4444444444444444,
             "#bd3786"
            ],
            [
             0.5555555555555556,
             "#d8576b"
            ],
            [
             0.6666666666666666,
             "#ed7953"
            ],
            [
             0.7777777777777778,
             "#fb9f3a"
            ],
            [
             0.8888888888888888,
             "#fdca26"
            ],
            [
             1,
             "#f0f921"
            ]
           ]
          },
          "colorway": [
           "#636efa",
           "#EF553B",
           "#00cc96",
           "#ab63fa",
           "#FFA15A",
           "#19d3f3",
           "#FF6692",
           "#B6E880",
           "#FF97FF",
           "#FECB52"
          ],
          "font": {
           "color": "#2a3f5f"
          },
          "geo": {
           "bgcolor": "white",
           "lakecolor": "white",
           "landcolor": "white",
           "showlakes": true,
           "showland": true,
           "subunitcolor": "#C8D4E3"
          },
          "hoverlabel": {
           "align": "left"
          },
          "hovermode": "closest",
          "mapbox": {
           "style": "light"
          },
          "paper_bgcolor": "white",
          "plot_bgcolor": "white",
          "polar": {
           "angularaxis": {
            "gridcolor": "#EBF0F8",
            "linecolor": "#EBF0F8",
            "ticks": ""
           },
           "bgcolor": "white",
           "radialaxis": {
            "gridcolor": "#EBF0F8",
            "linecolor": "#EBF0F8",
            "ticks": ""
           }
          },
          "scene": {
           "xaxis": {
            "backgroundcolor": "white",
            "gridcolor": "#DFE8F3",
            "gridwidth": 2,
            "linecolor": "#EBF0F8",
            "showbackground": true,
            "ticks": "",
            "zerolinecolor": "#EBF0F8"
           },
           "yaxis": {
            "backgroundcolor": "white",
            "gridcolor": "#DFE8F3",
            "gridwidth": 2,
            "linecolor": "#EBF0F8",
            "showbackground": true,
            "ticks": "",
            "zerolinecolor": "#EBF0F8"
           },
           "zaxis": {
            "backgroundcolor": "white",
            "gridcolor": "#DFE8F3",
            "gridwidth": 2,
            "linecolor": "#EBF0F8",
            "showbackground": true,
            "ticks": "",
            "zerolinecolor": "#EBF0F8"
           }
          },
          "shapedefaults": {
           "line": {
            "color": "#2a3f5f"
           }
          },
          "ternary": {
           "aaxis": {
            "gridcolor": "#DFE8F3",
            "linecolor": "#A2B1C6",
            "ticks": ""
           },
           "baxis": {
            "gridcolor": "#DFE8F3",
            "linecolor": "#A2B1C6",
            "ticks": ""
           },
           "bgcolor": "white",
           "caxis": {
            "gridcolor": "#DFE8F3",
            "linecolor": "#A2B1C6",
            "ticks": ""
           }
          },
          "title": {
           "x": 0.05
          },
          "xaxis": {
           "automargin": true,
           "gridcolor": "#EBF0F8",
           "linecolor": "#EBF0F8",
           "ticks": "",
           "title": {
            "standoff": 15
           },
           "zerolinecolor": "#EBF0F8",
           "zerolinewidth": 2
          },
          "yaxis": {
           "automargin": true,
           "gridcolor": "#EBF0F8",
           "linecolor": "#EBF0F8",
           "ticks": "",
           "title": {
            "standoff": 15
           },
           "zerolinecolor": "#EBF0F8",
           "zerolinewidth": 2
          }
         }
        },
        "title": {
         "text": "Feature Importances from Random Forest"
        },
        "xaxis": {
         "title": {
          "text": "Feature"
         }
        },
        "yaxis": {
         "title": {
          "text": "Importance"
         }
        }
       }
      }
     },
     "metadata": {},
     "output_type": "display_data"
    }
   ],
   "source": [
    "# Extract feature importances\n",
    "importances = rf_regressor.feature_importances_*100\n",
    "\n",
    "# Create a DataFrame for easy visualization\n",
    "importance_df = pd.DataFrame({\n",
    "    'Feature': X_train.columns,\n",
    "    'Importance': importances\n",
    "}).sort_values(by='Importance', ascending=False)\n",
    "\n",
    "# Plotly bar chart\n",
    "fig = go.Figure(go.Bar(\n",
    "    x=importance_df['Feature'],\n",
    "    y=importance_df['Importance'],\n",
    "    text=importance_df['Importance'].round(3),  # Show importance values on bars\n",
    "    textposition='auto'  # Display text directly on top of bars\n",
    "))\n",
    "\n",
    "# Customize layout\n",
    "fig.update_layout(\n",
    "    title=\"Feature Importances from Random Forest\",\n",
    "    xaxis_title=\"Feature\",\n",
    "    yaxis_title=\"Importance\",\n",
    "    template=\"plotly_white\",\n",
    ")\n",
    "\n",
    "# Show plot\n",
    "fig.show()"
   ]
  },
  {
   "cell_type": "code",
   "execution_count": 49,
   "metadata": {},
   "outputs": [
    {
     "name": "stderr",
     "output_type": "stream",
     "text": [
      "c:\\Users\\clopearg\\OneDrive - NTT DATA EMEAL\\Desktop\\Fer\\Visualización\\PracticaVisualizacion\\.venv\\Lib\\site-packages\\sklearn\\base.py:1473: DataConversionWarning:\n",
      "\n",
      "A column-vector y was passed when a 1d array was expected. Please change the shape of y to (n_samples,), for example using ravel().\n",
      "\n"
     ]
    }
   ],
   "source": [
    "rf_regressor.fit(df_X, df_y)\n",
    "\n",
    "# Predict on the test set\n",
    "y_pred = rf_regressor.predict(df_X)"
   ]
  },
  {
   "cell_type": "code",
   "execution_count": 51,
   "metadata": {},
   "outputs": [],
   "source": [
    "df_pred_test = pd.DataFrame(y_pred)\n",
    "df_pred_test.columns = [\"revenue\"]\n",
    "df_pred_test['date'] = pd.to_datetime(df[['year', 'month', 'day']]).reset_index(drop=True)"
   ]
  },
  {
   "cell_type": "code",
   "execution_count": 52,
   "metadata": {},
   "outputs": [
    {
     "name": "stderr",
     "output_type": "stream",
     "text": [
      "C:\\Users\\clopearg\\AppData\\Local\\Temp\\ipykernel_61528\\3548366166.py:1: SettingWithCopyWarning:\n",
      "\n",
      "\n",
      "A value is trying to be set on a copy of a slice from a DataFrame.\n",
      "Try using .loc[row_indexer,col_indexer] = value instead\n",
      "\n",
      "See the caveats in the documentation: https://pandas.pydata.org/pandas-docs/stable/user_guide/indexing.html#returning-a-view-versus-a-copy\n",
      "\n"
     ]
    }
   ],
   "source": [
    "df_y['date'] = pd.to_datetime(df[['year', 'month', 'day']]).reset_index(drop=True)"
   ]
  },
  {
   "cell_type": "code",
   "execution_count": 53,
   "metadata": {},
   "outputs": [
    {
     "data": {
      "application/vnd.plotly.v1+json": {
       "config": {
        "plotlyServerURL": "https://plot.ly"
       },
       "data": [
        {
         "hoverinfo": "x+y",
         "line": {
          "color": "steelblue",
          "width": 0.5
         },
         "mode": "lines",
         "name": "Revenue",
         "type": "scatter",
         "x": [
          1937,
          1939,
          1940,
          1942,
          1962,
          1963,
          1964,
          1965,
          1966,
          1967,
          1969,
          1970,
          1971,
          1972,
          1973,
          1974,
          1975,
          1977,
          1978,
          1979,
          1980,
          1981,
          1982,
          1983,
          1984,
          1985,
          1986,
          1987,
          1988,
          1989,
          1990,
          1991,
          1992,
          1993,
          1994,
          1995,
          1996,
          1997,
          1998,
          1999,
          2000,
          2001,
          2002,
          2003,
          2004,
          2005,
          2006,
          2007,
          2008,
          2009,
          2010,
          2011,
          2012,
          2013,
          2014,
          2015
         ],
         "y": [
          170837250.56,
          96830259.19,
          140769386.81,
          193205979.78,
          68389620.18,
          90063412.59,
          66979920.8,
          120529109.68,
          44416945.49,
          152951390.83,
          95592525.46,
          99980881.86,
          85687724.72,
          244524336.83,
          248916206.705,
          137403309.19,
          213463937.10999998,
          380730648.69500005,
          100280545.99000001,
          192115837.57333335,
          179123213.87666667,
          155744398.484,
          241062310.41,
          252383917.5275,
          194525545.725,
          201650787.1933333,
          107903688.33,
          150965806.18,
          41552971.61333334,
          244281487.53,
          239052266.85999998,
          32263935.12,
          215441754.57666668,
          348142129.23333335,
          204509633.57,
          154069650.222,
          166529627.68363637,
          314707433.92777777,
          146118592.6909091,
          210070223.57045457,
          151208564.35625,
          235232424.84,
          225015724.43,
          193413789.37423074,
          177736127.34230772,
          147185137.05630437,
          148481061.24788734,
          171349306.88618422,
          145648551.8346988,
          179184811.11194173,
          147136994.56198347,
          149223495.80492538,
          220500370.6781928,
          254731048.57540983,
          280620383.6639344,
          255371506.9187838
         ]
        },
        {
         "hoverinfo": "x+y",
         "line": {
          "color": "firebrick",
          "width": 0.5
         },
         "mode": "lines",
         "name": "Revenue real",
         "type": "scatter",
         "x": [
          1937,
          1939,
          1940,
          1942,
          1962,
          1963,
          1964,
          1965,
          1966,
          1967,
          1969,
          1970,
          1971,
          1972,
          1973,
          1974,
          1975,
          1977,
          1978,
          1979,
          1980,
          1981,
          1982,
          1983,
          1984,
          1985,
          1986,
          1987,
          1988,
          1989,
          1990,
          1991,
          1992,
          1993,
          1994,
          1995,
          1996,
          1997,
          1998,
          1999,
          2000,
          2001,
          2002,
          2003,
          2004,
          2005,
          2006,
          2007,
          2008,
          2009,
          2010,
          2011,
          2012,
          2013,
          2014,
          2015
         ],
         "y": [
          184925486,
          33754967,
          83320000,
          267447150,
          59600000,
          78898765,
          68590365,
          141195658,
          6000000,
          111584787,
          81974493,
          40000000,
          65609773.5,
          245066411,
          301541990.5,
          97572000,
          237841474,
          480418340,
          105500000,
          134900093.66666666,
          188214453.66666666,
          144496694.6,
          281893310.6666667,
          249941916.75,
          205685600,
          181558507.66666666,
          11000000,
          114652690,
          6948316.666666667,
          250705965,
          220802942.8,
          7434726,
          193652399.66666666,
          422993784.3333333,
          262285718.25,
          156172675.8,
          146918620.45454547,
          358063913.5555556,
          123903630.36363636,
          204831825.45454547,
          135656376.5625,
          244116027.52631578,
          237239313.2142857,
          200900740.5,
          184297390.66666666,
          137836984.91304347,
          143201600.15492958,
          170948609.2368421,
          142304536.75903615,
          174038177.34951457,
          143298693.38016528,
          141242674.73880598,
          222332547.8433735,
          250880832.63934427,
          279173547.0327869,
          256393572.52702704
         ]
        }
       ],
       "layout": {
        "font": {
         "size": 8
        },
        "legend": {
         "bgcolor": "white",
         "x": 0.01,
         "xanchor": "left",
         "y": 0.99,
         "yanchor": "top"
        },
        "template": {
         "data": {
          "bar": [
           {
            "error_x": {
             "color": "#2a3f5f"
            },
            "error_y": {
             "color": "#2a3f5f"
            },
            "marker": {
             "line": {
              "color": "#E5ECF6",
              "width": 0.5
             },
             "pattern": {
              "fillmode": "overlay",
              "size": 10,
              "solidity": 0.2
             }
            },
            "type": "bar"
           }
          ],
          "barpolar": [
           {
            "marker": {
             "line": {
              "color": "#E5ECF6",
              "width": 0.5
             },
             "pattern": {
              "fillmode": "overlay",
              "size": 10,
              "solidity": 0.2
             }
            },
            "type": "barpolar"
           }
          ],
          "carpet": [
           {
            "aaxis": {
             "endlinecolor": "#2a3f5f",
             "gridcolor": "white",
             "linecolor": "white",
             "minorgridcolor": "white",
             "startlinecolor": "#2a3f5f"
            },
            "baxis": {
             "endlinecolor": "#2a3f5f",
             "gridcolor": "white",
             "linecolor": "white",
             "minorgridcolor": "white",
             "startlinecolor": "#2a3f5f"
            },
            "type": "carpet"
           }
          ],
          "choropleth": [
           {
            "colorbar": {
             "outlinewidth": 0,
             "ticks": ""
            },
            "type": "choropleth"
           }
          ],
          "contour": [
           {
            "colorbar": {
             "outlinewidth": 0,
             "ticks": ""
            },
            "colorscale": [
             [
              0,
              "#0d0887"
             ],
             [
              0.1111111111111111,
              "#46039f"
             ],
             [
              0.2222222222222222,
              "#7201a8"
             ],
             [
              0.3333333333333333,
              "#9c179e"
             ],
             [
              0.4444444444444444,
              "#bd3786"
             ],
             [
              0.5555555555555556,
              "#d8576b"
             ],
             [
              0.6666666666666666,
              "#ed7953"
             ],
             [
              0.7777777777777778,
              "#fb9f3a"
             ],
             [
              0.8888888888888888,
              "#fdca26"
             ],
             [
              1,
              "#f0f921"
             ]
            ],
            "type": "contour"
           }
          ],
          "contourcarpet": [
           {
            "colorbar": {
             "outlinewidth": 0,
             "ticks": ""
            },
            "type": "contourcarpet"
           }
          ],
          "heatmap": [
           {
            "colorbar": {
             "outlinewidth": 0,
             "ticks": ""
            },
            "colorscale": [
             [
              0,
              "#0d0887"
             ],
             [
              0.1111111111111111,
              "#46039f"
             ],
             [
              0.2222222222222222,
              "#7201a8"
             ],
             [
              0.3333333333333333,
              "#9c179e"
             ],
             [
              0.4444444444444444,
              "#bd3786"
             ],
             [
              0.5555555555555556,
              "#d8576b"
             ],
             [
              0.6666666666666666,
              "#ed7953"
             ],
             [
              0.7777777777777778,
              "#fb9f3a"
             ],
             [
              0.8888888888888888,
              "#fdca26"
             ],
             [
              1,
              "#f0f921"
             ]
            ],
            "type": "heatmap"
           }
          ],
          "heatmapgl": [
           {
            "colorbar": {
             "outlinewidth": 0,
             "ticks": ""
            },
            "colorscale": [
             [
              0,
              "#0d0887"
             ],
             [
              0.1111111111111111,
              "#46039f"
             ],
             [
              0.2222222222222222,
              "#7201a8"
             ],
             [
              0.3333333333333333,
              "#9c179e"
             ],
             [
              0.4444444444444444,
              "#bd3786"
             ],
             [
              0.5555555555555556,
              "#d8576b"
             ],
             [
              0.6666666666666666,
              "#ed7953"
             ],
             [
              0.7777777777777778,
              "#fb9f3a"
             ],
             [
              0.8888888888888888,
              "#fdca26"
             ],
             [
              1,
              "#f0f921"
             ]
            ],
            "type": "heatmapgl"
           }
          ],
          "histogram": [
           {
            "marker": {
             "pattern": {
              "fillmode": "overlay",
              "size": 10,
              "solidity": 0.2
             }
            },
            "type": "histogram"
           }
          ],
          "histogram2d": [
           {
            "colorbar": {
             "outlinewidth": 0,
             "ticks": ""
            },
            "colorscale": [
             [
              0,
              "#0d0887"
             ],
             [
              0.1111111111111111,
              "#46039f"
             ],
             [
              0.2222222222222222,
              "#7201a8"
             ],
             [
              0.3333333333333333,
              "#9c179e"
             ],
             [
              0.4444444444444444,
              "#bd3786"
             ],
             [
              0.5555555555555556,
              "#d8576b"
             ],
             [
              0.6666666666666666,
              "#ed7953"
             ],
             [
              0.7777777777777778,
              "#fb9f3a"
             ],
             [
              0.8888888888888888,
              "#fdca26"
             ],
             [
              1,
              "#f0f921"
             ]
            ],
            "type": "histogram2d"
           }
          ],
          "histogram2dcontour": [
           {
            "colorbar": {
             "outlinewidth": 0,
             "ticks": ""
            },
            "colorscale": [
             [
              0,
              "#0d0887"
             ],
             [
              0.1111111111111111,
              "#46039f"
             ],
             [
              0.2222222222222222,
              "#7201a8"
             ],
             [
              0.3333333333333333,
              "#9c179e"
             ],
             [
              0.4444444444444444,
              "#bd3786"
             ],
             [
              0.5555555555555556,
              "#d8576b"
             ],
             [
              0.6666666666666666,
              "#ed7953"
             ],
             [
              0.7777777777777778,
              "#fb9f3a"
             ],
             [
              0.8888888888888888,
              "#fdca26"
             ],
             [
              1,
              "#f0f921"
             ]
            ],
            "type": "histogram2dcontour"
           }
          ],
          "mesh3d": [
           {
            "colorbar": {
             "outlinewidth": 0,
             "ticks": ""
            },
            "type": "mesh3d"
           }
          ],
          "parcoords": [
           {
            "line": {
             "colorbar": {
              "outlinewidth": 0,
              "ticks": ""
             }
            },
            "type": "parcoords"
           }
          ],
          "pie": [
           {
            "automargin": true,
            "type": "pie"
           }
          ],
          "scatter": [
           {
            "fillpattern": {
             "fillmode": "overlay",
             "size": 10,
             "solidity": 0.2
            },
            "type": "scatter"
           }
          ],
          "scatter3d": [
           {
            "line": {
             "colorbar": {
              "outlinewidth": 0,
              "ticks": ""
             }
            },
            "marker": {
             "colorbar": {
              "outlinewidth": 0,
              "ticks": ""
             }
            },
            "type": "scatter3d"
           }
          ],
          "scattercarpet": [
           {
            "marker": {
             "colorbar": {
              "outlinewidth": 0,
              "ticks": ""
             }
            },
            "type": "scattercarpet"
           }
          ],
          "scattergeo": [
           {
            "marker": {
             "colorbar": {
              "outlinewidth": 0,
              "ticks": ""
             }
            },
            "type": "scattergeo"
           }
          ],
          "scattergl": [
           {
            "marker": {
             "colorbar": {
              "outlinewidth": 0,
              "ticks": ""
             }
            },
            "type": "scattergl"
           }
          ],
          "scattermapbox": [
           {
            "marker": {
             "colorbar": {
              "outlinewidth": 0,
              "ticks": ""
             }
            },
            "type": "scattermapbox"
           }
          ],
          "scatterpolar": [
           {
            "marker": {
             "colorbar": {
              "outlinewidth": 0,
              "ticks": ""
             }
            },
            "type": "scatterpolar"
           }
          ],
          "scatterpolargl": [
           {
            "marker": {
             "colorbar": {
              "outlinewidth": 0,
              "ticks": ""
             }
            },
            "type": "scatterpolargl"
           }
          ],
          "scatterternary": [
           {
            "marker": {
             "colorbar": {
              "outlinewidth": 0,
              "ticks": ""
             }
            },
            "type": "scatterternary"
           }
          ],
          "surface": [
           {
            "colorbar": {
             "outlinewidth": 0,
             "ticks": ""
            },
            "colorscale": [
             [
              0,
              "#0d0887"
             ],
             [
              0.1111111111111111,
              "#46039f"
             ],
             [
              0.2222222222222222,
              "#7201a8"
             ],
             [
              0.3333333333333333,
              "#9c179e"
             ],
             [
              0.4444444444444444,
              "#bd3786"
             ],
             [
              0.5555555555555556,
              "#d8576b"
             ],
             [
              0.6666666666666666,
              "#ed7953"
             ],
             [
              0.7777777777777778,
              "#fb9f3a"
             ],
             [
              0.8888888888888888,
              "#fdca26"
             ],
             [
              1,
              "#f0f921"
             ]
            ],
            "type": "surface"
           }
          ],
          "table": [
           {
            "cells": {
             "fill": {
              "color": "#EBF0F8"
             },
             "line": {
              "color": "white"
             }
            },
            "header": {
             "fill": {
              "color": "#C8D4E3"
             },
             "line": {
              "color": "white"
             }
            },
            "type": "table"
           }
          ]
         },
         "layout": {
          "annotationdefaults": {
           "arrowcolor": "#2a3f5f",
           "arrowhead": 0,
           "arrowwidth": 1
          },
          "autotypenumbers": "strict",
          "coloraxis": {
           "colorbar": {
            "outlinewidth": 0,
            "ticks": ""
           }
          },
          "colorscale": {
           "diverging": [
            [
             0,
             "#8e0152"
            ],
            [
             0.1,
             "#c51b7d"
            ],
            [
             0.2,
             "#de77ae"
            ],
            [
             0.3,
             "#f1b6da"
            ],
            [
             0.4,
             "#fde0ef"
            ],
            [
             0.5,
             "#f7f7f7"
            ],
            [
             0.6,
             "#e6f5d0"
            ],
            [
             0.7,
             "#b8e186"
            ],
            [
             0.8,
             "#7fbc41"
            ],
            [
             0.9,
             "#4d9221"
            ],
            [
             1,
             "#276419"
            ]
           ],
           "sequential": [
            [
             0,
             "#0d0887"
            ],
            [
             0.1111111111111111,
             "#46039f"
            ],
            [
             0.2222222222222222,
             "#7201a8"
            ],
            [
             0.3333333333333333,
             "#9c179e"
            ],
            [
             0.4444444444444444,
             "#bd3786"
            ],
            [
             0.5555555555555556,
             "#d8576b"
            ],
            [
             0.6666666666666666,
             "#ed7953"
            ],
            [
             0.7777777777777778,
             "#fb9f3a"
            ],
            [
             0.8888888888888888,
             "#fdca26"
            ],
            [
             1,
             "#f0f921"
            ]
           ],
           "sequentialminus": [
            [
             0,
             "#0d0887"
            ],
            [
             0.1111111111111111,
             "#46039f"
            ],
            [
             0.2222222222222222,
             "#7201a8"
            ],
            [
             0.3333333333333333,
             "#9c179e"
            ],
            [
             0.4444444444444444,
             "#bd3786"
            ],
            [
             0.5555555555555556,
             "#d8576b"
            ],
            [
             0.6666666666666666,
             "#ed7953"
            ],
            [
             0.7777777777777778,
             "#fb9f3a"
            ],
            [
             0.8888888888888888,
             "#fdca26"
            ],
            [
             1,
             "#f0f921"
            ]
           ]
          },
          "colorway": [
           "#636efa",
           "#EF553B",
           "#00cc96",
           "#ab63fa",
           "#FFA15A",
           "#19d3f3",
           "#FF6692",
           "#B6E880",
           "#FF97FF",
           "#FECB52"
          ],
          "font": {
           "color": "#2a3f5f"
          },
          "geo": {
           "bgcolor": "white",
           "lakecolor": "white",
           "landcolor": "#E5ECF6",
           "showlakes": true,
           "showland": true,
           "subunitcolor": "white"
          },
          "hoverlabel": {
           "align": "left"
          },
          "hovermode": "closest",
          "mapbox": {
           "style": "light"
          },
          "paper_bgcolor": "white",
          "plot_bgcolor": "#E5ECF6",
          "polar": {
           "angularaxis": {
            "gridcolor": "white",
            "linecolor": "white",
            "ticks": ""
           },
           "bgcolor": "#E5ECF6",
           "radialaxis": {
            "gridcolor": "white",
            "linecolor": "white",
            "ticks": ""
           }
          },
          "scene": {
           "xaxis": {
            "backgroundcolor": "#E5ECF6",
            "gridcolor": "white",
            "gridwidth": 2,
            "linecolor": "white",
            "showbackground": true,
            "ticks": "",
            "zerolinecolor": "white"
           },
           "yaxis": {
            "backgroundcolor": "#E5ECF6",
            "gridcolor": "white",
            "gridwidth": 2,
            "linecolor": "white",
            "showbackground": true,
            "ticks": "",
            "zerolinecolor": "white"
           },
           "zaxis": {
            "backgroundcolor": "#E5ECF6",
            "gridcolor": "white",
            "gridwidth": 2,
            "linecolor": "white",
            "showbackground": true,
            "ticks": "",
            "zerolinecolor": "white"
           }
          },
          "shapedefaults": {
           "line": {
            "color": "#2a3f5f"
           }
          },
          "ternary": {
           "aaxis": {
            "gridcolor": "white",
            "linecolor": "white",
            "ticks": ""
           },
           "baxis": {
            "gridcolor": "white",
            "linecolor": "white",
            "ticks": ""
           },
           "bgcolor": "#E5ECF6",
           "caxis": {
            "gridcolor": "white",
            "linecolor": "white",
            "ticks": ""
           }
          },
          "title": {
           "x": 0.05
          },
          "xaxis": {
           "automargin": true,
           "gridcolor": "white",
           "linecolor": "white",
           "ticks": "",
           "title": {
            "standoff": 15
           },
           "zerolinecolor": "white",
           "zerolinewidth": 2
          },
          "yaxis": {
           "automargin": true,
           "gridcolor": "white",
           "linecolor": "white",
           "ticks": "",
           "title": {
            "standoff": 15
           },
           "zerolinecolor": "white",
           "zerolinewidth": 2
          }
         }
        },
        "title": {
         "text": "Evolución Temporal"
        },
        "xaxis": {
         "title": {
          "text": "Año"
         }
        },
        "yaxis": {
         "title": {
          "text": "Ventas (Millones)"
         }
        }
       }
      }
     },
     "metadata": {},
     "output_type": "display_data"
    }
   ],
   "source": [
    "df_aux = df_pred_test.groupby(df_pred_test[\"date\"].dt.year)['revenue'].mean().reset_index()[:-1]\n",
    "df_aux2 = df_y.groupby(df_y[\"date\"].dt.year)['revenue'].mean().reset_index()[:-1]\n",
    "\n",
    "\n",
    "fig = go.Figure()\n",
    "fig.add_trace(go.Scatter(\n",
    "    x=df_aux['date'], y=df_aux['revenue'],\n",
    "    hoverinfo='x+y',\n",
    "    mode='lines',\n",
    "    line=dict(width=0.5, color='steelblue'),\n",
    "    name = 'Revenue'\n",
    "))\n",
    "fig.add_trace(go.Scatter(\n",
    "    x=df_aux2['date'], y=df_aux2['revenue'],\n",
    "    hoverinfo='x+y',\n",
    "    mode='lines',\n",
    "    line=dict(width=0.5, color='firebrick'),\n",
    "    name = 'Revenue real'\n",
    "))\n",
    "\n",
    "fig.update_layout(\n",
    "    title = 'Evolución Temporal',\n",
    "    xaxis_title = 'Año',\n",
    "    yaxis_title = 'Ventas (Millones)',\n",
    "    legend=dict(\n",
    "        bgcolor = 'white',\n",
    "        yanchor=\"top\",\n",
    "        y=0.99,\n",
    "        xanchor=\"left\",\n",
    "        x=0.01),\n",
    "    font=dict(size=8),\n",
    "    # margin=dict(\n",
    "    #     l=0,\n",
    "    #     r=0,\n",
    "    #     b=0,\n",
    "    #     t=25,\n",
    "    #     pad=4\n",
    "    # )\n",
    ")"
   ]
  },
  {
   "cell_type": "markdown",
   "metadata": {},
   "source": [
    "#### xgboost tuning"
   ]
  },
  {
   "cell_type": "code",
   "execution_count": null,
   "metadata": {},
   "outputs": [],
   "source": [
    "target = \"revenue\"\n",
    "df_X = df.drop(columns=[target, \"vote_average\",'vote_count', \"day\"])\n",
    "df_y = df[[target]]"
   ]
  },
  {
   "cell_type": "code",
   "execution_count": 108,
   "metadata": {},
   "outputs": [
    {
     "name": "stdout",
     "output_type": "stream",
     "text": [
      "X_train:  (861, 50) , y_train:  (861, 1)\n",
      "X_test:  (184, 50) , y_test:  (184, 1)\n",
      "X_val:  (185, 50) , y_val:  (185, 1)\n"
     ]
    }
   ],
   "source": [
    "X_train, X_test_val, y_train, y_test_val = train_test_split(df_X, df_y, test_size=0.3, random_state=42)\n",
    "X_test, X_val, y_test, y_val = train_test_split(X_test_val, y_test_val, test_size=0.5, random_state=42)\n",
    "print(\"X_train: \",X_train.shape, \", y_train: \",y_train.shape)\n",
    "print(\"X_test: \",X_test.shape, \", y_test: \",y_test.shape)\n",
    "print(\"X_val: \",X_val.shape, \", y_val: \",y_val.shape)"
   ]
  },
  {
   "cell_type": "markdown",
   "metadata": {},
   "source": [
    "XGBoost model with parameter tuning:"
   ]
  },
  {
   "cell_type": "code",
   "execution_count": 114,
   "metadata": {},
   "outputs": [],
   "source": [
    "# XGBoost\n",
    "def objective(trial,data,target,data_val,target_val):\n",
    "    \n",
    "    param = {\n",
    "        # #'tree_method':'gpu_hist',  # this parameter means using the GPU when training our model to speedup the training process\n",
    "        # 'lambda': trial.suggest_loguniform('lambda', 1e-3, 10.0),\n",
    "        # 'alpha': trial.suggest_loguniform('alpha', 1e-3, 10.0),\n",
    "        # 'colsample_bytree': trial.suggest_categorical('colsample_bytree', [0.3,0.4,0.5,0.6,0.7,0.8,0.9, 1.0]),\n",
    "        # 'subsample': trial.suggest_categorical('subsample', [0.4,0.5,0.6,0.7,0.8,1.0]),\n",
    "        # 'learning_rate': trial.suggest_categorical('learning_rate', [0.008,0.01,0.012,0.014,0.016,0.018, 0.02]),\n",
    "        # 'n_estimators': 10000,\n",
    "        # 'max_depth': trial.suggest_categorical('max_depth', [5,7,9,11,13,15,17]),\n",
    "        # 'random_state': trial.suggest_categorical('random_state', [2020]),\n",
    "        # 'min_child_weight': trial.suggest_int('min_child_weight', 1, 300),\n",
    "\n",
    "        \"verbosity\": 0,  # 0 (silent) - 3 (debug)\n",
    "        \"objective\": \"reg:squarederror\",\n",
    "        \"n_estimators\": 10000,\n",
    "        \"max_depth\": trial.suggest_int(\"max_depth\", 4, 12),\n",
    "        \"learning_rate\": trial.suggest_loguniform(\"learning_rate\", 0.005, 0.05),\n",
    "        \"colsample_bytree\": trial.suggest_loguniform(\"colsample_bytree\", 0.2, 0.6),\n",
    "        \"subsample\": trial.suggest_loguniform(\"subsample\", 0.4, 0.8),\n",
    "        \"alpha\": trial.suggest_loguniform(\"alpha\", 0.01, 10.0),\n",
    "        \"lambda\": trial.suggest_loguniform(\"lambda\", 1e-8, 10.0),\n",
    "        \"gamma\": trial.suggest_loguniform(\"lambda\", 1e-8, 10.0),\n",
    "        \"min_child_weight\": trial.suggest_loguniform(\"min_child_weight\", 10, 1000),\n",
    "        \"seed\": 124,\n",
    "        \"n_jobs\": 8,\n",
    "    }\n",
    "    model = xgb.XGBRegressor(**param)\n",
    "    \n",
    "    model.fit(data,target,eval_set=[(data_val,target_val)],verbose=False)\n",
    "    \n",
    "    preds = model.predict(data_val)\n",
    "    \n",
    "    rmse = root_mean_squared_error(target_val, preds)\n",
    "    \n",
    "    return rmse"
   ]
  },
  {
   "cell_type": "code",
   "execution_count": 115,
   "metadata": {},
   "outputs": [
    {
     "name": "stderr",
     "output_type": "stream",
     "text": [
      "[I 2024-11-16 17:06:47,116] A new study created in memory with name: no-name-00ed4dde-7e8c-4d6c-83a4-a4de8ff49225\n",
      "C:\\Users\\clopearg\\AppData\\Local\\Temp\\ipykernel_61528\\3309686106.py:20: FutureWarning:\n",
      "\n",
      "suggest_loguniform has been deprecated in v3.0.0. This feature will be removed in v6.0.0. See https://github.com/optuna/optuna/releases/tag/v3.0.0. Use suggest_float(..., log=True) instead.\n",
      "\n",
      "C:\\Users\\clopearg\\AppData\\Local\\Temp\\ipykernel_61528\\3309686106.py:21: FutureWarning:\n",
      "\n",
      "suggest_loguniform has been deprecated in v3.0.0. This feature will be removed in v6.0.0. See https://github.com/optuna/optuna/releases/tag/v3.0.0. Use suggest_float(..., log=True) instead.\n",
      "\n",
      "C:\\Users\\clopearg\\AppData\\Local\\Temp\\ipykernel_61528\\3309686106.py:22: FutureWarning:\n",
      "\n",
      "suggest_loguniform has been deprecated in v3.0.0. This feature will be removed in v6.0.0. See https://github.com/optuna/optuna/releases/tag/v3.0.0. Use suggest_float(..., log=True) instead.\n",
      "\n",
      "C:\\Users\\clopearg\\AppData\\Local\\Temp\\ipykernel_61528\\3309686106.py:23: FutureWarning:\n",
      "\n",
      "suggest_loguniform has been deprecated in v3.0.0. This feature will be removed in v6.0.0. See https://github.com/optuna/optuna/releases/tag/v3.0.0. Use suggest_float(..., log=True) instead.\n",
      "\n",
      "C:\\Users\\clopearg\\AppData\\Local\\Temp\\ipykernel_61528\\3309686106.py:24: FutureWarning:\n",
      "\n",
      "suggest_loguniform has been deprecated in v3.0.0. This feature will be removed in v6.0.0. See https://github.com/optuna/optuna/releases/tag/v3.0.0. Use suggest_float(..., log=True) instead.\n",
      "\n",
      "C:\\Users\\clopearg\\AppData\\Local\\Temp\\ipykernel_61528\\3309686106.py:25: FutureWarning:\n",
      "\n",
      "suggest_loguniform has been deprecated in v3.0.0. This feature will be removed in v6.0.0. See https://github.com/optuna/optuna/releases/tag/v3.0.0. Use suggest_float(..., log=True) instead.\n",
      "\n",
      "C:\\Users\\clopearg\\AppData\\Local\\Temp\\ipykernel_61528\\3309686106.py:26: FutureWarning:\n",
      "\n",
      "suggest_loguniform has been deprecated in v3.0.0. This feature will be removed in v6.0.0. See https://github.com/optuna/optuna/releases/tag/v3.0.0. Use suggest_float(..., log=True) instead.\n",
      "\n",
      "[I 2024-11-16 17:06:53,176] Trial 0 finished with value: 150019912.0442355 and parameters: {'max_depth': 7, 'learning_rate': 0.019022738734572803, 'colsample_bytree': 0.5126767818311536, 'subsample': 0.4474881590233319, 'alpha': 0.8150959981548077, 'lambda': 2.9108961550896878e-05, 'min_child_weight': 45.34320691140757}. Best is trial 0 with value: 150019912.0442355.\n",
      "C:\\Users\\clopearg\\AppData\\Local\\Temp\\ipykernel_61528\\3309686106.py:20: FutureWarning:\n",
      "\n",
      "suggest_loguniform has been deprecated in v3.0.0. This feature will be removed in v6.0.0. See https://github.com/optuna/optuna/releases/tag/v3.0.0. Use suggest_float(..., log=True) instead.\n",
      "\n",
      "C:\\Users\\clopearg\\AppData\\Local\\Temp\\ipykernel_61528\\3309686106.py:21: FutureWarning:\n",
      "\n",
      "suggest_loguniform has been deprecated in v3.0.0. This feature will be removed in v6.0.0. See https://github.com/optuna/optuna/releases/tag/v3.0.0. Use suggest_float(..., log=True) instead.\n",
      "\n",
      "C:\\Users\\clopearg\\AppData\\Local\\Temp\\ipykernel_61528\\3309686106.py:22: FutureWarning:\n",
      "\n",
      "suggest_loguniform has been deprecated in v3.0.0. This feature will be removed in v6.0.0. See https://github.com/optuna/optuna/releases/tag/v3.0.0. Use suggest_float(..., log=True) instead.\n",
      "\n",
      "C:\\Users\\clopearg\\AppData\\Local\\Temp\\ipykernel_61528\\3309686106.py:23: FutureWarning:\n",
      "\n",
      "suggest_loguniform has been deprecated in v3.0.0. This feature will be removed in v6.0.0. See https://github.com/optuna/optuna/releases/tag/v3.0.0. Use suggest_float(..., log=True) instead.\n",
      "\n",
      "C:\\Users\\clopearg\\AppData\\Local\\Temp\\ipykernel_61528\\3309686106.py:24: FutureWarning:\n",
      "\n",
      "suggest_loguniform has been deprecated in v3.0.0. This feature will be removed in v6.0.0. See https://github.com/optuna/optuna/releases/tag/v3.0.0. Use suggest_float(..., log=True) instead.\n",
      "\n",
      "C:\\Users\\clopearg\\AppData\\Local\\Temp\\ipykernel_61528\\3309686106.py:25: FutureWarning:\n",
      "\n",
      "suggest_loguniform has been deprecated in v3.0.0. This feature will be removed in v6.0.0. See https://github.com/optuna/optuna/releases/tag/v3.0.0. Use suggest_float(..., log=True) instead.\n",
      "\n",
      "C:\\Users\\clopearg\\AppData\\Local\\Temp\\ipykernel_61528\\3309686106.py:26: FutureWarning:\n",
      "\n",
      "suggest_loguniform has been deprecated in v3.0.0. This feature will be removed in v6.0.0. See https://github.com/optuna/optuna/releases/tag/v3.0.0. Use suggest_float(..., log=True) instead.\n",
      "\n",
      "[I 2024-11-16 17:07:04,637] Trial 1 finished with value: 142908682.60342684 and parameters: {'max_depth': 11, 'learning_rate': 0.014687563011635978, 'colsample_bytree': 0.2825669086548077, 'subsample': 0.49889346256608863, 'alpha': 0.09625673407477957, 'lambda': 2.0279149984328614e-08, 'min_child_weight': 21.885608400798343}. Best is trial 1 with value: 142908682.60342684.\n",
      "C:\\Users\\clopearg\\AppData\\Local\\Temp\\ipykernel_61528\\3309686106.py:20: FutureWarning:\n",
      "\n",
      "suggest_loguniform has been deprecated in v3.0.0. This feature will be removed in v6.0.0. See https://github.com/optuna/optuna/releases/tag/v3.0.0. Use suggest_float(..., log=True) instead.\n",
      "\n",
      "C:\\Users\\clopearg\\AppData\\Local\\Temp\\ipykernel_61528\\3309686106.py:21: FutureWarning:\n",
      "\n",
      "suggest_loguniform has been deprecated in v3.0.0. This feature will be removed in v6.0.0. See https://github.com/optuna/optuna/releases/tag/v3.0.0. Use suggest_float(..., log=True) instead.\n",
      "\n",
      "C:\\Users\\clopearg\\AppData\\Local\\Temp\\ipykernel_61528\\3309686106.py:22: FutureWarning:\n",
      "\n",
      "suggest_loguniform has been deprecated in v3.0.0. This feature will be removed in v6.0.0. See https://github.com/optuna/optuna/releases/tag/v3.0.0. Use suggest_float(..., log=True) instead.\n",
      "\n",
      "C:\\Users\\clopearg\\AppData\\Local\\Temp\\ipykernel_61528\\3309686106.py:23: FutureWarning:\n",
      "\n",
      "suggest_loguniform has been deprecated in v3.0.0. This feature will be removed in v6.0.0. See https://github.com/optuna/optuna/releases/tag/v3.0.0. Use suggest_float(..., log=True) instead.\n",
      "\n",
      "C:\\Users\\clopearg\\AppData\\Local\\Temp\\ipykernel_61528\\3309686106.py:24: FutureWarning:\n",
      "\n",
      "suggest_loguniform has been deprecated in v3.0.0. This feature will be removed in v6.0.0. See https://github.com/optuna/optuna/releases/tag/v3.0.0. Use suggest_float(..., log=True) instead.\n",
      "\n",
      "C:\\Users\\clopearg\\AppData\\Local\\Temp\\ipykernel_61528\\3309686106.py:25: FutureWarning:\n",
      "\n",
      "suggest_loguniform has been deprecated in v3.0.0. This feature will be removed in v6.0.0. See https://github.com/optuna/optuna/releases/tag/v3.0.0. Use suggest_float(..., log=True) instead.\n",
      "\n",
      "C:\\Users\\clopearg\\AppData\\Local\\Temp\\ipykernel_61528\\3309686106.py:26: FutureWarning:\n",
      "\n",
      "suggest_loguniform has been deprecated in v3.0.0. This feature will be removed in v6.0.0. See https://github.com/optuna/optuna/releases/tag/v3.0.0. Use suggest_float(..., log=True) instead.\n",
      "\n",
      "[I 2024-11-16 17:07:12,091] Trial 2 finished with value: 166043073.27106467 and parameters: {'max_depth': 10, 'learning_rate': 0.02842080705697151, 'colsample_bytree': 0.20660525792210868, 'subsample': 0.4675333724086317, 'alpha': 0.32385427100889375, 'lambda': 0.0013102483140250915, 'min_child_weight': 184.99088571619137}. Best is trial 1 with value: 142908682.60342684.\n",
      "C:\\Users\\clopearg\\AppData\\Local\\Temp\\ipykernel_61528\\3309686106.py:20: FutureWarning:\n",
      "\n",
      "suggest_loguniform has been deprecated in v3.0.0. This feature will be removed in v6.0.0. See https://github.com/optuna/optuna/releases/tag/v3.0.0. Use suggest_float(..., log=True) instead.\n",
      "\n",
      "C:\\Users\\clopearg\\AppData\\Local\\Temp\\ipykernel_61528\\3309686106.py:21: FutureWarning:\n",
      "\n",
      "suggest_loguniform has been deprecated in v3.0.0. This feature will be removed in v6.0.0. See https://github.com/optuna/optuna/releases/tag/v3.0.0. Use suggest_float(..., log=True) instead.\n",
      "\n",
      "C:\\Users\\clopearg\\AppData\\Local\\Temp\\ipykernel_61528\\3309686106.py:22: FutureWarning:\n",
      "\n",
      "suggest_loguniform has been deprecated in v3.0.0. This feature will be removed in v6.0.0. See https://github.com/optuna/optuna/releases/tag/v3.0.0. Use suggest_float(..., log=True) instead.\n",
      "\n",
      "C:\\Users\\clopearg\\AppData\\Local\\Temp\\ipykernel_61528\\3309686106.py:23: FutureWarning:\n",
      "\n",
      "suggest_loguniform has been deprecated in v3.0.0. This feature will be removed in v6.0.0. See https://github.com/optuna/optuna/releases/tag/v3.0.0. Use suggest_float(..., log=True) instead.\n",
      "\n",
      "C:\\Users\\clopearg\\AppData\\Local\\Temp\\ipykernel_61528\\3309686106.py:24: FutureWarning:\n",
      "\n",
      "suggest_loguniform has been deprecated in v3.0.0. This feature will be removed in v6.0.0. See https://github.com/optuna/optuna/releases/tag/v3.0.0. Use suggest_float(..., log=True) instead.\n",
      "\n",
      "C:\\Users\\clopearg\\AppData\\Local\\Temp\\ipykernel_61528\\3309686106.py:25: FutureWarning:\n",
      "\n",
      "suggest_loguniform has been deprecated in v3.0.0. This feature will be removed in v6.0.0. See https://github.com/optuna/optuna/releases/tag/v3.0.0. Use suggest_float(..., log=True) instead.\n",
      "\n",
      "C:\\Users\\clopearg\\AppData\\Local\\Temp\\ipykernel_61528\\3309686106.py:26: FutureWarning:\n",
      "\n",
      "suggest_loguniform has been deprecated in v3.0.0. This feature will be removed in v6.0.0. See https://github.com/optuna/optuna/releases/tag/v3.0.0. Use suggest_float(..., log=True) instead.\n",
      "\n",
      "[I 2024-11-16 17:07:23,441] Trial 3 finished with value: 142533614.65996462 and parameters: {'max_depth': 10, 'learning_rate': 0.01258265180219656, 'colsample_bytree': 0.5674180334993911, 'subsample': 0.7416480612908863, 'alpha': 2.771746291559053, 'lambda': 0.03965428762398567, 'min_child_weight': 41.39842302292382}. Best is trial 3 with value: 142533614.65996462.\n",
      "C:\\Users\\clopearg\\AppData\\Local\\Temp\\ipykernel_61528\\3309686106.py:20: FutureWarning:\n",
      "\n",
      "suggest_loguniform has been deprecated in v3.0.0. This feature will be removed in v6.0.0. See https://github.com/optuna/optuna/releases/tag/v3.0.0. Use suggest_float(..., log=True) instead.\n",
      "\n",
      "C:\\Users\\clopearg\\AppData\\Local\\Temp\\ipykernel_61528\\3309686106.py:21: FutureWarning:\n",
      "\n",
      "suggest_loguniform has been deprecated in v3.0.0. This feature will be removed in v6.0.0. See https://github.com/optuna/optuna/releases/tag/v3.0.0. Use suggest_float(..., log=True) instead.\n",
      "\n",
      "C:\\Users\\clopearg\\AppData\\Local\\Temp\\ipykernel_61528\\3309686106.py:22: FutureWarning:\n",
      "\n",
      "suggest_loguniform has been deprecated in v3.0.0. This feature will be removed in v6.0.0. See https://github.com/optuna/optuna/releases/tag/v3.0.0. Use suggest_float(..., log=True) instead.\n",
      "\n",
      "C:\\Users\\clopearg\\AppData\\Local\\Temp\\ipykernel_61528\\3309686106.py:23: FutureWarning:\n",
      "\n",
      "suggest_loguniform has been deprecated in v3.0.0. This feature will be removed in v6.0.0. See https://github.com/optuna/optuna/releases/tag/v3.0.0. Use suggest_float(..., log=True) instead.\n",
      "\n",
      "C:\\Users\\clopearg\\AppData\\Local\\Temp\\ipykernel_61528\\3309686106.py:24: FutureWarning:\n",
      "\n",
      "suggest_loguniform has been deprecated in v3.0.0. This feature will be removed in v6.0.0. See https://github.com/optuna/optuna/releases/tag/v3.0.0. Use suggest_float(..., log=True) instead.\n",
      "\n",
      "C:\\Users\\clopearg\\AppData\\Local\\Temp\\ipykernel_61528\\3309686106.py:25: FutureWarning:\n",
      "\n",
      "suggest_loguniform has been deprecated in v3.0.0. This feature will be removed in v6.0.0. See https://github.com/optuna/optuna/releases/tag/v3.0.0. Use suggest_float(..., log=True) instead.\n",
      "\n",
      "C:\\Users\\clopearg\\AppData\\Local\\Temp\\ipykernel_61528\\3309686106.py:26: FutureWarning:\n",
      "\n",
      "suggest_loguniform has been deprecated in v3.0.0. This feature will be removed in v6.0.0. See https://github.com/optuna/optuna/releases/tag/v3.0.0. Use suggest_float(..., log=True) instead.\n",
      "\n",
      "[I 2024-11-16 17:07:28,613] Trial 4 finished with value: 214749144.85862884 and parameters: {'max_depth': 12, 'learning_rate': 0.009257457314435396, 'colsample_bytree': 0.2274350477909225, 'subsample': 0.7049419154138515, 'alpha': 0.15286217412957612, 'lambda': 0.003319713003475478, 'min_child_weight': 914.6171773443932}. Best is trial 3 with value: 142533614.65996462.\n",
      "C:\\Users\\clopearg\\AppData\\Local\\Temp\\ipykernel_61528\\3309686106.py:20: FutureWarning:\n",
      "\n",
      "suggest_loguniform has been deprecated in v3.0.0. This feature will be removed in v6.0.0. See https://github.com/optuna/optuna/releases/tag/v3.0.0. Use suggest_float(..., log=True) instead.\n",
      "\n",
      "C:\\Users\\clopearg\\AppData\\Local\\Temp\\ipykernel_61528\\3309686106.py:21: FutureWarning:\n",
      "\n",
      "suggest_loguniform has been deprecated in v3.0.0. This feature will be removed in v6.0.0. See https://github.com/optuna/optuna/releases/tag/v3.0.0. Use suggest_float(..., log=True) instead.\n",
      "\n",
      "C:\\Users\\clopearg\\AppData\\Local\\Temp\\ipykernel_61528\\3309686106.py:22: FutureWarning:\n",
      "\n",
      "suggest_loguniform has been deprecated in v3.0.0. This feature will be removed in v6.0.0. See https://github.com/optuna/optuna/releases/tag/v3.0.0. Use suggest_float(..., log=True) instead.\n",
      "\n",
      "C:\\Users\\clopearg\\AppData\\Local\\Temp\\ipykernel_61528\\3309686106.py:23: FutureWarning:\n",
      "\n",
      "suggest_loguniform has been deprecated in v3.0.0. This feature will be removed in v6.0.0. See https://github.com/optuna/optuna/releases/tag/v3.0.0. Use suggest_float(..., log=True) instead.\n",
      "\n",
      "C:\\Users\\clopearg\\AppData\\Local\\Temp\\ipykernel_61528\\3309686106.py:24: FutureWarning:\n",
      "\n",
      "suggest_loguniform has been deprecated in v3.0.0. This feature will be removed in v6.0.0. See https://github.com/optuna/optuna/releases/tag/v3.0.0. Use suggest_float(..., log=True) instead.\n",
      "\n",
      "C:\\Users\\clopearg\\AppData\\Local\\Temp\\ipykernel_61528\\3309686106.py:25: FutureWarning:\n",
      "\n",
      "suggest_loguniform has been deprecated in v3.0.0. This feature will be removed in v6.0.0. See https://github.com/optuna/optuna/releases/tag/v3.0.0. Use suggest_float(..., log=True) instead.\n",
      "\n",
      "C:\\Users\\clopearg\\AppData\\Local\\Temp\\ipykernel_61528\\3309686106.py:26: FutureWarning:\n",
      "\n",
      "suggest_loguniform has been deprecated in v3.0.0. This feature will be removed in v6.0.0. See https://github.com/optuna/optuna/releases/tag/v3.0.0. Use suggest_float(..., log=True) instead.\n",
      "\n",
      "[I 2024-11-16 17:07:40,272] Trial 5 finished with value: 142995646.31328484 and parameters: {'max_depth': 11, 'learning_rate': 0.01562912580738025, 'colsample_bytree': 0.30538670629468867, 'subsample': 0.5120226776144905, 'alpha': 0.11084576985699592, 'lambda': 0.00017778059694229317, 'min_child_weight': 23.97410799800863}. Best is trial 3 with value: 142533614.65996462.\n",
      "C:\\Users\\clopearg\\AppData\\Local\\Temp\\ipykernel_61528\\3309686106.py:20: FutureWarning:\n",
      "\n",
      "suggest_loguniform has been deprecated in v3.0.0. This feature will be removed in v6.0.0. See https://github.com/optuna/optuna/releases/tag/v3.0.0. Use suggest_float(..., log=True) instead.\n",
      "\n",
      "C:\\Users\\clopearg\\AppData\\Local\\Temp\\ipykernel_61528\\3309686106.py:21: FutureWarning:\n",
      "\n",
      "suggest_loguniform has been deprecated in v3.0.0. This feature will be removed in v6.0.0. See https://github.com/optuna/optuna/releases/tag/v3.0.0. Use suggest_float(..., log=True) instead.\n",
      "\n",
      "C:\\Users\\clopearg\\AppData\\Local\\Temp\\ipykernel_61528\\3309686106.py:22: FutureWarning:\n",
      "\n",
      "suggest_loguniform has been deprecated in v3.0.0. This feature will be removed in v6.0.0. See https://github.com/optuna/optuna/releases/tag/v3.0.0. Use suggest_float(..., log=True) instead.\n",
      "\n",
      "C:\\Users\\clopearg\\AppData\\Local\\Temp\\ipykernel_61528\\3309686106.py:23: FutureWarning:\n",
      "\n",
      "suggest_loguniform has been deprecated in v3.0.0. This feature will be removed in v6.0.0. See https://github.com/optuna/optuna/releases/tag/v3.0.0. Use suggest_float(..., log=True) instead.\n",
      "\n",
      "C:\\Users\\clopearg\\AppData\\Local\\Temp\\ipykernel_61528\\3309686106.py:24: FutureWarning:\n",
      "\n",
      "suggest_loguniform has been deprecated in v3.0.0. This feature will be removed in v6.0.0. See https://github.com/optuna/optuna/releases/tag/v3.0.0. Use suggest_float(..., log=True) instead.\n",
      "\n",
      "C:\\Users\\clopearg\\AppData\\Local\\Temp\\ipykernel_61528\\3309686106.py:25: FutureWarning:\n",
      "\n",
      "suggest_loguniform has been deprecated in v3.0.0. This feature will be removed in v6.0.0. See https://github.com/optuna/optuna/releases/tag/v3.0.0. Use suggest_float(..., log=True) instead.\n",
      "\n",
      "C:\\Users\\clopearg\\AppData\\Local\\Temp\\ipykernel_61528\\3309686106.py:26: FutureWarning:\n",
      "\n",
      "suggest_loguniform has been deprecated in v3.0.0. This feature will be removed in v6.0.0. See https://github.com/optuna/optuna/releases/tag/v3.0.0. Use suggest_float(..., log=True) instead.\n",
      "\n",
      "[I 2024-11-16 17:07:44,970] Trial 6 finished with value: 214749144.85862884 and parameters: {'max_depth': 7, 'learning_rate': 0.006605217094852845, 'colsample_bytree': 0.4602817221154118, 'subsample': 0.7321807124707713, 'alpha': 0.03875819193432472, 'lambda': 0.4755777064952913, 'min_child_weight': 873.9568465185062}. Best is trial 3 with value: 142533614.65996462.\n",
      "C:\\Users\\clopearg\\AppData\\Local\\Temp\\ipykernel_61528\\3309686106.py:20: FutureWarning:\n",
      "\n",
      "suggest_loguniform has been deprecated in v3.0.0. This feature will be removed in v6.0.0. See https://github.com/optuna/optuna/releases/tag/v3.0.0. Use suggest_float(..., log=True) instead.\n",
      "\n",
      "C:\\Users\\clopearg\\AppData\\Local\\Temp\\ipykernel_61528\\3309686106.py:21: FutureWarning:\n",
      "\n",
      "suggest_loguniform has been deprecated in v3.0.0. This feature will be removed in v6.0.0. See https://github.com/optuna/optuna/releases/tag/v3.0.0. Use suggest_float(..., log=True) instead.\n",
      "\n",
      "C:\\Users\\clopearg\\AppData\\Local\\Temp\\ipykernel_61528\\3309686106.py:22: FutureWarning:\n",
      "\n",
      "suggest_loguniform has been deprecated in v3.0.0. This feature will be removed in v6.0.0. See https://github.com/optuna/optuna/releases/tag/v3.0.0. Use suggest_float(..., log=True) instead.\n",
      "\n",
      "C:\\Users\\clopearg\\AppData\\Local\\Temp\\ipykernel_61528\\3309686106.py:23: FutureWarning:\n",
      "\n",
      "suggest_loguniform has been deprecated in v3.0.0. This feature will be removed in v6.0.0. See https://github.com/optuna/optuna/releases/tag/v3.0.0. Use suggest_float(..., log=True) instead.\n",
      "\n",
      "C:\\Users\\clopearg\\AppData\\Local\\Temp\\ipykernel_61528\\3309686106.py:24: FutureWarning:\n",
      "\n",
      "suggest_loguniform has been deprecated in v3.0.0. This feature will be removed in v6.0.0. See https://github.com/optuna/optuna/releases/tag/v3.0.0. Use suggest_float(..., log=True) instead.\n",
      "\n",
      "C:\\Users\\clopearg\\AppData\\Local\\Temp\\ipykernel_61528\\3309686106.py:25: FutureWarning:\n",
      "\n",
      "suggest_loguniform has been deprecated in v3.0.0. This feature will be removed in v6.0.0. See https://github.com/optuna/optuna/releases/tag/v3.0.0. Use suggest_float(..., log=True) instead.\n",
      "\n",
      "C:\\Users\\clopearg\\AppData\\Local\\Temp\\ipykernel_61528\\3309686106.py:26: FutureWarning:\n",
      "\n",
      "suggest_loguniform has been deprecated in v3.0.0. This feature will be removed in v6.0.0. See https://github.com/optuna/optuna/releases/tag/v3.0.0. Use suggest_float(..., log=True) instead.\n",
      "\n",
      "[I 2024-11-16 17:07:50,696] Trial 7 finished with value: 214749144.85862884 and parameters: {'max_depth': 5, 'learning_rate': 0.02158753254764938, 'colsample_bytree': 0.4039410636471101, 'subsample': 0.5546812415677176, 'alpha': 0.15276444245082263, 'lambda': 2.0537668843079513, 'min_child_weight': 713.7250506541016}. Best is trial 3 with value: 142533614.65996462.\n",
      "C:\\Users\\clopearg\\AppData\\Local\\Temp\\ipykernel_61528\\3309686106.py:20: FutureWarning:\n",
      "\n",
      "suggest_loguniform has been deprecated in v3.0.0. This feature will be removed in v6.0.0. See https://github.com/optuna/optuna/releases/tag/v3.0.0. Use suggest_float(..., log=True) instead.\n",
      "\n",
      "C:\\Users\\clopearg\\AppData\\Local\\Temp\\ipykernel_61528\\3309686106.py:21: FutureWarning:\n",
      "\n",
      "suggest_loguniform has been deprecated in v3.0.0. This feature will be removed in v6.0.0. See https://github.com/optuna/optuna/releases/tag/v3.0.0. Use suggest_float(..., log=True) instead.\n",
      "\n",
      "C:\\Users\\clopearg\\AppData\\Local\\Temp\\ipykernel_61528\\3309686106.py:22: FutureWarning:\n",
      "\n",
      "suggest_loguniform has been deprecated in v3.0.0. This feature will be removed in v6.0.0. See https://github.com/optuna/optuna/releases/tag/v3.0.0. Use suggest_float(..., log=True) instead.\n",
      "\n",
      "C:\\Users\\clopearg\\AppData\\Local\\Temp\\ipykernel_61528\\3309686106.py:23: FutureWarning:\n",
      "\n",
      "suggest_loguniform has been deprecated in v3.0.0. This feature will be removed in v6.0.0. See https://github.com/optuna/optuna/releases/tag/v3.0.0. Use suggest_float(..., log=True) instead.\n",
      "\n",
      "C:\\Users\\clopearg\\AppData\\Local\\Temp\\ipykernel_61528\\3309686106.py:24: FutureWarning:\n",
      "\n",
      "suggest_loguniform has been deprecated in v3.0.0. This feature will be removed in v6.0.0. See https://github.com/optuna/optuna/releases/tag/v3.0.0. Use suggest_float(..., log=True) instead.\n",
      "\n",
      "C:\\Users\\clopearg\\AppData\\Local\\Temp\\ipykernel_61528\\3309686106.py:25: FutureWarning:\n",
      "\n",
      "suggest_loguniform has been deprecated in v3.0.0. This feature will be removed in v6.0.0. See https://github.com/optuna/optuna/releases/tag/v3.0.0. Use suggest_float(..., log=True) instead.\n",
      "\n",
      "C:\\Users\\clopearg\\AppData\\Local\\Temp\\ipykernel_61528\\3309686106.py:26: FutureWarning:\n",
      "\n",
      "suggest_loguniform has been deprecated in v3.0.0. This feature will be removed in v6.0.0. See https://github.com/optuna/optuna/releases/tag/v3.0.0. Use suggest_float(..., log=True) instead.\n",
      "\n",
      "[I 2024-11-16 17:08:00,100] Trial 8 finished with value: 147115117.55031687 and parameters: {'max_depth': 12, 'learning_rate': 0.017116634169236214, 'colsample_bytree': 0.36189743778584216, 'subsample': 0.5182219121669945, 'alpha': 0.22065586380376773, 'lambda': 0.026062908804690116, 'min_child_weight': 20.47788741262433}. Best is trial 3 with value: 142533614.65996462.\n",
      "C:\\Users\\clopearg\\AppData\\Local\\Temp\\ipykernel_61528\\3309686106.py:20: FutureWarning:\n",
      "\n",
      "suggest_loguniform has been deprecated in v3.0.0. This feature will be removed in v6.0.0. See https://github.com/optuna/optuna/releases/tag/v3.0.0. Use suggest_float(..., log=True) instead.\n",
      "\n",
      "C:\\Users\\clopearg\\AppData\\Local\\Temp\\ipykernel_61528\\3309686106.py:21: FutureWarning:\n",
      "\n",
      "suggest_loguniform has been deprecated in v3.0.0. This feature will be removed in v6.0.0. See https://github.com/optuna/optuna/releases/tag/v3.0.0. Use suggest_float(..., log=True) instead.\n",
      "\n",
      "C:\\Users\\clopearg\\AppData\\Local\\Temp\\ipykernel_61528\\3309686106.py:22: FutureWarning:\n",
      "\n",
      "suggest_loguniform has been deprecated in v3.0.0. This feature will be removed in v6.0.0. See https://github.com/optuna/optuna/releases/tag/v3.0.0. Use suggest_float(..., log=True) instead.\n",
      "\n",
      "C:\\Users\\clopearg\\AppData\\Local\\Temp\\ipykernel_61528\\3309686106.py:23: FutureWarning:\n",
      "\n",
      "suggest_loguniform has been deprecated in v3.0.0. This feature will be removed in v6.0.0. See https://github.com/optuna/optuna/releases/tag/v3.0.0. Use suggest_float(..., log=True) instead.\n",
      "\n",
      "C:\\Users\\clopearg\\AppData\\Local\\Temp\\ipykernel_61528\\3309686106.py:24: FutureWarning:\n",
      "\n",
      "suggest_loguniform has been deprecated in v3.0.0. This feature will be removed in v6.0.0. See https://github.com/optuna/optuna/releases/tag/v3.0.0. Use suggest_float(..., log=True) instead.\n",
      "\n",
      "C:\\Users\\clopearg\\AppData\\Local\\Temp\\ipykernel_61528\\3309686106.py:25: FutureWarning:\n",
      "\n",
      "suggest_loguniform has been deprecated in v3.0.0. This feature will be removed in v6.0.0. See https://github.com/optuna/optuna/releases/tag/v3.0.0. Use suggest_float(..., log=True) instead.\n",
      "\n",
      "C:\\Users\\clopearg\\AppData\\Local\\Temp\\ipykernel_61528\\3309686106.py:26: FutureWarning:\n",
      "\n",
      "suggest_loguniform has been deprecated in v3.0.0. This feature will be removed in v6.0.0. See https://github.com/optuna/optuna/releases/tag/v3.0.0. Use suggest_float(..., log=True) instead.\n",
      "\n",
      "[I 2024-11-16 17:08:08,032] Trial 9 finished with value: 146759462.09951186 and parameters: {'max_depth': 11, 'learning_rate': 0.02206386763234244, 'colsample_bytree': 0.40204337380932786, 'subsample': 0.5238079172680778, 'alpha': 0.01069326719986442, 'lambda': 5.006450969668572e-07, 'min_child_weight': 49.160421343442216}. Best is trial 3 with value: 142533614.65996462.\n",
      "C:\\Users\\clopearg\\AppData\\Local\\Temp\\ipykernel_61528\\3309686106.py:20: FutureWarning:\n",
      "\n",
      "suggest_loguniform has been deprecated in v3.0.0. This feature will be removed in v6.0.0. See https://github.com/optuna/optuna/releases/tag/v3.0.0. Use suggest_float(..., log=True) instead.\n",
      "\n",
      "C:\\Users\\clopearg\\AppData\\Local\\Temp\\ipykernel_61528\\3309686106.py:21: FutureWarning:\n",
      "\n",
      "suggest_loguniform has been deprecated in v3.0.0. This feature will be removed in v6.0.0. See https://github.com/optuna/optuna/releases/tag/v3.0.0. Use suggest_float(..., log=True) instead.\n",
      "\n",
      "C:\\Users\\clopearg\\AppData\\Local\\Temp\\ipykernel_61528\\3309686106.py:22: FutureWarning:\n",
      "\n",
      "suggest_loguniform has been deprecated in v3.0.0. This feature will be removed in v6.0.0. See https://github.com/optuna/optuna/releases/tag/v3.0.0. Use suggest_float(..., log=True) instead.\n",
      "\n",
      "C:\\Users\\clopearg\\AppData\\Local\\Temp\\ipykernel_61528\\3309686106.py:23: FutureWarning:\n",
      "\n",
      "suggest_loguniform has been deprecated in v3.0.0. This feature will be removed in v6.0.0. See https://github.com/optuna/optuna/releases/tag/v3.0.0. Use suggest_float(..., log=True) instead.\n",
      "\n",
      "C:\\Users\\clopearg\\AppData\\Local\\Temp\\ipykernel_61528\\3309686106.py:24: FutureWarning:\n",
      "\n",
      "suggest_loguniform has been deprecated in v3.0.0. This feature will be removed in v6.0.0. See https://github.com/optuna/optuna/releases/tag/v3.0.0. Use suggest_float(..., log=True) instead.\n",
      "\n",
      "C:\\Users\\clopearg\\AppData\\Local\\Temp\\ipykernel_61528\\3309686106.py:25: FutureWarning:\n",
      "\n",
      "suggest_loguniform has been deprecated in v3.0.0. This feature will be removed in v6.0.0. See https://github.com/optuna/optuna/releases/tag/v3.0.0. Use suggest_float(..., log=True) instead.\n",
      "\n",
      "C:\\Users\\clopearg\\AppData\\Local\\Temp\\ipykernel_61528\\3309686106.py:26: FutureWarning:\n",
      "\n",
      "suggest_loguniform has been deprecated in v3.0.0. This feature will be removed in v6.0.0. See https://github.com/optuna/optuna/releases/tag/v3.0.0. Use suggest_float(..., log=True) instead.\n",
      "\n",
      "[I 2024-11-16 17:08:13,551] Trial 10 finished with value: 155963415.50079826 and parameters: {'max_depth': 9, 'learning_rate': 0.03979367190916712, 'colsample_bytree': 0.5872249783511776, 'subsample': 0.6481971873930189, 'alpha': 8.839474864093548, 'lambda': 0.16284015133396224, 'min_child_weight': 178.84119343408372}. Best is trial 3 with value: 142533614.65996462.\n",
      "C:\\Users\\clopearg\\AppData\\Local\\Temp\\ipykernel_61528\\3309686106.py:20: FutureWarning:\n",
      "\n",
      "suggest_loguniform has been deprecated in v3.0.0. This feature will be removed in v6.0.0. See https://github.com/optuna/optuna/releases/tag/v3.0.0. Use suggest_float(..., log=True) instead.\n",
      "\n",
      "C:\\Users\\clopearg\\AppData\\Local\\Temp\\ipykernel_61528\\3309686106.py:21: FutureWarning:\n",
      "\n",
      "suggest_loguniform has been deprecated in v3.0.0. This feature will be removed in v6.0.0. See https://github.com/optuna/optuna/releases/tag/v3.0.0. Use suggest_float(..., log=True) instead.\n",
      "\n",
      "C:\\Users\\clopearg\\AppData\\Local\\Temp\\ipykernel_61528\\3309686106.py:22: FutureWarning:\n",
      "\n",
      "suggest_loguniform has been deprecated in v3.0.0. This feature will be removed in v6.0.0. See https://github.com/optuna/optuna/releases/tag/v3.0.0. Use suggest_float(..., log=True) instead.\n",
      "\n",
      "C:\\Users\\clopearg\\AppData\\Local\\Temp\\ipykernel_61528\\3309686106.py:23: FutureWarning:\n",
      "\n",
      "suggest_loguniform has been deprecated in v3.0.0. This feature will be removed in v6.0.0. See https://github.com/optuna/optuna/releases/tag/v3.0.0. Use suggest_float(..., log=True) instead.\n",
      "\n",
      "C:\\Users\\clopearg\\AppData\\Local\\Temp\\ipykernel_61528\\3309686106.py:24: FutureWarning:\n",
      "\n",
      "suggest_loguniform has been deprecated in v3.0.0. This feature will be removed in v6.0.0. See https://github.com/optuna/optuna/releases/tag/v3.0.0. Use suggest_float(..., log=True) instead.\n",
      "\n",
      "C:\\Users\\clopearg\\AppData\\Local\\Temp\\ipykernel_61528\\3309686106.py:25: FutureWarning:\n",
      "\n",
      "suggest_loguniform has been deprecated in v3.0.0. This feature will be removed in v6.0.0. See https://github.com/optuna/optuna/releases/tag/v3.0.0. Use suggest_float(..., log=True) instead.\n",
      "\n",
      "C:\\Users\\clopearg\\AppData\\Local\\Temp\\ipykernel_61528\\3309686106.py:26: FutureWarning:\n",
      "\n",
      "suggest_loguniform has been deprecated in v3.0.0. This feature will be removed in v6.0.0. See https://github.com/optuna/optuna/releases/tag/v3.0.0. Use suggest_float(..., log=True) instead.\n",
      "\n",
      "[I 2024-11-16 17:08:20,565] Trial 11 finished with value: 135958482.02752945 and parameters: {'max_depth': 9, 'learning_rate': 0.010837494330263662, 'colsample_bytree': 0.2871913260104043, 'subsample': 0.4021944009820246, 'alpha': 3.4731163254306407, 'lambda': 2.3236138194138083e-08, 'min_child_weight': 57.28686828620866}. Best is trial 11 with value: 135958482.02752945.\n",
      "C:\\Users\\clopearg\\AppData\\Local\\Temp\\ipykernel_61528\\3309686106.py:20: FutureWarning:\n",
      "\n",
      "suggest_loguniform has been deprecated in v3.0.0. This feature will be removed in v6.0.0. See https://github.com/optuna/optuna/releases/tag/v3.0.0. Use suggest_float(..., log=True) instead.\n",
      "\n",
      "C:\\Users\\clopearg\\AppData\\Local\\Temp\\ipykernel_61528\\3309686106.py:21: FutureWarning:\n",
      "\n",
      "suggest_loguniform has been deprecated in v3.0.0. This feature will be removed in v6.0.0. See https://github.com/optuna/optuna/releases/tag/v3.0.0. Use suggest_float(..., log=True) instead.\n",
      "\n",
      "C:\\Users\\clopearg\\AppData\\Local\\Temp\\ipykernel_61528\\3309686106.py:22: FutureWarning:\n",
      "\n",
      "suggest_loguniform has been deprecated in v3.0.0. This feature will be removed in v6.0.0. See https://github.com/optuna/optuna/releases/tag/v3.0.0. Use suggest_float(..., log=True) instead.\n",
      "\n",
      "C:\\Users\\clopearg\\AppData\\Local\\Temp\\ipykernel_61528\\3309686106.py:23: FutureWarning:\n",
      "\n",
      "suggest_loguniform has been deprecated in v3.0.0. This feature will be removed in v6.0.0. See https://github.com/optuna/optuna/releases/tag/v3.0.0. Use suggest_float(..., log=True) instead.\n",
      "\n",
      "C:\\Users\\clopearg\\AppData\\Local\\Temp\\ipykernel_61528\\3309686106.py:24: FutureWarning:\n",
      "\n",
      "suggest_loguniform has been deprecated in v3.0.0. This feature will be removed in v6.0.0. See https://github.com/optuna/optuna/releases/tag/v3.0.0. Use suggest_float(..., log=True) instead.\n",
      "\n",
      "C:\\Users\\clopearg\\AppData\\Local\\Temp\\ipykernel_61528\\3309686106.py:25: FutureWarning:\n",
      "\n",
      "suggest_loguniform has been deprecated in v3.0.0. This feature will be removed in v6.0.0. See https://github.com/optuna/optuna/releases/tag/v3.0.0. Use suggest_float(..., log=True) instead.\n",
      "\n",
      "C:\\Users\\clopearg\\AppData\\Local\\Temp\\ipykernel_61528\\3309686106.py:26: FutureWarning:\n",
      "\n",
      "suggest_loguniform has been deprecated in v3.0.0. This feature will be removed in v6.0.0. See https://github.com/optuna/optuna/releases/tag/v3.0.0. Use suggest_float(..., log=True) instead.\n",
      "\n",
      "[I 2024-11-16 17:08:27,715] Trial 12 finished with value: 139895766.5804779 and parameters: {'max_depth': 8, 'learning_rate': 0.009876548232202501, 'colsample_bytree': 0.26966909837999126, 'subsample': 0.41717944713381955, 'alpha': 4.439371656835844, 'lambda': 5.8956664073963385e-06, 'min_child_weight': 70.8287842524562}. Best is trial 11 with value: 135958482.02752945.\n",
      "C:\\Users\\clopearg\\AppData\\Local\\Temp\\ipykernel_61528\\3309686106.py:20: FutureWarning:\n",
      "\n",
      "suggest_loguniform has been deprecated in v3.0.0. This feature will be removed in v6.0.0. See https://github.com/optuna/optuna/releases/tag/v3.0.0. Use suggest_float(..., log=True) instead.\n",
      "\n",
      "C:\\Users\\clopearg\\AppData\\Local\\Temp\\ipykernel_61528\\3309686106.py:21: FutureWarning:\n",
      "\n",
      "suggest_loguniform has been deprecated in v3.0.0. This feature will be removed in v6.0.0. See https://github.com/optuna/optuna/releases/tag/v3.0.0. Use suggest_float(..., log=True) instead.\n",
      "\n",
      "C:\\Users\\clopearg\\AppData\\Local\\Temp\\ipykernel_61528\\3309686106.py:22: FutureWarning:\n",
      "\n",
      "suggest_loguniform has been deprecated in v3.0.0. This feature will be removed in v6.0.0. See https://github.com/optuna/optuna/releases/tag/v3.0.0. Use suggest_float(..., log=True) instead.\n",
      "\n",
      "C:\\Users\\clopearg\\AppData\\Local\\Temp\\ipykernel_61528\\3309686106.py:23: FutureWarning:\n",
      "\n",
      "suggest_loguniform has been deprecated in v3.0.0. This feature will be removed in v6.0.0. See https://github.com/optuna/optuna/releases/tag/v3.0.0. Use suggest_float(..., log=True) instead.\n",
      "\n",
      "C:\\Users\\clopearg\\AppData\\Local\\Temp\\ipykernel_61528\\3309686106.py:24: FutureWarning:\n",
      "\n",
      "suggest_loguniform has been deprecated in v3.0.0. This feature will be removed in v6.0.0. See https://github.com/optuna/optuna/releases/tag/v3.0.0. Use suggest_float(..., log=True) instead.\n",
      "\n",
      "C:\\Users\\clopearg\\AppData\\Local\\Temp\\ipykernel_61528\\3309686106.py:25: FutureWarning:\n",
      "\n",
      "suggest_loguniform has been deprecated in v3.0.0. This feature will be removed in v6.0.0. See https://github.com/optuna/optuna/releases/tag/v3.0.0. Use suggest_float(..., log=True) instead.\n",
      "\n",
      "C:\\Users\\clopearg\\AppData\\Local\\Temp\\ipykernel_61528\\3309686106.py:26: FutureWarning:\n",
      "\n",
      "suggest_loguniform has been deprecated in v3.0.0. This feature will be removed in v6.0.0. See https://github.com/optuna/optuna/releases/tag/v3.0.0. Use suggest_float(..., log=True) instead.\n",
      "\n",
      "[I 2024-11-16 17:08:35,360] Trial 13 finished with value: 146421163.42994997 and parameters: {'max_depth': 8, 'learning_rate': 0.005270891212771442, 'colsample_bytree': 0.25447321702884507, 'subsample': 0.4220962094514318, 'alpha': 9.967744036750522, 'lambda': 1.9751339479452955e-06, 'min_child_weight': 100.44360330949554}. Best is trial 11 with value: 135958482.02752945.\n",
      "C:\\Users\\clopearg\\AppData\\Local\\Temp\\ipykernel_61528\\3309686106.py:20: FutureWarning:\n",
      "\n",
      "suggest_loguniform has been deprecated in v3.0.0. This feature will be removed in v6.0.0. See https://github.com/optuna/optuna/releases/tag/v3.0.0. Use suggest_float(..., log=True) instead.\n",
      "\n",
      "C:\\Users\\clopearg\\AppData\\Local\\Temp\\ipykernel_61528\\3309686106.py:21: FutureWarning:\n",
      "\n",
      "suggest_loguniform has been deprecated in v3.0.0. This feature will be removed in v6.0.0. See https://github.com/optuna/optuna/releases/tag/v3.0.0. Use suggest_float(..., log=True) instead.\n",
      "\n",
      "C:\\Users\\clopearg\\AppData\\Local\\Temp\\ipykernel_61528\\3309686106.py:22: FutureWarning:\n",
      "\n",
      "suggest_loguniform has been deprecated in v3.0.0. This feature will be removed in v6.0.0. See https://github.com/optuna/optuna/releases/tag/v3.0.0. Use suggest_float(..., log=True) instead.\n",
      "\n",
      "C:\\Users\\clopearg\\AppData\\Local\\Temp\\ipykernel_61528\\3309686106.py:23: FutureWarning:\n",
      "\n",
      "suggest_loguniform has been deprecated in v3.0.0. This feature will be removed in v6.0.0. See https://github.com/optuna/optuna/releases/tag/v3.0.0. Use suggest_float(..., log=True) instead.\n",
      "\n",
      "C:\\Users\\clopearg\\AppData\\Local\\Temp\\ipykernel_61528\\3309686106.py:24: FutureWarning:\n",
      "\n",
      "suggest_loguniform has been deprecated in v3.0.0. This feature will be removed in v6.0.0. See https://github.com/optuna/optuna/releases/tag/v3.0.0. Use suggest_float(..., log=True) instead.\n",
      "\n",
      "C:\\Users\\clopearg\\AppData\\Local\\Temp\\ipykernel_61528\\3309686106.py:25: FutureWarning:\n",
      "\n",
      "suggest_loguniform has been deprecated in v3.0.0. This feature will be removed in v6.0.0. See https://github.com/optuna/optuna/releases/tag/v3.0.0. Use suggest_float(..., log=True) instead.\n",
      "\n",
      "C:\\Users\\clopearg\\AppData\\Local\\Temp\\ipykernel_61528\\3309686106.py:26: FutureWarning:\n",
      "\n",
      "suggest_loguniform has been deprecated in v3.0.0. This feature will be removed in v6.0.0. See https://github.com/optuna/optuna/releases/tag/v3.0.0. Use suggest_float(..., log=True) instead.\n",
      "\n",
      "[I 2024-11-16 17:08:44,198] Trial 14 finished with value: 144056502.2002761 and parameters: {'max_depth': 5, 'learning_rate': 0.008781371272786994, 'colsample_bytree': 0.2988010538759569, 'subsample': 0.40383001091835324, 'alpha': 1.8864354292371486, 'lambda': 2.5881154698524e-08, 'min_child_weight': 10.158311102461651}. Best is trial 11 with value: 135958482.02752945.\n",
      "C:\\Users\\clopearg\\AppData\\Local\\Temp\\ipykernel_61528\\3309686106.py:20: FutureWarning:\n",
      "\n",
      "suggest_loguniform has been deprecated in v3.0.0. This feature will be removed in v6.0.0. See https://github.com/optuna/optuna/releases/tag/v3.0.0. Use suggest_float(..., log=True) instead.\n",
      "\n",
      "C:\\Users\\clopearg\\AppData\\Local\\Temp\\ipykernel_61528\\3309686106.py:21: FutureWarning:\n",
      "\n",
      "suggest_loguniform has been deprecated in v3.0.0. This feature will be removed in v6.0.0. See https://github.com/optuna/optuna/releases/tag/v3.0.0. Use suggest_float(..., log=True) instead.\n",
      "\n",
      "C:\\Users\\clopearg\\AppData\\Local\\Temp\\ipykernel_61528\\3309686106.py:22: FutureWarning:\n",
      "\n",
      "suggest_loguniform has been deprecated in v3.0.0. This feature will be removed in v6.0.0. See https://github.com/optuna/optuna/releases/tag/v3.0.0. Use suggest_float(..., log=True) instead.\n",
      "\n",
      "C:\\Users\\clopearg\\AppData\\Local\\Temp\\ipykernel_61528\\3309686106.py:23: FutureWarning:\n",
      "\n",
      "suggest_loguniform has been deprecated in v3.0.0. This feature will be removed in v6.0.0. See https://github.com/optuna/optuna/releases/tag/v3.0.0. Use suggest_float(..., log=True) instead.\n",
      "\n",
      "C:\\Users\\clopearg\\AppData\\Local\\Temp\\ipykernel_61528\\3309686106.py:24: FutureWarning:\n",
      "\n",
      "suggest_loguniform has been deprecated in v3.0.0. This feature will be removed in v6.0.0. See https://github.com/optuna/optuna/releases/tag/v3.0.0. Use suggest_float(..., log=True) instead.\n",
      "\n",
      "C:\\Users\\clopearg\\AppData\\Local\\Temp\\ipykernel_61528\\3309686106.py:25: FutureWarning:\n",
      "\n",
      "suggest_loguniform has been deprecated in v3.0.0. This feature will be removed in v6.0.0. See https://github.com/optuna/optuna/releases/tag/v3.0.0. Use suggest_float(..., log=True) instead.\n",
      "\n",
      "C:\\Users\\clopearg\\AppData\\Local\\Temp\\ipykernel_61528\\3309686106.py:26: FutureWarning:\n",
      "\n",
      "suggest_loguniform has been deprecated in v3.0.0. This feature will be removed in v6.0.0. See https://github.com/optuna/optuna/releases/tag/v3.0.0. Use suggest_float(..., log=True) instead.\n",
      "\n",
      "[I 2024-11-16 17:08:52,117] Trial 15 finished with value: 142733218.587178 and parameters: {'max_depth': 7, 'learning_rate': 0.010420780339249312, 'colsample_bytree': 0.2506247768849147, 'subsample': 0.6187721707401056, 'alpha': 2.950780491471921, 'lambda': 1.0876958625619738e-06, 'min_child_weight': 104.7355531523152}. Best is trial 11 with value: 135958482.02752945.\n",
      "C:\\Users\\clopearg\\AppData\\Local\\Temp\\ipykernel_61528\\3309686106.py:20: FutureWarning:\n",
      "\n",
      "suggest_loguniform has been deprecated in v3.0.0. This feature will be removed in v6.0.0. See https://github.com/optuna/optuna/releases/tag/v3.0.0. Use suggest_float(..., log=True) instead.\n",
      "\n",
      "C:\\Users\\clopearg\\AppData\\Local\\Temp\\ipykernel_61528\\3309686106.py:21: FutureWarning:\n",
      "\n",
      "suggest_loguniform has been deprecated in v3.0.0. This feature will be removed in v6.0.0. See https://github.com/optuna/optuna/releases/tag/v3.0.0. Use suggest_float(..., log=True) instead.\n",
      "\n",
      "C:\\Users\\clopearg\\AppData\\Local\\Temp\\ipykernel_61528\\3309686106.py:22: FutureWarning:\n",
      "\n",
      "suggest_loguniform has been deprecated in v3.0.0. This feature will be removed in v6.0.0. See https://github.com/optuna/optuna/releases/tag/v3.0.0. Use suggest_float(..., log=True) instead.\n",
      "\n",
      "C:\\Users\\clopearg\\AppData\\Local\\Temp\\ipykernel_61528\\3309686106.py:23: FutureWarning:\n",
      "\n",
      "suggest_loguniform has been deprecated in v3.0.0. This feature will be removed in v6.0.0. See https://github.com/optuna/optuna/releases/tag/v3.0.0. Use suggest_float(..., log=True) instead.\n",
      "\n",
      "C:\\Users\\clopearg\\AppData\\Local\\Temp\\ipykernel_61528\\3309686106.py:24: FutureWarning:\n",
      "\n",
      "suggest_loguniform has been deprecated in v3.0.0. This feature will be removed in v6.0.0. See https://github.com/optuna/optuna/releases/tag/v3.0.0. Use suggest_float(..., log=True) instead.\n",
      "\n",
      "C:\\Users\\clopearg\\AppData\\Local\\Temp\\ipykernel_61528\\3309686106.py:25: FutureWarning:\n",
      "\n",
      "suggest_loguniform has been deprecated in v3.0.0. This feature will be removed in v6.0.0. See https://github.com/optuna/optuna/releases/tag/v3.0.0. Use suggest_float(..., log=True) instead.\n",
      "\n",
      "C:\\Users\\clopearg\\AppData\\Local\\Temp\\ipykernel_61528\\3309686106.py:26: FutureWarning:\n",
      "\n",
      "suggest_loguniform has been deprecated in v3.0.0. This feature will be removed in v6.0.0. See https://github.com/optuna/optuna/releases/tag/v3.0.0. Use suggest_float(..., log=True) instead.\n",
      "\n",
      "[I 2024-11-16 17:08:58,210] Trial 16 finished with value: 214806538.67670393 and parameters: {'max_depth': 8, 'learning_rate': 0.007083090587221008, 'colsample_bytree': 0.3349501653545812, 'subsample': 0.43997109681466784, 'alpha': 0.7288904688637069, 'lambda': 2.3268417724356903e-05, 'min_child_weight': 317.9774104286653}. Best is trial 11 with value: 135958482.02752945.\n",
      "C:\\Users\\clopearg\\AppData\\Local\\Temp\\ipykernel_61528\\3309686106.py:20: FutureWarning:\n",
      "\n",
      "suggest_loguniform has been deprecated in v3.0.0. This feature will be removed in v6.0.0. See https://github.com/optuna/optuna/releases/tag/v3.0.0. Use suggest_float(..., log=True) instead.\n",
      "\n",
      "C:\\Users\\clopearg\\AppData\\Local\\Temp\\ipykernel_61528\\3309686106.py:21: FutureWarning:\n",
      "\n",
      "suggest_loguniform has been deprecated in v3.0.0. This feature will be removed in v6.0.0. See https://github.com/optuna/optuna/releases/tag/v3.0.0. Use suggest_float(..., log=True) instead.\n",
      "\n",
      "C:\\Users\\clopearg\\AppData\\Local\\Temp\\ipykernel_61528\\3309686106.py:22: FutureWarning:\n",
      "\n",
      "suggest_loguniform has been deprecated in v3.0.0. This feature will be removed in v6.0.0. See https://github.com/optuna/optuna/releases/tag/v3.0.0. Use suggest_float(..., log=True) instead.\n",
      "\n",
      "C:\\Users\\clopearg\\AppData\\Local\\Temp\\ipykernel_61528\\3309686106.py:23: FutureWarning:\n",
      "\n",
      "suggest_loguniform has been deprecated in v3.0.0. This feature will be removed in v6.0.0. See https://github.com/optuna/optuna/releases/tag/v3.0.0. Use suggest_float(..., log=True) instead.\n",
      "\n",
      "C:\\Users\\clopearg\\AppData\\Local\\Temp\\ipykernel_61528\\3309686106.py:24: FutureWarning:\n",
      "\n",
      "suggest_loguniform has been deprecated in v3.0.0. This feature will be removed in v6.0.0. See https://github.com/optuna/optuna/releases/tag/v3.0.0. Use suggest_float(..., log=True) instead.\n",
      "\n",
      "C:\\Users\\clopearg\\AppData\\Local\\Temp\\ipykernel_61528\\3309686106.py:25: FutureWarning:\n",
      "\n",
      "suggest_loguniform has been deprecated in v3.0.0. This feature will be removed in v6.0.0. See https://github.com/optuna/optuna/releases/tag/v3.0.0. Use suggest_float(..., log=True) instead.\n",
      "\n",
      "C:\\Users\\clopearg\\AppData\\Local\\Temp\\ipykernel_61528\\3309686106.py:26: FutureWarning:\n",
      "\n",
      "suggest_loguniform has been deprecated in v3.0.0. This feature will be removed in v6.0.0. See https://github.com/optuna/optuna/releases/tag/v3.0.0. Use suggest_float(..., log=True) instead.\n",
      "\n",
      "[I 2024-11-16 17:09:06,210] Trial 17 finished with value: 136855764.86350876 and parameters: {'max_depth': 4, 'learning_rate': 0.011474383063281978, 'colsample_bytree': 0.2598554254618385, 'subsample': 0.4071374087431968, 'alpha': 5.416142668333266, 'lambda': 1.4410813557061123e-07, 'min_child_weight': 59.885086007498906}. Best is trial 11 with value: 135958482.02752945.\n",
      "C:\\Users\\clopearg\\AppData\\Local\\Temp\\ipykernel_61528\\3309686106.py:20: FutureWarning:\n",
      "\n",
      "suggest_loguniform has been deprecated in v3.0.0. This feature will be removed in v6.0.0. See https://github.com/optuna/optuna/releases/tag/v3.0.0. Use suggest_float(..., log=True) instead.\n",
      "\n",
      "C:\\Users\\clopearg\\AppData\\Local\\Temp\\ipykernel_61528\\3309686106.py:21: FutureWarning:\n",
      "\n",
      "suggest_loguniform has been deprecated in v3.0.0. This feature will be removed in v6.0.0. See https://github.com/optuna/optuna/releases/tag/v3.0.0. Use suggest_float(..., log=True) instead.\n",
      "\n",
      "C:\\Users\\clopearg\\AppData\\Local\\Temp\\ipykernel_61528\\3309686106.py:22: FutureWarning:\n",
      "\n",
      "suggest_loguniform has been deprecated in v3.0.0. This feature will be removed in v6.0.0. See https://github.com/optuna/optuna/releases/tag/v3.0.0. Use suggest_float(..., log=True) instead.\n",
      "\n",
      "C:\\Users\\clopearg\\AppData\\Local\\Temp\\ipykernel_61528\\3309686106.py:23: FutureWarning:\n",
      "\n",
      "suggest_loguniform has been deprecated in v3.0.0. This feature will be removed in v6.0.0. See https://github.com/optuna/optuna/releases/tag/v3.0.0. Use suggest_float(..., log=True) instead.\n",
      "\n",
      "C:\\Users\\clopearg\\AppData\\Local\\Temp\\ipykernel_61528\\3309686106.py:24: FutureWarning:\n",
      "\n",
      "suggest_loguniform has been deprecated in v3.0.0. This feature will be removed in v6.0.0. See https://github.com/optuna/optuna/releases/tag/v3.0.0. Use suggest_float(..., log=True) instead.\n",
      "\n",
      "C:\\Users\\clopearg\\AppData\\Local\\Temp\\ipykernel_61528\\3309686106.py:25: FutureWarning:\n",
      "\n",
      "suggest_loguniform has been deprecated in v3.0.0. This feature will be removed in v6.0.0. See https://github.com/optuna/optuna/releases/tag/v3.0.0. Use suggest_float(..., log=True) instead.\n",
      "\n",
      "C:\\Users\\clopearg\\AppData\\Local\\Temp\\ipykernel_61528\\3309686106.py:26: FutureWarning:\n",
      "\n",
      "suggest_loguniform has been deprecated in v3.0.0. This feature will be removed in v6.0.0. See https://github.com/optuna/optuna/releases/tag/v3.0.0. Use suggest_float(..., log=True) instead.\n",
      "\n",
      "[I 2024-11-16 17:09:12,279] Trial 18 finished with value: 164263360.86995804 and parameters: {'max_depth': 4, 'learning_rate': 0.012697091392731591, 'colsample_bytree': 0.22530503164715576, 'subsample': 0.47716637682962687, 'alpha': 1.01998814031497, 'lambda': 1.2209314325348668e-07, 'min_child_weight': 178.33017946401384}. Best is trial 11 with value: 135958482.02752945.\n",
      "C:\\Users\\clopearg\\AppData\\Local\\Temp\\ipykernel_61528\\3309686106.py:20: FutureWarning:\n",
      "\n",
      "suggest_loguniform has been deprecated in v3.0.0. This feature will be removed in v6.0.0. See https://github.com/optuna/optuna/releases/tag/v3.0.0. Use suggest_float(..., log=True) instead.\n",
      "\n",
      "C:\\Users\\clopearg\\AppData\\Local\\Temp\\ipykernel_61528\\3309686106.py:21: FutureWarning:\n",
      "\n",
      "suggest_loguniform has been deprecated in v3.0.0. This feature will be removed in v6.0.0. See https://github.com/optuna/optuna/releases/tag/v3.0.0. Use suggest_float(..., log=True) instead.\n",
      "\n",
      "C:\\Users\\clopearg\\AppData\\Local\\Temp\\ipykernel_61528\\3309686106.py:22: FutureWarning:\n",
      "\n",
      "suggest_loguniform has been deprecated in v3.0.0. This feature will be removed in v6.0.0. See https://github.com/optuna/optuna/releases/tag/v3.0.0. Use suggest_float(..., log=True) instead.\n",
      "\n",
      "C:\\Users\\clopearg\\AppData\\Local\\Temp\\ipykernel_61528\\3309686106.py:23: FutureWarning:\n",
      "\n",
      "suggest_loguniform has been deprecated in v3.0.0. This feature will be removed in v6.0.0. See https://github.com/optuna/optuna/releases/tag/v3.0.0. Use suggest_float(..., log=True) instead.\n",
      "\n",
      "C:\\Users\\clopearg\\AppData\\Local\\Temp\\ipykernel_61528\\3309686106.py:24: FutureWarning:\n",
      "\n",
      "suggest_loguniform has been deprecated in v3.0.0. This feature will be removed in v6.0.0. See https://github.com/optuna/optuna/releases/tag/v3.0.0. Use suggest_float(..., log=True) instead.\n",
      "\n",
      "C:\\Users\\clopearg\\AppData\\Local\\Temp\\ipykernel_61528\\3309686106.py:25: FutureWarning:\n",
      "\n",
      "suggest_loguniform has been deprecated in v3.0.0. This feature will be removed in v6.0.0. See https://github.com/optuna/optuna/releases/tag/v3.0.0. Use suggest_float(..., log=True) instead.\n",
      "\n",
      "C:\\Users\\clopearg\\AppData\\Local\\Temp\\ipykernel_61528\\3309686106.py:26: FutureWarning:\n",
      "\n",
      "suggest_loguniform has been deprecated in v3.0.0. This feature will be removed in v6.0.0. See https://github.com/optuna/optuna/releases/tag/v3.0.0. Use suggest_float(..., log=True) instead.\n",
      "\n",
      "[I 2024-11-16 17:09:21,009] Trial 19 finished with value: 152612438.74535617 and parameters: {'max_depth': 6, 'learning_rate': 0.04722542941886108, 'colsample_bytree': 0.3526200006462301, 'subsample': 0.40130496065610777, 'alpha': 4.730654257814077, 'lambda': 9.210105165685068e-08, 'min_child_weight': 11.275871563491194}. Best is trial 11 with value: 135958482.02752945.\n",
      "C:\\Users\\clopearg\\AppData\\Local\\Temp\\ipykernel_61528\\3309686106.py:20: FutureWarning:\n",
      "\n",
      "suggest_loguniform has been deprecated in v3.0.0. This feature will be removed in v6.0.0. See https://github.com/optuna/optuna/releases/tag/v3.0.0. Use suggest_float(..., log=True) instead.\n",
      "\n",
      "C:\\Users\\clopearg\\AppData\\Local\\Temp\\ipykernel_61528\\3309686106.py:21: FutureWarning:\n",
      "\n",
      "suggest_loguniform has been deprecated in v3.0.0. This feature will be removed in v6.0.0. See https://github.com/optuna/optuna/releases/tag/v3.0.0. Use suggest_float(..., log=True) instead.\n",
      "\n",
      "C:\\Users\\clopearg\\AppData\\Local\\Temp\\ipykernel_61528\\3309686106.py:22: FutureWarning:\n",
      "\n",
      "suggest_loguniform has been deprecated in v3.0.0. This feature will be removed in v6.0.0. See https://github.com/optuna/optuna/releases/tag/v3.0.0. Use suggest_float(..., log=True) instead.\n",
      "\n",
      "C:\\Users\\clopearg\\AppData\\Local\\Temp\\ipykernel_61528\\3309686106.py:23: FutureWarning:\n",
      "\n",
      "suggest_loguniform has been deprecated in v3.0.0. This feature will be removed in v6.0.0. See https://github.com/optuna/optuna/releases/tag/v3.0.0. Use suggest_float(..., log=True) instead.\n",
      "\n",
      "C:\\Users\\clopearg\\AppData\\Local\\Temp\\ipykernel_61528\\3309686106.py:24: FutureWarning:\n",
      "\n",
      "suggest_loguniform has been deprecated in v3.0.0. This feature will be removed in v6.0.0. See https://github.com/optuna/optuna/releases/tag/v3.0.0. Use suggest_float(..., log=True) instead.\n",
      "\n",
      "C:\\Users\\clopearg\\AppData\\Local\\Temp\\ipykernel_61528\\3309686106.py:25: FutureWarning:\n",
      "\n",
      "suggest_loguniform has been deprecated in v3.0.0. This feature will be removed in v6.0.0. See https://github.com/optuna/optuna/releases/tag/v3.0.0. Use suggest_float(..., log=True) instead.\n",
      "\n",
      "C:\\Users\\clopearg\\AppData\\Local\\Temp\\ipykernel_61528\\3309686106.py:26: FutureWarning:\n",
      "\n",
      "suggest_loguniform has been deprecated in v3.0.0. This feature will be removed in v6.0.0. See https://github.com/optuna/optuna/releases/tag/v3.0.0. Use suggest_float(..., log=True) instead.\n",
      "\n",
      "[I 2024-11-16 17:09:29,331] Trial 20 finished with value: 136045232.75435948 and parameters: {'max_depth': 4, 'learning_rate': 0.006645258837251635, 'colsample_bytree': 0.3230961217033203, 'subsample': 0.5849849531513021, 'alpha': 1.4349342156095422, 'lambda': 1.384958260184868e-08, 'min_child_weight': 67.7282347575395}. Best is trial 11 with value: 135958482.02752945.\n",
      "C:\\Users\\clopearg\\AppData\\Local\\Temp\\ipykernel_61528\\3309686106.py:20: FutureWarning:\n",
      "\n",
      "suggest_loguniform has been deprecated in v3.0.0. This feature will be removed in v6.0.0. See https://github.com/optuna/optuna/releases/tag/v3.0.0. Use suggest_float(..., log=True) instead.\n",
      "\n",
      "C:\\Users\\clopearg\\AppData\\Local\\Temp\\ipykernel_61528\\3309686106.py:21: FutureWarning:\n",
      "\n",
      "suggest_loguniform has been deprecated in v3.0.0. This feature will be removed in v6.0.0. See https://github.com/optuna/optuna/releases/tag/v3.0.0. Use suggest_float(..., log=True) instead.\n",
      "\n",
      "C:\\Users\\clopearg\\AppData\\Local\\Temp\\ipykernel_61528\\3309686106.py:22: FutureWarning:\n",
      "\n",
      "suggest_loguniform has been deprecated in v3.0.0. This feature will be removed in v6.0.0. See https://github.com/optuna/optuna/releases/tag/v3.0.0. Use suggest_float(..., log=True) instead.\n",
      "\n",
      "C:\\Users\\clopearg\\AppData\\Local\\Temp\\ipykernel_61528\\3309686106.py:23: FutureWarning:\n",
      "\n",
      "suggest_loguniform has been deprecated in v3.0.0. This feature will be removed in v6.0.0. See https://github.com/optuna/optuna/releases/tag/v3.0.0. Use suggest_float(..., log=True) instead.\n",
      "\n",
      "C:\\Users\\clopearg\\AppData\\Local\\Temp\\ipykernel_61528\\3309686106.py:24: FutureWarning:\n",
      "\n",
      "suggest_loguniform has been deprecated in v3.0.0. This feature will be removed in v6.0.0. See https://github.com/optuna/optuna/releases/tag/v3.0.0. Use suggest_float(..., log=True) instead.\n",
      "\n",
      "C:\\Users\\clopearg\\AppData\\Local\\Temp\\ipykernel_61528\\3309686106.py:25: FutureWarning:\n",
      "\n",
      "suggest_loguniform has been deprecated in v3.0.0. This feature will be removed in v6.0.0. See https://github.com/optuna/optuna/releases/tag/v3.0.0. Use suggest_float(..., log=True) instead.\n",
      "\n",
      "C:\\Users\\clopearg\\AppData\\Local\\Temp\\ipykernel_61528\\3309686106.py:26: FutureWarning:\n",
      "\n",
      "suggest_loguniform has been deprecated in v3.0.0. This feature will be removed in v6.0.0. See https://github.com/optuna/optuna/releases/tag/v3.0.0. Use suggest_float(..., log=True) instead.\n",
      "\n",
      "[I 2024-11-16 17:09:37,659] Trial 21 finished with value: 134889992.8940803 and parameters: {'max_depth': 4, 'learning_rate': 0.006699798920015843, 'colsample_bytree': 0.30333240726426, 'subsample': 0.6052397956456361, 'alpha': 1.4949454873657853, 'lambda': 1.865432786655253e-08, 'min_child_weight': 66.50290276376478}. Best is trial 21 with value: 134889992.8940803.\n",
      "C:\\Users\\clopearg\\AppData\\Local\\Temp\\ipykernel_61528\\3309686106.py:20: FutureWarning:\n",
      "\n",
      "suggest_loguniform has been deprecated in v3.0.0. This feature will be removed in v6.0.0. See https://github.com/optuna/optuna/releases/tag/v3.0.0. Use suggest_float(..., log=True) instead.\n",
      "\n",
      "C:\\Users\\clopearg\\AppData\\Local\\Temp\\ipykernel_61528\\3309686106.py:21: FutureWarning:\n",
      "\n",
      "suggest_loguniform has been deprecated in v3.0.0. This feature will be removed in v6.0.0. See https://github.com/optuna/optuna/releases/tag/v3.0.0. Use suggest_float(..., log=True) instead.\n",
      "\n",
      "C:\\Users\\clopearg\\AppData\\Local\\Temp\\ipykernel_61528\\3309686106.py:22: FutureWarning:\n",
      "\n",
      "suggest_loguniform has been deprecated in v3.0.0. This feature will be removed in v6.0.0. See https://github.com/optuna/optuna/releases/tag/v3.0.0. Use suggest_float(..., log=True) instead.\n",
      "\n",
      "C:\\Users\\clopearg\\AppData\\Local\\Temp\\ipykernel_61528\\3309686106.py:23: FutureWarning:\n",
      "\n",
      "suggest_loguniform has been deprecated in v3.0.0. This feature will be removed in v6.0.0. See https://github.com/optuna/optuna/releases/tag/v3.0.0. Use suggest_float(..., log=True) instead.\n",
      "\n",
      "C:\\Users\\clopearg\\AppData\\Local\\Temp\\ipykernel_61528\\3309686106.py:24: FutureWarning:\n",
      "\n",
      "suggest_loguniform has been deprecated in v3.0.0. This feature will be removed in v6.0.0. See https://github.com/optuna/optuna/releases/tag/v3.0.0. Use suggest_float(..., log=True) instead.\n",
      "\n",
      "C:\\Users\\clopearg\\AppData\\Local\\Temp\\ipykernel_61528\\3309686106.py:25: FutureWarning:\n",
      "\n",
      "suggest_loguniform has been deprecated in v3.0.0. This feature will be removed in v6.0.0. See https://github.com/optuna/optuna/releases/tag/v3.0.0. Use suggest_float(..., log=True) instead.\n",
      "\n",
      "C:\\Users\\clopearg\\AppData\\Local\\Temp\\ipykernel_61528\\3309686106.py:26: FutureWarning:\n",
      "\n",
      "suggest_loguniform has been deprecated in v3.0.0. This feature will be removed in v6.0.0. See https://github.com/optuna/optuna/releases/tag/v3.0.0. Use suggest_float(..., log=True) instead.\n",
      "\n",
      "[I 2024-11-16 17:09:45,545] Trial 22 finished with value: 135650737.11200106 and parameters: {'max_depth': 5, 'learning_rate': 0.0070963146604325796, 'colsample_bytree': 0.32106296426761677, 'subsample': 0.6071222134528623, 'alpha': 1.427992344999564, 'lambda': 1.0992628170043878e-08, 'min_child_weight': 86.40000030673271}. Best is trial 21 with value: 134889992.8940803.\n",
      "C:\\Users\\clopearg\\AppData\\Local\\Temp\\ipykernel_61528\\3309686106.py:20: FutureWarning:\n",
      "\n",
      "suggest_loguniform has been deprecated in v3.0.0. This feature will be removed in v6.0.0. See https://github.com/optuna/optuna/releases/tag/v3.0.0. Use suggest_float(..., log=True) instead.\n",
      "\n",
      "C:\\Users\\clopearg\\AppData\\Local\\Temp\\ipykernel_61528\\3309686106.py:21: FutureWarning:\n",
      "\n",
      "suggest_loguniform has been deprecated in v3.0.0. This feature will be removed in v6.0.0. See https://github.com/optuna/optuna/releases/tag/v3.0.0. Use suggest_float(..., log=True) instead.\n",
      "\n",
      "C:\\Users\\clopearg\\AppData\\Local\\Temp\\ipykernel_61528\\3309686106.py:22: FutureWarning:\n",
      "\n",
      "suggest_loguniform has been deprecated in v3.0.0. This feature will be removed in v6.0.0. See https://github.com/optuna/optuna/releases/tag/v3.0.0. Use suggest_float(..., log=True) instead.\n",
      "\n",
      "C:\\Users\\clopearg\\AppData\\Local\\Temp\\ipykernel_61528\\3309686106.py:23: FutureWarning:\n",
      "\n",
      "suggest_loguniform has been deprecated in v3.0.0. This feature will be removed in v6.0.0. See https://github.com/optuna/optuna/releases/tag/v3.0.0. Use suggest_float(..., log=True) instead.\n",
      "\n",
      "C:\\Users\\clopearg\\AppData\\Local\\Temp\\ipykernel_61528\\3309686106.py:24: FutureWarning:\n",
      "\n",
      "suggest_loguniform has been deprecated in v3.0.0. This feature will be removed in v6.0.0. See https://github.com/optuna/optuna/releases/tag/v3.0.0. Use suggest_float(..., log=True) instead.\n",
      "\n",
      "C:\\Users\\clopearg\\AppData\\Local\\Temp\\ipykernel_61528\\3309686106.py:25: FutureWarning:\n",
      "\n",
      "suggest_loguniform has been deprecated in v3.0.0. This feature will be removed in v6.0.0. See https://github.com/optuna/optuna/releases/tag/v3.0.0. Use suggest_float(..., log=True) instead.\n",
      "\n",
      "C:\\Users\\clopearg\\AppData\\Local\\Temp\\ipykernel_61528\\3309686106.py:26: FutureWarning:\n",
      "\n",
      "suggest_loguniform has been deprecated in v3.0.0. This feature will be removed in v6.0.0. See https://github.com/optuna/optuna/releases/tag/v3.0.0. Use suggest_float(..., log=True) instead.\n",
      "\n",
      "[I 2024-11-16 17:09:54,392] Trial 23 finished with value: 130071631.5757205 and parameters: {'max_depth': 5, 'learning_rate': 0.005253768412247795, 'colsample_bytree': 0.3756708375703581, 'subsample': 0.6379225675331539, 'alpha': 0.6249702499344099, 'lambda': 1.1948615973713107e-08, 'min_child_weight': 29.839185123016218}. Best is trial 23 with value: 130071631.5757205.\n",
      "C:\\Users\\clopearg\\AppData\\Local\\Temp\\ipykernel_61528\\3309686106.py:20: FutureWarning:\n",
      "\n",
      "suggest_loguniform has been deprecated in v3.0.0. This feature will be removed in v6.0.0. See https://github.com/optuna/optuna/releases/tag/v3.0.0. Use suggest_float(..., log=True) instead.\n",
      "\n",
      "C:\\Users\\clopearg\\AppData\\Local\\Temp\\ipykernel_61528\\3309686106.py:21: FutureWarning:\n",
      "\n",
      "suggest_loguniform has been deprecated in v3.0.0. This feature will be removed in v6.0.0. See https://github.com/optuna/optuna/releases/tag/v3.0.0. Use suggest_float(..., log=True) instead.\n",
      "\n",
      "C:\\Users\\clopearg\\AppData\\Local\\Temp\\ipykernel_61528\\3309686106.py:22: FutureWarning:\n",
      "\n",
      "suggest_loguniform has been deprecated in v3.0.0. This feature will be removed in v6.0.0. See https://github.com/optuna/optuna/releases/tag/v3.0.0. Use suggest_float(..., log=True) instead.\n",
      "\n",
      "C:\\Users\\clopearg\\AppData\\Local\\Temp\\ipykernel_61528\\3309686106.py:23: FutureWarning:\n",
      "\n",
      "suggest_loguniform has been deprecated in v3.0.0. This feature will be removed in v6.0.0. See https://github.com/optuna/optuna/releases/tag/v3.0.0. Use suggest_float(..., log=True) instead.\n",
      "\n",
      "C:\\Users\\clopearg\\AppData\\Local\\Temp\\ipykernel_61528\\3309686106.py:24: FutureWarning:\n",
      "\n",
      "suggest_loguniform has been deprecated in v3.0.0. This feature will be removed in v6.0.0. See https://github.com/optuna/optuna/releases/tag/v3.0.0. Use suggest_float(..., log=True) instead.\n",
      "\n",
      "C:\\Users\\clopearg\\AppData\\Local\\Temp\\ipykernel_61528\\3309686106.py:25: FutureWarning:\n",
      "\n",
      "suggest_loguniform has been deprecated in v3.0.0. This feature will be removed in v6.0.0. See https://github.com/optuna/optuna/releases/tag/v3.0.0. Use suggest_float(..., log=True) instead.\n",
      "\n",
      "C:\\Users\\clopearg\\AppData\\Local\\Temp\\ipykernel_61528\\3309686106.py:26: FutureWarning:\n",
      "\n",
      "suggest_loguniform has been deprecated in v3.0.0. This feature will be removed in v6.0.0. See https://github.com/optuna/optuna/releases/tag/v3.0.0. Use suggest_float(..., log=True) instead.\n",
      "\n",
      "[I 2024-11-16 17:10:03,676] Trial 24 finished with value: 130228505.64378762 and parameters: {'max_depth': 5, 'learning_rate': 0.005140987613445367, 'colsample_bytree': 0.37704018545670487, 'subsample': 0.6664786609521713, 'alpha': 0.45556754430640517, 'lambda': 3.0442615083748444e-07, 'min_child_weight': 31.53862707819841}. Best is trial 23 with value: 130071631.5757205.\n",
      "C:\\Users\\clopearg\\AppData\\Local\\Temp\\ipykernel_61528\\3309686106.py:20: FutureWarning:\n",
      "\n",
      "suggest_loguniform has been deprecated in v3.0.0. This feature will be removed in v6.0.0. See https://github.com/optuna/optuna/releases/tag/v3.0.0. Use suggest_float(..., log=True) instead.\n",
      "\n",
      "C:\\Users\\clopearg\\AppData\\Local\\Temp\\ipykernel_61528\\3309686106.py:21: FutureWarning:\n",
      "\n",
      "suggest_loguniform has been deprecated in v3.0.0. This feature will be removed in v6.0.0. See https://github.com/optuna/optuna/releases/tag/v3.0.0. Use suggest_float(..., log=True) instead.\n",
      "\n",
      "C:\\Users\\clopearg\\AppData\\Local\\Temp\\ipykernel_61528\\3309686106.py:22: FutureWarning:\n",
      "\n",
      "suggest_loguniform has been deprecated in v3.0.0. This feature will be removed in v6.0.0. See https://github.com/optuna/optuna/releases/tag/v3.0.0. Use suggest_float(..., log=True) instead.\n",
      "\n",
      "C:\\Users\\clopearg\\AppData\\Local\\Temp\\ipykernel_61528\\3309686106.py:23: FutureWarning:\n",
      "\n",
      "suggest_loguniform has been deprecated in v3.0.0. This feature will be removed in v6.0.0. See https://github.com/optuna/optuna/releases/tag/v3.0.0. Use suggest_float(..., log=True) instead.\n",
      "\n",
      "C:\\Users\\clopearg\\AppData\\Local\\Temp\\ipykernel_61528\\3309686106.py:24: FutureWarning:\n",
      "\n",
      "suggest_loguniform has been deprecated in v3.0.0. This feature will be removed in v6.0.0. See https://github.com/optuna/optuna/releases/tag/v3.0.0. Use suggest_float(..., log=True) instead.\n",
      "\n",
      "C:\\Users\\clopearg\\AppData\\Local\\Temp\\ipykernel_61528\\3309686106.py:25: FutureWarning:\n",
      "\n",
      "suggest_loguniform has been deprecated in v3.0.0. This feature will be removed in v6.0.0. See https://github.com/optuna/optuna/releases/tag/v3.0.0. Use suggest_float(..., log=True) instead.\n",
      "\n",
      "C:\\Users\\clopearg\\AppData\\Local\\Temp\\ipykernel_61528\\3309686106.py:26: FutureWarning:\n",
      "\n",
      "suggest_loguniform has been deprecated in v3.0.0. This feature will be removed in v6.0.0. See https://github.com/optuna/optuna/releases/tag/v3.0.0. Use suggest_float(..., log=True) instead.\n",
      "\n",
      "[I 2024-11-16 17:10:11,941] Trial 25 finished with value: 131345425.17209479 and parameters: {'max_depth': 6, 'learning_rate': 0.005018518168275583, 'colsample_bytree': 0.40374075327849857, 'subsample': 0.6742584053356588, 'alpha': 0.47025930052735515, 'lambda': 2.58606267197355e-07, 'min_child_weight': 33.91657138708558}. Best is trial 23 with value: 130071631.5757205.\n",
      "C:\\Users\\clopearg\\AppData\\Local\\Temp\\ipykernel_61528\\3309686106.py:20: FutureWarning:\n",
      "\n",
      "suggest_loguniform has been deprecated in v3.0.0. This feature will be removed in v6.0.0. See https://github.com/optuna/optuna/releases/tag/v3.0.0. Use suggest_float(..., log=True) instead.\n",
      "\n",
      "C:\\Users\\clopearg\\AppData\\Local\\Temp\\ipykernel_61528\\3309686106.py:21: FutureWarning:\n",
      "\n",
      "suggest_loguniform has been deprecated in v3.0.0. This feature will be removed in v6.0.0. See https://github.com/optuna/optuna/releases/tag/v3.0.0. Use suggest_float(..., log=True) instead.\n",
      "\n",
      "C:\\Users\\clopearg\\AppData\\Local\\Temp\\ipykernel_61528\\3309686106.py:22: FutureWarning:\n",
      "\n",
      "suggest_loguniform has been deprecated in v3.0.0. This feature will be removed in v6.0.0. See https://github.com/optuna/optuna/releases/tag/v3.0.0. Use suggest_float(..., log=True) instead.\n",
      "\n",
      "C:\\Users\\clopearg\\AppData\\Local\\Temp\\ipykernel_61528\\3309686106.py:23: FutureWarning:\n",
      "\n",
      "suggest_loguniform has been deprecated in v3.0.0. This feature will be removed in v6.0.0. See https://github.com/optuna/optuna/releases/tag/v3.0.0. Use suggest_float(..., log=True) instead.\n",
      "\n",
      "C:\\Users\\clopearg\\AppData\\Local\\Temp\\ipykernel_61528\\3309686106.py:24: FutureWarning:\n",
      "\n",
      "suggest_loguniform has been deprecated in v3.0.0. This feature will be removed in v6.0.0. See https://github.com/optuna/optuna/releases/tag/v3.0.0. Use suggest_float(..., log=True) instead.\n",
      "\n",
      "C:\\Users\\clopearg\\AppData\\Local\\Temp\\ipykernel_61528\\3309686106.py:25: FutureWarning:\n",
      "\n",
      "suggest_loguniform has been deprecated in v3.0.0. This feature will be removed in v6.0.0. See https://github.com/optuna/optuna/releases/tag/v3.0.0. Use suggest_float(..., log=True) instead.\n",
      "\n",
      "C:\\Users\\clopearg\\AppData\\Local\\Temp\\ipykernel_61528\\3309686106.py:26: FutureWarning:\n",
      "\n",
      "suggest_loguniform has been deprecated in v3.0.0. This feature will be removed in v6.0.0. See https://github.com/optuna/optuna/releases/tag/v3.0.0. Use suggest_float(..., log=True) instead.\n",
      "\n",
      "[I 2024-11-16 17:10:20,577] Trial 26 finished with value: 132024640.73676543 and parameters: {'max_depth': 6, 'learning_rate': 0.005103798349970255, 'colsample_bytree': 0.4110671309186355, 'subsample': 0.7888875378259229, 'alpha': 0.44122569791988137, 'lambda': 4.239182603947041e-07, 'min_child_weight': 30.633737856346514}. Best is trial 23 with value: 130071631.5757205.\n",
      "C:\\Users\\clopearg\\AppData\\Local\\Temp\\ipykernel_61528\\3309686106.py:20: FutureWarning:\n",
      "\n",
      "suggest_loguniform has been deprecated in v3.0.0. This feature will be removed in v6.0.0. See https://github.com/optuna/optuna/releases/tag/v3.0.0. Use suggest_float(..., log=True) instead.\n",
      "\n",
      "C:\\Users\\clopearg\\AppData\\Local\\Temp\\ipykernel_61528\\3309686106.py:21: FutureWarning:\n",
      "\n",
      "suggest_loguniform has been deprecated in v3.0.0. This feature will be removed in v6.0.0. See https://github.com/optuna/optuna/releases/tag/v3.0.0. Use suggest_float(..., log=True) instead.\n",
      "\n",
      "C:\\Users\\clopearg\\AppData\\Local\\Temp\\ipykernel_61528\\3309686106.py:22: FutureWarning:\n",
      "\n",
      "suggest_loguniform has been deprecated in v3.0.0. This feature will be removed in v6.0.0. See https://github.com/optuna/optuna/releases/tag/v3.0.0. Use suggest_float(..., log=True) instead.\n",
      "\n",
      "C:\\Users\\clopearg\\AppData\\Local\\Temp\\ipykernel_61528\\3309686106.py:23: FutureWarning:\n",
      "\n",
      "suggest_loguniform has been deprecated in v3.0.0. This feature will be removed in v6.0.0. See https://github.com/optuna/optuna/releases/tag/v3.0.0. Use suggest_float(..., log=True) instead.\n",
      "\n",
      "C:\\Users\\clopearg\\AppData\\Local\\Temp\\ipykernel_61528\\3309686106.py:24: FutureWarning:\n",
      "\n",
      "suggest_loguniform has been deprecated in v3.0.0. This feature will be removed in v6.0.0. See https://github.com/optuna/optuna/releases/tag/v3.0.0. Use suggest_float(..., log=True) instead.\n",
      "\n",
      "C:\\Users\\clopearg\\AppData\\Local\\Temp\\ipykernel_61528\\3309686106.py:25: FutureWarning:\n",
      "\n",
      "suggest_loguniform has been deprecated in v3.0.0. This feature will be removed in v6.0.0. See https://github.com/optuna/optuna/releases/tag/v3.0.0. Use suggest_float(..., log=True) instead.\n",
      "\n",
      "C:\\Users\\clopearg\\AppData\\Local\\Temp\\ipykernel_61528\\3309686106.py:26: FutureWarning:\n",
      "\n",
      "suggest_loguniform has been deprecated in v3.0.0. This feature will be removed in v6.0.0. See https://github.com/optuna/optuna/releases/tag/v3.0.0. Use suggest_float(..., log=True) instead.\n",
      "\n",
      "[I 2024-11-16 17:10:30,303] Trial 27 finished with value: 141584471.98396054 and parameters: {'max_depth': 6, 'learning_rate': 0.00573273096266467, 'colsample_bytree': 0.4558915847905281, 'subsample': 0.6630697970248979, 'alpha': 0.48662552189775243, 'lambda': 4.381880146473235e-06, 'min_child_weight': 15.218790638756289}. Best is trial 23 with value: 130071631.5757205.\n",
      "C:\\Users\\clopearg\\AppData\\Local\\Temp\\ipykernel_61528\\3309686106.py:20: FutureWarning:\n",
      "\n",
      "suggest_loguniform has been deprecated in v3.0.0. This feature will be removed in v6.0.0. See https://github.com/optuna/optuna/releases/tag/v3.0.0. Use suggest_float(..., log=True) instead.\n",
      "\n",
      "C:\\Users\\clopearg\\AppData\\Local\\Temp\\ipykernel_61528\\3309686106.py:21: FutureWarning:\n",
      "\n",
      "suggest_loguniform has been deprecated in v3.0.0. This feature will be removed in v6.0.0. See https://github.com/optuna/optuna/releases/tag/v3.0.0. Use suggest_float(..., log=True) instead.\n",
      "\n",
      "C:\\Users\\clopearg\\AppData\\Local\\Temp\\ipykernel_61528\\3309686106.py:22: FutureWarning:\n",
      "\n",
      "suggest_loguniform has been deprecated in v3.0.0. This feature will be removed in v6.0.0. See https://github.com/optuna/optuna/releases/tag/v3.0.0. Use suggest_float(..., log=True) instead.\n",
      "\n",
      "C:\\Users\\clopearg\\AppData\\Local\\Temp\\ipykernel_61528\\3309686106.py:23: FutureWarning:\n",
      "\n",
      "suggest_loguniform has been deprecated in v3.0.0. This feature will be removed in v6.0.0. See https://github.com/optuna/optuna/releases/tag/v3.0.0. Use suggest_float(..., log=True) instead.\n",
      "\n",
      "C:\\Users\\clopearg\\AppData\\Local\\Temp\\ipykernel_61528\\3309686106.py:24: FutureWarning:\n",
      "\n",
      "suggest_loguniform has been deprecated in v3.0.0. This feature will be removed in v6.0.0. See https://github.com/optuna/optuna/releases/tag/v3.0.0. Use suggest_float(..., log=True) instead.\n",
      "\n",
      "C:\\Users\\clopearg\\AppData\\Local\\Temp\\ipykernel_61528\\3309686106.py:25: FutureWarning:\n",
      "\n",
      "suggest_loguniform has been deprecated in v3.0.0. This feature will be removed in v6.0.0. See https://github.com/optuna/optuna/releases/tag/v3.0.0. Use suggest_float(..., log=True) instead.\n",
      "\n",
      "C:\\Users\\clopearg\\AppData\\Local\\Temp\\ipykernel_61528\\3309686106.py:26: FutureWarning:\n",
      "\n",
      "suggest_loguniform has been deprecated in v3.0.0. This feature will be removed in v6.0.0. See https://github.com/optuna/optuna/releases/tag/v3.0.0. Use suggest_float(..., log=True) instead.\n",
      "\n",
      "[I 2024-11-16 17:10:40,911] Trial 28 finished with value: 135018762.4301651 and parameters: {'max_depth': 5, 'learning_rate': 0.008034180524523316, 'colsample_bytree': 0.3812500450377148, 'subsample': 0.6729078856463168, 'alpha': 0.06904356064486734, 'lambda': 2.9009530977721352e-05, 'min_child_weight': 33.29007262584633}. Best is trial 23 with value: 130071631.5757205.\n",
      "C:\\Users\\clopearg\\AppData\\Local\\Temp\\ipykernel_61528\\3309686106.py:20: FutureWarning:\n",
      "\n",
      "suggest_loguniform has been deprecated in v3.0.0. This feature will be removed in v6.0.0. See https://github.com/optuna/optuna/releases/tag/v3.0.0. Use suggest_float(..., log=True) instead.\n",
      "\n",
      "C:\\Users\\clopearg\\AppData\\Local\\Temp\\ipykernel_61528\\3309686106.py:21: FutureWarning:\n",
      "\n",
      "suggest_loguniform has been deprecated in v3.0.0. This feature will be removed in v6.0.0. See https://github.com/optuna/optuna/releases/tag/v3.0.0. Use suggest_float(..., log=True) instead.\n",
      "\n",
      "C:\\Users\\clopearg\\AppData\\Local\\Temp\\ipykernel_61528\\3309686106.py:22: FutureWarning:\n",
      "\n",
      "suggest_loguniform has been deprecated in v3.0.0. This feature will be removed in v6.0.0. See https://github.com/optuna/optuna/releases/tag/v3.0.0. Use suggest_float(..., log=True) instead.\n",
      "\n",
      "C:\\Users\\clopearg\\AppData\\Local\\Temp\\ipykernel_61528\\3309686106.py:23: FutureWarning:\n",
      "\n",
      "suggest_loguniform has been deprecated in v3.0.0. This feature will be removed in v6.0.0. See https://github.com/optuna/optuna/releases/tag/v3.0.0. Use suggest_float(..., log=True) instead.\n",
      "\n",
      "C:\\Users\\clopearg\\AppData\\Local\\Temp\\ipykernel_61528\\3309686106.py:24: FutureWarning:\n",
      "\n",
      "suggest_loguniform has been deprecated in v3.0.0. This feature will be removed in v6.0.0. See https://github.com/optuna/optuna/releases/tag/v3.0.0. Use suggest_float(..., log=True) instead.\n",
      "\n",
      "C:\\Users\\clopearg\\AppData\\Local\\Temp\\ipykernel_61528\\3309686106.py:25: FutureWarning:\n",
      "\n",
      "suggest_loguniform has been deprecated in v3.0.0. This feature will be removed in v6.0.0. See https://github.com/optuna/optuna/releases/tag/v3.0.0. Use suggest_float(..., log=True) instead.\n",
      "\n",
      "C:\\Users\\clopearg\\AppData\\Local\\Temp\\ipykernel_61528\\3309686106.py:26: FutureWarning:\n",
      "\n",
      "suggest_loguniform has been deprecated in v3.0.0. This feature will be removed in v6.0.0. See https://github.com/optuna/optuna/releases/tag/v3.0.0. Use suggest_float(..., log=True) instead.\n",
      "\n",
      "[I 2024-11-16 17:10:50,089] Trial 29 finished with value: 142631947.8049723 and parameters: {'max_depth': 6, 'learning_rate': 0.005795050708480039, 'colsample_bytree': 0.4713607961606221, 'subsample': 0.5565437273306075, 'alpha': 0.7017962086711905, 'lambda': 0.00026646839019805465, 'min_child_weight': 15.872249362122664}. Best is trial 23 with value: 130071631.5757205.\n"
     ]
    },
    {
     "name": "stdout",
     "output_type": "stream",
     "text": [
      "Number of finished trials: 30\n",
      "Best trial: {'max_depth': 5, 'learning_rate': 0.005253768412247795, 'colsample_bytree': 0.3756708375703581, 'subsample': 0.6379225675331539, 'alpha': 0.6249702499344099, 'lambda': 1.1948615973713107e-08, 'min_child_weight': 29.839185123016218}\n"
     ]
    }
   ],
   "source": [
    "study = optuna.create_study(direction='minimize')\n",
    "study.optimize(lambda trial: objective(trial,X_train,y_train,X_val,y_val), n_trials=30)\n",
    "print('Number of finished trials:', len(study.trials))\n",
    "print('Best trial:', study.best_trial.params)"
   ]
  },
  {
   "cell_type": "code",
   "execution_count": 116,
   "metadata": {},
   "outputs": [
    {
     "data": {
      "text/html": [
       "<div>\n",
       "<style scoped>\n",
       "    .dataframe tbody tr th:only-of-type {\n",
       "        vertical-align: middle;\n",
       "    }\n",
       "\n",
       "    .dataframe tbody tr th {\n",
       "        vertical-align: top;\n",
       "    }\n",
       "\n",
       "    .dataframe thead th {\n",
       "        text-align: right;\n",
       "    }\n",
       "</style>\n",
       "<table border=\"1\" class=\"dataframe\">\n",
       "  <thead>\n",
       "    <tr style=\"text-align: right;\">\n",
       "      <th></th>\n",
       "      <th>number</th>\n",
       "      <th>value</th>\n",
       "      <th>datetime_start</th>\n",
       "      <th>datetime_complete</th>\n",
       "      <th>duration</th>\n",
       "      <th>params_alpha</th>\n",
       "      <th>params_colsample_bytree</th>\n",
       "      <th>params_lambda</th>\n",
       "      <th>params_learning_rate</th>\n",
       "      <th>params_max_depth</th>\n",
       "      <th>params_min_child_weight</th>\n",
       "      <th>params_subsample</th>\n",
       "      <th>state</th>\n",
       "    </tr>\n",
       "  </thead>\n",
       "  <tbody>\n",
       "    <tr>\n",
       "      <th>0</th>\n",
       "      <td>0</td>\n",
       "      <td>1.500199e+08</td>\n",
       "      <td>2024-11-16 17:06:47.121413</td>\n",
       "      <td>2024-11-16 17:06:53.176154</td>\n",
       "      <td>0 days 00:00:06.054741</td>\n",
       "      <td>0.815096</td>\n",
       "      <td>0.512677</td>\n",
       "      <td>2.910896e-05</td>\n",
       "      <td>0.019023</td>\n",
       "      <td>7</td>\n",
       "      <td>45.343207</td>\n",
       "      <td>0.447488</td>\n",
       "      <td>COMPLETE</td>\n",
       "    </tr>\n",
       "    <tr>\n",
       "      <th>1</th>\n",
       "      <td>1</td>\n",
       "      <td>1.429087e+08</td>\n",
       "      <td>2024-11-16 17:06:53.178151</td>\n",
       "      <td>2024-11-16 17:07:04.636169</td>\n",
       "      <td>0 days 00:00:11.458018</td>\n",
       "      <td>0.096257</td>\n",
       "      <td>0.282567</td>\n",
       "      <td>2.027915e-08</td>\n",
       "      <td>0.014688</td>\n",
       "      <td>11</td>\n",
       "      <td>21.885608</td>\n",
       "      <td>0.498893</td>\n",
       "      <td>COMPLETE</td>\n",
       "    </tr>\n",
       "    <tr>\n",
       "      <th>2</th>\n",
       "      <td>2</td>\n",
       "      <td>1.660431e+08</td>\n",
       "      <td>2024-11-16 17:07:04.639169</td>\n",
       "      <td>2024-11-16 17:07:12.090681</td>\n",
       "      <td>0 days 00:00:07.451512</td>\n",
       "      <td>0.323854</td>\n",
       "      <td>0.206605</td>\n",
       "      <td>1.310248e-03</td>\n",
       "      <td>0.028421</td>\n",
       "      <td>10</td>\n",
       "      <td>184.990886</td>\n",
       "      <td>0.467533</td>\n",
       "      <td>COMPLETE</td>\n",
       "    </tr>\n",
       "    <tr>\n",
       "      <th>3</th>\n",
       "      <td>3</td>\n",
       "      <td>1.425336e+08</td>\n",
       "      <td>2024-11-16 17:07:12.093688</td>\n",
       "      <td>2024-11-16 17:07:23.441799</td>\n",
       "      <td>0 days 00:00:11.348111</td>\n",
       "      <td>2.771746</td>\n",
       "      <td>0.567418</td>\n",
       "      <td>3.965429e-02</td>\n",
       "      <td>0.012583</td>\n",
       "      <td>10</td>\n",
       "      <td>41.398423</td>\n",
       "      <td>0.741648</td>\n",
       "      <td>COMPLETE</td>\n",
       "    </tr>\n",
       "    <tr>\n",
       "      <th>4</th>\n",
       "      <td>4</td>\n",
       "      <td>2.147491e+08</td>\n",
       "      <td>2024-11-16 17:07:23.443799</td>\n",
       "      <td>2024-11-16 17:07:28.613533</td>\n",
       "      <td>0 days 00:00:05.169734</td>\n",
       "      <td>0.152862</td>\n",
       "      <td>0.227435</td>\n",
       "      <td>3.319713e-03</td>\n",
       "      <td>0.009257</td>\n",
       "      <td>12</td>\n",
       "      <td>914.617177</td>\n",
       "      <td>0.704942</td>\n",
       "      <td>COMPLETE</td>\n",
       "    </tr>\n",
       "    <tr>\n",
       "      <th>5</th>\n",
       "      <td>5</td>\n",
       "      <td>1.429956e+08</td>\n",
       "      <td>2024-11-16 17:07:28.614536</td>\n",
       "      <td>2024-11-16 17:07:40.271069</td>\n",
       "      <td>0 days 00:00:11.656533</td>\n",
       "      <td>0.110846</td>\n",
       "      <td>0.305387</td>\n",
       "      <td>1.777806e-04</td>\n",
       "      <td>0.015629</td>\n",
       "      <td>11</td>\n",
       "      <td>23.974108</td>\n",
       "      <td>0.512023</td>\n",
       "      <td>COMPLETE</td>\n",
       "    </tr>\n",
       "    <tr>\n",
       "      <th>6</th>\n",
       "      <td>6</td>\n",
       "      <td>2.147491e+08</td>\n",
       "      <td>2024-11-16 17:07:40.274068</td>\n",
       "      <td>2024-11-16 17:07:44.969062</td>\n",
       "      <td>0 days 00:00:04.694994</td>\n",
       "      <td>0.038758</td>\n",
       "      <td>0.460282</td>\n",
       "      <td>4.755777e-01</td>\n",
       "      <td>0.006605</td>\n",
       "      <td>7</td>\n",
       "      <td>873.956847</td>\n",
       "      <td>0.732181</td>\n",
       "      <td>COMPLETE</td>\n",
       "    </tr>\n",
       "    <tr>\n",
       "      <th>7</th>\n",
       "      <td>7</td>\n",
       "      <td>2.147491e+08</td>\n",
       "      <td>2024-11-16 17:07:44.971061</td>\n",
       "      <td>2024-11-16 17:07:50.696401</td>\n",
       "      <td>0 days 00:00:05.725340</td>\n",
       "      <td>0.152764</td>\n",
       "      <td>0.403941</td>\n",
       "      <td>2.053767e+00</td>\n",
       "      <td>0.021588</td>\n",
       "      <td>5</td>\n",
       "      <td>713.725051</td>\n",
       "      <td>0.554681</td>\n",
       "      <td>COMPLETE</td>\n",
       "    </tr>\n",
       "    <tr>\n",
       "      <th>8</th>\n",
       "      <td>8</td>\n",
       "      <td>1.471151e+08</td>\n",
       "      <td>2024-11-16 17:07:50.697401</td>\n",
       "      <td>2024-11-16 17:08:00.099605</td>\n",
       "      <td>0 days 00:00:09.402204</td>\n",
       "      <td>0.220656</td>\n",
       "      <td>0.361897</td>\n",
       "      <td>2.606291e-02</td>\n",
       "      <td>0.017117</td>\n",
       "      <td>12</td>\n",
       "      <td>20.477887</td>\n",
       "      <td>0.518222</td>\n",
       "      <td>COMPLETE</td>\n",
       "    </tr>\n",
       "    <tr>\n",
       "      <th>9</th>\n",
       "      <td>9</td>\n",
       "      <td>1.467595e+08</td>\n",
       "      <td>2024-11-16 17:08:00.101606</td>\n",
       "      <td>2024-11-16 17:08:08.031136</td>\n",
       "      <td>0 days 00:00:07.929530</td>\n",
       "      <td>0.010693</td>\n",
       "      <td>0.402043</td>\n",
       "      <td>5.006451e-07</td>\n",
       "      <td>0.022064</td>\n",
       "      <td>11</td>\n",
       "      <td>49.160421</td>\n",
       "      <td>0.523808</td>\n",
       "      <td>COMPLETE</td>\n",
       "    </tr>\n",
       "    <tr>\n",
       "      <th>10</th>\n",
       "      <td>10</td>\n",
       "      <td>1.559634e+08</td>\n",
       "      <td>2024-11-16 17:08:08.033136</td>\n",
       "      <td>2024-11-16 17:08:13.551554</td>\n",
       "      <td>0 days 00:00:05.518418</td>\n",
       "      <td>8.839475</td>\n",
       "      <td>0.587225</td>\n",
       "      <td>1.628402e-01</td>\n",
       "      <td>0.039794</td>\n",
       "      <td>9</td>\n",
       "      <td>178.841193</td>\n",
       "      <td>0.648197</td>\n",
       "      <td>COMPLETE</td>\n",
       "    </tr>\n",
       "    <tr>\n",
       "      <th>11</th>\n",
       "      <td>11</td>\n",
       "      <td>1.359585e+08</td>\n",
       "      <td>2024-11-16 17:08:13.552556</td>\n",
       "      <td>2024-11-16 17:08:20.564953</td>\n",
       "      <td>0 days 00:00:07.012397</td>\n",
       "      <td>3.473116</td>\n",
       "      <td>0.287191</td>\n",
       "      <td>2.323614e-08</td>\n",
       "      <td>0.010837</td>\n",
       "      <td>9</td>\n",
       "      <td>57.286868</td>\n",
       "      <td>0.402194</td>\n",
       "      <td>COMPLETE</td>\n",
       "    </tr>\n",
       "    <tr>\n",
       "      <th>12</th>\n",
       "      <td>12</td>\n",
       "      <td>1.398958e+08</td>\n",
       "      <td>2024-11-16 17:08:20.566955</td>\n",
       "      <td>2024-11-16 17:08:27.714511</td>\n",
       "      <td>0 days 00:00:07.147556</td>\n",
       "      <td>4.439372</td>\n",
       "      <td>0.269669</td>\n",
       "      <td>5.895666e-06</td>\n",
       "      <td>0.009877</td>\n",
       "      <td>8</td>\n",
       "      <td>70.828784</td>\n",
       "      <td>0.417179</td>\n",
       "      <td>COMPLETE</td>\n",
       "    </tr>\n",
       "    <tr>\n",
       "      <th>13</th>\n",
       "      <td>13</td>\n",
       "      <td>1.464212e+08</td>\n",
       "      <td>2024-11-16 17:08:27.717512</td>\n",
       "      <td>2024-11-16 17:08:35.359057</td>\n",
       "      <td>0 days 00:00:07.641545</td>\n",
       "      <td>9.967744</td>\n",
       "      <td>0.254473</td>\n",
       "      <td>1.975134e-06</td>\n",
       "      <td>0.005271</td>\n",
       "      <td>8</td>\n",
       "      <td>100.443603</td>\n",
       "      <td>0.422096</td>\n",
       "      <td>COMPLETE</td>\n",
       "    </tr>\n",
       "    <tr>\n",
       "      <th>14</th>\n",
       "      <td>14</td>\n",
       "      <td>1.440565e+08</td>\n",
       "      <td>2024-11-16 17:08:35.361058</td>\n",
       "      <td>2024-11-16 17:08:44.198985</td>\n",
       "      <td>0 days 00:00:08.837927</td>\n",
       "      <td>1.886435</td>\n",
       "      <td>0.298801</td>\n",
       "      <td>2.588115e-08</td>\n",
       "      <td>0.008781</td>\n",
       "      <td>5</td>\n",
       "      <td>10.158311</td>\n",
       "      <td>0.403830</td>\n",
       "      <td>COMPLETE</td>\n",
       "    </tr>\n",
       "    <tr>\n",
       "      <th>15</th>\n",
       "      <td>15</td>\n",
       "      <td>1.427332e+08</td>\n",
       "      <td>2024-11-16 17:08:44.200988</td>\n",
       "      <td>2024-11-16 17:08:52.116103</td>\n",
       "      <td>0 days 00:00:07.915115</td>\n",
       "      <td>2.950780</td>\n",
       "      <td>0.250625</td>\n",
       "      <td>1.087696e-06</td>\n",
       "      <td>0.010421</td>\n",
       "      <td>7</td>\n",
       "      <td>104.735553</td>\n",
       "      <td>0.618772</td>\n",
       "      <td>COMPLETE</td>\n",
       "    </tr>\n",
       "    <tr>\n",
       "      <th>16</th>\n",
       "      <td>16</td>\n",
       "      <td>2.148065e+08</td>\n",
       "      <td>2024-11-16 17:08:52.118096</td>\n",
       "      <td>2024-11-16 17:08:58.209746</td>\n",
       "      <td>0 days 00:00:06.091650</td>\n",
       "      <td>0.728890</td>\n",
       "      <td>0.334950</td>\n",
       "      <td>2.326842e-05</td>\n",
       "      <td>0.007083</td>\n",
       "      <td>8</td>\n",
       "      <td>317.977410</td>\n",
       "      <td>0.439971</td>\n",
       "      <td>COMPLETE</td>\n",
       "    </tr>\n",
       "    <tr>\n",
       "      <th>17</th>\n",
       "      <td>17</td>\n",
       "      <td>1.368558e+08</td>\n",
       "      <td>2024-11-16 17:08:58.211745</td>\n",
       "      <td>2024-11-16 17:09:06.210138</td>\n",
       "      <td>0 days 00:00:07.998393</td>\n",
       "      <td>5.416143</td>\n",
       "      <td>0.259855</td>\n",
       "      <td>1.441081e-07</td>\n",
       "      <td>0.011474</td>\n",
       "      <td>4</td>\n",
       "      <td>59.885086</td>\n",
       "      <td>0.407137</td>\n",
       "      <td>COMPLETE</td>\n",
       "    </tr>\n",
       "    <tr>\n",
       "      <th>18</th>\n",
       "      <td>18</td>\n",
       "      <td>1.642634e+08</td>\n",
       "      <td>2024-11-16 17:09:06.211139</td>\n",
       "      <td>2024-11-16 17:09:12.279765</td>\n",
       "      <td>0 days 00:00:06.068626</td>\n",
       "      <td>1.019988</td>\n",
       "      <td>0.225305</td>\n",
       "      <td>1.220931e-07</td>\n",
       "      <td>0.012697</td>\n",
       "      <td>4</td>\n",
       "      <td>178.330179</td>\n",
       "      <td>0.477166</td>\n",
       "      <td>COMPLETE</td>\n",
       "    </tr>\n",
       "    <tr>\n",
       "      <th>19</th>\n",
       "      <td>19</td>\n",
       "      <td>1.526124e+08</td>\n",
       "      <td>2024-11-16 17:09:12.281766</td>\n",
       "      <td>2024-11-16 17:09:21.009183</td>\n",
       "      <td>0 days 00:00:08.727417</td>\n",
       "      <td>4.730654</td>\n",
       "      <td>0.352620</td>\n",
       "      <td>9.210105e-08</td>\n",
       "      <td>0.047225</td>\n",
       "      <td>6</td>\n",
       "      <td>11.275872</td>\n",
       "      <td>0.401305</td>\n",
       "      <td>COMPLETE</td>\n",
       "    </tr>\n",
       "    <tr>\n",
       "      <th>20</th>\n",
       "      <td>20</td>\n",
       "      <td>1.360452e+08</td>\n",
       "      <td>2024-11-16 17:09:21.011184</td>\n",
       "      <td>2024-11-16 17:09:29.330410</td>\n",
       "      <td>0 days 00:00:08.319226</td>\n",
       "      <td>1.434934</td>\n",
       "      <td>0.323096</td>\n",
       "      <td>1.384958e-08</td>\n",
       "      <td>0.006645</td>\n",
       "      <td>4</td>\n",
       "      <td>67.728235</td>\n",
       "      <td>0.584985</td>\n",
       "      <td>COMPLETE</td>\n",
       "    </tr>\n",
       "    <tr>\n",
       "      <th>21</th>\n",
       "      <td>21</td>\n",
       "      <td>1.348900e+08</td>\n",
       "      <td>2024-11-16 17:09:29.332413</td>\n",
       "      <td>2024-11-16 17:09:37.658677</td>\n",
       "      <td>0 days 00:00:08.326264</td>\n",
       "      <td>1.494945</td>\n",
       "      <td>0.303332</td>\n",
       "      <td>1.865433e-08</td>\n",
       "      <td>0.006700</td>\n",
       "      <td>4</td>\n",
       "      <td>66.502903</td>\n",
       "      <td>0.605240</td>\n",
       "      <td>COMPLETE</td>\n",
       "    </tr>\n",
       "    <tr>\n",
       "      <th>22</th>\n",
       "      <td>22</td>\n",
       "      <td>1.356507e+08</td>\n",
       "      <td>2024-11-16 17:09:37.662672</td>\n",
       "      <td>2024-11-16 17:09:45.544744</td>\n",
       "      <td>0 days 00:00:07.882072</td>\n",
       "      <td>1.427992</td>\n",
       "      <td>0.321063</td>\n",
       "      <td>1.099263e-08</td>\n",
       "      <td>0.007096</td>\n",
       "      <td>5</td>\n",
       "      <td>86.400000</td>\n",
       "      <td>0.607122</td>\n",
       "      <td>COMPLETE</td>\n",
       "    </tr>\n",
       "    <tr>\n",
       "      <th>23</th>\n",
       "      <td>23</td>\n",
       "      <td>1.300716e+08</td>\n",
       "      <td>2024-11-16 17:09:45.547751</td>\n",
       "      <td>2024-11-16 17:09:54.392209</td>\n",
       "      <td>0 days 00:00:08.844458</td>\n",
       "      <td>0.624970</td>\n",
       "      <td>0.375671</td>\n",
       "      <td>1.194862e-08</td>\n",
       "      <td>0.005254</td>\n",
       "      <td>5</td>\n",
       "      <td>29.839185</td>\n",
       "      <td>0.637923</td>\n",
       "      <td>COMPLETE</td>\n",
       "    </tr>\n",
       "    <tr>\n",
       "      <th>24</th>\n",
       "      <td>24</td>\n",
       "      <td>1.302285e+08</td>\n",
       "      <td>2024-11-16 17:09:54.394207</td>\n",
       "      <td>2024-11-16 17:10:03.675632</td>\n",
       "      <td>0 days 00:00:09.281425</td>\n",
       "      <td>0.455568</td>\n",
       "      <td>0.377040</td>\n",
       "      <td>3.044262e-07</td>\n",
       "      <td>0.005141</td>\n",
       "      <td>5</td>\n",
       "      <td>31.538627</td>\n",
       "      <td>0.666479</td>\n",
       "      <td>COMPLETE</td>\n",
       "    </tr>\n",
       "    <tr>\n",
       "      <th>25</th>\n",
       "      <td>25</td>\n",
       "      <td>1.313454e+08</td>\n",
       "      <td>2024-11-16 17:10:03.677632</td>\n",
       "      <td>2024-11-16 17:10:11.941949</td>\n",
       "      <td>0 days 00:00:08.264317</td>\n",
       "      <td>0.470259</td>\n",
       "      <td>0.403741</td>\n",
       "      <td>2.586063e-07</td>\n",
       "      <td>0.005019</td>\n",
       "      <td>6</td>\n",
       "      <td>33.916571</td>\n",
       "      <td>0.674258</td>\n",
       "      <td>COMPLETE</td>\n",
       "    </tr>\n",
       "    <tr>\n",
       "      <th>26</th>\n",
       "      <td>26</td>\n",
       "      <td>1.320246e+08</td>\n",
       "      <td>2024-11-16 17:10:11.943946</td>\n",
       "      <td>2024-11-16 17:10:20.576338</td>\n",
       "      <td>0 days 00:00:08.632392</td>\n",
       "      <td>0.441226</td>\n",
       "      <td>0.411067</td>\n",
       "      <td>4.239183e-07</td>\n",
       "      <td>0.005104</td>\n",
       "      <td>6</td>\n",
       "      <td>30.633738</td>\n",
       "      <td>0.788888</td>\n",
       "      <td>COMPLETE</td>\n",
       "    </tr>\n",
       "    <tr>\n",
       "      <th>27</th>\n",
       "      <td>27</td>\n",
       "      <td>1.415845e+08</td>\n",
       "      <td>2024-11-16 17:10:20.579338</td>\n",
       "      <td>2024-11-16 17:10:30.303750</td>\n",
       "      <td>0 days 00:00:09.724412</td>\n",
       "      <td>0.486626</td>\n",
       "      <td>0.455892</td>\n",
       "      <td>4.381880e-06</td>\n",
       "      <td>0.005733</td>\n",
       "      <td>6</td>\n",
       "      <td>15.218791</td>\n",
       "      <td>0.663070</td>\n",
       "      <td>COMPLETE</td>\n",
       "    </tr>\n",
       "    <tr>\n",
       "      <th>28</th>\n",
       "      <td>28</td>\n",
       "      <td>1.350188e+08</td>\n",
       "      <td>2024-11-16 17:10:30.304749</td>\n",
       "      <td>2024-11-16 17:10:40.911400</td>\n",
       "      <td>0 days 00:00:10.606651</td>\n",
       "      <td>0.069044</td>\n",
       "      <td>0.381250</td>\n",
       "      <td>2.900953e-05</td>\n",
       "      <td>0.008034</td>\n",
       "      <td>5</td>\n",
       "      <td>33.290073</td>\n",
       "      <td>0.672908</td>\n",
       "      <td>COMPLETE</td>\n",
       "    </tr>\n",
       "    <tr>\n",
       "      <th>29</th>\n",
       "      <td>29</td>\n",
       "      <td>1.426319e+08</td>\n",
       "      <td>2024-11-16 17:10:40.913402</td>\n",
       "      <td>2024-11-16 17:10:50.088623</td>\n",
       "      <td>0 days 00:00:09.175221</td>\n",
       "      <td>0.701796</td>\n",
       "      <td>0.471361</td>\n",
       "      <td>2.664684e-04</td>\n",
       "      <td>0.005795</td>\n",
       "      <td>6</td>\n",
       "      <td>15.872249</td>\n",
       "      <td>0.556544</td>\n",
       "      <td>COMPLETE</td>\n",
       "    </tr>\n",
       "  </tbody>\n",
       "</table>\n",
       "</div>"
      ],
      "text/plain": [
       "    number         value             datetime_start  \\\n",
       "0        0  1.500199e+08 2024-11-16 17:06:47.121413   \n",
       "1        1  1.429087e+08 2024-11-16 17:06:53.178151   \n",
       "2        2  1.660431e+08 2024-11-16 17:07:04.639169   \n",
       "3        3  1.425336e+08 2024-11-16 17:07:12.093688   \n",
       "4        4  2.147491e+08 2024-11-16 17:07:23.443799   \n",
       "5        5  1.429956e+08 2024-11-16 17:07:28.614536   \n",
       "6        6  2.147491e+08 2024-11-16 17:07:40.274068   \n",
       "7        7  2.147491e+08 2024-11-16 17:07:44.971061   \n",
       "8        8  1.471151e+08 2024-11-16 17:07:50.697401   \n",
       "9        9  1.467595e+08 2024-11-16 17:08:00.101606   \n",
       "10      10  1.559634e+08 2024-11-16 17:08:08.033136   \n",
       "11      11  1.359585e+08 2024-11-16 17:08:13.552556   \n",
       "12      12  1.398958e+08 2024-11-16 17:08:20.566955   \n",
       "13      13  1.464212e+08 2024-11-16 17:08:27.717512   \n",
       "14      14  1.440565e+08 2024-11-16 17:08:35.361058   \n",
       "15      15  1.427332e+08 2024-11-16 17:08:44.200988   \n",
       "16      16  2.148065e+08 2024-11-16 17:08:52.118096   \n",
       "17      17  1.368558e+08 2024-11-16 17:08:58.211745   \n",
       "18      18  1.642634e+08 2024-11-16 17:09:06.211139   \n",
       "19      19  1.526124e+08 2024-11-16 17:09:12.281766   \n",
       "20      20  1.360452e+08 2024-11-16 17:09:21.011184   \n",
       "21      21  1.348900e+08 2024-11-16 17:09:29.332413   \n",
       "22      22  1.356507e+08 2024-11-16 17:09:37.662672   \n",
       "23      23  1.300716e+08 2024-11-16 17:09:45.547751   \n",
       "24      24  1.302285e+08 2024-11-16 17:09:54.394207   \n",
       "25      25  1.313454e+08 2024-11-16 17:10:03.677632   \n",
       "26      26  1.320246e+08 2024-11-16 17:10:11.943946   \n",
       "27      27  1.415845e+08 2024-11-16 17:10:20.579338   \n",
       "28      28  1.350188e+08 2024-11-16 17:10:30.304749   \n",
       "29      29  1.426319e+08 2024-11-16 17:10:40.913402   \n",
       "\n",
       "            datetime_complete               duration  params_alpha  \\\n",
       "0  2024-11-16 17:06:53.176154 0 days 00:00:06.054741      0.815096   \n",
       "1  2024-11-16 17:07:04.636169 0 days 00:00:11.458018      0.096257   \n",
       "2  2024-11-16 17:07:12.090681 0 days 00:00:07.451512      0.323854   \n",
       "3  2024-11-16 17:07:23.441799 0 days 00:00:11.348111      2.771746   \n",
       "4  2024-11-16 17:07:28.613533 0 days 00:00:05.169734      0.152862   \n",
       "5  2024-11-16 17:07:40.271069 0 days 00:00:11.656533      0.110846   \n",
       "6  2024-11-16 17:07:44.969062 0 days 00:00:04.694994      0.038758   \n",
       "7  2024-11-16 17:07:50.696401 0 days 00:00:05.725340      0.152764   \n",
       "8  2024-11-16 17:08:00.099605 0 days 00:00:09.402204      0.220656   \n",
       "9  2024-11-16 17:08:08.031136 0 days 00:00:07.929530      0.010693   \n",
       "10 2024-11-16 17:08:13.551554 0 days 00:00:05.518418      8.839475   \n",
       "11 2024-11-16 17:08:20.564953 0 days 00:00:07.012397      3.473116   \n",
       "12 2024-11-16 17:08:27.714511 0 days 00:00:07.147556      4.439372   \n",
       "13 2024-11-16 17:08:35.359057 0 days 00:00:07.641545      9.967744   \n",
       "14 2024-11-16 17:08:44.198985 0 days 00:00:08.837927      1.886435   \n",
       "15 2024-11-16 17:08:52.116103 0 days 00:00:07.915115      2.950780   \n",
       "16 2024-11-16 17:08:58.209746 0 days 00:00:06.091650      0.728890   \n",
       "17 2024-11-16 17:09:06.210138 0 days 00:00:07.998393      5.416143   \n",
       "18 2024-11-16 17:09:12.279765 0 days 00:00:06.068626      1.019988   \n",
       "19 2024-11-16 17:09:21.009183 0 days 00:00:08.727417      4.730654   \n",
       "20 2024-11-16 17:09:29.330410 0 days 00:00:08.319226      1.434934   \n",
       "21 2024-11-16 17:09:37.658677 0 days 00:00:08.326264      1.494945   \n",
       "22 2024-11-16 17:09:45.544744 0 days 00:00:07.882072      1.427992   \n",
       "23 2024-11-16 17:09:54.392209 0 days 00:00:08.844458      0.624970   \n",
       "24 2024-11-16 17:10:03.675632 0 days 00:00:09.281425      0.455568   \n",
       "25 2024-11-16 17:10:11.941949 0 days 00:00:08.264317      0.470259   \n",
       "26 2024-11-16 17:10:20.576338 0 days 00:00:08.632392      0.441226   \n",
       "27 2024-11-16 17:10:30.303750 0 days 00:00:09.724412      0.486626   \n",
       "28 2024-11-16 17:10:40.911400 0 days 00:00:10.606651      0.069044   \n",
       "29 2024-11-16 17:10:50.088623 0 days 00:00:09.175221      0.701796   \n",
       "\n",
       "    params_colsample_bytree  params_lambda  params_learning_rate  \\\n",
       "0                  0.512677   2.910896e-05              0.019023   \n",
       "1                  0.282567   2.027915e-08              0.014688   \n",
       "2                  0.206605   1.310248e-03              0.028421   \n",
       "3                  0.567418   3.965429e-02              0.012583   \n",
       "4                  0.227435   3.319713e-03              0.009257   \n",
       "5                  0.305387   1.777806e-04              0.015629   \n",
       "6                  0.460282   4.755777e-01              0.006605   \n",
       "7                  0.403941   2.053767e+00              0.021588   \n",
       "8                  0.361897   2.606291e-02              0.017117   \n",
       "9                  0.402043   5.006451e-07              0.022064   \n",
       "10                 0.587225   1.628402e-01              0.039794   \n",
       "11                 0.287191   2.323614e-08              0.010837   \n",
       "12                 0.269669   5.895666e-06              0.009877   \n",
       "13                 0.254473   1.975134e-06              0.005271   \n",
       "14                 0.298801   2.588115e-08              0.008781   \n",
       "15                 0.250625   1.087696e-06              0.010421   \n",
       "16                 0.334950   2.326842e-05              0.007083   \n",
       "17                 0.259855   1.441081e-07              0.011474   \n",
       "18                 0.225305   1.220931e-07              0.012697   \n",
       "19                 0.352620   9.210105e-08              0.047225   \n",
       "20                 0.323096   1.384958e-08              0.006645   \n",
       "21                 0.303332   1.865433e-08              0.006700   \n",
       "22                 0.321063   1.099263e-08              0.007096   \n",
       "23                 0.375671   1.194862e-08              0.005254   \n",
       "24                 0.377040   3.044262e-07              0.005141   \n",
       "25                 0.403741   2.586063e-07              0.005019   \n",
       "26                 0.411067   4.239183e-07              0.005104   \n",
       "27                 0.455892   4.381880e-06              0.005733   \n",
       "28                 0.381250   2.900953e-05              0.008034   \n",
       "29                 0.471361   2.664684e-04              0.005795   \n",
       "\n",
       "    params_max_depth  params_min_child_weight  params_subsample     state  \n",
       "0                  7                45.343207          0.447488  COMPLETE  \n",
       "1                 11                21.885608          0.498893  COMPLETE  \n",
       "2                 10               184.990886          0.467533  COMPLETE  \n",
       "3                 10                41.398423          0.741648  COMPLETE  \n",
       "4                 12               914.617177          0.704942  COMPLETE  \n",
       "5                 11                23.974108          0.512023  COMPLETE  \n",
       "6                  7               873.956847          0.732181  COMPLETE  \n",
       "7                  5               713.725051          0.554681  COMPLETE  \n",
       "8                 12                20.477887          0.518222  COMPLETE  \n",
       "9                 11                49.160421          0.523808  COMPLETE  \n",
       "10                 9               178.841193          0.648197  COMPLETE  \n",
       "11                 9                57.286868          0.402194  COMPLETE  \n",
       "12                 8                70.828784          0.417179  COMPLETE  \n",
       "13                 8               100.443603          0.422096  COMPLETE  \n",
       "14                 5                10.158311          0.403830  COMPLETE  \n",
       "15                 7               104.735553          0.618772  COMPLETE  \n",
       "16                 8               317.977410          0.439971  COMPLETE  \n",
       "17                 4                59.885086          0.407137  COMPLETE  \n",
       "18                 4               178.330179          0.477166  COMPLETE  \n",
       "19                 6                11.275872          0.401305  COMPLETE  \n",
       "20                 4                67.728235          0.584985  COMPLETE  \n",
       "21                 4                66.502903          0.605240  COMPLETE  \n",
       "22                 5                86.400000          0.607122  COMPLETE  \n",
       "23                 5                29.839185          0.637923  COMPLETE  \n",
       "24                 5                31.538627          0.666479  COMPLETE  \n",
       "25                 6                33.916571          0.674258  COMPLETE  \n",
       "26                 6                30.633738          0.788888  COMPLETE  \n",
       "27                 6                15.218791          0.663070  COMPLETE  \n",
       "28                 5                33.290073          0.672908  COMPLETE  \n",
       "29                 6                15.872249          0.556544  COMPLETE  "
      ]
     },
     "execution_count": 116,
     "metadata": {},
     "output_type": "execute_result"
    }
   ],
   "source": [
    "study.trials_dataframe()"
   ]
  },
  {
   "cell_type": "code",
   "execution_count": 119,
   "metadata": {},
   "outputs": [
    {
     "name": "stdout",
     "output_type": "stream",
     "text": [
      "XGB MAE: 131396231.85869566\n",
      "XGB MAPE: 92.5839272228366\n",
      "XGB RMSE: 195474978.15932322\n"
     ]
    }
   ],
   "source": [
    "# North American Sales Optimized Parameters:\n",
    "param = study.best_trial.params\n",
    "\n",
    "model_xgb = xgb.XGBRegressor(**param)\n",
    "model_xgb.fit(X_train, y_train)\n",
    "pred_xgb = model_xgb.predict(X_test)\n",
    "print('XGB MAE:', mean_absolute_error(y_test, pred_xgb))\n",
    "print('XGB MAPE:', mean_absolute_percentage_error(y_test, pred_xgb))\n",
    "print('XGB RMSE:', root_mean_squared_error(y_test, pred_xgb))"
   ]
  }
 ],
 "metadata": {
  "kernelspec": {
   "display_name": ".venv",
   "language": "python",
   "name": "python3"
  },
  "language_info": {
   "codemirror_mode": {
    "name": "ipython",
    "version": 3
   },
   "file_extension": ".py",
   "mimetype": "text/x-python",
   "name": "python",
   "nbconvert_exporter": "python",
   "pygments_lexer": "ipython3",
   "version": "3.11.6"
  }
 },
 "nbformat": 4,
 "nbformat_minor": 2
}
