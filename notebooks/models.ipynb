{
 "cells": [
  {
   "cell_type": "code",
   "execution_count": 1,
   "metadata": {},
   "outputs": [
    {
     "name": "stderr",
     "output_type": "stream",
     "text": [
      "c:\\Users\\clopearg\\OneDrive - NTT DATA EMEAL\\Desktop\\Fer\\Visualización\\PracticaVisualizacion\\.venv\\Lib\\site-packages\\tqdm\\auto.py:21: TqdmWarning: IProgress not found. Please update jupyter and ipywidgets. See https://ipywidgets.readthedocs.io/en/stable/user_install.html\n",
      "  from .autonotebook import tqdm as notebook_tqdm\n"
     ]
    }
   ],
   "source": [
    "import pandas as pd\n",
    "from sklearn.model_selection import train_test_split\n",
    "from sklearn.ensemble import RandomForestRegressor\n",
    "from sklearn.metrics import mean_squared_error, r2_score, mean_absolute_percentage_error, root_mean_squared_error, mean_absolute_error\n",
    "import plotly.express as px\n",
    "import plotly.graph_objects as go\n",
    "import optuna\n",
    "import xgboost as xgb\n",
    "from catboost import CatBoostRegressor"
   ]
  },
  {
   "cell_type": "markdown",
   "metadata": {},
   "source": [
    "## Carga de datos procesados"
   ]
  },
  {
   "cell_type": "code",
   "execution_count": 2,
   "metadata": {},
   "outputs": [],
   "source": [
    "df = pd.read_csv(\"../data/processed/df_model.csv\")"
   ]
  },
  {
   "cell_type": "code",
   "execution_count": 3,
   "metadata": {},
   "outputs": [
    {
     "data": {
      "text/html": [
       "<div>\n",
       "<style scoped>\n",
       "    .dataframe tbody tr th:only-of-type {\n",
       "        vertical-align: middle;\n",
       "    }\n",
       "\n",
       "    .dataframe tbody tr th {\n",
       "        vertical-align: top;\n",
       "    }\n",
       "\n",
       "    .dataframe thead th {\n",
       "        text-align: right;\n",
       "    }\n",
       "</style>\n",
       "<table border=\"1\" class=\"dataframe\">\n",
       "  <thead>\n",
       "    <tr style=\"text-align: right;\">\n",
       "      <th></th>\n",
       "      <th>budget</th>\n",
       "      <th>popularity</th>\n",
       "      <th>revenue</th>\n",
       "      <th>runtime</th>\n",
       "      <th>vote_average</th>\n",
       "      <th>vote_count</th>\n",
       "      <th>Action</th>\n",
       "      <th>Adventure</th>\n",
       "      <th>Animation</th>\n",
       "      <th>Comedy</th>\n",
       "      <th>...</th>\n",
       "      <th>Germany</th>\n",
       "      <th>Other_country</th>\n",
       "      <th>United Kingdom</th>\n",
       "      <th>United States of America</th>\n",
       "      <th>year</th>\n",
       "      <th>month</th>\n",
       "      <th>day</th>\n",
       "      <th>weekday</th>\n",
       "      <th>day_of_year</th>\n",
       "      <th>gdp</th>\n",
       "    </tr>\n",
       "  </thead>\n",
       "  <tbody>\n",
       "    <tr>\n",
       "      <th>0</th>\n",
       "      <td>237000000</td>\n",
       "      <td>150.437577</td>\n",
       "      <td>2787965087</td>\n",
       "      <td>162.0</td>\n",
       "      <td>7.2</td>\n",
       "      <td>11800</td>\n",
       "      <td>1</td>\n",
       "      <td>1</td>\n",
       "      <td>0</td>\n",
       "      <td>0</td>\n",
       "      <td>...</td>\n",
       "      <td>0</td>\n",
       "      <td>0</td>\n",
       "      <td>1</td>\n",
       "      <td>1</td>\n",
       "      <td>2009</td>\n",
       "      <td>12</td>\n",
       "      <td>10</td>\n",
       "      <td>3</td>\n",
       "      <td>344</td>\n",
       "      <td>14478067</td>\n",
       "    </tr>\n",
       "    <tr>\n",
       "      <th>1</th>\n",
       "      <td>300000000</td>\n",
       "      <td>139.082615</td>\n",
       "      <td>961000000</td>\n",
       "      <td>169.0</td>\n",
       "      <td>6.9</td>\n",
       "      <td>4500</td>\n",
       "      <td>1</td>\n",
       "      <td>1</td>\n",
       "      <td>0</td>\n",
       "      <td>0</td>\n",
       "      <td>...</td>\n",
       "      <td>0</td>\n",
       "      <td>0</td>\n",
       "      <td>0</td>\n",
       "      <td>1</td>\n",
       "      <td>2007</td>\n",
       "      <td>5</td>\n",
       "      <td>19</td>\n",
       "      <td>5</td>\n",
       "      <td>139</td>\n",
       "      <td>14474228</td>\n",
       "    </tr>\n",
       "    <tr>\n",
       "      <th>2</th>\n",
       "      <td>245000000</td>\n",
       "      <td>107.376788</td>\n",
       "      <td>880674609</td>\n",
       "      <td>148.0</td>\n",
       "      <td>6.3</td>\n",
       "      <td>4466</td>\n",
       "      <td>1</td>\n",
       "      <td>1</td>\n",
       "      <td>0</td>\n",
       "      <td>0</td>\n",
       "      <td>...</td>\n",
       "      <td>0</td>\n",
       "      <td>0</td>\n",
       "      <td>1</td>\n",
       "      <td>1</td>\n",
       "      <td>2015</td>\n",
       "      <td>10</td>\n",
       "      <td>26</td>\n",
       "      <td>0</td>\n",
       "      <td>299</td>\n",
       "      <td>18295019</td>\n",
       "    </tr>\n",
       "    <tr>\n",
       "      <th>3</th>\n",
       "      <td>250000000</td>\n",
       "      <td>112.312950</td>\n",
       "      <td>1084939099</td>\n",
       "      <td>165.0</td>\n",
       "      <td>7.6</td>\n",
       "      <td>9106</td>\n",
       "      <td>1</td>\n",
       "      <td>0</td>\n",
       "      <td>0</td>\n",
       "      <td>0</td>\n",
       "      <td>...</td>\n",
       "      <td>0</td>\n",
       "      <td>0</td>\n",
       "      <td>0</td>\n",
       "      <td>1</td>\n",
       "      <td>2012</td>\n",
       "      <td>7</td>\n",
       "      <td>16</td>\n",
       "      <td>0</td>\n",
       "      <td>198</td>\n",
       "      <td>16253970</td>\n",
       "    </tr>\n",
       "    <tr>\n",
       "      <th>4</th>\n",
       "      <td>260000000</td>\n",
       "      <td>43.926995</td>\n",
       "      <td>284139100</td>\n",
       "      <td>132.0</td>\n",
       "      <td>6.1</td>\n",
       "      <td>2124</td>\n",
       "      <td>1</td>\n",
       "      <td>1</td>\n",
       "      <td>0</td>\n",
       "      <td>0</td>\n",
       "      <td>...</td>\n",
       "      <td>0</td>\n",
       "      <td>0</td>\n",
       "      <td>0</td>\n",
       "      <td>1</td>\n",
       "      <td>2012</td>\n",
       "      <td>3</td>\n",
       "      <td>7</td>\n",
       "      <td>2</td>\n",
       "      <td>67</td>\n",
       "      <td>16253970</td>\n",
       "    </tr>\n",
       "  </tbody>\n",
       "</table>\n",
       "<p>5 rows × 54 columns</p>\n",
       "</div>"
      ],
      "text/plain": [
       "      budget  popularity     revenue  runtime  vote_average  vote_count  \\\n",
       "0  237000000  150.437577  2787965087    162.0           7.2       11800   \n",
       "1  300000000  139.082615   961000000    169.0           6.9        4500   \n",
       "2  245000000  107.376788   880674609    148.0           6.3        4466   \n",
       "3  250000000  112.312950  1084939099    165.0           7.6        9106   \n",
       "4  260000000   43.926995   284139100    132.0           6.1        2124   \n",
       "\n",
       "   Action  Adventure  Animation  Comedy  ...  Germany  Other_country  \\\n",
       "0       1          1          0       0  ...        0              0   \n",
       "1       1          1          0       0  ...        0              0   \n",
       "2       1          1          0       0  ...        0              0   \n",
       "3       1          0          0       0  ...        0              0   \n",
       "4       1          1          0       0  ...        0              0   \n",
       "\n",
       "   United Kingdom  United States of America  year  month  day  weekday  \\\n",
       "0               1                         1  2009     12   10        3   \n",
       "1               0                         1  2007      5   19        5   \n",
       "2               1                         1  2015     10   26        0   \n",
       "3               0                         1  2012      7   16        0   \n",
       "4               0                         1  2012      3    7        2   \n",
       "\n",
       "   day_of_year       gdp  \n",
       "0          344  14478067  \n",
       "1          139  14474228  \n",
       "2          299  18295019  \n",
       "3          198  16253970  \n",
       "4           67  16253970  \n",
       "\n",
       "[5 rows x 54 columns]"
      ]
     },
     "execution_count": 3,
     "metadata": {},
     "output_type": "execute_result"
    }
   ],
   "source": [
    "df.head()"
   ]
  },
  {
   "cell_type": "markdown",
   "metadata": {},
   "source": [
    "## Modelos"
   ]
  },
  {
   "cell_type": "markdown",
   "metadata": {},
   "source": [
    "### 1. RandomForest con todas las variables"
   ]
  },
  {
   "cell_type": "code",
   "execution_count": 38,
   "metadata": {},
   "outputs": [],
   "source": [
    "target = \"revenue\"\n",
    "df_X = df.drop(columns=target)\n",
    "df_y = df[[target]]"
   ]
  },
  {
   "cell_type": "code",
   "execution_count": 39,
   "metadata": {},
   "outputs": [],
   "source": [
    "# Split the data into training and testing sets\n",
    "X_train, X_test, y_train, y_test = train_test_split(df_X, df_y, test_size=0.2, random_state=42)"
   ]
  },
  {
   "cell_type": "code",
   "execution_count": 40,
   "metadata": {},
   "outputs": [
    {
     "name": "stderr",
     "output_type": "stream",
     "text": [
      "c:\\Users\\clopearg\\OneDrive - NTT DATA EMEAL\\Desktop\\Fer\\Visualización\\PracticaVisualizacion\\.venv\\Lib\\site-packages\\sklearn\\base.py:1473: DataConversionWarning:\n",
      "\n",
      "A column-vector y was passed when a 1d array was expected. Please change the shape of y to (n_samples,), for example using ravel().\n",
      "\n"
     ]
    }
   ],
   "source": [
    "# Initialize the RandomForestRegressor model\n",
    "rf_regressor = RandomForestRegressor(n_estimators=100, random_state=42)\n",
    "\n",
    "# Train the model\n",
    "rf_regressor.fit(X_train, y_train)\n",
    "\n",
    "# Predict on the test set\n",
    "y_pred = rf_regressor.predict(X_test)"
   ]
  },
  {
   "cell_type": "code",
   "execution_count": 41,
   "metadata": {},
   "outputs": [
    {
     "name": "stdout",
     "output_type": "stream",
     "text": [
      "mse: 1.560167791023581e+16\n",
      "r2: 0.7163564310238448\n",
      "mape: 8.911110962183297\n"
     ]
    }
   ],
   "source": [
    "# Evaluate the model\n",
    "mse = mean_squared_error(y_test, y_pred)\n",
    "r2 = r2_score(y_test, y_pred)\n",
    "mape = mean_absolute_percentage_error(y_test, y_pred)\n",
    "print(f\"mse: {mse}\")\n",
    "print(f\"r2: {r2}\")\n",
    "print(f\"mape: {mape}\")"
   ]
  },
  {
   "cell_type": "code",
   "execution_count": 42,
   "metadata": {},
   "outputs": [
    {
     "data": {
      "text/html": [
       "<div>\n",
       "<style scoped>\n",
       "    .dataframe tbody tr th:only-of-type {\n",
       "        vertical-align: middle;\n",
       "    }\n",
       "\n",
       "    .dataframe tbody tr th {\n",
       "        vertical-align: top;\n",
       "    }\n",
       "\n",
       "    .dataframe thead th {\n",
       "        text-align: right;\n",
       "    }\n",
       "</style>\n",
       "<table border=\"1\" class=\"dataframe\">\n",
       "  <thead>\n",
       "    <tr style=\"text-align: right;\">\n",
       "      <th></th>\n",
       "      <th>y_real</th>\n",
       "      <th>y_pred</th>\n",
       "      <th>mape</th>\n",
       "    </tr>\n",
       "  </thead>\n",
       "  <tbody>\n",
       "    <tr>\n",
       "      <th>548</th>\n",
       "      <td>170128460</td>\n",
       "      <td>6.838939e+07</td>\n",
       "      <td>59.801320</td>\n",
       "    </tr>\n",
       "    <tr>\n",
       "      <th>704</th>\n",
       "      <td>201634991</td>\n",
       "      <td>1.130789e+08</td>\n",
       "      <td>43.919033</td>\n",
       "    </tr>\n",
       "    <tr>\n",
       "      <th>244</th>\n",
       "      <td>384335608</td>\n",
       "      <td>2.590680e+08</td>\n",
       "      <td>32.593299</td>\n",
       "    </tr>\n",
       "    <tr>\n",
       "      <th>552</th>\n",
       "      <td>74597643</td>\n",
       "      <td>5.331019e+07</td>\n",
       "      <td>28.536366</td>\n",
       "    </tr>\n",
       "    <tr>\n",
       "      <th>1164</th>\n",
       "      <td>15992615</td>\n",
       "      <td>4.727641e+07</td>\n",
       "      <td>195.614013</td>\n",
       "    </tr>\n",
       "    <tr>\n",
       "      <th>...</th>\n",
       "      <td>...</td>\n",
       "      <td>...</td>\n",
       "      <td>...</td>\n",
       "    </tr>\n",
       "    <tr>\n",
       "      <th>808</th>\n",
       "      <td>131282949</td>\n",
       "      <td>1.583716e+08</td>\n",
       "      <td>20.633817</td>\n",
       "    </tr>\n",
       "    <tr>\n",
       "      <th>88</th>\n",
       "      <td>938212738</td>\n",
       "      <td>6.930777e+08</td>\n",
       "      <td>26.127871</td>\n",
       "    </tr>\n",
       "    <tr>\n",
       "      <th>1144</th>\n",
       "      <td>35564473</td>\n",
       "      <td>2.555845e+07</td>\n",
       "      <td>28.134872</td>\n",
       "    </tr>\n",
       "    <tr>\n",
       "      <th>298</th>\n",
       "      <td>219417255</td>\n",
       "      <td>1.906093e+08</td>\n",
       "      <td>13.129305</td>\n",
       "    </tr>\n",
       "    <tr>\n",
       "      <th>376</th>\n",
       "      <td>244082376</td>\n",
       "      <td>2.230325e+08</td>\n",
       "      <td>8.624106</td>\n",
       "    </tr>\n",
       "  </tbody>\n",
       "</table>\n",
       "<p>246 rows × 3 columns</p>\n",
       "</div>"
      ],
      "text/plain": [
       "         y_real        y_pred        mape\n",
       "548   170128460  6.838939e+07   59.801320\n",
       "704   201634991  1.130789e+08   43.919033\n",
       "244   384335608  2.590680e+08   32.593299\n",
       "552    74597643  5.331019e+07   28.536366\n",
       "1164   15992615  4.727641e+07  195.614013\n",
       "...         ...           ...         ...\n",
       "808   131282949  1.583716e+08   20.633817\n",
       "88    938212738  6.930777e+08   26.127871\n",
       "1144   35564473  2.555845e+07   28.134872\n",
       "298   219417255  1.906093e+08   13.129305\n",
       "376   244082376  2.230325e+08    8.624106\n",
       "\n",
       "[246 rows x 3 columns]"
      ]
     },
     "execution_count": 42,
     "metadata": {},
     "output_type": "execute_result"
    }
   ],
   "source": [
    "test_preds_df = pd.DataFrame({'y_real': y_test['revenue'], 'y_pred': y_pred})\n",
    "test_preds_df['mape'] = abs(test_preds_df['y_real']-test_preds_df['y_pred'])/test_preds_df['y_real']*100\n",
    "test_preds_df"
   ]
  },
  {
   "cell_type": "code",
   "execution_count": 43,
   "metadata": {},
   "outputs": [
    {
     "data": {
      "application/vnd.plotly.v1+json": {
       "config": {
        "plotlyServerURL": "https://plot.ly"
       },
       "data": [
        {
         "text": [
          0.458,
          0.309,
          0.051,
          0.027,
          0.02,
          0.017,
          0.017,
          0.013,
          0.01,
          0.009,
          0.009,
          0.008,
          0.008,
          0.007,
          0.006,
          0.003,
          0.002,
          0.002,
          0.002,
          0.002,
          0.002,
          0.002,
          0.002,
          0.002,
          0.002,
          0.002,
          0.001,
          0.001,
          0.001,
          0.001,
          0.001,
          0.001,
          0.001,
          0.001,
          0.001,
          0,
          0,
          0,
          0,
          0,
          0,
          0,
          0,
          0,
          0,
          0,
          0,
          0,
          0,
          0,
          0,
          0,
          0
         ],
         "textposition": "auto",
         "type": "bar",
         "x": [
          "vote_count",
          "budget",
          "popularity",
          "runtime",
          "Adventure",
          "vote_average",
          "day_of_year",
          "day",
          "year",
          "gdp",
          "weekday",
          "Twentieth Century Fox Film Corporation",
          "month",
          "Family",
          "Animation",
          "Fantasy",
          "Science_Fiction",
          "Dune Entertainment",
          "Thriller",
          "United Kingdom",
          "Paramount Pictures",
          "Universal Pictures",
          "Romance",
          "Comedy",
          "Drama",
          "Village Roadshow Pictures",
          "Action",
          "Warner Bros.",
          "Columbia Pictures",
          "Other_country",
          "Music",
          "New Line Cinema",
          "Crime",
          "Walt Disney Pictures",
          "France",
          "Horror",
          "Germany",
          "Mystery",
          "Canada",
          "War",
          "Western",
          "Relativity Media",
          "Other_company",
          "United States of America",
          "en_language",
          "History",
          "fr_language",
          "Documentary",
          "Other_language",
          "es_language",
          "ja_language",
          "zh_language",
          "Foreign"
         ],
         "y": [
          0.45783105657397904,
          0.30899208758921404,
          0.05075923214478027,
          0.02718211838458432,
          0.019708167996775033,
          0.01701656367071194,
          0.016555752936005277,
          0.012998331372872584,
          0.009896799517786357,
          0.00877827415188851,
          0.008561795304621854,
          0.008106539249337309,
          0.007791528425542957,
          0.007440022031087827,
          0.005501729076225273,
          0.0034937795535582203,
          0.0024005055473096844,
          0.0020468570771937276,
          0.001961092334058802,
          0.0019376391579539888,
          0.0019049103213300978,
          0.0018384967785080196,
          0.001638997935764305,
          0.0016042694908988396,
          0.0016021607012005397,
          0.0015004407370779389,
          0.0011950293069537513,
          0.0011936984122088397,
          0.0010502086723119405,
          0.0010334309585414046,
          0.0010041890998705465,
          0.0008616108690763135,
          0.0008272073632465478,
          0.0008118099338528883,
          0.0005005998198383924,
          0.000408997633641497,
          0.0003727789524816556,
          0.00034593569796400757,
          0.0002211763283393534,
          0.00021012029496908437,
          0.0002086890459309799,
          0.00018874625464598905,
          0.00016466944023668984,
          0.00013989373122530967,
          0.000060738501290425755,
          0.000046172353471351673,
          0.00003596368530544843,
          0.00002005741459634625,
          0.00001988846708573175,
          0.000012496219849463442,
          0.00001241720805305462,
          0.000004326274000662499,
          7.455071981559533e-13
         ]
        }
       ],
       "layout": {
        "template": {
         "data": {
          "bar": [
           {
            "error_x": {
             "color": "#2a3f5f"
            },
            "error_y": {
             "color": "#2a3f5f"
            },
            "marker": {
             "line": {
              "color": "white",
              "width": 0.5
             },
             "pattern": {
              "fillmode": "overlay",
              "size": 10,
              "solidity": 0.2
             }
            },
            "type": "bar"
           }
          ],
          "barpolar": [
           {
            "marker": {
             "line": {
              "color": "white",
              "width": 0.5
             },
             "pattern": {
              "fillmode": "overlay",
              "size": 10,
              "solidity": 0.2
             }
            },
            "type": "barpolar"
           }
          ],
          "carpet": [
           {
            "aaxis": {
             "endlinecolor": "#2a3f5f",
             "gridcolor": "#C8D4E3",
             "linecolor": "#C8D4E3",
             "minorgridcolor": "#C8D4E3",
             "startlinecolor": "#2a3f5f"
            },
            "baxis": {
             "endlinecolor": "#2a3f5f",
             "gridcolor": "#C8D4E3",
             "linecolor": "#C8D4E3",
             "minorgridcolor": "#C8D4E3",
             "startlinecolor": "#2a3f5f"
            },
            "type": "carpet"
           }
          ],
          "choropleth": [
           {
            "colorbar": {
             "outlinewidth": 0,
             "ticks": ""
            },
            "type": "choropleth"
           }
          ],
          "contour": [
           {
            "colorbar": {
             "outlinewidth": 0,
             "ticks": ""
            },
            "colorscale": [
             [
              0,
              "#0d0887"
             ],
             [
              0.1111111111111111,
              "#46039f"
             ],
             [
              0.2222222222222222,
              "#7201a8"
             ],
             [
              0.3333333333333333,
              "#9c179e"
             ],
             [
              0.4444444444444444,
              "#bd3786"
             ],
             [
              0.5555555555555556,
              "#d8576b"
             ],
             [
              0.6666666666666666,
              "#ed7953"
             ],
             [
              0.7777777777777778,
              "#fb9f3a"
             ],
             [
              0.8888888888888888,
              "#fdca26"
             ],
             [
              1,
              "#f0f921"
             ]
            ],
            "type": "contour"
           }
          ],
          "contourcarpet": [
           {
            "colorbar": {
             "outlinewidth": 0,
             "ticks": ""
            },
            "type": "contourcarpet"
           }
          ],
          "heatmap": [
           {
            "colorbar": {
             "outlinewidth": 0,
             "ticks": ""
            },
            "colorscale": [
             [
              0,
              "#0d0887"
             ],
             [
              0.1111111111111111,
              "#46039f"
             ],
             [
              0.2222222222222222,
              "#7201a8"
             ],
             [
              0.3333333333333333,
              "#9c179e"
             ],
             [
              0.4444444444444444,
              "#bd3786"
             ],
             [
              0.5555555555555556,
              "#d8576b"
             ],
             [
              0.6666666666666666,
              "#ed7953"
             ],
             [
              0.7777777777777778,
              "#fb9f3a"
             ],
             [
              0.8888888888888888,
              "#fdca26"
             ],
             [
              1,
              "#f0f921"
             ]
            ],
            "type": "heatmap"
           }
          ],
          "heatmapgl": [
           {
            "colorbar": {
             "outlinewidth": 0,
             "ticks": ""
            },
            "colorscale": [
             [
              0,
              "#0d0887"
             ],
             [
              0.1111111111111111,
              "#46039f"
             ],
             [
              0.2222222222222222,
              "#7201a8"
             ],
             [
              0.3333333333333333,
              "#9c179e"
             ],
             [
              0.4444444444444444,
              "#bd3786"
             ],
             [
              0.5555555555555556,
              "#d8576b"
             ],
             [
              0.6666666666666666,
              "#ed7953"
             ],
             [
              0.7777777777777778,
              "#fb9f3a"
             ],
             [
              0.8888888888888888,
              "#fdca26"
             ],
             [
              1,
              "#f0f921"
             ]
            ],
            "type": "heatmapgl"
           }
          ],
          "histogram": [
           {
            "marker": {
             "pattern": {
              "fillmode": "overlay",
              "size": 10,
              "solidity": 0.2
             }
            },
            "type": "histogram"
           }
          ],
          "histogram2d": [
           {
            "colorbar": {
             "outlinewidth": 0,
             "ticks": ""
            },
            "colorscale": [
             [
              0,
              "#0d0887"
             ],
             [
              0.1111111111111111,
              "#46039f"
             ],
             [
              0.2222222222222222,
              "#7201a8"
             ],
             [
              0.3333333333333333,
              "#9c179e"
             ],
             [
              0.4444444444444444,
              "#bd3786"
             ],
             [
              0.5555555555555556,
              "#d8576b"
             ],
             [
              0.6666666666666666,
              "#ed7953"
             ],
             [
              0.7777777777777778,
              "#fb9f3a"
             ],
             [
              0.8888888888888888,
              "#fdca26"
             ],
             [
              1,
              "#f0f921"
             ]
            ],
            "type": "histogram2d"
           }
          ],
          "histogram2dcontour": [
           {
            "colorbar": {
             "outlinewidth": 0,
             "ticks": ""
            },
            "colorscale": [
             [
              0,
              "#0d0887"
             ],
             [
              0.1111111111111111,
              "#46039f"
             ],
             [
              0.2222222222222222,
              "#7201a8"
             ],
             [
              0.3333333333333333,
              "#9c179e"
             ],
             [
              0.4444444444444444,
              "#bd3786"
             ],
             [
              0.5555555555555556,
              "#d8576b"
             ],
             [
              0.6666666666666666,
              "#ed7953"
             ],
             [
              0.7777777777777778,
              "#fb9f3a"
             ],
             [
              0.8888888888888888,
              "#fdca26"
             ],
             [
              1,
              "#f0f921"
             ]
            ],
            "type": "histogram2dcontour"
           }
          ],
          "mesh3d": [
           {
            "colorbar": {
             "outlinewidth": 0,
             "ticks": ""
            },
            "type": "mesh3d"
           }
          ],
          "parcoords": [
           {
            "line": {
             "colorbar": {
              "outlinewidth": 0,
              "ticks": ""
             }
            },
            "type": "parcoords"
           }
          ],
          "pie": [
           {
            "automargin": true,
            "type": "pie"
           }
          ],
          "scatter": [
           {
            "fillpattern": {
             "fillmode": "overlay",
             "size": 10,
             "solidity": 0.2
            },
            "type": "scatter"
           }
          ],
          "scatter3d": [
           {
            "line": {
             "colorbar": {
              "outlinewidth": 0,
              "ticks": ""
             }
            },
            "marker": {
             "colorbar": {
              "outlinewidth": 0,
              "ticks": ""
             }
            },
            "type": "scatter3d"
           }
          ],
          "scattercarpet": [
           {
            "marker": {
             "colorbar": {
              "outlinewidth": 0,
              "ticks": ""
             }
            },
            "type": "scattercarpet"
           }
          ],
          "scattergeo": [
           {
            "marker": {
             "colorbar": {
              "outlinewidth": 0,
              "ticks": ""
             }
            },
            "type": "scattergeo"
           }
          ],
          "scattergl": [
           {
            "marker": {
             "colorbar": {
              "outlinewidth": 0,
              "ticks": ""
             }
            },
            "type": "scattergl"
           }
          ],
          "scattermapbox": [
           {
            "marker": {
             "colorbar": {
              "outlinewidth": 0,
              "ticks": ""
             }
            },
            "type": "scattermapbox"
           }
          ],
          "scatterpolar": [
           {
            "marker": {
             "colorbar": {
              "outlinewidth": 0,
              "ticks": ""
             }
            },
            "type": "scatterpolar"
           }
          ],
          "scatterpolargl": [
           {
            "marker": {
             "colorbar": {
              "outlinewidth": 0,
              "ticks": ""
             }
            },
            "type": "scatterpolargl"
           }
          ],
          "scatterternary": [
           {
            "marker": {
             "colorbar": {
              "outlinewidth": 0,
              "ticks": ""
             }
            },
            "type": "scatterternary"
           }
          ],
          "surface": [
           {
            "colorbar": {
             "outlinewidth": 0,
             "ticks": ""
            },
            "colorscale": [
             [
              0,
              "#0d0887"
             ],
             [
              0.1111111111111111,
              "#46039f"
             ],
             [
              0.2222222222222222,
              "#7201a8"
             ],
             [
              0.3333333333333333,
              "#9c179e"
             ],
             [
              0.4444444444444444,
              "#bd3786"
             ],
             [
              0.5555555555555556,
              "#d8576b"
             ],
             [
              0.6666666666666666,
              "#ed7953"
             ],
             [
              0.7777777777777778,
              "#fb9f3a"
             ],
             [
              0.8888888888888888,
              "#fdca26"
             ],
             [
              1,
              "#f0f921"
             ]
            ],
            "type": "surface"
           }
          ],
          "table": [
           {
            "cells": {
             "fill": {
              "color": "#EBF0F8"
             },
             "line": {
              "color": "white"
             }
            },
            "header": {
             "fill": {
              "color": "#C8D4E3"
             },
             "line": {
              "color": "white"
             }
            },
            "type": "table"
           }
          ]
         },
         "layout": {
          "annotationdefaults": {
           "arrowcolor": "#2a3f5f",
           "arrowhead": 0,
           "arrowwidth": 1
          },
          "autotypenumbers": "strict",
          "coloraxis": {
           "colorbar": {
            "outlinewidth": 0,
            "ticks": ""
           }
          },
          "colorscale": {
           "diverging": [
            [
             0,
             "#8e0152"
            ],
            [
             0.1,
             "#c51b7d"
            ],
            [
             0.2,
             "#de77ae"
            ],
            [
             0.3,
             "#f1b6da"
            ],
            [
             0.4,
             "#fde0ef"
            ],
            [
             0.5,
             "#f7f7f7"
            ],
            [
             0.6,
             "#e6f5d0"
            ],
            [
             0.7,
             "#b8e186"
            ],
            [
             0.8,
             "#7fbc41"
            ],
            [
             0.9,
             "#4d9221"
            ],
            [
             1,
             "#276419"
            ]
           ],
           "sequential": [
            [
             0,
             "#0d0887"
            ],
            [
             0.1111111111111111,
             "#46039f"
            ],
            [
             0.2222222222222222,
             "#7201a8"
            ],
            [
             0.3333333333333333,
             "#9c179e"
            ],
            [
             0.4444444444444444,
             "#bd3786"
            ],
            [
             0.5555555555555556,
             "#d8576b"
            ],
            [
             0.6666666666666666,
             "#ed7953"
            ],
            [
             0.7777777777777778,
             "#fb9f3a"
            ],
            [
             0.8888888888888888,
             "#fdca26"
            ],
            [
             1,
             "#f0f921"
            ]
           ],
           "sequentialminus": [
            [
             0,
             "#0d0887"
            ],
            [
             0.1111111111111111,
             "#46039f"
            ],
            [
             0.2222222222222222,
             "#7201a8"
            ],
            [
             0.3333333333333333,
             "#9c179e"
            ],
            [
             0.4444444444444444,
             "#bd3786"
            ],
            [
             0.5555555555555556,
             "#d8576b"
            ],
            [
             0.6666666666666666,
             "#ed7953"
            ],
            [
             0.7777777777777778,
             "#fb9f3a"
            ],
            [
             0.8888888888888888,
             "#fdca26"
            ],
            [
             1,
             "#f0f921"
            ]
           ]
          },
          "colorway": [
           "#636efa",
           "#EF553B",
           "#00cc96",
           "#ab63fa",
           "#FFA15A",
           "#19d3f3",
           "#FF6692",
           "#B6E880",
           "#FF97FF",
           "#FECB52"
          ],
          "font": {
           "color": "#2a3f5f"
          },
          "geo": {
           "bgcolor": "white",
           "lakecolor": "white",
           "landcolor": "white",
           "showlakes": true,
           "showland": true,
           "subunitcolor": "#C8D4E3"
          },
          "hoverlabel": {
           "align": "left"
          },
          "hovermode": "closest",
          "mapbox": {
           "style": "light"
          },
          "paper_bgcolor": "white",
          "plot_bgcolor": "white",
          "polar": {
           "angularaxis": {
            "gridcolor": "#EBF0F8",
            "linecolor": "#EBF0F8",
            "ticks": ""
           },
           "bgcolor": "white",
           "radialaxis": {
            "gridcolor": "#EBF0F8",
            "linecolor": "#EBF0F8",
            "ticks": ""
           }
          },
          "scene": {
           "xaxis": {
            "backgroundcolor": "white",
            "gridcolor": "#DFE8F3",
            "gridwidth": 2,
            "linecolor": "#EBF0F8",
            "showbackground": true,
            "ticks": "",
            "zerolinecolor": "#EBF0F8"
           },
           "yaxis": {
            "backgroundcolor": "white",
            "gridcolor": "#DFE8F3",
            "gridwidth": 2,
            "linecolor": "#EBF0F8",
            "showbackground": true,
            "ticks": "",
            "zerolinecolor": "#EBF0F8"
           },
           "zaxis": {
            "backgroundcolor": "white",
            "gridcolor": "#DFE8F3",
            "gridwidth": 2,
            "linecolor": "#EBF0F8",
            "showbackground": true,
            "ticks": "",
            "zerolinecolor": "#EBF0F8"
           }
          },
          "shapedefaults": {
           "line": {
            "color": "#2a3f5f"
           }
          },
          "ternary": {
           "aaxis": {
            "gridcolor": "#DFE8F3",
            "linecolor": "#A2B1C6",
            "ticks": ""
           },
           "baxis": {
            "gridcolor": "#DFE8F3",
            "linecolor": "#A2B1C6",
            "ticks": ""
           },
           "bgcolor": "white",
           "caxis": {
            "gridcolor": "#DFE8F3",
            "linecolor": "#A2B1C6",
            "ticks": ""
           }
          },
          "title": {
           "x": 0.05
          },
          "xaxis": {
           "automargin": true,
           "gridcolor": "#EBF0F8",
           "linecolor": "#EBF0F8",
           "ticks": "",
           "title": {
            "standoff": 15
           },
           "zerolinecolor": "#EBF0F8",
           "zerolinewidth": 2
          },
          "yaxis": {
           "automargin": true,
           "gridcolor": "#EBF0F8",
           "linecolor": "#EBF0F8",
           "ticks": "",
           "title": {
            "standoff": 15
           },
           "zerolinecolor": "#EBF0F8",
           "zerolinewidth": 2
          }
         }
        },
        "title": {
         "text": "Feature Importances from Random Forest"
        },
        "xaxis": {
         "title": {
          "text": "Feature"
         }
        },
        "yaxis": {
         "title": {
          "text": "Importance"
         }
        }
       }
      }
     },
     "metadata": {},
     "output_type": "display_data"
    }
   ],
   "source": [
    "# Extract feature importances\n",
    "importances = rf_regressor.feature_importances_\n",
    "\n",
    "# Create a DataFrame for easy visualization\n",
    "importance_df = pd.DataFrame({\n",
    "    'Feature': X_train.columns,\n",
    "    'Importance': importances\n",
    "}).sort_values(by='Importance', ascending=False)\n",
    "\n",
    "# Plotly bar chart\n",
    "fig = go.Figure(go.Bar(\n",
    "    x=importance_df['Feature'],\n",
    "    y=importance_df['Importance'],\n",
    "    text=importance_df['Importance'].round(3),  # Show importance values on bars\n",
    "    textposition='auto'  # Display text directly on top of bars\n",
    "))\n",
    "\n",
    "# Customize layout\n",
    "fig.update_layout(\n",
    "    title=\"Feature Importances from Random Forest\",\n",
    "    xaxis_title=\"Feature\",\n",
    "    yaxis_title=\"Importance\",\n",
    "    template=\"plotly_white\",\n",
    ")\n",
    "\n",
    "# Show plot\n",
    "fig.show()"
   ]
  },
  {
   "cell_type": "code",
   "execution_count": null,
   "metadata": {},
   "outputs": [
    {
     "name": "stderr",
     "output_type": "stream",
     "text": [
      "c:\\Users\\clopearg\\OneDrive - NTT DATA EMEAL\\Desktop\\Fer\\Visualización\\PracticaVisualizacion\\.venv\\Lib\\site-packages\\sklearn\\base.py:1473: DataConversionWarning:\n",
      "\n",
      "A column-vector y was passed when a 1d array was expected. Please change the shape of y to (n_samples,), for example using ravel().\n",
      "\n"
     ]
    }
   ],
   "source": [
    "rf_regressor.fit(df_X, df_y)\n",
    "\n",
    "# Predict on the test set\n",
    "y_pred = rf_regressor.predict(df_X)"
   ]
  },
  {
   "cell_type": "code",
   "execution_count": null,
   "metadata": {},
   "outputs": [],
   "source": [
    "df_pred_test = pd.DataFrame(y_pred)\n",
    "df_pred_test.columns = [\"revenue\"]\n",
    "df_pred_test['date'] = pd.to_datetime(df_X[['year', 'month', 'day']]).reset_index(drop=True)"
   ]
  },
  {
   "cell_type": "code",
   "execution_count": null,
   "metadata": {},
   "outputs": [
    {
     "name": "stderr",
     "output_type": "stream",
     "text": [
      "C:\\Users\\clopearg\\AppData\\Local\\Temp\\ipykernel_73216\\3413849141.py:1: SettingWithCopyWarning:\n",
      "\n",
      "\n",
      "A value is trying to be set on a copy of a slice from a DataFrame.\n",
      "Try using .loc[row_indexer,col_indexer] = value instead\n",
      "\n",
      "See the caveats in the documentation: https://pandas.pydata.org/pandas-docs/stable/user_guide/indexing.html#returning-a-view-versus-a-copy\n",
      "\n"
     ]
    }
   ],
   "source": [
    "df_y['date'] = pd.to_datetime(df_X[['year', 'month', 'day']]).reset_index(drop=True)"
   ]
  },
  {
   "cell_type": "code",
   "execution_count": null,
   "metadata": {},
   "outputs": [
    {
     "data": {
      "application/vnd.plotly.v1+json": {
       "config": {
        "plotlyServerURL": "https://plot.ly"
       },
       "data": [
        {
         "hoverinfo": "x+y",
         "line": {
          "color": "steelblue",
          "width": 0.5
         },
         "mode": "lines",
         "name": "Revenue",
         "type": "scatter",
         "x": [
          1937,
          1939,
          1940,
          1942,
          1962,
          1963,
          1964,
          1965,
          1966,
          1967,
          1969,
          1970,
          1971,
          1972,
          1973,
          1974,
          1975,
          1977,
          1978,
          1979,
          1980,
          1981,
          1982,
          1983,
          1984,
          1985,
          1986,
          1987,
          1988,
          1989,
          1990,
          1991,
          1992,
          1993,
          1994,
          1995,
          1996,
          1997,
          1998,
          1999,
          2000,
          2001,
          2002,
          2003,
          2004,
          2005,
          2006,
          2007,
          2008,
          2009,
          2010,
          2011,
          2012,
          2013,
          2014,
          2015
         ],
         "y": [
          189217409.74,
          77853624.59,
          87447397.15,
          220298829.73,
          81360453,
          85622552.55,
          66597295.33499999,
          125741652.13,
          64752647.88,
          121893417.96,
          101302308.4,
          31145409.92,
          64896013.825,
          271843767.59,
          256679319.115,
          111112408.41,
          209557386.14,
          399376714.28999996,
          102519935,
          157207957.27666667,
          195970475.17999998,
          146234779.436,
          241655878.20333335,
          227386649.98,
          199496791.715,
          213408643.17666665,
          46366030.36,
          119190087.24499999,
          21115455.73,
          249323690.64749998,
          226837591.66,
          12364618.45,
          187063685.26999998,
          356675177.8333333,
          209739401.0725,
          142951029.324,
          151585450.7581818,
          327992931.4266667,
          141175194.29636362,
          205196542.8777273,
          126965674.554375,
          249435302.2736842,
          231474441.22857141,
          197266689.5526923,
          175737317.80051282,
          139109123.94326088,
          145293464.26563382,
          169099479.0831579,
          143886053.84819278,
          169922467.63582525,
          145522318.4181818,
          141980457.56992537,
          230721750.83084336,
          263602251.2581967,
          291142249.0260656,
          261533452.06202704
         ]
        },
        {
         "hoverinfo": "x+y",
         "line": {
          "color": "firebrick",
          "width": 0.5
         },
         "mode": "lines",
         "name": "Revenue real",
         "type": "scatter",
         "x": [
          1937,
          1939,
          1940,
          1942,
          1962,
          1963,
          1964,
          1965,
          1966,
          1967,
          1969,
          1970,
          1971,
          1972,
          1973,
          1974,
          1975,
          1977,
          1978,
          1979,
          1980,
          1981,
          1982,
          1983,
          1984,
          1985,
          1986,
          1987,
          1988,
          1989,
          1990,
          1991,
          1992,
          1993,
          1994,
          1995,
          1996,
          1997,
          1998,
          1999,
          2000,
          2001,
          2002,
          2003,
          2004,
          2005,
          2006,
          2007,
          2008,
          2009,
          2010,
          2011,
          2012,
          2013,
          2014,
          2015
         ],
         "y": [
          184925486,
          33754967,
          83320000,
          267447150,
          59600000,
          78898765,
          68590365,
          141195658,
          6000000,
          111584787,
          81974493,
          40000000,
          65609773.5,
          245066411,
          301541990.5,
          97572000,
          237841474,
          480418340,
          105500000,
          134900093.66666666,
          188214453.66666666,
          144496694.6,
          281893310.6666667,
          249941916.75,
          205685600,
          181558507.66666666,
          11000000,
          114652690,
          6948316.666666667,
          250705965,
          220802942.8,
          7434726,
          193652399.66666666,
          422993784.3333333,
          262285718.25,
          156172675.8,
          146918620.45454547,
          358063913.5555556,
          123903630.36363636,
          204831825.45454547,
          135656376.5625,
          244116027.52631578,
          237239313.2142857,
          200900740.5,
          184297390.66666666,
          137836984.91304347,
          143201600.15492958,
          170948609.2368421,
          142304536.75903615,
          174038177.34951457,
          143298693.38016528,
          141242674.73880598,
          222332547.8433735,
          250880832.63934427,
          279173547.0327869,
          256393572.52702704
         ]
        }
       ],
       "layout": {
        "font": {
         "size": 8
        },
        "legend": {
         "bgcolor": "white",
         "x": 0.01,
         "xanchor": "left",
         "y": 0.99,
         "yanchor": "top"
        },
        "template": {
         "data": {
          "bar": [
           {
            "error_x": {
             "color": "#2a3f5f"
            },
            "error_y": {
             "color": "#2a3f5f"
            },
            "marker": {
             "line": {
              "color": "#E5ECF6",
              "width": 0.5
             },
             "pattern": {
              "fillmode": "overlay",
              "size": 10,
              "solidity": 0.2
             }
            },
            "type": "bar"
           }
          ],
          "barpolar": [
           {
            "marker": {
             "line": {
              "color": "#E5ECF6",
              "width": 0.5
             },
             "pattern": {
              "fillmode": "overlay",
              "size": 10,
              "solidity": 0.2
             }
            },
            "type": "barpolar"
           }
          ],
          "carpet": [
           {
            "aaxis": {
             "endlinecolor": "#2a3f5f",
             "gridcolor": "white",
             "linecolor": "white",
             "minorgridcolor": "white",
             "startlinecolor": "#2a3f5f"
            },
            "baxis": {
             "endlinecolor": "#2a3f5f",
             "gridcolor": "white",
             "linecolor": "white",
             "minorgridcolor": "white",
             "startlinecolor": "#2a3f5f"
            },
            "type": "carpet"
           }
          ],
          "choropleth": [
           {
            "colorbar": {
             "outlinewidth": 0,
             "ticks": ""
            },
            "type": "choropleth"
           }
          ],
          "contour": [
           {
            "colorbar": {
             "outlinewidth": 0,
             "ticks": ""
            },
            "colorscale": [
             [
              0,
              "#0d0887"
             ],
             [
              0.1111111111111111,
              "#46039f"
             ],
             [
              0.2222222222222222,
              "#7201a8"
             ],
             [
              0.3333333333333333,
              "#9c179e"
             ],
             [
              0.4444444444444444,
              "#bd3786"
             ],
             [
              0.5555555555555556,
              "#d8576b"
             ],
             [
              0.6666666666666666,
              "#ed7953"
             ],
             [
              0.7777777777777778,
              "#fb9f3a"
             ],
             [
              0.8888888888888888,
              "#fdca26"
             ],
             [
              1,
              "#f0f921"
             ]
            ],
            "type": "contour"
           }
          ],
          "contourcarpet": [
           {
            "colorbar": {
             "outlinewidth": 0,
             "ticks": ""
            },
            "type": "contourcarpet"
           }
          ],
          "heatmap": [
           {
            "colorbar": {
             "outlinewidth": 0,
             "ticks": ""
            },
            "colorscale": [
             [
              0,
              "#0d0887"
             ],
             [
              0.1111111111111111,
              "#46039f"
             ],
             [
              0.2222222222222222,
              "#7201a8"
             ],
             [
              0.3333333333333333,
              "#9c179e"
             ],
             [
              0.4444444444444444,
              "#bd3786"
             ],
             [
              0.5555555555555556,
              "#d8576b"
             ],
             [
              0.6666666666666666,
              "#ed7953"
             ],
             [
              0.7777777777777778,
              "#fb9f3a"
             ],
             [
              0.8888888888888888,
              "#fdca26"
             ],
             [
              1,
              "#f0f921"
             ]
            ],
            "type": "heatmap"
           }
          ],
          "heatmapgl": [
           {
            "colorbar": {
             "outlinewidth": 0,
             "ticks": ""
            },
            "colorscale": [
             [
              0,
              "#0d0887"
             ],
             [
              0.1111111111111111,
              "#46039f"
             ],
             [
              0.2222222222222222,
              "#7201a8"
             ],
             [
              0.3333333333333333,
              "#9c179e"
             ],
             [
              0.4444444444444444,
              "#bd3786"
             ],
             [
              0.5555555555555556,
              "#d8576b"
             ],
             [
              0.6666666666666666,
              "#ed7953"
             ],
             [
              0.7777777777777778,
              "#fb9f3a"
             ],
             [
              0.8888888888888888,
              "#fdca26"
             ],
             [
              1,
              "#f0f921"
             ]
            ],
            "type": "heatmapgl"
           }
          ],
          "histogram": [
           {
            "marker": {
             "pattern": {
              "fillmode": "overlay",
              "size": 10,
              "solidity": 0.2
             }
            },
            "type": "histogram"
           }
          ],
          "histogram2d": [
           {
            "colorbar": {
             "outlinewidth": 0,
             "ticks": ""
            },
            "colorscale": [
             [
              0,
              "#0d0887"
             ],
             [
              0.1111111111111111,
              "#46039f"
             ],
             [
              0.2222222222222222,
              "#7201a8"
             ],
             [
              0.3333333333333333,
              "#9c179e"
             ],
             [
              0.4444444444444444,
              "#bd3786"
             ],
             [
              0.5555555555555556,
              "#d8576b"
             ],
             [
              0.6666666666666666,
              "#ed7953"
             ],
             [
              0.7777777777777778,
              "#fb9f3a"
             ],
             [
              0.8888888888888888,
              "#fdca26"
             ],
             [
              1,
              "#f0f921"
             ]
            ],
            "type": "histogram2d"
           }
          ],
          "histogram2dcontour": [
           {
            "colorbar": {
             "outlinewidth": 0,
             "ticks": ""
            },
            "colorscale": [
             [
              0,
              "#0d0887"
             ],
             [
              0.1111111111111111,
              "#46039f"
             ],
             [
              0.2222222222222222,
              "#7201a8"
             ],
             [
              0.3333333333333333,
              "#9c179e"
             ],
             [
              0.4444444444444444,
              "#bd3786"
             ],
             [
              0.5555555555555556,
              "#d8576b"
             ],
             [
              0.6666666666666666,
              "#ed7953"
             ],
             [
              0.7777777777777778,
              "#fb9f3a"
             ],
             [
              0.8888888888888888,
              "#fdca26"
             ],
             [
              1,
              "#f0f921"
             ]
            ],
            "type": "histogram2dcontour"
           }
          ],
          "mesh3d": [
           {
            "colorbar": {
             "outlinewidth": 0,
             "ticks": ""
            },
            "type": "mesh3d"
           }
          ],
          "parcoords": [
           {
            "line": {
             "colorbar": {
              "outlinewidth": 0,
              "ticks": ""
             }
            },
            "type": "parcoords"
           }
          ],
          "pie": [
           {
            "automargin": true,
            "type": "pie"
           }
          ],
          "scatter": [
           {
            "fillpattern": {
             "fillmode": "overlay",
             "size": 10,
             "solidity": 0.2
            },
            "type": "scatter"
           }
          ],
          "scatter3d": [
           {
            "line": {
             "colorbar": {
              "outlinewidth": 0,
              "ticks": ""
             }
            },
            "marker": {
             "colorbar": {
              "outlinewidth": 0,
              "ticks": ""
             }
            },
            "type": "scatter3d"
           }
          ],
          "scattercarpet": [
           {
            "marker": {
             "colorbar": {
              "outlinewidth": 0,
              "ticks": ""
             }
            },
            "type": "scattercarpet"
           }
          ],
          "scattergeo": [
           {
            "marker": {
             "colorbar": {
              "outlinewidth": 0,
              "ticks": ""
             }
            },
            "type": "scattergeo"
           }
          ],
          "scattergl": [
           {
            "marker": {
             "colorbar": {
              "outlinewidth": 0,
              "ticks": ""
             }
            },
            "type": "scattergl"
           }
          ],
          "scattermapbox": [
           {
            "marker": {
             "colorbar": {
              "outlinewidth": 0,
              "ticks": ""
             }
            },
            "type": "scattermapbox"
           }
          ],
          "scatterpolar": [
           {
            "marker": {
             "colorbar": {
              "outlinewidth": 0,
              "ticks": ""
             }
            },
            "type": "scatterpolar"
           }
          ],
          "scatterpolargl": [
           {
            "marker": {
             "colorbar": {
              "outlinewidth": 0,
              "ticks": ""
             }
            },
            "type": "scatterpolargl"
           }
          ],
          "scatterternary": [
           {
            "marker": {
             "colorbar": {
              "outlinewidth": 0,
              "ticks": ""
             }
            },
            "type": "scatterternary"
           }
          ],
          "surface": [
           {
            "colorbar": {
             "outlinewidth": 0,
             "ticks": ""
            },
            "colorscale": [
             [
              0,
              "#0d0887"
             ],
             [
              0.1111111111111111,
              "#46039f"
             ],
             [
              0.2222222222222222,
              "#7201a8"
             ],
             [
              0.3333333333333333,
              "#9c179e"
             ],
             [
              0.4444444444444444,
              "#bd3786"
             ],
             [
              0.5555555555555556,
              "#d8576b"
             ],
             [
              0.6666666666666666,
              "#ed7953"
             ],
             [
              0.7777777777777778,
              "#fb9f3a"
             ],
             [
              0.8888888888888888,
              "#fdca26"
             ],
             [
              1,
              "#f0f921"
             ]
            ],
            "type": "surface"
           }
          ],
          "table": [
           {
            "cells": {
             "fill": {
              "color": "#EBF0F8"
             },
             "line": {
              "color": "white"
             }
            },
            "header": {
             "fill": {
              "color": "#C8D4E3"
             },
             "line": {
              "color": "white"
             }
            },
            "type": "table"
           }
          ]
         },
         "layout": {
          "annotationdefaults": {
           "arrowcolor": "#2a3f5f",
           "arrowhead": 0,
           "arrowwidth": 1
          },
          "autotypenumbers": "strict",
          "coloraxis": {
           "colorbar": {
            "outlinewidth": 0,
            "ticks": ""
           }
          },
          "colorscale": {
           "diverging": [
            [
             0,
             "#8e0152"
            ],
            [
             0.1,
             "#c51b7d"
            ],
            [
             0.2,
             "#de77ae"
            ],
            [
             0.3,
             "#f1b6da"
            ],
            [
             0.4,
             "#fde0ef"
            ],
            [
             0.5,
             "#f7f7f7"
            ],
            [
             0.6,
             "#e6f5d0"
            ],
            [
             0.7,
             "#b8e186"
            ],
            [
             0.8,
             "#7fbc41"
            ],
            [
             0.9,
             "#4d9221"
            ],
            [
             1,
             "#276419"
            ]
           ],
           "sequential": [
            [
             0,
             "#0d0887"
            ],
            [
             0.1111111111111111,
             "#46039f"
            ],
            [
             0.2222222222222222,
             "#7201a8"
            ],
            [
             0.3333333333333333,
             "#9c179e"
            ],
            [
             0.4444444444444444,
             "#bd3786"
            ],
            [
             0.5555555555555556,
             "#d8576b"
            ],
            [
             0.6666666666666666,
             "#ed7953"
            ],
            [
             0.7777777777777778,
             "#fb9f3a"
            ],
            [
             0.8888888888888888,
             "#fdca26"
            ],
            [
             1,
             "#f0f921"
            ]
           ],
           "sequentialminus": [
            [
             0,
             "#0d0887"
            ],
            [
             0.1111111111111111,
             "#46039f"
            ],
            [
             0.2222222222222222,
             "#7201a8"
            ],
            [
             0.3333333333333333,
             "#9c179e"
            ],
            [
             0.4444444444444444,
             "#bd3786"
            ],
            [
             0.5555555555555556,
             "#d8576b"
            ],
            [
             0.6666666666666666,
             "#ed7953"
            ],
            [
             0.7777777777777778,
             "#fb9f3a"
            ],
            [
             0.8888888888888888,
             "#fdca26"
            ],
            [
             1,
             "#f0f921"
            ]
           ]
          },
          "colorway": [
           "#636efa",
           "#EF553B",
           "#00cc96",
           "#ab63fa",
           "#FFA15A",
           "#19d3f3",
           "#FF6692",
           "#B6E880",
           "#FF97FF",
           "#FECB52"
          ],
          "font": {
           "color": "#2a3f5f"
          },
          "geo": {
           "bgcolor": "white",
           "lakecolor": "white",
           "landcolor": "#E5ECF6",
           "showlakes": true,
           "showland": true,
           "subunitcolor": "white"
          },
          "hoverlabel": {
           "align": "left"
          },
          "hovermode": "closest",
          "mapbox": {
           "style": "light"
          },
          "paper_bgcolor": "white",
          "plot_bgcolor": "#E5ECF6",
          "polar": {
           "angularaxis": {
            "gridcolor": "white",
            "linecolor": "white",
            "ticks": ""
           },
           "bgcolor": "#E5ECF6",
           "radialaxis": {
            "gridcolor": "white",
            "linecolor": "white",
            "ticks": ""
           }
          },
          "scene": {
           "xaxis": {
            "backgroundcolor": "#E5ECF6",
            "gridcolor": "white",
            "gridwidth": 2,
            "linecolor": "white",
            "showbackground": true,
            "ticks": "",
            "zerolinecolor": "white"
           },
           "yaxis": {
            "backgroundcolor": "#E5ECF6",
            "gridcolor": "white",
            "gridwidth": 2,
            "linecolor": "white",
            "showbackground": true,
            "ticks": "",
            "zerolinecolor": "white"
           },
           "zaxis": {
            "backgroundcolor": "#E5ECF6",
            "gridcolor": "white",
            "gridwidth": 2,
            "linecolor": "white",
            "showbackground": true,
            "ticks": "",
            "zerolinecolor": "white"
           }
          },
          "shapedefaults": {
           "line": {
            "color": "#2a3f5f"
           }
          },
          "ternary": {
           "aaxis": {
            "gridcolor": "white",
            "linecolor": "white",
            "ticks": ""
           },
           "baxis": {
            "gridcolor": "white",
            "linecolor": "white",
            "ticks": ""
           },
           "bgcolor": "#E5ECF6",
           "caxis": {
            "gridcolor": "white",
            "linecolor": "white",
            "ticks": ""
           }
          },
          "title": {
           "x": 0.05
          },
          "xaxis": {
           "automargin": true,
           "gridcolor": "white",
           "linecolor": "white",
           "ticks": "",
           "title": {
            "standoff": 15
           },
           "zerolinecolor": "white",
           "zerolinewidth": 2
          },
          "yaxis": {
           "automargin": true,
           "gridcolor": "white",
           "linecolor": "white",
           "ticks": "",
           "title": {
            "standoff": 15
           },
           "zerolinecolor": "white",
           "zerolinewidth": 2
          }
         }
        },
        "title": {
         "text": "Evolución Temporal"
        },
        "xaxis": {
         "title": {
          "text": "Año"
         }
        },
        "yaxis": {
         "title": {
          "text": "Ventas (Millones)"
         }
        }
       }
      }
     },
     "metadata": {},
     "output_type": "display_data"
    }
   ],
   "source": [
    "df_aux = df_pred_test.groupby(df_pred_test[\"date\"].dt.year)['revenue'].mean().reset_index()[:-1]\n",
    "df_aux2 = df_y.groupby(df_y[\"date\"].dt.year)['revenue'].mean().reset_index()[:-1]\n",
    "\n",
    "\n",
    "fig = go.Figure()\n",
    "fig.add_trace(go.Scatter(\n",
    "    x=df_aux['date'], y=df_aux['revenue'],\n",
    "    hoverinfo='x+y',\n",
    "    mode='lines',\n",
    "    line=dict(width=0.5, color='steelblue'),\n",
    "    name = 'Revenue'\n",
    "))\n",
    "fig.add_trace(go.Scatter(\n",
    "    x=df_aux2['date'], y=df_aux2['revenue'],\n",
    "    hoverinfo='x+y',\n",
    "    mode='lines',\n",
    "    line=dict(width=0.5, color='firebrick'),\n",
    "    name = 'Revenue real'\n",
    "))\n",
    "\n",
    "fig.update_layout(\n",
    "    title = 'Evolución Temporal',\n",
    "    xaxis_title = 'Año',\n",
    "    yaxis_title = 'Ventas (Millones)',\n",
    "    legend=dict(\n",
    "        bgcolor = 'white',\n",
    "        yanchor=\"top\",\n",
    "        y=0.99,\n",
    "        xanchor=\"left\",\n",
    "        x=0.01),\n",
    "    font=dict(size=8),\n",
    "    # margin=dict(\n",
    "    #     l=0,\n",
    "    #     r=0,\n",
    "    #     b=0,\n",
    "    #     t=25,\n",
    "    #     pad=4\n",
    "    # )\n",
    ")"
   ]
  },
  {
   "cell_type": "markdown",
   "metadata": {},
   "source": [
    "Depende demasiado de variables de votos que en la vida real no se tendrían hasta ya sacada la película"
   ]
  },
  {
   "cell_type": "markdown",
   "metadata": {},
   "source": [
    "### 2. Random Forest quitando columnas de votos"
   ]
  },
  {
   "cell_type": "code",
   "execution_count": 51,
   "metadata": {},
   "outputs": [
    {
     "data": {
      "text/plain": [
       "Index(['budget', 'popularity', 'revenue', 'runtime', 'vote_average',\n",
       "       'vote_count', 'Action', 'Adventure', 'Animation', 'Comedy', 'Crime',\n",
       "       'Documentary', 'Drama', 'Family', 'Fantasy', 'Foreign', 'History',\n",
       "       'Horror', 'Music', 'Mystery', 'Romance', 'Science_Fiction', 'Thriller',\n",
       "       'War', 'Western', 'Other_language', 'en_language', 'es_language',\n",
       "       'fr_language', 'ja_language', 'zh_language', 'Columbia Pictures',\n",
       "       'Dune Entertainment', 'New Line Cinema', 'Other_company',\n",
       "       'Paramount Pictures', 'Relativity Media',\n",
       "       'Twentieth Century Fox Film Corporation', 'Universal Pictures',\n",
       "       'Village Roadshow Pictures', 'Walt Disney Pictures', 'Warner Bros.',\n",
       "       'Canada', 'France', 'Germany', 'Other_country', 'United Kingdom',\n",
       "       'United States of America', 'year', 'month', 'day', 'weekday',\n",
       "       'day_of_year', 'gdp'],\n",
       "      dtype='object')"
      ]
     },
     "execution_count": 51,
     "metadata": {},
     "output_type": "execute_result"
    }
   ],
   "source": [
    "df.columns"
   ]
  },
  {
   "cell_type": "code",
   "execution_count": 54,
   "metadata": {},
   "outputs": [],
   "source": [
    "target = \"revenue\"\n",
    "df_X = df.drop(columns=[target, \"vote_average\",'vote_count'])\n",
    "df_y = df[[target]]"
   ]
  },
  {
   "cell_type": "code",
   "execution_count": 64,
   "metadata": {},
   "outputs": [],
   "source": [
    "# Split the data into training and testing sets\n",
    "X_train, X_test, y_train, y_test = train_test_split(df_X, df_y, test_size=0.3, random_state=42)"
   ]
  },
  {
   "cell_type": "code",
   "execution_count": 65,
   "metadata": {},
   "outputs": [
    {
     "name": "stderr",
     "output_type": "stream",
     "text": [
      "c:\\Users\\clopearg\\OneDrive - NTT DATA EMEAL\\Desktop\\Fer\\Visualización\\PracticaVisualizacion\\.venv\\Lib\\site-packages\\sklearn\\base.py:1473: DataConversionWarning:\n",
      "\n",
      "A column-vector y was passed when a 1d array was expected. Please change the shape of y to (n_samples,), for example using ravel().\n",
      "\n"
     ]
    }
   ],
   "source": [
    "# Initialize the RandomForestRegressor model\n",
    "rf_regressor = RandomForestRegressor(n_estimators=100, random_state=42)\n",
    "\n",
    "# Train the model\n",
    "rf_regressor.fit(X_train, y_train)\n",
    "\n",
    "# Predict on the test set\n",
    "y_pred = rf_regressor.predict(X_test)"
   ]
  },
  {
   "cell_type": "code",
   "execution_count": 66,
   "metadata": {},
   "outputs": [
    {
     "name": "stdout",
     "output_type": "stream",
     "text": [
      "mse: 1.8092837474587284e+16\n",
      "r2: 0.6492481525817935\n",
      "mape: 12.41894695648598\n"
     ]
    }
   ],
   "source": [
    "# Evaluate the model\n",
    "mse = mean_squared_error(y_test, y_pred)\n",
    "r2 = r2_score(y_test, y_pred)\n",
    "mape = mean_absolute_percentage_error(y_test, y_pred)\n",
    "print(f\"mse: {mse}\")\n",
    "print(f\"r2: {r2}\")\n",
    "print(f\"mape: {mape}\")"
   ]
  },
  {
   "cell_type": "code",
   "execution_count": 67,
   "metadata": {},
   "outputs": [
    {
     "data": {
      "text/html": [
       "<div>\n",
       "<style scoped>\n",
       "    .dataframe tbody tr th:only-of-type {\n",
       "        vertical-align: middle;\n",
       "    }\n",
       "\n",
       "    .dataframe tbody tr th {\n",
       "        vertical-align: top;\n",
       "    }\n",
       "\n",
       "    .dataframe thead th {\n",
       "        text-align: right;\n",
       "    }\n",
       "</style>\n",
       "<table border=\"1\" class=\"dataframe\">\n",
       "  <thead>\n",
       "    <tr style=\"text-align: right;\">\n",
       "      <th></th>\n",
       "      <th>y_real</th>\n",
       "      <th>y_pred</th>\n",
       "      <th>mape</th>\n",
       "    </tr>\n",
       "  </thead>\n",
       "  <tbody>\n",
       "    <tr>\n",
       "      <th>548</th>\n",
       "      <td>170128460</td>\n",
       "      <td>8.043431e+07</td>\n",
       "      <td>52.721426</td>\n",
       "    </tr>\n",
       "    <tr>\n",
       "      <th>704</th>\n",
       "      <td>201634991</td>\n",
       "      <td>1.258930e+08</td>\n",
       "      <td>37.563906</td>\n",
       "    </tr>\n",
       "    <tr>\n",
       "      <th>244</th>\n",
       "      <td>384335608</td>\n",
       "      <td>2.256567e+08</td>\n",
       "      <td>41.286548</td>\n",
       "    </tr>\n",
       "    <tr>\n",
       "      <th>552</th>\n",
       "      <td>74597643</td>\n",
       "      <td>6.319412e+07</td>\n",
       "      <td>15.286707</td>\n",
       "    </tr>\n",
       "    <tr>\n",
       "      <th>1164</th>\n",
       "      <td>15992615</td>\n",
       "      <td>5.217624e+07</td>\n",
       "      <td>226.252081</td>\n",
       "    </tr>\n",
       "    <tr>\n",
       "      <th>...</th>\n",
       "      <td>...</td>\n",
       "      <td>...</td>\n",
       "      <td>...</td>\n",
       "    </tr>\n",
       "    <tr>\n",
       "      <th>906</th>\n",
       "      <td>75700498</td>\n",
       "      <td>5.999040e+07</td>\n",
       "      <td>20.752970</td>\n",
       "    </tr>\n",
       "    <tr>\n",
       "      <th>273</th>\n",
       "      <td>294804195</td>\n",
       "      <td>3.861980e+08</td>\n",
       "      <td>31.001531</td>\n",
       "    </tr>\n",
       "    <tr>\n",
       "      <th>427</th>\n",
       "      <td>361366633</td>\n",
       "      <td>2.468854e+08</td>\n",
       "      <td>31.680067</td>\n",
       "    </tr>\n",
       "    <tr>\n",
       "      <th>362</th>\n",
       "      <td>56681566</td>\n",
       "      <td>1.208190e+08</td>\n",
       "      <td>113.153885</td>\n",
       "    </tr>\n",
       "    <tr>\n",
       "      <th>237</th>\n",
       "      <td>171120329</td>\n",
       "      <td>3.272965e+08</td>\n",
       "      <td>91.266890</td>\n",
       "    </tr>\n",
       "  </tbody>\n",
       "</table>\n",
       "<p>369 rows × 3 columns</p>\n",
       "</div>"
      ],
      "text/plain": [
       "         y_real        y_pred        mape\n",
       "548   170128460  8.043431e+07   52.721426\n",
       "704   201634991  1.258930e+08   37.563906\n",
       "244   384335608  2.256567e+08   41.286548\n",
       "552    74597643  6.319412e+07   15.286707\n",
       "1164   15992615  5.217624e+07  226.252081\n",
       "...         ...           ...         ...\n",
       "906    75700498  5.999040e+07   20.752970\n",
       "273   294804195  3.861980e+08   31.001531\n",
       "427   361366633  2.468854e+08   31.680067\n",
       "362    56681566  1.208190e+08  113.153885\n",
       "237   171120329  3.272965e+08   91.266890\n",
       "\n",
       "[369 rows x 3 columns]"
      ]
     },
     "execution_count": 67,
     "metadata": {},
     "output_type": "execute_result"
    }
   ],
   "source": [
    "test_preds_df = pd.DataFrame({'y_real': y_test['revenue'], 'y_pred': y_pred})\n",
    "test_preds_df['mape'] = abs(test_preds_df['y_real']-test_preds_df['y_pred'])/test_preds_df['y_real']*100\n",
    "test_preds_df"
   ]
  },
  {
   "cell_type": "code",
   "execution_count": 68,
   "metadata": {},
   "outputs": [
    {
     "data": {
      "application/vnd.plotly.v1+json": {
       "config": {
        "plotlyServerURL": "https://plot.ly"
       },
       "data": [
        {
         "text": [
          48.046,
          24.288,
          3.565,
          3.403,
          3.318,
          2.289,
          1.851,
          1.798,
          1.418,
          1.224,
          1.215,
          0.997,
          0.732,
          0.56,
          0.483,
          0.431,
          0.42,
          0.393,
          0.361,
          0.354,
          0.335,
          0.334,
          0.293,
          0.288,
          0.203,
          0.202,
          0.174,
          0.145,
          0.137,
          0.113,
          0.105,
          0.102,
          0.076,
          0.06,
          0.05,
          0.048,
          0.047,
          0.042,
          0.03,
          0.019,
          0.017,
          0.016,
          0.007,
          0.005,
          0.002,
          0.002,
          0.001,
          0.001,
          0.001,
          0,
          0
         ],
         "textposition": "auto",
         "type": "bar",
         "x": [
          "budget",
          "popularity",
          "runtime",
          "Dune Entertainment",
          "day_of_year",
          "day",
          "gdp",
          "year",
          "Adventure",
          "Twentieth Century Fox Film Corporation",
          "weekday",
          "month",
          "Fantasy",
          "Family",
          "Paramount Pictures",
          "Drama",
          "Comedy",
          "Thriller",
          "Warner Bros.",
          "Mystery",
          "Universal Pictures",
          "Science_Fiction",
          "Animation",
          "Romance",
          "Action",
          "United Kingdom",
          "Other_country",
          "Walt Disney Pictures",
          "Columbia Pictures",
          "Crime",
          "New Line Cinema",
          "Germany",
          "Village Roadshow Pictures",
          "Music",
          "Canada",
          "Horror",
          "France",
          "Other_company",
          "Relativity Media",
          "United States of America",
          "en_language",
          "War",
          "History",
          "Western",
          "Documentary",
          "ja_language",
          "Other_language",
          "es_language",
          "fr_language",
          "zh_language",
          "Foreign"
         ],
         "y": [
          48.04572577223456,
          24.287837350577533,
          3.565017021505918,
          3.4034469796457447,
          3.3184812782936697,
          2.2885800579061706,
          1.851441518271118,
          1.7980990495259086,
          1.4177026586178971,
          1.224151559984714,
          1.2146180186821058,
          0.9965799507316739,
          0.7324660977635826,
          0.5599460101207987,
          0.4834572487358274,
          0.43124832611779673,
          0.4197466669206902,
          0.3928903112636028,
          0.3605355076644994,
          0.354151022733169,
          0.33453391217561984,
          0.33407502581490706,
          0.2928115687335155,
          0.28836233132665756,
          0.20253611630713098,
          0.20237814143064486,
          0.1736029178144141,
          0.14532170036817857,
          0.13713050753498773,
          0.1132361585434033,
          0.10498835210815656,
          0.10205552013837363,
          0.07588128751317971,
          0.060339868672264436,
          0.0503517359054304,
          0.04818403199875332,
          0.04706745696310875,
          0.04161153483000564,
          0.030051067717539126,
          0.01868949172895489,
          0.017141038096137158,
          0.015544733345599374,
          0.006980222908944377,
          0.004663877257819576,
          0.0021380612138999326,
          0.0017276851630907595,
          0.0009434105271529163,
          0.0007762527406264203,
          0.0007386387741777897,
          0.000014945008073386195,
          4.228398487072548e-11
         ]
        }
       ],
       "layout": {
        "template": {
         "data": {
          "bar": [
           {
            "error_x": {
             "color": "#2a3f5f"
            },
            "error_y": {
             "color": "#2a3f5f"
            },
            "marker": {
             "line": {
              "color": "white",
              "width": 0.5
             },
             "pattern": {
              "fillmode": "overlay",
              "size": 10,
              "solidity": 0.2
             }
            },
            "type": "bar"
           }
          ],
          "barpolar": [
           {
            "marker": {
             "line": {
              "color": "white",
              "width": 0.5
             },
             "pattern": {
              "fillmode": "overlay",
              "size": 10,
              "solidity": 0.2
             }
            },
            "type": "barpolar"
           }
          ],
          "carpet": [
           {
            "aaxis": {
             "endlinecolor": "#2a3f5f",
             "gridcolor": "#C8D4E3",
             "linecolor": "#C8D4E3",
             "minorgridcolor": "#C8D4E3",
             "startlinecolor": "#2a3f5f"
            },
            "baxis": {
             "endlinecolor": "#2a3f5f",
             "gridcolor": "#C8D4E3",
             "linecolor": "#C8D4E3",
             "minorgridcolor": "#C8D4E3",
             "startlinecolor": "#2a3f5f"
            },
            "type": "carpet"
           }
          ],
          "choropleth": [
           {
            "colorbar": {
             "outlinewidth": 0,
             "ticks": ""
            },
            "type": "choropleth"
           }
          ],
          "contour": [
           {
            "colorbar": {
             "outlinewidth": 0,
             "ticks": ""
            },
            "colorscale": [
             [
              0,
              "#0d0887"
             ],
             [
              0.1111111111111111,
              "#46039f"
             ],
             [
              0.2222222222222222,
              "#7201a8"
             ],
             [
              0.3333333333333333,
              "#9c179e"
             ],
             [
              0.4444444444444444,
              "#bd3786"
             ],
             [
              0.5555555555555556,
              "#d8576b"
             ],
             [
              0.6666666666666666,
              "#ed7953"
             ],
             [
              0.7777777777777778,
              "#fb9f3a"
             ],
             [
              0.8888888888888888,
              "#fdca26"
             ],
             [
              1,
              "#f0f921"
             ]
            ],
            "type": "contour"
           }
          ],
          "contourcarpet": [
           {
            "colorbar": {
             "outlinewidth": 0,
             "ticks": ""
            },
            "type": "contourcarpet"
           }
          ],
          "heatmap": [
           {
            "colorbar": {
             "outlinewidth": 0,
             "ticks": ""
            },
            "colorscale": [
             [
              0,
              "#0d0887"
             ],
             [
              0.1111111111111111,
              "#46039f"
             ],
             [
              0.2222222222222222,
              "#7201a8"
             ],
             [
              0.3333333333333333,
              "#9c179e"
             ],
             [
              0.4444444444444444,
              "#bd3786"
             ],
             [
              0.5555555555555556,
              "#d8576b"
             ],
             [
              0.6666666666666666,
              "#ed7953"
             ],
             [
              0.7777777777777778,
              "#fb9f3a"
             ],
             [
              0.8888888888888888,
              "#fdca26"
             ],
             [
              1,
              "#f0f921"
             ]
            ],
            "type": "heatmap"
           }
          ],
          "heatmapgl": [
           {
            "colorbar": {
             "outlinewidth": 0,
             "ticks": ""
            },
            "colorscale": [
             [
              0,
              "#0d0887"
             ],
             [
              0.1111111111111111,
              "#46039f"
             ],
             [
              0.2222222222222222,
              "#7201a8"
             ],
             [
              0.3333333333333333,
              "#9c179e"
             ],
             [
              0.4444444444444444,
              "#bd3786"
             ],
             [
              0.5555555555555556,
              "#d8576b"
             ],
             [
              0.6666666666666666,
              "#ed7953"
             ],
             [
              0.7777777777777778,
              "#fb9f3a"
             ],
             [
              0.8888888888888888,
              "#fdca26"
             ],
             [
              1,
              "#f0f921"
             ]
            ],
            "type": "heatmapgl"
           }
          ],
          "histogram": [
           {
            "marker": {
             "pattern": {
              "fillmode": "overlay",
              "size": 10,
              "solidity": 0.2
             }
            },
            "type": "histogram"
           }
          ],
          "histogram2d": [
           {
            "colorbar": {
             "outlinewidth": 0,
             "ticks": ""
            },
            "colorscale": [
             [
              0,
              "#0d0887"
             ],
             [
              0.1111111111111111,
              "#46039f"
             ],
             [
              0.2222222222222222,
              "#7201a8"
             ],
             [
              0.3333333333333333,
              "#9c179e"
             ],
             [
              0.4444444444444444,
              "#bd3786"
             ],
             [
              0.5555555555555556,
              "#d8576b"
             ],
             [
              0.6666666666666666,
              "#ed7953"
             ],
             [
              0.7777777777777778,
              "#fb9f3a"
             ],
             [
              0.8888888888888888,
              "#fdca26"
             ],
             [
              1,
              "#f0f921"
             ]
            ],
            "type": "histogram2d"
           }
          ],
          "histogram2dcontour": [
           {
            "colorbar": {
             "outlinewidth": 0,
             "ticks": ""
            },
            "colorscale": [
             [
              0,
              "#0d0887"
             ],
             [
              0.1111111111111111,
              "#46039f"
             ],
             [
              0.2222222222222222,
              "#7201a8"
             ],
             [
              0.3333333333333333,
              "#9c179e"
             ],
             [
              0.4444444444444444,
              "#bd3786"
             ],
             [
              0.5555555555555556,
              "#d8576b"
             ],
             [
              0.6666666666666666,
              "#ed7953"
             ],
             [
              0.7777777777777778,
              "#fb9f3a"
             ],
             [
              0.8888888888888888,
              "#fdca26"
             ],
             [
              1,
              "#f0f921"
             ]
            ],
            "type": "histogram2dcontour"
           }
          ],
          "mesh3d": [
           {
            "colorbar": {
             "outlinewidth": 0,
             "ticks": ""
            },
            "type": "mesh3d"
           }
          ],
          "parcoords": [
           {
            "line": {
             "colorbar": {
              "outlinewidth": 0,
              "ticks": ""
             }
            },
            "type": "parcoords"
           }
          ],
          "pie": [
           {
            "automargin": true,
            "type": "pie"
           }
          ],
          "scatter": [
           {
            "fillpattern": {
             "fillmode": "overlay",
             "size": 10,
             "solidity": 0.2
            },
            "type": "scatter"
           }
          ],
          "scatter3d": [
           {
            "line": {
             "colorbar": {
              "outlinewidth": 0,
              "ticks": ""
             }
            },
            "marker": {
             "colorbar": {
              "outlinewidth": 0,
              "ticks": ""
             }
            },
            "type": "scatter3d"
           }
          ],
          "scattercarpet": [
           {
            "marker": {
             "colorbar": {
              "outlinewidth": 0,
              "ticks": ""
             }
            },
            "type": "scattercarpet"
           }
          ],
          "scattergeo": [
           {
            "marker": {
             "colorbar": {
              "outlinewidth": 0,
              "ticks": ""
             }
            },
            "type": "scattergeo"
           }
          ],
          "scattergl": [
           {
            "marker": {
             "colorbar": {
              "outlinewidth": 0,
              "ticks": ""
             }
            },
            "type": "scattergl"
           }
          ],
          "scattermapbox": [
           {
            "marker": {
             "colorbar": {
              "outlinewidth": 0,
              "ticks": ""
             }
            },
            "type": "scattermapbox"
           }
          ],
          "scatterpolar": [
           {
            "marker": {
             "colorbar": {
              "outlinewidth": 0,
              "ticks": ""
             }
            },
            "type": "scatterpolar"
           }
          ],
          "scatterpolargl": [
           {
            "marker": {
             "colorbar": {
              "outlinewidth": 0,
              "ticks": ""
             }
            },
            "type": "scatterpolargl"
           }
          ],
          "scatterternary": [
           {
            "marker": {
             "colorbar": {
              "outlinewidth": 0,
              "ticks": ""
             }
            },
            "type": "scatterternary"
           }
          ],
          "surface": [
           {
            "colorbar": {
             "outlinewidth": 0,
             "ticks": ""
            },
            "colorscale": [
             [
              0,
              "#0d0887"
             ],
             [
              0.1111111111111111,
              "#46039f"
             ],
             [
              0.2222222222222222,
              "#7201a8"
             ],
             [
              0.3333333333333333,
              "#9c179e"
             ],
             [
              0.4444444444444444,
              "#bd3786"
             ],
             [
              0.5555555555555556,
              "#d8576b"
             ],
             [
              0.6666666666666666,
              "#ed7953"
             ],
             [
              0.7777777777777778,
              "#fb9f3a"
             ],
             [
              0.8888888888888888,
              "#fdca26"
             ],
             [
              1,
              "#f0f921"
             ]
            ],
            "type": "surface"
           }
          ],
          "table": [
           {
            "cells": {
             "fill": {
              "color": "#EBF0F8"
             },
             "line": {
              "color": "white"
             }
            },
            "header": {
             "fill": {
              "color": "#C8D4E3"
             },
             "line": {
              "color": "white"
             }
            },
            "type": "table"
           }
          ]
         },
         "layout": {
          "annotationdefaults": {
           "arrowcolor": "#2a3f5f",
           "arrowhead": 0,
           "arrowwidth": 1
          },
          "autotypenumbers": "strict",
          "coloraxis": {
           "colorbar": {
            "outlinewidth": 0,
            "ticks": ""
           }
          },
          "colorscale": {
           "diverging": [
            [
             0,
             "#8e0152"
            ],
            [
             0.1,
             "#c51b7d"
            ],
            [
             0.2,
             "#de77ae"
            ],
            [
             0.3,
             "#f1b6da"
            ],
            [
             0.4,
             "#fde0ef"
            ],
            [
             0.5,
             "#f7f7f7"
            ],
            [
             0.6,
             "#e6f5d0"
            ],
            [
             0.7,
             "#b8e186"
            ],
            [
             0.8,
             "#7fbc41"
            ],
            [
             0.9,
             "#4d9221"
            ],
            [
             1,
             "#276419"
            ]
           ],
           "sequential": [
            [
             0,
             "#0d0887"
            ],
            [
             0.1111111111111111,
             "#46039f"
            ],
            [
             0.2222222222222222,
             "#7201a8"
            ],
            [
             0.3333333333333333,
             "#9c179e"
            ],
            [
             0.4444444444444444,
             "#bd3786"
            ],
            [
             0.5555555555555556,
             "#d8576b"
            ],
            [
             0.6666666666666666,
             "#ed7953"
            ],
            [
             0.7777777777777778,
             "#fb9f3a"
            ],
            [
             0.8888888888888888,
             "#fdca26"
            ],
            [
             1,
             "#f0f921"
            ]
           ],
           "sequentialminus": [
            [
             0,
             "#0d0887"
            ],
            [
             0.1111111111111111,
             "#46039f"
            ],
            [
             0.2222222222222222,
             "#7201a8"
            ],
            [
             0.3333333333333333,
             "#9c179e"
            ],
            [
             0.4444444444444444,
             "#bd3786"
            ],
            [
             0.5555555555555556,
             "#d8576b"
            ],
            [
             0.6666666666666666,
             "#ed7953"
            ],
            [
             0.7777777777777778,
             "#fb9f3a"
            ],
            [
             0.8888888888888888,
             "#fdca26"
            ],
            [
             1,
             "#f0f921"
            ]
           ]
          },
          "colorway": [
           "#636efa",
           "#EF553B",
           "#00cc96",
           "#ab63fa",
           "#FFA15A",
           "#19d3f3",
           "#FF6692",
           "#B6E880",
           "#FF97FF",
           "#FECB52"
          ],
          "font": {
           "color": "#2a3f5f"
          },
          "geo": {
           "bgcolor": "white",
           "lakecolor": "white",
           "landcolor": "white",
           "showlakes": true,
           "showland": true,
           "subunitcolor": "#C8D4E3"
          },
          "hoverlabel": {
           "align": "left"
          },
          "hovermode": "closest",
          "mapbox": {
           "style": "light"
          },
          "paper_bgcolor": "white",
          "plot_bgcolor": "white",
          "polar": {
           "angularaxis": {
            "gridcolor": "#EBF0F8",
            "linecolor": "#EBF0F8",
            "ticks": ""
           },
           "bgcolor": "white",
           "radialaxis": {
            "gridcolor": "#EBF0F8",
            "linecolor": "#EBF0F8",
            "ticks": ""
           }
          },
          "scene": {
           "xaxis": {
            "backgroundcolor": "white",
            "gridcolor": "#DFE8F3",
            "gridwidth": 2,
            "linecolor": "#EBF0F8",
            "showbackground": true,
            "ticks": "",
            "zerolinecolor": "#EBF0F8"
           },
           "yaxis": {
            "backgroundcolor": "white",
            "gridcolor": "#DFE8F3",
            "gridwidth": 2,
            "linecolor": "#EBF0F8",
            "showbackground": true,
            "ticks": "",
            "zerolinecolor": "#EBF0F8"
           },
           "zaxis": {
            "backgroundcolor": "white",
            "gridcolor": "#DFE8F3",
            "gridwidth": 2,
            "linecolor": "#EBF0F8",
            "showbackground": true,
            "ticks": "",
            "zerolinecolor": "#EBF0F8"
           }
          },
          "shapedefaults": {
           "line": {
            "color": "#2a3f5f"
           }
          },
          "ternary": {
           "aaxis": {
            "gridcolor": "#DFE8F3",
            "linecolor": "#A2B1C6",
            "ticks": ""
           },
           "baxis": {
            "gridcolor": "#DFE8F3",
            "linecolor": "#A2B1C6",
            "ticks": ""
           },
           "bgcolor": "white",
           "caxis": {
            "gridcolor": "#DFE8F3",
            "linecolor": "#A2B1C6",
            "ticks": ""
           }
          },
          "title": {
           "x": 0.05
          },
          "xaxis": {
           "automargin": true,
           "gridcolor": "#EBF0F8",
           "linecolor": "#EBF0F8",
           "ticks": "",
           "title": {
            "standoff": 15
           },
           "zerolinecolor": "#EBF0F8",
           "zerolinewidth": 2
          },
          "yaxis": {
           "automargin": true,
           "gridcolor": "#EBF0F8",
           "linecolor": "#EBF0F8",
           "ticks": "",
           "title": {
            "standoff": 15
           },
           "zerolinecolor": "#EBF0F8",
           "zerolinewidth": 2
          }
         }
        },
        "title": {
         "text": "Feature Importances from Random Forest"
        },
        "xaxis": {
         "title": {
          "text": "Feature"
         }
        },
        "yaxis": {
         "title": {
          "text": "Importance"
         }
        }
       }
      }
     },
     "metadata": {},
     "output_type": "display_data"
    }
   ],
   "source": [
    "# Extract feature importances\n",
    "importances = rf_regressor.feature_importances_*100\n",
    "\n",
    "# Create a DataFrame for easy visualization\n",
    "importance_df = pd.DataFrame({\n",
    "    'Feature': X_train.columns,\n",
    "    'Importance': importances\n",
    "}).sort_values(by='Importance', ascending=False)\n",
    "\n",
    "# Plotly bar chart\n",
    "fig = go.Figure(go.Bar(\n",
    "    x=importance_df['Feature'],\n",
    "    y=importance_df['Importance'],\n",
    "    text=importance_df['Importance'].round(3),  # Show importance values on bars\n",
    "    textposition='auto'  # Display text directly on top of bars\n",
    "))\n",
    "\n",
    "# Customize layout\n",
    "fig.update_layout(\n",
    "    title=\"Feature Importances from Random Forest\",\n",
    "    xaxis_title=\"Feature\",\n",
    "    yaxis_title=\"Importance\",\n",
    "    template=\"plotly_white\",\n",
    ")\n",
    "\n",
    "# Show plot\n",
    "fig.show()"
   ]
  },
  {
   "cell_type": "code",
   "execution_count": 69,
   "metadata": {},
   "outputs": [
    {
     "name": "stderr",
     "output_type": "stream",
     "text": [
      "c:\\Users\\clopearg\\OneDrive - NTT DATA EMEAL\\Desktop\\Fer\\Visualización\\PracticaVisualizacion\\.venv\\Lib\\site-packages\\sklearn\\base.py:1473: DataConversionWarning:\n",
      "\n",
      "A column-vector y was passed when a 1d array was expected. Please change the shape of y to (n_samples,), for example using ravel().\n",
      "\n"
     ]
    }
   ],
   "source": [
    "rf_regressor.fit(df_X, df_y)\n",
    "\n",
    "# Predict on the test set\n",
    "y_pred = rf_regressor.predict(df_X)"
   ]
  },
  {
   "cell_type": "code",
   "execution_count": 70,
   "metadata": {},
   "outputs": [],
   "source": [
    "df_pred_test = pd.DataFrame(y_pred)\n",
    "df_pred_test.columns = [\"revenue\"]\n",
    "df_pred_test['date'] = pd.to_datetime(df[['year', 'month', 'day']]).reset_index(drop=True)"
   ]
  },
  {
   "cell_type": "code",
   "execution_count": 71,
   "metadata": {},
   "outputs": [
    {
     "name": "stderr",
     "output_type": "stream",
     "text": [
      "C:\\Users\\clopearg\\AppData\\Local\\Temp\\ipykernel_73216\\3548366166.py:1: SettingWithCopyWarning:\n",
      "\n",
      "\n",
      "A value is trying to be set on a copy of a slice from a DataFrame.\n",
      "Try using .loc[row_indexer,col_indexer] = value instead\n",
      "\n",
      "See the caveats in the documentation: https://pandas.pydata.org/pandas-docs/stable/user_guide/indexing.html#returning-a-view-versus-a-copy\n",
      "\n"
     ]
    }
   ],
   "source": [
    "df_y['date'] = pd.to_datetime(df[['year', 'month', 'day']]).reset_index(drop=True)"
   ]
  },
  {
   "cell_type": "code",
   "execution_count": 72,
   "metadata": {},
   "outputs": [
    {
     "data": {
      "application/vnd.plotly.v1+json": {
       "config": {
        "plotlyServerURL": "https://plot.ly"
       },
       "data": [
        {
         "hoverinfo": "x+y",
         "line": {
          "color": "steelblue",
          "width": 0.5
         },
         "mode": "lines",
         "name": "Revenue",
         "type": "scatter",
         "x": [
          1937,
          1939,
          1940,
          1942,
          1962,
          1963,
          1964,
          1965,
          1966,
          1967,
          1969,
          1970,
          1971,
          1972,
          1973,
          1974,
          1975,
          1977,
          1978,
          1979,
          1980,
          1981,
          1982,
          1983,
          1984,
          1985,
          1986,
          1987,
          1988,
          1989,
          1990,
          1991,
          1992,
          1993,
          1994,
          1995,
          1996,
          1997,
          1998,
          1999,
          2000,
          2001,
          2002,
          2003,
          2004,
          2005,
          2006,
          2007,
          2008,
          2009,
          2010,
          2011,
          2012,
          2013,
          2014,
          2015
         ],
         "y": [
          234889611.07,
          181189867.58,
          102711420.04,
          218888023.13,
          96720572.54,
          90169841.21,
          74399071.395,
          139918774.34,
          99235630.24,
          128895054.75,
          98433797.62,
          50082030.81,
          70760356.66,
          247475044.71,
          257309198.81,
          108929144.26,
          220256476.85,
          372516751.085,
          92836649.38,
          161606786.04999998,
          165957054.04333332,
          138318243.532,
          214858941.63,
          221973824.80499998,
          211701565.69,
          193181710.59333333,
          102457211.53,
          128568265.64,
          29675924.963333335,
          242191333.7875,
          218411609.05,
          22195450.47,
          201266931.98333332,
          328736108.2733334,
          210217781.1025,
          142594323.266,
          164249688.28272727,
          319084026.04444444,
          142982321.4309091,
          208764900.45727274,
          131732553.103125,
          245378817.78736842,
          231607849.375,
          198160250.46307692,
          176986889.89153847,
          142716211.00347826,
          144434351.92,
          166899729.3067105,
          143276946.6687952,
          170433003.28097087,
          144159685.53214875,
          140458445.8738806,
          220532468.93168676,
          249090334.982459,
          299492861.06245905,
          268877287.29621625
         ]
        },
        {
         "hoverinfo": "x+y",
         "line": {
          "color": "firebrick",
          "width": 0.5
         },
         "mode": "lines",
         "name": "Revenue real",
         "type": "scatter",
         "x": [
          1937,
          1939,
          1940,
          1942,
          1962,
          1963,
          1964,
          1965,
          1966,
          1967,
          1969,
          1970,
          1971,
          1972,
          1973,
          1974,
          1975,
          1977,
          1978,
          1979,
          1980,
          1981,
          1982,
          1983,
          1984,
          1985,
          1986,
          1987,
          1988,
          1989,
          1990,
          1991,
          1992,
          1993,
          1994,
          1995,
          1996,
          1997,
          1998,
          1999,
          2000,
          2001,
          2002,
          2003,
          2004,
          2005,
          2006,
          2007,
          2008,
          2009,
          2010,
          2011,
          2012,
          2013,
          2014,
          2015
         ],
         "y": [
          184925486,
          33754967,
          83320000,
          267447150,
          59600000,
          78898765,
          68590365,
          141195658,
          6000000,
          111584787,
          81974493,
          40000000,
          65609773.5,
          245066411,
          301541990.5,
          97572000,
          237841474,
          480418340,
          105500000,
          134900093.66666666,
          188214453.66666666,
          144496694.6,
          281893310.6666667,
          249941916.75,
          205685600,
          181558507.66666666,
          11000000,
          114652690,
          6948316.666666667,
          250705965,
          220802942.8,
          7434726,
          193652399.66666666,
          422993784.3333333,
          262285718.25,
          156172675.8,
          146918620.45454547,
          358063913.5555556,
          123903630.36363636,
          204831825.45454547,
          135656376.5625,
          244116027.52631578,
          237239313.2142857,
          200900740.5,
          184297390.66666666,
          137836984.91304347,
          143201600.15492958,
          170948609.2368421,
          142304536.75903615,
          174038177.34951457,
          143298693.38016528,
          141242674.73880598,
          222332547.8433735,
          250880832.63934427,
          279173547.0327869,
          256393572.52702704
         ]
        }
       ],
       "layout": {
        "font": {
         "size": 8
        },
        "legend": {
         "bgcolor": "white",
         "x": 0.01,
         "xanchor": "left",
         "y": 0.99,
         "yanchor": "top"
        },
        "template": {
         "data": {
          "bar": [
           {
            "error_x": {
             "color": "#2a3f5f"
            },
            "error_y": {
             "color": "#2a3f5f"
            },
            "marker": {
             "line": {
              "color": "#E5ECF6",
              "width": 0.5
             },
             "pattern": {
              "fillmode": "overlay",
              "size": 10,
              "solidity": 0.2
             }
            },
            "type": "bar"
           }
          ],
          "barpolar": [
           {
            "marker": {
             "line": {
              "color": "#E5ECF6",
              "width": 0.5
             },
             "pattern": {
              "fillmode": "overlay",
              "size": 10,
              "solidity": 0.2
             }
            },
            "type": "barpolar"
           }
          ],
          "carpet": [
           {
            "aaxis": {
             "endlinecolor": "#2a3f5f",
             "gridcolor": "white",
             "linecolor": "white",
             "minorgridcolor": "white",
             "startlinecolor": "#2a3f5f"
            },
            "baxis": {
             "endlinecolor": "#2a3f5f",
             "gridcolor": "white",
             "linecolor": "white",
             "minorgridcolor": "white",
             "startlinecolor": "#2a3f5f"
            },
            "type": "carpet"
           }
          ],
          "choropleth": [
           {
            "colorbar": {
             "outlinewidth": 0,
             "ticks": ""
            },
            "type": "choropleth"
           }
          ],
          "contour": [
           {
            "colorbar": {
             "outlinewidth": 0,
             "ticks": ""
            },
            "colorscale": [
             [
              0,
              "#0d0887"
             ],
             [
              0.1111111111111111,
              "#46039f"
             ],
             [
              0.2222222222222222,
              "#7201a8"
             ],
             [
              0.3333333333333333,
              "#9c179e"
             ],
             [
              0.4444444444444444,
              "#bd3786"
             ],
             [
              0.5555555555555556,
              "#d8576b"
             ],
             [
              0.6666666666666666,
              "#ed7953"
             ],
             [
              0.7777777777777778,
              "#fb9f3a"
             ],
             [
              0.8888888888888888,
              "#fdca26"
             ],
             [
              1,
              "#f0f921"
             ]
            ],
            "type": "contour"
           }
          ],
          "contourcarpet": [
           {
            "colorbar": {
             "outlinewidth": 0,
             "ticks": ""
            },
            "type": "contourcarpet"
           }
          ],
          "heatmap": [
           {
            "colorbar": {
             "outlinewidth": 0,
             "ticks": ""
            },
            "colorscale": [
             [
              0,
              "#0d0887"
             ],
             [
              0.1111111111111111,
              "#46039f"
             ],
             [
              0.2222222222222222,
              "#7201a8"
             ],
             [
              0.3333333333333333,
              "#9c179e"
             ],
             [
              0.4444444444444444,
              "#bd3786"
             ],
             [
              0.5555555555555556,
              "#d8576b"
             ],
             [
              0.6666666666666666,
              "#ed7953"
             ],
             [
              0.7777777777777778,
              "#fb9f3a"
             ],
             [
              0.8888888888888888,
              "#fdca26"
             ],
             [
              1,
              "#f0f921"
             ]
            ],
            "type": "heatmap"
           }
          ],
          "heatmapgl": [
           {
            "colorbar": {
             "outlinewidth": 0,
             "ticks": ""
            },
            "colorscale": [
             [
              0,
              "#0d0887"
             ],
             [
              0.1111111111111111,
              "#46039f"
             ],
             [
              0.2222222222222222,
              "#7201a8"
             ],
             [
              0.3333333333333333,
              "#9c179e"
             ],
             [
              0.4444444444444444,
              "#bd3786"
             ],
             [
              0.5555555555555556,
              "#d8576b"
             ],
             [
              0.6666666666666666,
              "#ed7953"
             ],
             [
              0.7777777777777778,
              "#fb9f3a"
             ],
             [
              0.8888888888888888,
              "#fdca26"
             ],
             [
              1,
              "#f0f921"
             ]
            ],
            "type": "heatmapgl"
           }
          ],
          "histogram": [
           {
            "marker": {
             "pattern": {
              "fillmode": "overlay",
              "size": 10,
              "solidity": 0.2
             }
            },
            "type": "histogram"
           }
          ],
          "histogram2d": [
           {
            "colorbar": {
             "outlinewidth": 0,
             "ticks": ""
            },
            "colorscale": [
             [
              0,
              "#0d0887"
             ],
             [
              0.1111111111111111,
              "#46039f"
             ],
             [
              0.2222222222222222,
              "#7201a8"
             ],
             [
              0.3333333333333333,
              "#9c179e"
             ],
             [
              0.4444444444444444,
              "#bd3786"
             ],
             [
              0.5555555555555556,
              "#d8576b"
             ],
             [
              0.6666666666666666,
              "#ed7953"
             ],
             [
              0.7777777777777778,
              "#fb9f3a"
             ],
             [
              0.8888888888888888,
              "#fdca26"
             ],
             [
              1,
              "#f0f921"
             ]
            ],
            "type": "histogram2d"
           }
          ],
          "histogram2dcontour": [
           {
            "colorbar": {
             "outlinewidth": 0,
             "ticks": ""
            },
            "colorscale": [
             [
              0,
              "#0d0887"
             ],
             [
              0.1111111111111111,
              "#46039f"
             ],
             [
              0.2222222222222222,
              "#7201a8"
             ],
             [
              0.3333333333333333,
              "#9c179e"
             ],
             [
              0.4444444444444444,
              "#bd3786"
             ],
             [
              0.5555555555555556,
              "#d8576b"
             ],
             [
              0.6666666666666666,
              "#ed7953"
             ],
             [
              0.7777777777777778,
              "#fb9f3a"
             ],
             [
              0.8888888888888888,
              "#fdca26"
             ],
             [
              1,
              "#f0f921"
             ]
            ],
            "type": "histogram2dcontour"
           }
          ],
          "mesh3d": [
           {
            "colorbar": {
             "outlinewidth": 0,
             "ticks": ""
            },
            "type": "mesh3d"
           }
          ],
          "parcoords": [
           {
            "line": {
             "colorbar": {
              "outlinewidth": 0,
              "ticks": ""
             }
            },
            "type": "parcoords"
           }
          ],
          "pie": [
           {
            "automargin": true,
            "type": "pie"
           }
          ],
          "scatter": [
           {
            "fillpattern": {
             "fillmode": "overlay",
             "size": 10,
             "solidity": 0.2
            },
            "type": "scatter"
           }
          ],
          "scatter3d": [
           {
            "line": {
             "colorbar": {
              "outlinewidth": 0,
              "ticks": ""
             }
            },
            "marker": {
             "colorbar": {
              "outlinewidth": 0,
              "ticks": ""
             }
            },
            "type": "scatter3d"
           }
          ],
          "scattercarpet": [
           {
            "marker": {
             "colorbar": {
              "outlinewidth": 0,
              "ticks": ""
             }
            },
            "type": "scattercarpet"
           }
          ],
          "scattergeo": [
           {
            "marker": {
             "colorbar": {
              "outlinewidth": 0,
              "ticks": ""
             }
            },
            "type": "scattergeo"
           }
          ],
          "scattergl": [
           {
            "marker": {
             "colorbar": {
              "outlinewidth": 0,
              "ticks": ""
             }
            },
            "type": "scattergl"
           }
          ],
          "scattermapbox": [
           {
            "marker": {
             "colorbar": {
              "outlinewidth": 0,
              "ticks": ""
             }
            },
            "type": "scattermapbox"
           }
          ],
          "scatterpolar": [
           {
            "marker": {
             "colorbar": {
              "outlinewidth": 0,
              "ticks": ""
             }
            },
            "type": "scatterpolar"
           }
          ],
          "scatterpolargl": [
           {
            "marker": {
             "colorbar": {
              "outlinewidth": 0,
              "ticks": ""
             }
            },
            "type": "scatterpolargl"
           }
          ],
          "scatterternary": [
           {
            "marker": {
             "colorbar": {
              "outlinewidth": 0,
              "ticks": ""
             }
            },
            "type": "scatterternary"
           }
          ],
          "surface": [
           {
            "colorbar": {
             "outlinewidth": 0,
             "ticks": ""
            },
            "colorscale": [
             [
              0,
              "#0d0887"
             ],
             [
              0.1111111111111111,
              "#46039f"
             ],
             [
              0.2222222222222222,
              "#7201a8"
             ],
             [
              0.3333333333333333,
              "#9c179e"
             ],
             [
              0.4444444444444444,
              "#bd3786"
             ],
             [
              0.5555555555555556,
              "#d8576b"
             ],
             [
              0.6666666666666666,
              "#ed7953"
             ],
             [
              0.7777777777777778,
              "#fb9f3a"
             ],
             [
              0.8888888888888888,
              "#fdca26"
             ],
             [
              1,
              "#f0f921"
             ]
            ],
            "type": "surface"
           }
          ],
          "table": [
           {
            "cells": {
             "fill": {
              "color": "#EBF0F8"
             },
             "line": {
              "color": "white"
             }
            },
            "header": {
             "fill": {
              "color": "#C8D4E3"
             },
             "line": {
              "color": "white"
             }
            },
            "type": "table"
           }
          ]
         },
         "layout": {
          "annotationdefaults": {
           "arrowcolor": "#2a3f5f",
           "arrowhead": 0,
           "arrowwidth": 1
          },
          "autotypenumbers": "strict",
          "coloraxis": {
           "colorbar": {
            "outlinewidth": 0,
            "ticks": ""
           }
          },
          "colorscale": {
           "diverging": [
            [
             0,
             "#8e0152"
            ],
            [
             0.1,
             "#c51b7d"
            ],
            [
             0.2,
             "#de77ae"
            ],
            [
             0.3,
             "#f1b6da"
            ],
            [
             0.4,
             "#fde0ef"
            ],
            [
             0.5,
             "#f7f7f7"
            ],
            [
             0.6,
             "#e6f5d0"
            ],
            [
             0.7,
             "#b8e186"
            ],
            [
             0.8,
             "#7fbc41"
            ],
            [
             0.9,
             "#4d9221"
            ],
            [
             1,
             "#276419"
            ]
           ],
           "sequential": [
            [
             0,
             "#0d0887"
            ],
            [
             0.1111111111111111,
             "#46039f"
            ],
            [
             0.2222222222222222,
             "#7201a8"
            ],
            [
             0.3333333333333333,
             "#9c179e"
            ],
            [
             0.4444444444444444,
             "#bd3786"
            ],
            [
             0.5555555555555556,
             "#d8576b"
            ],
            [
             0.6666666666666666,
             "#ed7953"
            ],
            [
             0.7777777777777778,
             "#fb9f3a"
            ],
            [
             0.8888888888888888,
             "#fdca26"
            ],
            [
             1,
             "#f0f921"
            ]
           ],
           "sequentialminus": [
            [
             0,
             "#0d0887"
            ],
            [
             0.1111111111111111,
             "#46039f"
            ],
            [
             0.2222222222222222,
             "#7201a8"
            ],
            [
             0.3333333333333333,
             "#9c179e"
            ],
            [
             0.4444444444444444,
             "#bd3786"
            ],
            [
             0.5555555555555556,
             "#d8576b"
            ],
            [
             0.6666666666666666,
             "#ed7953"
            ],
            [
             0.7777777777777778,
             "#fb9f3a"
            ],
            [
             0.8888888888888888,
             "#fdca26"
            ],
            [
             1,
             "#f0f921"
            ]
           ]
          },
          "colorway": [
           "#636efa",
           "#EF553B",
           "#00cc96",
           "#ab63fa",
           "#FFA15A",
           "#19d3f3",
           "#FF6692",
           "#B6E880",
           "#FF97FF",
           "#FECB52"
          ],
          "font": {
           "color": "#2a3f5f"
          },
          "geo": {
           "bgcolor": "white",
           "lakecolor": "white",
           "landcolor": "#E5ECF6",
           "showlakes": true,
           "showland": true,
           "subunitcolor": "white"
          },
          "hoverlabel": {
           "align": "left"
          },
          "hovermode": "closest",
          "mapbox": {
           "style": "light"
          },
          "paper_bgcolor": "white",
          "plot_bgcolor": "#E5ECF6",
          "polar": {
           "angularaxis": {
            "gridcolor": "white",
            "linecolor": "white",
            "ticks": ""
           },
           "bgcolor": "#E5ECF6",
           "radialaxis": {
            "gridcolor": "white",
            "linecolor": "white",
            "ticks": ""
           }
          },
          "scene": {
           "xaxis": {
            "backgroundcolor": "#E5ECF6",
            "gridcolor": "white",
            "gridwidth": 2,
            "linecolor": "white",
            "showbackground": true,
            "ticks": "",
            "zerolinecolor": "white"
           },
           "yaxis": {
            "backgroundcolor": "#E5ECF6",
            "gridcolor": "white",
            "gridwidth": 2,
            "linecolor": "white",
            "showbackground": true,
            "ticks": "",
            "zerolinecolor": "white"
           },
           "zaxis": {
            "backgroundcolor": "#E5ECF6",
            "gridcolor": "white",
            "gridwidth": 2,
            "linecolor": "white",
            "showbackground": true,
            "ticks": "",
            "zerolinecolor": "white"
           }
          },
          "shapedefaults": {
           "line": {
            "color": "#2a3f5f"
           }
          },
          "ternary": {
           "aaxis": {
            "gridcolor": "white",
            "linecolor": "white",
            "ticks": ""
           },
           "baxis": {
            "gridcolor": "white",
            "linecolor": "white",
            "ticks": ""
           },
           "bgcolor": "#E5ECF6",
           "caxis": {
            "gridcolor": "white",
            "linecolor": "white",
            "ticks": ""
           }
          },
          "title": {
           "x": 0.05
          },
          "xaxis": {
           "automargin": true,
           "gridcolor": "white",
           "linecolor": "white",
           "ticks": "",
           "title": {
            "standoff": 15
           },
           "zerolinecolor": "white",
           "zerolinewidth": 2
          },
          "yaxis": {
           "automargin": true,
           "gridcolor": "white",
           "linecolor": "white",
           "ticks": "",
           "title": {
            "standoff": 15
           },
           "zerolinecolor": "white",
           "zerolinewidth": 2
          }
         }
        },
        "title": {
         "text": "Evolución Temporal"
        },
        "xaxis": {
         "title": {
          "text": "Año"
         }
        },
        "yaxis": {
         "title": {
          "text": "Ventas (Millones)"
         }
        }
       }
      }
     },
     "metadata": {},
     "output_type": "display_data"
    }
   ],
   "source": [
    "df_aux = df_pred_test.groupby(df_pred_test[\"date\"].dt.year)['revenue'].mean().reset_index()[:-1]\n",
    "df_aux2 = df_y.groupby(df_y[\"date\"].dt.year)['revenue'].mean().reset_index()[:-1]\n",
    "\n",
    "\n",
    "fig = go.Figure()\n",
    "fig.add_trace(go.Scatter(\n",
    "    x=df_aux['date'], y=df_aux['revenue'],\n",
    "    hoverinfo='x+y',\n",
    "    mode='lines',\n",
    "    line=dict(width=0.5, color='steelblue'),\n",
    "    name = 'Revenue'\n",
    "))\n",
    "fig.add_trace(go.Scatter(\n",
    "    x=df_aux2['date'], y=df_aux2['revenue'],\n",
    "    hoverinfo='x+y',\n",
    "    mode='lines',\n",
    "    line=dict(width=0.5, color='firebrick'),\n",
    "    name = 'Revenue real'\n",
    "))\n",
    "\n",
    "fig.update_layout(\n",
    "    title = 'Evolución Temporal',\n",
    "    xaxis_title = 'Año',\n",
    "    yaxis_title = 'Ventas (Millones)',\n",
    "    legend=dict(\n",
    "        bgcolor = 'white',\n",
    "        yanchor=\"top\",\n",
    "        y=0.99,\n",
    "        xanchor=\"left\",\n",
    "        x=0.01),\n",
    "    font=dict(size=8),\n",
    "    # margin=dict(\n",
    "    #     l=0,\n",
    "    #     r=0,\n",
    "    #     b=0,\n",
    "    #     t=25,\n",
    "    #     pad=4\n",
    "    # )\n",
    ")"
   ]
  },
  {
   "cell_type": "markdown",
   "metadata": {},
   "source": [
    "### 3. Random Forest quitando columnas de votos y con optimización de hiperparámetros"
   ]
  },
  {
   "cell_type": "code",
   "execution_count": 81,
   "metadata": {},
   "outputs": [],
   "source": [
    "target = \"revenue\"\n",
    "df_X = df.drop(columns=[target, \"vote_average\",'vote_count'])\n",
    "df_y = df[[target]]"
   ]
  },
  {
   "cell_type": "code",
   "execution_count": 82,
   "metadata": {},
   "outputs": [],
   "source": [
    "# Split the data into training and testing sets\n",
    "X_train, X_test, y_train, y_test = train_test_split(df_X, df_y, test_size=0.3, random_state=42)"
   ]
  },
  {
   "cell_type": "code",
   "execution_count": 73,
   "metadata": {},
   "outputs": [
    {
     "name": "stderr",
     "output_type": "stream",
     "text": [
      "[I 2024-11-19 19:21:28,653] A new study created in memory with name: no-name-c544d8a8-c6e9-42f2-a52f-65759aafc359\n",
      "c:\\Users\\clopearg\\OneDrive - NTT DATA EMEAL\\Desktop\\Fer\\Visualización\\PracticaVisualizacion\\.venv\\Lib\\site-packages\\sklearn\\base.py:1473: DataConversionWarning:\n",
      "\n",
      "A column-vector y was passed when a 1d array was expected. Please change the shape of y to (n_samples,), for example using ravel().\n",
      "\n",
      "[I 2024-11-19 19:21:28,918] Trial 0 finished with value: 1.7708406674195636e+16 and parameters: {'n_estimators': 177, 'max_depth': 12, 'min_samples_split': 7, 'min_samples_leaf': 5, 'max_features': 'sqrt'}. Best is trial 0 with value: 1.7708406674195636e+16.\n",
      "c:\\Users\\clopearg\\OneDrive - NTT DATA EMEAL\\Desktop\\Fer\\Visualización\\PracticaVisualizacion\\.venv\\Lib\\site-packages\\sklearn\\base.py:1473: DataConversionWarning:\n",
      "\n",
      "A column-vector y was passed when a 1d array was expected. Please change the shape of y to (n_samples,), for example using ravel().\n",
      "\n",
      "[I 2024-11-19 19:21:29,236] Trial 1 finished with value: 1.867547080985515e+16 and parameters: {'n_estimators': 252, 'max_depth': 20, 'min_samples_split': 8, 'min_samples_leaf': 10, 'max_features': 'sqrt'}. Best is trial 0 with value: 1.7708406674195636e+16.\n",
      "c:\\Users\\clopearg\\OneDrive - NTT DATA EMEAL\\Desktop\\Fer\\Visualización\\PracticaVisualizacion\\.venv\\Lib\\site-packages\\sklearn\\base.py:1473: DataConversionWarning:\n",
      "\n",
      "A column-vector y was passed when a 1d array was expected. Please change the shape of y to (n_samples,), for example using ravel().\n",
      "\n",
      "[I 2024-11-19 19:21:29,790] Trial 2 finished with value: 1.8119936372762948e+16 and parameters: {'n_estimators': 426, 'max_depth': 19, 'min_samples_split': 10, 'min_samples_leaf': 1, 'max_features': 'log2'}. Best is trial 0 with value: 1.7708406674195636e+16.\n",
      "c:\\Users\\clopearg\\OneDrive - NTT DATA EMEAL\\Desktop\\Fer\\Visualización\\PracticaVisualizacion\\.venv\\Lib\\site-packages\\sklearn\\base.py:1473: DataConversionWarning:\n",
      "\n",
      "A column-vector y was passed when a 1d array was expected. Please change the shape of y to (n_samples,), for example using ravel().\n",
      "\n",
      "[I 2024-11-19 19:21:30,557] Trial 3 finished with value: 1.695920128265845e+16 and parameters: {'n_estimators': 477, 'max_depth': 25, 'min_samples_split': 6, 'min_samples_leaf': 1, 'max_features': 'sqrt'}. Best is trial 3 with value: 1.695920128265845e+16.\n",
      "c:\\Users\\clopearg\\OneDrive - NTT DATA EMEAL\\Desktop\\Fer\\Visualización\\PracticaVisualizacion\\.venv\\Lib\\site-packages\\sklearn\\base.py:1473: DataConversionWarning:\n",
      "\n",
      "A column-vector y was passed when a 1d array was expected. Please change the shape of y to (n_samples,), for example using ravel().\n",
      "\n",
      "[I 2024-11-19 19:21:30,740] Trial 4 finished with value: 1.934720490341834e+16 and parameters: {'n_estimators': 157, 'max_depth': 16, 'min_samples_split': 10, 'min_samples_leaf': 7, 'max_features': 'log2'}. Best is trial 3 with value: 1.695920128265845e+16.\n",
      "c:\\Users\\clopearg\\OneDrive - NTT DATA EMEAL\\Desktop\\Fer\\Visualización\\PracticaVisualizacion\\.venv\\Lib\\site-packages\\sklearn\\base.py:1473: DataConversionWarning:\n",
      "\n",
      "A column-vector y was passed when a 1d array was expected. Please change the shape of y to (n_samples,), for example using ravel().\n",
      "\n",
      "[I 2024-11-19 19:21:30,923] Trial 5 finished with value: 1.9747045548030548e+16 and parameters: {'n_estimators': 156, 'max_depth': 17, 'min_samples_split': 4, 'min_samples_leaf': 8, 'max_features': 'log2'}. Best is trial 3 with value: 1.695920128265845e+16.\n",
      "c:\\Users\\clopearg\\OneDrive - NTT DATA EMEAL\\Desktop\\Fer\\Visualización\\PracticaVisualizacion\\.venv\\Lib\\site-packages\\sklearn\\base.py:1473: DataConversionWarning:\n",
      "\n",
      "A column-vector y was passed when a 1d array was expected. Please change the shape of y to (n_samples,), for example using ravel().\n",
      "\n",
      "[I 2024-11-19 19:21:31,679] Trial 6 finished with value: 1.7530290670786694e+16 and parameters: {'n_estimators': 435, 'max_depth': 27, 'min_samples_split': 2, 'min_samples_leaf': 2, 'max_features': 'sqrt'}. Best is trial 3 with value: 1.695920128265845e+16.\n",
      "c:\\Users\\clopearg\\OneDrive - NTT DATA EMEAL\\Desktop\\Fer\\Visualización\\PracticaVisualizacion\\.venv\\Lib\\site-packages\\sklearn\\base.py:1473: DataConversionWarning:\n",
      "\n",
      "A column-vector y was passed when a 1d array was expected. Please change the shape of y to (n_samples,), for example using ravel().\n",
      "\n",
      "[I 2024-11-19 19:21:31,904] Trial 7 finished with value: 1.89771348321857e+16 and parameters: {'n_estimators': 162, 'max_depth': 11, 'min_samples_split': 5, 'min_samples_leaf': 5, 'max_features': 'log2'}. Best is trial 3 with value: 1.695920128265845e+16.\n",
      "c:\\Users\\clopearg\\OneDrive - NTT DATA EMEAL\\Desktop\\Fer\\Visualización\\PracticaVisualizacion\\.venv\\Lib\\site-packages\\sklearn\\base.py:1473: DataConversionWarning:\n",
      "\n",
      "A column-vector y was passed when a 1d array was expected. Please change the shape of y to (n_samples,), for example using ravel().\n",
      "\n",
      "[I 2024-11-19 19:21:33,467] Trial 8 finished with value: 1.7970661921189522e+16 and parameters: {'n_estimators': 413, 'max_depth': 17, 'min_samples_split': 19, 'min_samples_leaf': 5, 'max_features': None}. Best is trial 3 with value: 1.695920128265845e+16.\n",
      "c:\\Users\\clopearg\\OneDrive - NTT DATA EMEAL\\Desktop\\Fer\\Visualización\\PracticaVisualizacion\\.venv\\Lib\\site-packages\\sklearn\\base.py:1473: DataConversionWarning:\n",
      "\n",
      "A column-vector y was passed when a 1d array was expected. Please change the shape of y to (n_samples,), for example using ravel().\n",
      "\n",
      "[I 2024-11-19 19:21:33,597] Trial 9 finished with value: 1.8069836508825412e+16 and parameters: {'n_estimators': 92, 'max_depth': 23, 'min_samples_split': 6, 'min_samples_leaf': 4, 'max_features': 'log2'}. Best is trial 3 with value: 1.695920128265845e+16.\n",
      "c:\\Users\\clopearg\\OneDrive - NTT DATA EMEAL\\Desktop\\Fer\\Visualización\\PracticaVisualizacion\\.venv\\Lib\\site-packages\\sklearn\\base.py:1473: DataConversionWarning:\n",
      "\n",
      "A column-vector y was passed when a 1d array was expected. Please change the shape of y to (n_samples,), for example using ravel().\n",
      "\n",
      "[I 2024-11-19 19:21:34,898] Trial 10 finished with value: 1.7697970575850716e+16 and parameters: {'n_estimators': 324, 'max_depth': 30, 'min_samples_split': 16, 'min_samples_leaf': 3, 'max_features': None}. Best is trial 3 with value: 1.695920128265845e+16.\n",
      "c:\\Users\\clopearg\\OneDrive - NTT DATA EMEAL\\Desktop\\Fer\\Visualización\\PracticaVisualizacion\\.venv\\Lib\\site-packages\\sklearn\\base.py:1473: DataConversionWarning:\n",
      "\n",
      "A column-vector y was passed when a 1d array was expected. Please change the shape of y to (n_samples,), for example using ravel().\n",
      "\n",
      "[I 2024-11-19 19:21:36,005] Trial 11 finished with value: 1.681332130962921e+16 and parameters: {'n_estimators': 488, 'max_depth': 27, 'min_samples_split': 2, 'min_samples_leaf': 1, 'max_features': 'sqrt'}. Best is trial 11 with value: 1.681332130962921e+16.\n",
      "c:\\Users\\clopearg\\OneDrive - NTT DATA EMEAL\\Desktop\\Fer\\Visualización\\PracticaVisualizacion\\.venv\\Lib\\site-packages\\sklearn\\base.py:1473: DataConversionWarning:\n",
      "\n",
      "A column-vector y was passed when a 1d array was expected. Please change the shape of y to (n_samples,), for example using ravel().\n",
      "\n",
      "[I 2024-11-19 19:21:36,978] Trial 12 finished with value: 1.7089539043192246e+16 and parameters: {'n_estimators': 494, 'max_depth': 25, 'min_samples_split': 3, 'min_samples_leaf': 1, 'max_features': 'sqrt'}. Best is trial 11 with value: 1.681332130962921e+16.\n",
      "c:\\Users\\clopearg\\OneDrive - NTT DATA EMEAL\\Desktop\\Fer\\Visualización\\PracticaVisualizacion\\.venv\\Lib\\site-packages\\sklearn\\base.py:1473: DataConversionWarning:\n",
      "\n",
      "A column-vector y was passed when a 1d array was expected. Please change the shape of y to (n_samples,), for example using ravel().\n",
      "\n",
      "[I 2024-11-19 19:21:37,784] Trial 13 finished with value: 1.7789574175959868e+16 and parameters: {'n_estimators': 498, 'max_depth': 30, 'min_samples_split': 15, 'min_samples_leaf': 3, 'max_features': 'sqrt'}. Best is trial 11 with value: 1.681332130962921e+16.\n",
      "c:\\Users\\clopearg\\OneDrive - NTT DATA EMEAL\\Desktop\\Fer\\Visualización\\PracticaVisualizacion\\.venv\\Lib\\site-packages\\sklearn\\base.py:1473: DataConversionWarning:\n",
      "\n",
      "A column-vector y was passed when a 1d array was expected. Please change the shape of y to (n_samples,), for example using ravel().\n",
      "\n",
      "[I 2024-11-19 19:21:38,258] Trial 14 finished with value: 1.8400671212819588e+16 and parameters: {'n_estimators': 339, 'max_depth': 6, 'min_samples_split': 2, 'min_samples_leaf': 1, 'max_features': 'sqrt'}. Best is trial 11 with value: 1.681332130962921e+16.\n",
      "c:\\Users\\clopearg\\OneDrive - NTT DATA EMEAL\\Desktop\\Fer\\Visualización\\PracticaVisualizacion\\.venv\\Lib\\site-packages\\sklearn\\base.py:1473: DataConversionWarning:\n",
      "\n",
      "A column-vector y was passed when a 1d array was expected. Please change the shape of y to (n_samples,), for example using ravel().\n",
      "\n",
      "[I 2024-11-19 19:21:38,864] Trial 15 finished with value: 1.7731493035865118e+16 and parameters: {'n_estimators': 364, 'max_depth': 22, 'min_samples_split': 13, 'min_samples_leaf': 3, 'max_features': 'sqrt'}. Best is trial 11 with value: 1.681332130962921e+16.\n",
      "c:\\Users\\clopearg\\OneDrive - NTT DATA EMEAL\\Desktop\\Fer\\Visualización\\PracticaVisualizacion\\.venv\\Lib\\site-packages\\sklearn\\base.py:1473: DataConversionWarning:\n",
      "\n",
      "A column-vector y was passed when a 1d array was expected. Please change the shape of y to (n_samples,), for example using ravel().\n",
      "\n",
      "[I 2024-11-19 19:21:39,222] Trial 16 finished with value: 1.845592093122513e+16 and parameters: {'n_estimators': 250, 'max_depth': 27, 'min_samples_split': 8, 'min_samples_leaf': 7, 'max_features': 'sqrt'}. Best is trial 11 with value: 1.681332130962921e+16.\n",
      "c:\\Users\\clopearg\\OneDrive - NTT DATA EMEAL\\Desktop\\Fer\\Visualización\\PracticaVisualizacion\\.venv\\Lib\\site-packages\\sklearn\\base.py:1473: DataConversionWarning:\n",
      "\n",
      "A column-vector y was passed when a 1d array was expected. Please change the shape of y to (n_samples,), for example using ravel().\n",
      "\n",
      "[I 2024-11-19 19:21:41,554] Trial 17 finished with value: 1.7448951336885068e+16 and parameters: {'n_estimators': 454, 'max_depth': 26, 'min_samples_split': 5, 'min_samples_leaf': 2, 'max_features': None}. Best is trial 11 with value: 1.681332130962921e+16.\n",
      "c:\\Users\\clopearg\\OneDrive - NTT DATA EMEAL\\Desktop\\Fer\\Visualización\\PracticaVisualizacion\\.venv\\Lib\\site-packages\\sklearn\\base.py:1473: DataConversionWarning:\n",
      "\n",
      "A column-vector y was passed when a 1d array was expected. Please change the shape of y to (n_samples,), for example using ravel().\n",
      "\n",
      "[I 2024-11-19 19:21:42,075] Trial 18 finished with value: 1.6962380813904096e+16 and parameters: {'n_estimators': 371, 'max_depth': 23, 'min_samples_split': 12, 'min_samples_leaf': 2, 'max_features': 'sqrt'}. Best is trial 11 with value: 1.681332130962921e+16.\n",
      "c:\\Users\\clopearg\\OneDrive - NTT DATA EMEAL\\Desktop\\Fer\\Visualización\\PracticaVisualizacion\\.venv\\Lib\\site-packages\\sklearn\\base.py:1473: DataConversionWarning:\n",
      "\n",
      "A column-vector y was passed when a 1d array was expected. Please change the shape of y to (n_samples,), for example using ravel().\n",
      "\n",
      "[I 2024-11-19 19:21:42,423] Trial 19 finished with value: 1.8598767211542284e+16 and parameters: {'n_estimators': 289, 'max_depth': 29, 'min_samples_split': 4, 'min_samples_leaf': 10, 'max_features': 'sqrt'}. Best is trial 11 with value: 1.681332130962921e+16.\n",
      "c:\\Users\\clopearg\\OneDrive - NTT DATA EMEAL\\Desktop\\Fer\\Visualización\\PracticaVisualizacion\\.venv\\Lib\\site-packages\\sklearn\\base.py:1473: DataConversionWarning:\n",
      "\n",
      "A column-vector y was passed when a 1d array was expected. Please change the shape of y to (n_samples,), for example using ravel().\n",
      "\n",
      "[I 2024-11-19 19:21:44,089] Trial 20 finished with value: 1.7451690812866584e+16 and parameters: {'n_estimators': 391, 'max_depth': 21, 'min_samples_split': 9, 'min_samples_leaf': 4, 'max_features': None}. Best is trial 11 with value: 1.681332130962921e+16.\n",
      "c:\\Users\\clopearg\\OneDrive - NTT DATA EMEAL\\Desktop\\Fer\\Visualización\\PracticaVisualizacion\\.venv\\Lib\\site-packages\\sklearn\\base.py:1473: DataConversionWarning:\n",
      "\n",
      "A column-vector y was passed when a 1d array was expected. Please change the shape of y to (n_samples,), for example using ravel().\n",
      "\n",
      "[I 2024-11-19 19:21:44,947] Trial 21 finished with value: 1.720163069208818e+16 and parameters: {'n_estimators': 466, 'max_depth': 24, 'min_samples_split': 12, 'min_samples_leaf': 2, 'max_features': 'sqrt'}. Best is trial 11 with value: 1.681332130962921e+16.\n",
      "c:\\Users\\clopearg\\OneDrive - NTT DATA EMEAL\\Desktop\\Fer\\Visualización\\PracticaVisualizacion\\.venv\\Lib\\site-packages\\sklearn\\base.py:1473: DataConversionWarning:\n",
      "\n",
      "A column-vector y was passed when a 1d array was expected. Please change the shape of y to (n_samples,), for example using ravel().\n",
      "\n",
      "[I 2024-11-19 19:21:45,747] Trial 22 finished with value: 1.7900233187802876e+16 and parameters: {'n_estimators': 383, 'max_depth': 24, 'min_samples_split': 14, 'min_samples_leaf': 1, 'max_features': 'sqrt'}. Best is trial 11 with value: 1.681332130962921e+16.\n",
      "c:\\Users\\clopearg\\OneDrive - NTT DATA EMEAL\\Desktop\\Fer\\Visualización\\PracticaVisualizacion\\.venv\\Lib\\site-packages\\sklearn\\base.py:1473: DataConversionWarning:\n",
      "\n",
      "A column-vector y was passed when a 1d array was expected. Please change the shape of y to (n_samples,), for example using ravel().\n",
      "\n",
      "[I 2024-11-19 19:21:46,539] Trial 23 finished with value: 1.779185756406154e+16 and parameters: {'n_estimators': 459, 'max_depth': 28, 'min_samples_split': 17, 'min_samples_leaf': 2, 'max_features': 'sqrt'}. Best is trial 11 with value: 1.681332130962921e+16.\n",
      "c:\\Users\\clopearg\\OneDrive - NTT DATA EMEAL\\Desktop\\Fer\\Visualización\\PracticaVisualizacion\\.venv\\Lib\\site-packages\\sklearn\\base.py:1473: DataConversionWarning:\n",
      "\n",
      "A column-vector y was passed when a 1d array was expected. Please change the shape of y to (n_samples,), for example using ravel().\n",
      "\n",
      "[I 2024-11-19 19:21:47,365] Trial 24 finished with value: 1.7675888501892242e+16 and parameters: {'n_estimators': 402, 'max_depth': 25, 'min_samples_split': 12, 'min_samples_leaf': 1, 'max_features': 'sqrt'}. Best is trial 11 with value: 1.681332130962921e+16.\n",
      "c:\\Users\\clopearg\\OneDrive - NTT DATA EMEAL\\Desktop\\Fer\\Visualización\\PracticaVisualizacion\\.venv\\Lib\\site-packages\\sklearn\\base.py:1473: DataConversionWarning:\n",
      "\n",
      "A column-vector y was passed when a 1d array was expected. Please change the shape of y to (n_samples,), for example using ravel().\n",
      "\n",
      "[I 2024-11-19 19:21:48,314] Trial 25 finished with value: 1.7628939117229292e+16 and parameters: {'n_estimators': 499, 'max_depth': 22, 'min_samples_split': 7, 'min_samples_leaf': 3, 'max_features': 'sqrt'}. Best is trial 11 with value: 1.681332130962921e+16.\n",
      "c:\\Users\\clopearg\\OneDrive - NTT DATA EMEAL\\Desktop\\Fer\\Visualización\\PracticaVisualizacion\\.venv\\Lib\\site-packages\\sklearn\\base.py:1473: DataConversionWarning:\n",
      "\n",
      "A column-vector y was passed when a 1d array was expected. Please change the shape of y to (n_samples,), for example using ravel().\n",
      "\n",
      "[I 2024-11-19 19:21:48,854] Trial 26 finished with value: 1.782297211265404e+16 and parameters: {'n_estimators': 339, 'max_depth': 19, 'min_samples_split': 11, 'min_samples_leaf': 2, 'max_features': 'sqrt'}. Best is trial 11 with value: 1.681332130962921e+16.\n",
      "c:\\Users\\clopearg\\OneDrive - NTT DATA EMEAL\\Desktop\\Fer\\Visualización\\PracticaVisualizacion\\.venv\\Lib\\site-packages\\sklearn\\base.py:1473: DataConversionWarning:\n",
      "\n",
      "A column-vector y was passed when a 1d array was expected. Please change the shape of y to (n_samples,), for example using ravel().\n",
      "\n",
      "[I 2024-11-19 19:21:49,551] Trial 27 finished with value: 1.7601814404314366e+16 and parameters: {'n_estimators': 461, 'max_depth': 28, 'min_samples_split': 2, 'min_samples_leaf': 4, 'max_features': 'sqrt'}. Best is trial 11 with value: 1.681332130962921e+16.\n",
      "c:\\Users\\clopearg\\OneDrive - NTT DATA EMEAL\\Desktop\\Fer\\Visualización\\PracticaVisualizacion\\.venv\\Lib\\site-packages\\sklearn\\base.py:1473: DataConversionWarning:\n",
      "\n",
      "A column-vector y was passed when a 1d array was expected. Please change the shape of y to (n_samples,), for example using ravel().\n",
      "\n",
      "[I 2024-11-19 19:21:51,223] Trial 28 finished with value: 1.832934752594906e+16 and parameters: {'n_estimators': 308, 'max_depth': 13, 'min_samples_split': 4, 'min_samples_leaf': 1, 'max_features': None}. Best is trial 11 with value: 1.681332130962921e+16.\n",
      "c:\\Users\\clopearg\\OneDrive - NTT DATA EMEAL\\Desktop\\Fer\\Visualización\\PracticaVisualizacion\\.venv\\Lib\\site-packages\\sklearn\\base.py:1473: DataConversionWarning:\n",
      "\n",
      "A column-vector y was passed when a 1d array was expected. Please change the shape of y to (n_samples,), for example using ravel().\n",
      "\n",
      "[I 2024-11-19 19:21:51,865] Trial 29 finished with value: 1.8087420653368796e+16 and parameters: {'n_estimators': 433, 'max_depth': 26, 'min_samples_split': 6, 'min_samples_leaf': 6, 'max_features': 'sqrt'}. Best is trial 11 with value: 1.681332130962921e+16.\n",
      "c:\\Users\\clopearg\\OneDrive - NTT DATA EMEAL\\Desktop\\Fer\\Visualización\\PracticaVisualizacion\\.venv\\Lib\\site-packages\\sklearn\\base.py:1473: DataConversionWarning:\n",
      "\n",
      "A column-vector y was passed when a 1d array was expected. Please change the shape of y to (n_samples,), for example using ravel().\n",
      "\n",
      "[I 2024-11-19 19:21:52,368] Trial 30 finished with value: 1.9540858939784636e+16 and parameters: {'n_estimators': 377, 'max_depth': 5, 'min_samples_split': 20, 'min_samples_leaf': 2, 'max_features': 'sqrt'}. Best is trial 11 with value: 1.681332130962921e+16.\n",
      "c:\\Users\\clopearg\\OneDrive - NTT DATA EMEAL\\Desktop\\Fer\\Visualización\\PracticaVisualizacion\\.venv\\Lib\\site-packages\\sklearn\\base.py:1473: DataConversionWarning:\n",
      "\n",
      "A column-vector y was passed when a 1d array was expected. Please change the shape of y to (n_samples,), for example using ravel().\n",
      "\n",
      "[I 2024-11-19 19:21:53,464] Trial 31 finished with value: 1.706402137905567e+16 and parameters: {'n_estimators': 496, 'max_depth': 25, 'min_samples_split': 3, 'min_samples_leaf': 1, 'max_features': 'sqrt'}. Best is trial 11 with value: 1.681332130962921e+16.\n",
      "c:\\Users\\clopearg\\OneDrive - NTT DATA EMEAL\\Desktop\\Fer\\Visualización\\PracticaVisualizacion\\.venv\\Lib\\site-packages\\sklearn\\base.py:1473: DataConversionWarning:\n",
      "\n",
      "A column-vector y was passed when a 1d array was expected. Please change the shape of y to (n_samples,), for example using ravel().\n",
      "\n",
      "[I 2024-11-19 19:21:53,939] Trial 32 finished with value: 1.66055397009914e+16 and parameters: {'n_estimators': 220, 'max_depth': 23, 'min_samples_split': 3, 'min_samples_leaf': 1, 'max_features': 'sqrt'}. Best is trial 32 with value: 1.66055397009914e+16.\n",
      "c:\\Users\\clopearg\\OneDrive - NTT DATA EMEAL\\Desktop\\Fer\\Visualización\\PracticaVisualizacion\\.venv\\Lib\\site-packages\\sklearn\\base.py:1473: DataConversionWarning:\n",
      "\n",
      "A column-vector y was passed when a 1d array was expected. Please change the shape of y to (n_samples,), for example using ravel().\n",
      "\n",
      "[I 2024-11-19 19:21:54,317] Trial 33 finished with value: 1.7427608065444076e+16 and parameters: {'n_estimators': 201, 'max_depth': 19, 'min_samples_split': 7, 'min_samples_leaf': 2, 'max_features': 'sqrt'}. Best is trial 32 with value: 1.66055397009914e+16.\n",
      "c:\\Users\\clopearg\\OneDrive - NTT DATA EMEAL\\Desktop\\Fer\\Visualización\\PracticaVisualizacion\\.venv\\Lib\\site-packages\\sklearn\\base.py:1473: DataConversionWarning:\n",
      "\n",
      "A column-vector y was passed when a 1d array was expected. Please change the shape of y to (n_samples,), for example using ravel().\n",
      "\n",
      "[I 2024-11-19 19:21:54,795] Trial 34 finished with value: 1.8623612255951536e+16 and parameters: {'n_estimators': 244, 'max_depth': 21, 'min_samples_split': 3, 'min_samples_leaf': 9, 'max_features': 'sqrt'}. Best is trial 32 with value: 1.66055397009914e+16.\n",
      "c:\\Users\\clopearg\\OneDrive - NTT DATA EMEAL\\Desktop\\Fer\\Visualización\\PracticaVisualizacion\\.venv\\Lib\\site-packages\\sklearn\\base.py:1473: DataConversionWarning:\n",
      "\n",
      "A column-vector y was passed when a 1d array was expected. Please change the shape of y to (n_samples,), for example using ravel().\n",
      "\n",
      "[I 2024-11-19 19:21:55,205] Trial 35 finished with value: 1.8109109586245572e+16 and parameters: {'n_estimators': 211, 'max_depth': 23, 'min_samples_split': 10, 'min_samples_leaf': 1, 'max_features': 'log2'}. Best is trial 32 with value: 1.66055397009914e+16.\n",
      "c:\\Users\\clopearg\\OneDrive - NTT DATA EMEAL\\Desktop\\Fer\\Visualización\\PracticaVisualizacion\\.venv\\Lib\\site-packages\\sklearn\\base.py:1473: DataConversionWarning:\n",
      "\n",
      "A column-vector y was passed when a 1d array was expected. Please change the shape of y to (n_samples,), for example using ravel().\n",
      "\n",
      "[I 2024-11-19 19:21:55,430] Trial 36 finished with value: 1.8230893845822016e+16 and parameters: {'n_estimators': 118, 'max_depth': 14, 'min_samples_split': 5, 'min_samples_leaf': 3, 'max_features': 'sqrt'}. Best is trial 32 with value: 1.66055397009914e+16.\n",
      "c:\\Users\\clopearg\\OneDrive - NTT DATA EMEAL\\Desktop\\Fer\\Visualización\\PracticaVisualizacion\\.venv\\Lib\\site-packages\\sklearn\\base.py:1473: DataConversionWarning:\n",
      "\n",
      "A column-vector y was passed when a 1d array was expected. Please change the shape of y to (n_samples,), for example using ravel().\n",
      "\n",
      "[I 2024-11-19 19:21:55,950] Trial 37 finished with value: 1.7558827209729202e+16 and parameters: {'n_estimators': 278, 'max_depth': 27, 'min_samples_split': 9, 'min_samples_leaf': 1, 'max_features': 'sqrt'}. Best is trial 32 with value: 1.66055397009914e+16.\n",
      "c:\\Users\\clopearg\\OneDrive - NTT DATA EMEAL\\Desktop\\Fer\\Visualización\\PracticaVisualizacion\\.venv\\Lib\\site-packages\\sklearn\\base.py:1473: DataConversionWarning:\n",
      "\n",
      "A column-vector y was passed when a 1d array was expected. Please change the shape of y to (n_samples,), for example using ravel().\n",
      "\n",
      "[I 2024-11-19 19:21:56,346] Trial 38 finished with value: 1.711906955160763e+16 and parameters: {'n_estimators': 230, 'max_depth': 20, 'min_samples_split': 6, 'min_samples_leaf': 2, 'max_features': 'sqrt'}. Best is trial 32 with value: 1.66055397009914e+16.\n",
      "c:\\Users\\clopearg\\OneDrive - NTT DATA EMEAL\\Desktop\\Fer\\Visualización\\PracticaVisualizacion\\.venv\\Lib\\site-packages\\sklearn\\base.py:1473: DataConversionWarning:\n",
      "\n",
      "A column-vector y was passed when a 1d array was expected. Please change the shape of y to (n_samples,), for example using ravel().\n",
      "\n",
      "[I 2024-11-19 19:21:56,781] Trial 39 finished with value: 1.7953097284728974e+16 and parameters: {'n_estimators': 357, 'max_depth': 23, 'min_samples_split': 4, 'min_samples_leaf': 4, 'max_features': 'log2'}. Best is trial 32 with value: 1.66055397009914e+16.\n",
      "c:\\Users\\clopearg\\OneDrive - NTT DATA EMEAL\\Desktop\\Fer\\Visualización\\PracticaVisualizacion\\.venv\\Lib\\site-packages\\sklearn\\base.py:1473: DataConversionWarning:\n",
      "\n",
      "A column-vector y was passed when a 1d array was expected. Please change the shape of y to (n_samples,), for example using ravel().\n",
      "\n",
      "[I 2024-11-19 19:21:57,383] Trial 40 finished with value: 1.813608490744533e+16 and parameters: {'n_estimators': 421, 'max_depth': 15, 'min_samples_split': 2, 'min_samples_leaf': 3, 'max_features': 'log2'}. Best is trial 32 with value: 1.66055397009914e+16.\n",
      "c:\\Users\\clopearg\\OneDrive - NTT DATA EMEAL\\Desktop\\Fer\\Visualización\\PracticaVisualizacion\\.venv\\Lib\\site-packages\\sklearn\\base.py:1473: DataConversionWarning:\n",
      "\n",
      "A column-vector y was passed when a 1d array was expected. Please change the shape of y to (n_samples,), for example using ravel().\n",
      "\n",
      "[I 2024-11-19 19:21:58,257] Trial 41 finished with value: 1.7134589964856562e+16 and parameters: {'n_estimators': 476, 'max_depth': 26, 'min_samples_split': 3, 'min_samples_leaf': 1, 'max_features': 'sqrt'}. Best is trial 32 with value: 1.66055397009914e+16.\n",
      "c:\\Users\\clopearg\\OneDrive - NTT DATA EMEAL\\Desktop\\Fer\\Visualización\\PracticaVisualizacion\\.venv\\Lib\\site-packages\\sklearn\\base.py:1473: DataConversionWarning:\n",
      "\n",
      "A column-vector y was passed when a 1d array was expected. Please change the shape of y to (n_samples,), for example using ravel().\n",
      "\n",
      "[I 2024-11-19 19:21:59,158] Trial 42 finished with value: 1.6975306403440746e+16 and parameters: {'n_estimators': 438, 'max_depth': 25, 'min_samples_split': 3, 'min_samples_leaf': 1, 'max_features': 'sqrt'}. Best is trial 32 with value: 1.66055397009914e+16.\n",
      "c:\\Users\\clopearg\\OneDrive - NTT DATA EMEAL\\Desktop\\Fer\\Visualización\\PracticaVisualizacion\\.venv\\Lib\\site-packages\\sklearn\\base.py:1473: DataConversionWarning:\n",
      "\n",
      "A column-vector y was passed when a 1d array was expected. Please change the shape of y to (n_samples,), for example using ravel().\n",
      "\n",
      "[I 2024-11-19 19:21:59,987] Trial 43 finished with value: 1.7228923527045904e+16 and parameters: {'n_estimators': 444, 'max_depth': 28, 'min_samples_split': 5, 'min_samples_leaf': 2, 'max_features': 'sqrt'}. Best is trial 32 with value: 1.66055397009914e+16.\n",
      "c:\\Users\\clopearg\\OneDrive - NTT DATA EMEAL\\Desktop\\Fer\\Visualización\\PracticaVisualizacion\\.venv\\Lib\\site-packages\\sklearn\\base.py:1473: DataConversionWarning:\n",
      "\n",
      "A column-vector y was passed when a 1d array was expected. Please change the shape of y to (n_samples,), for example using ravel().\n",
      "\n",
      "[I 2024-11-19 19:22:01,097] Trial 44 finished with value: 1.7005057803380824e+16 and parameters: {'n_estimators': 411, 'max_depth': 24, 'min_samples_split': 2, 'min_samples_leaf': 1, 'max_features': 'sqrt'}. Best is trial 32 with value: 1.66055397009914e+16.\n",
      "c:\\Users\\clopearg\\OneDrive - NTT DATA EMEAL\\Desktop\\Fer\\Visualización\\PracticaVisualizacion\\.venv\\Lib\\site-packages\\sklearn\\base.py:1473: DataConversionWarning:\n",
      "\n",
      "A column-vector y was passed when a 1d array was expected. Please change the shape of y to (n_samples,), for example using ravel().\n",
      "\n",
      "[I 2024-11-19 19:22:01,769] Trial 45 finished with value: 1.7688424140152814e+16 and parameters: {'n_estimators': 478, 'max_depth': 8, 'min_samples_split': 4, 'min_samples_leaf': 2, 'max_features': 'sqrt'}. Best is trial 32 with value: 1.66055397009914e+16.\n",
      "c:\\Users\\clopearg\\OneDrive - NTT DATA EMEAL\\Desktop\\Fer\\Visualización\\PracticaVisualizacion\\.venv\\Lib\\site-packages\\sklearn\\base.py:1473: DataConversionWarning:\n",
      "\n",
      "A column-vector y was passed when a 1d array was expected. Please change the shape of y to (n_samples,), for example using ravel().\n",
      "\n",
      "[I 2024-11-19 19:22:04,274] Trial 46 finished with value: 1.8576355106403268e+16 and parameters: {'n_estimators': 439, 'max_depth': 18, 'min_samples_split': 3, 'min_samples_leaf': 1, 'max_features': None}. Best is trial 32 with value: 1.66055397009914e+16.\n",
      "c:\\Users\\clopearg\\OneDrive - NTT DATA EMEAL\\Desktop\\Fer\\Visualización\\PracticaVisualizacion\\.venv\\Lib\\site-packages\\sklearn\\base.py:1473: DataConversionWarning:\n",
      "\n",
      "A column-vector y was passed when a 1d array was expected. Please change the shape of y to (n_samples,), for example using ravel().\n",
      "\n",
      "[I 2024-11-19 19:22:04,554] Trial 47 finished with value: 1.8199480284494684e+16 and parameters: {'n_estimators': 150, 'max_depth': 29, 'min_samples_split': 8, 'min_samples_leaf': 6, 'max_features': 'sqrt'}. Best is trial 32 with value: 1.66055397009914e+16.\n",
      "c:\\Users\\clopearg\\OneDrive - NTT DATA EMEAL\\Desktop\\Fer\\Visualización\\PracticaVisualizacion\\.venv\\Lib\\site-packages\\sklearn\\base.py:1473: DataConversionWarning:\n",
      "\n",
      "A column-vector y was passed when a 1d array was expected. Please change the shape of y to (n_samples,), for example using ravel().\n",
      "\n",
      "[I 2024-11-19 19:22:04,669] Trial 48 finished with value: 1.873344357215993e+16 and parameters: {'n_estimators': 58, 'max_depth': 22, 'min_samples_split': 11, 'min_samples_leaf': 1, 'max_features': 'sqrt'}. Best is trial 32 with value: 1.66055397009914e+16.\n",
      "c:\\Users\\clopearg\\OneDrive - NTT DATA EMEAL\\Desktop\\Fer\\Visualización\\PracticaVisualizacion\\.venv\\Lib\\site-packages\\sklearn\\base.py:1473: DataConversionWarning:\n",
      "\n",
      "A column-vector y was passed when a 1d array was expected. Please change the shape of y to (n_samples,), for example using ravel().\n",
      "\n",
      "[I 2024-11-19 19:22:04,991] Trial 49 finished with value: 1.8060151308887732e+16 and parameters: {'n_estimators': 193, 'max_depth': 27, 'min_samples_split': 6, 'min_samples_leaf': 3, 'max_features': 'log2'}. Best is trial 32 with value: 1.66055397009914e+16.\n"
     ]
    },
    {
     "name": "stdout",
     "output_type": "stream",
     "text": [
      "Best parameters: {'n_estimators': 220, 'max_depth': 23, 'min_samples_split': 3, 'min_samples_leaf': 1, 'max_features': 'sqrt'}\n",
      "Best MSE: 1.66055397009914e+16\n"
     ]
    }
   ],
   "source": [
    "def objective(trial):\n",
    "    # Definir el espacio de búsqueda de hiperparámetros\n",
    "    n_estimators = trial.suggest_int(\"n_estimators\", 50, 500)\n",
    "    max_depth = trial.suggest_int(\"max_depth\", 5, 30)\n",
    "    min_samples_split = trial.suggest_int(\"min_samples_split\", 2, 20)\n",
    "    min_samples_leaf = trial.suggest_int(\"min_samples_leaf\", 1, 10)\n",
    "    max_features = trial.suggest_categorical(\"max_features\", [\"sqrt\", \"log2\", None])\n",
    "\n",
    "    # Inicializar el modelo con los hiperparámetros seleccionados\n",
    "    rf_regressor = RandomForestRegressor(\n",
    "        n_estimators=n_estimators,\n",
    "        max_depth=max_depth,\n",
    "        min_samples_split=min_samples_split,\n",
    "        min_samples_leaf=min_samples_leaf,\n",
    "        max_features=max_features,\n",
    "        random_state=42\n",
    "    )\n",
    "    \n",
    "    # Dividir los datos\n",
    "    X_train_split, X_valid_split, y_train_split, y_valid_split = train_test_split(\n",
    "        X_train, y_train, test_size=0.2, random_state=42\n",
    "    )\n",
    "    \n",
    "    # Entrenar el modelo\n",
    "    rf_regressor.fit(X_train_split, y_train_split)\n",
    "    \n",
    "    # Hacer predicciones en el conjunto de validación\n",
    "    y_pred = rf_regressor.predict(X_valid_split)\n",
    "    \n",
    "    # Calcular el error cuadrático medio\n",
    "    mse = mean_squared_error(y_valid_split, y_pred)\n",
    "    return mse\n",
    "\n",
    "# Crear el estudio de Optuna\n",
    "study = optuna.create_study(direction=\"minimize\")\n",
    "study.optimize(objective, n_trials=50)\n",
    "\n",
    "# Mostrar los mejores hiperparámetros\n",
    "print(\"Best parameters:\", study.best_params)\n",
    "print(\"Best MSE:\", study.best_value)\n",
    "\n"
   ]
  },
  {
   "cell_type": "code",
   "execution_count": 74,
   "metadata": {},
   "outputs": [
    {
     "name": "stderr",
     "output_type": "stream",
     "text": [
      "c:\\Users\\clopearg\\OneDrive - NTT DATA EMEAL\\Desktop\\Fer\\Visualización\\PracticaVisualizacion\\.venv\\Lib\\site-packages\\sklearn\\base.py:1473: DataConversionWarning:\n",
      "\n",
      "A column-vector y was passed when a 1d array was expected. Please change the shape of y to (n_samples,), for example using ravel().\n",
      "\n"
     ]
    }
   ],
   "source": [
    "# Entrenar el modelo final con los mejores hiperparámetros\n",
    "best_params = study.best_params\n",
    "rf_best = RandomForestRegressor(\n",
    "    n_estimators=best_params[\"n_estimators\"],\n",
    "    max_depth=best_params[\"max_depth\"],\n",
    "    min_samples_split=best_params[\"min_samples_split\"],\n",
    "    min_samples_leaf=best_params[\"min_samples_leaf\"],\n",
    "    max_features=best_params[\"max_features\"],\n",
    "    random_state=42\n",
    ")\n",
    "\n",
    "rf_best.fit(X_train, y_train)\n",
    "y_pred = rf_best.predict(X_test)"
   ]
  },
  {
   "cell_type": "code",
   "execution_count": 75,
   "metadata": {},
   "outputs": [
    {
     "name": "stdout",
     "output_type": "stream",
     "text": [
      "mse: 1.5861348309927924e+16\n",
      "r2: 0.6925083072201877\n",
      "mape: 27.100276782519497\n"
     ]
    }
   ],
   "source": [
    "# Evaluate the model\n",
    "mse = mean_squared_error(y_test, y_pred)\n",
    "r2 = r2_score(y_test, y_pred)\n",
    "mape = mean_absolute_percentage_error(y_test, y_pred)\n",
    "print(f\"mse: {mse}\")\n",
    "print(f\"r2: {r2}\")\n",
    "print(f\"mape: {mape}\")"
   ]
  },
  {
   "cell_type": "code",
   "execution_count": 76,
   "metadata": {},
   "outputs": [
    {
     "data": {
      "text/html": [
       "<div>\n",
       "<style scoped>\n",
       "    .dataframe tbody tr th:only-of-type {\n",
       "        vertical-align: middle;\n",
       "    }\n",
       "\n",
       "    .dataframe tbody tr th {\n",
       "        vertical-align: top;\n",
       "    }\n",
       "\n",
       "    .dataframe thead th {\n",
       "        text-align: right;\n",
       "    }\n",
       "</style>\n",
       "<table border=\"1\" class=\"dataframe\">\n",
       "  <thead>\n",
       "    <tr style=\"text-align: right;\">\n",
       "      <th></th>\n",
       "      <th>y_real</th>\n",
       "      <th>y_pred</th>\n",
       "      <th>mape</th>\n",
       "    </tr>\n",
       "  </thead>\n",
       "  <tbody>\n",
       "    <tr>\n",
       "      <th>548</th>\n",
       "      <td>170128460</td>\n",
       "      <td>5.906062e+07</td>\n",
       "      <td>65.284691</td>\n",
       "    </tr>\n",
       "    <tr>\n",
       "      <th>704</th>\n",
       "      <td>201634991</td>\n",
       "      <td>1.453280e+08</td>\n",
       "      <td>27.925221</td>\n",
       "    </tr>\n",
       "    <tr>\n",
       "      <th>244</th>\n",
       "      <td>384335608</td>\n",
       "      <td>2.148293e+08</td>\n",
       "      <td>44.103722</td>\n",
       "    </tr>\n",
       "    <tr>\n",
       "      <th>552</th>\n",
       "      <td>74597643</td>\n",
       "      <td>1.633782e+08</td>\n",
       "      <td>119.012596</td>\n",
       "    </tr>\n",
       "    <tr>\n",
       "      <th>1164</th>\n",
       "      <td>15992615</td>\n",
       "      <td>3.698187e+07</td>\n",
       "      <td>131.243393</td>\n",
       "    </tr>\n",
       "    <tr>\n",
       "      <th>...</th>\n",
       "      <td>...</td>\n",
       "      <td>...</td>\n",
       "      <td>...</td>\n",
       "    </tr>\n",
       "    <tr>\n",
       "      <th>906</th>\n",
       "      <td>75700498</td>\n",
       "      <td>6.481959e+07</td>\n",
       "      <td>14.373633</td>\n",
       "    </tr>\n",
       "    <tr>\n",
       "      <th>273</th>\n",
       "      <td>294804195</td>\n",
       "      <td>2.517075e+08</td>\n",
       "      <td>14.618749</td>\n",
       "    </tr>\n",
       "    <tr>\n",
       "      <th>427</th>\n",
       "      <td>361366633</td>\n",
       "      <td>3.015515e+08</td>\n",
       "      <td>16.552472</td>\n",
       "    </tr>\n",
       "    <tr>\n",
       "      <th>362</th>\n",
       "      <td>56681566</td>\n",
       "      <td>1.444819e+08</td>\n",
       "      <td>154.901054</td>\n",
       "    </tr>\n",
       "    <tr>\n",
       "      <th>237</th>\n",
       "      <td>171120329</td>\n",
       "      <td>2.789876e+08</td>\n",
       "      <td>63.035931</td>\n",
       "    </tr>\n",
       "  </tbody>\n",
       "</table>\n",
       "<p>369 rows × 3 columns</p>\n",
       "</div>"
      ],
      "text/plain": [
       "         y_real        y_pred        mape\n",
       "548   170128460  5.906062e+07   65.284691\n",
       "704   201634991  1.453280e+08   27.925221\n",
       "244   384335608  2.148293e+08   44.103722\n",
       "552    74597643  1.633782e+08  119.012596\n",
       "1164   15992615  3.698187e+07  131.243393\n",
       "...         ...           ...         ...\n",
       "906    75700498  6.481959e+07   14.373633\n",
       "273   294804195  2.517075e+08   14.618749\n",
       "427   361366633  3.015515e+08   16.552472\n",
       "362    56681566  1.444819e+08  154.901054\n",
       "237   171120329  2.789876e+08   63.035931\n",
       "\n",
       "[369 rows x 3 columns]"
      ]
     },
     "execution_count": 76,
     "metadata": {},
     "output_type": "execute_result"
    }
   ],
   "source": [
    "test_preds_df = pd.DataFrame({'y_real': y_test['revenue'], 'y_pred': y_pred})\n",
    "test_preds_df['mape'] = abs(test_preds_df['y_real']-test_preds_df['y_pred'])/test_preds_df['y_real']*100\n",
    "test_preds_df"
   ]
  },
  {
   "cell_type": "code",
   "execution_count": 77,
   "metadata": {},
   "outputs": [
    {
     "data": {
      "application/vnd.plotly.v1+json": {
       "config": {
        "plotlyServerURL": "https://plot.ly"
       },
       "data": [
        {
         "text": [
          22.617,
          19.831,
          10.795,
          6.155,
          4.353,
          3.308,
          3.04,
          2.964,
          2.919,
          2.819,
          2.248,
          2.077,
          1.743,
          1.674,
          1.297,
          1.236,
          1.204,
          1.092,
          0.976,
          0.665,
          0.619,
          0.619,
          0.554,
          0.511,
          0.499,
          0.487,
          0.46,
          0.408,
          0.361,
          0.278,
          0.278,
          0.273,
          0.237,
          0.233,
          0.167,
          0.163,
          0.144,
          0.132,
          0.129,
          0.099,
          0.079,
          0.068,
          0.057,
          0.056,
          0.036,
          0.013,
          0.012,
          0.007,
          0.005,
          0.002,
          0.001
         ],
         "textposition": "auto",
         "type": "bar",
         "x": [
          "budget",
          "popularity",
          "runtime",
          "Adventure",
          "day_of_year",
          "gdp",
          "year",
          "weekday",
          "day",
          "month",
          "Drama",
          "Fantasy",
          "Animation",
          "Twentieth Century Fox Film Corporation",
          "Family",
          "Action",
          "Dune Entertainment",
          "Science_Fiction",
          "Walt Disney Pictures",
          "United Kingdom",
          "Universal Pictures",
          "Thriller",
          "Other_country",
          "Comedy",
          "Paramount Pictures",
          "Warner Bros.",
          "United States of America",
          "Columbia Pictures",
          "Romance",
          "New Line Cinema",
          "Village Roadshow Pictures",
          "Crime",
          "Germany",
          "Mystery",
          "Horror",
          "France",
          "Relativity Media",
          "Other_company",
          "Canada",
          "en_language",
          "War",
          "Music",
          "Western",
          "History",
          "Other_language",
          "es_language",
          "ja_language",
          "Documentary",
          "fr_language",
          "zh_language",
          "Foreign"
         ],
         "y": [
          22.617272404285703,
          19.83118904168235,
          10.79456993276849,
          6.155049497364354,
          4.353295485027632,
          3.3081681170166535,
          3.0403288905377064,
          2.963845698646359,
          2.9185344112615805,
          2.8191974808618387,
          2.2479387699514835,
          2.077392416341564,
          1.7434371187146218,
          1.6736533306748502,
          1.296762753924908,
          1.235622813647931,
          1.2037630589564374,
          1.0924480129759213,
          0.9763054061071222,
          0.6650763170065114,
          0.6189121526127528,
          0.6185722101858223,
          0.5535534817446078,
          0.5108142361937563,
          0.4991971423436872,
          0.4873977480472131,
          0.4597276405533738,
          0.408457406801825,
          0.360699842100517,
          0.2784412000897152,
          0.278394454478673,
          0.2729760021836564,
          0.23662786966979532,
          0.23327666737468616,
          0.16741120371598306,
          0.1633506527556157,
          0.14377366785774776,
          0.13159439000562712,
          0.1293972167016384,
          0.09880626908373721,
          0.07924086776850062,
          0.0675522353876732,
          0.057352956773771925,
          0.05595877149121519,
          0.03557855413392752,
          0.012971085505086985,
          0.012254917597462807,
          0.006560794352502933,
          0.004574670667851315,
          0.0021814251768764803,
          0.0005413088906892793
         ]
        }
       ],
       "layout": {
        "template": {
         "data": {
          "bar": [
           {
            "error_x": {
             "color": "#2a3f5f"
            },
            "error_y": {
             "color": "#2a3f5f"
            },
            "marker": {
             "line": {
              "color": "white",
              "width": 0.5
             },
             "pattern": {
              "fillmode": "overlay",
              "size": 10,
              "solidity": 0.2
             }
            },
            "type": "bar"
           }
          ],
          "barpolar": [
           {
            "marker": {
             "line": {
              "color": "white",
              "width": 0.5
             },
             "pattern": {
              "fillmode": "overlay",
              "size": 10,
              "solidity": 0.2
             }
            },
            "type": "barpolar"
           }
          ],
          "carpet": [
           {
            "aaxis": {
             "endlinecolor": "#2a3f5f",
             "gridcolor": "#C8D4E3",
             "linecolor": "#C8D4E3",
             "minorgridcolor": "#C8D4E3",
             "startlinecolor": "#2a3f5f"
            },
            "baxis": {
             "endlinecolor": "#2a3f5f",
             "gridcolor": "#C8D4E3",
             "linecolor": "#C8D4E3",
             "minorgridcolor": "#C8D4E3",
             "startlinecolor": "#2a3f5f"
            },
            "type": "carpet"
           }
          ],
          "choropleth": [
           {
            "colorbar": {
             "outlinewidth": 0,
             "ticks": ""
            },
            "type": "choropleth"
           }
          ],
          "contour": [
           {
            "colorbar": {
             "outlinewidth": 0,
             "ticks": ""
            },
            "colorscale": [
             [
              0,
              "#0d0887"
             ],
             [
              0.1111111111111111,
              "#46039f"
             ],
             [
              0.2222222222222222,
              "#7201a8"
             ],
             [
              0.3333333333333333,
              "#9c179e"
             ],
             [
              0.4444444444444444,
              "#bd3786"
             ],
             [
              0.5555555555555556,
              "#d8576b"
             ],
             [
              0.6666666666666666,
              "#ed7953"
             ],
             [
              0.7777777777777778,
              "#fb9f3a"
             ],
             [
              0.8888888888888888,
              "#fdca26"
             ],
             [
              1,
              "#f0f921"
             ]
            ],
            "type": "contour"
           }
          ],
          "contourcarpet": [
           {
            "colorbar": {
             "outlinewidth": 0,
             "ticks": ""
            },
            "type": "contourcarpet"
           }
          ],
          "heatmap": [
           {
            "colorbar": {
             "outlinewidth": 0,
             "ticks": ""
            },
            "colorscale": [
             [
              0,
              "#0d0887"
             ],
             [
              0.1111111111111111,
              "#46039f"
             ],
             [
              0.2222222222222222,
              "#7201a8"
             ],
             [
              0.3333333333333333,
              "#9c179e"
             ],
             [
              0.4444444444444444,
              "#bd3786"
             ],
             [
              0.5555555555555556,
              "#d8576b"
             ],
             [
              0.6666666666666666,
              "#ed7953"
             ],
             [
              0.7777777777777778,
              "#fb9f3a"
             ],
             [
              0.8888888888888888,
              "#fdca26"
             ],
             [
              1,
              "#f0f921"
             ]
            ],
            "type": "heatmap"
           }
          ],
          "heatmapgl": [
           {
            "colorbar": {
             "outlinewidth": 0,
             "ticks": ""
            },
            "colorscale": [
             [
              0,
              "#0d0887"
             ],
             [
              0.1111111111111111,
              "#46039f"
             ],
             [
              0.2222222222222222,
              "#7201a8"
             ],
             [
              0.3333333333333333,
              "#9c179e"
             ],
             [
              0.4444444444444444,
              "#bd3786"
             ],
             [
              0.5555555555555556,
              "#d8576b"
             ],
             [
              0.6666666666666666,
              "#ed7953"
             ],
             [
              0.7777777777777778,
              "#fb9f3a"
             ],
             [
              0.8888888888888888,
              "#fdca26"
             ],
             [
              1,
              "#f0f921"
             ]
            ],
            "type": "heatmapgl"
           }
          ],
          "histogram": [
           {
            "marker": {
             "pattern": {
              "fillmode": "overlay",
              "size": 10,
              "solidity": 0.2
             }
            },
            "type": "histogram"
           }
          ],
          "histogram2d": [
           {
            "colorbar": {
             "outlinewidth": 0,
             "ticks": ""
            },
            "colorscale": [
             [
              0,
              "#0d0887"
             ],
             [
              0.1111111111111111,
              "#46039f"
             ],
             [
              0.2222222222222222,
              "#7201a8"
             ],
             [
              0.3333333333333333,
              "#9c179e"
             ],
             [
              0.4444444444444444,
              "#bd3786"
             ],
             [
              0.5555555555555556,
              "#d8576b"
             ],
             [
              0.6666666666666666,
              "#ed7953"
             ],
             [
              0.7777777777777778,
              "#fb9f3a"
             ],
             [
              0.8888888888888888,
              "#fdca26"
             ],
             [
              1,
              "#f0f921"
             ]
            ],
            "type": "histogram2d"
           }
          ],
          "histogram2dcontour": [
           {
            "colorbar": {
             "outlinewidth": 0,
             "ticks": ""
            },
            "colorscale": [
             [
              0,
              "#0d0887"
             ],
             [
              0.1111111111111111,
              "#46039f"
             ],
             [
              0.2222222222222222,
              "#7201a8"
             ],
             [
              0.3333333333333333,
              "#9c179e"
             ],
             [
              0.4444444444444444,
              "#bd3786"
             ],
             [
              0.5555555555555556,
              "#d8576b"
             ],
             [
              0.6666666666666666,
              "#ed7953"
             ],
             [
              0.7777777777777778,
              "#fb9f3a"
             ],
             [
              0.8888888888888888,
              "#fdca26"
             ],
             [
              1,
              "#f0f921"
             ]
            ],
            "type": "histogram2dcontour"
           }
          ],
          "mesh3d": [
           {
            "colorbar": {
             "outlinewidth": 0,
             "ticks": ""
            },
            "type": "mesh3d"
           }
          ],
          "parcoords": [
           {
            "line": {
             "colorbar": {
              "outlinewidth": 0,
              "ticks": ""
             }
            },
            "type": "parcoords"
           }
          ],
          "pie": [
           {
            "automargin": true,
            "type": "pie"
           }
          ],
          "scatter": [
           {
            "fillpattern": {
             "fillmode": "overlay",
             "size": 10,
             "solidity": 0.2
            },
            "type": "scatter"
           }
          ],
          "scatter3d": [
           {
            "line": {
             "colorbar": {
              "outlinewidth": 0,
              "ticks": ""
             }
            },
            "marker": {
             "colorbar": {
              "outlinewidth": 0,
              "ticks": ""
             }
            },
            "type": "scatter3d"
           }
          ],
          "scattercarpet": [
           {
            "marker": {
             "colorbar": {
              "outlinewidth": 0,
              "ticks": ""
             }
            },
            "type": "scattercarpet"
           }
          ],
          "scattergeo": [
           {
            "marker": {
             "colorbar": {
              "outlinewidth": 0,
              "ticks": ""
             }
            },
            "type": "scattergeo"
           }
          ],
          "scattergl": [
           {
            "marker": {
             "colorbar": {
              "outlinewidth": 0,
              "ticks": ""
             }
            },
            "type": "scattergl"
           }
          ],
          "scattermapbox": [
           {
            "marker": {
             "colorbar": {
              "outlinewidth": 0,
              "ticks": ""
             }
            },
            "type": "scattermapbox"
           }
          ],
          "scatterpolar": [
           {
            "marker": {
             "colorbar": {
              "outlinewidth": 0,
              "ticks": ""
             }
            },
            "type": "scatterpolar"
           }
          ],
          "scatterpolargl": [
           {
            "marker": {
             "colorbar": {
              "outlinewidth": 0,
              "ticks": ""
             }
            },
            "type": "scatterpolargl"
           }
          ],
          "scatterternary": [
           {
            "marker": {
             "colorbar": {
              "outlinewidth": 0,
              "ticks": ""
             }
            },
            "type": "scatterternary"
           }
          ],
          "surface": [
           {
            "colorbar": {
             "outlinewidth": 0,
             "ticks": ""
            },
            "colorscale": [
             [
              0,
              "#0d0887"
             ],
             [
              0.1111111111111111,
              "#46039f"
             ],
             [
              0.2222222222222222,
              "#7201a8"
             ],
             [
              0.3333333333333333,
              "#9c179e"
             ],
             [
              0.4444444444444444,
              "#bd3786"
             ],
             [
              0.5555555555555556,
              "#d8576b"
             ],
             [
              0.6666666666666666,
              "#ed7953"
             ],
             [
              0.7777777777777778,
              "#fb9f3a"
             ],
             [
              0.8888888888888888,
              "#fdca26"
             ],
             [
              1,
              "#f0f921"
             ]
            ],
            "type": "surface"
           }
          ],
          "table": [
           {
            "cells": {
             "fill": {
              "color": "#EBF0F8"
             },
             "line": {
              "color": "white"
             }
            },
            "header": {
             "fill": {
              "color": "#C8D4E3"
             },
             "line": {
              "color": "white"
             }
            },
            "type": "table"
           }
          ]
         },
         "layout": {
          "annotationdefaults": {
           "arrowcolor": "#2a3f5f",
           "arrowhead": 0,
           "arrowwidth": 1
          },
          "autotypenumbers": "strict",
          "coloraxis": {
           "colorbar": {
            "outlinewidth": 0,
            "ticks": ""
           }
          },
          "colorscale": {
           "diverging": [
            [
             0,
             "#8e0152"
            ],
            [
             0.1,
             "#c51b7d"
            ],
            [
             0.2,
             "#de77ae"
            ],
            [
             0.3,
             "#f1b6da"
            ],
            [
             0.4,
             "#fde0ef"
            ],
            [
             0.5,
             "#f7f7f7"
            ],
            [
             0.6,
             "#e6f5d0"
            ],
            [
             0.7,
             "#b8e186"
            ],
            [
             0.8,
             "#7fbc41"
            ],
            [
             0.9,
             "#4d9221"
            ],
            [
             1,
             "#276419"
            ]
           ],
           "sequential": [
            [
             0,
             "#0d0887"
            ],
            [
             0.1111111111111111,
             "#46039f"
            ],
            [
             0.2222222222222222,
             "#7201a8"
            ],
            [
             0.3333333333333333,
             "#9c179e"
            ],
            [
             0.4444444444444444,
             "#bd3786"
            ],
            [
             0.5555555555555556,
             "#d8576b"
            ],
            [
             0.6666666666666666,
             "#ed7953"
            ],
            [
             0.7777777777777778,
             "#fb9f3a"
            ],
            [
             0.8888888888888888,
             "#fdca26"
            ],
            [
             1,
             "#f0f921"
            ]
           ],
           "sequentialminus": [
            [
             0,
             "#0d0887"
            ],
            [
             0.1111111111111111,
             "#46039f"
            ],
            [
             0.2222222222222222,
             "#7201a8"
            ],
            [
             0.3333333333333333,
             "#9c179e"
            ],
            [
             0.4444444444444444,
             "#bd3786"
            ],
            [
             0.5555555555555556,
             "#d8576b"
            ],
            [
             0.6666666666666666,
             "#ed7953"
            ],
            [
             0.7777777777777778,
             "#fb9f3a"
            ],
            [
             0.8888888888888888,
             "#fdca26"
            ],
            [
             1,
             "#f0f921"
            ]
           ]
          },
          "colorway": [
           "#636efa",
           "#EF553B",
           "#00cc96",
           "#ab63fa",
           "#FFA15A",
           "#19d3f3",
           "#FF6692",
           "#B6E880",
           "#FF97FF",
           "#FECB52"
          ],
          "font": {
           "color": "#2a3f5f"
          },
          "geo": {
           "bgcolor": "white",
           "lakecolor": "white",
           "landcolor": "white",
           "showlakes": true,
           "showland": true,
           "subunitcolor": "#C8D4E3"
          },
          "hoverlabel": {
           "align": "left"
          },
          "hovermode": "closest",
          "mapbox": {
           "style": "light"
          },
          "paper_bgcolor": "white",
          "plot_bgcolor": "white",
          "polar": {
           "angularaxis": {
            "gridcolor": "#EBF0F8",
            "linecolor": "#EBF0F8",
            "ticks": ""
           },
           "bgcolor": "white",
           "radialaxis": {
            "gridcolor": "#EBF0F8",
            "linecolor": "#EBF0F8",
            "ticks": ""
           }
          },
          "scene": {
           "xaxis": {
            "backgroundcolor": "white",
            "gridcolor": "#DFE8F3",
            "gridwidth": 2,
            "linecolor": "#EBF0F8",
            "showbackground": true,
            "ticks": "",
            "zerolinecolor": "#EBF0F8"
           },
           "yaxis": {
            "backgroundcolor": "white",
            "gridcolor": "#DFE8F3",
            "gridwidth": 2,
            "linecolor": "#EBF0F8",
            "showbackground": true,
            "ticks": "",
            "zerolinecolor": "#EBF0F8"
           },
           "zaxis": {
            "backgroundcolor": "white",
            "gridcolor": "#DFE8F3",
            "gridwidth": 2,
            "linecolor": "#EBF0F8",
            "showbackground": true,
            "ticks": "",
            "zerolinecolor": "#EBF0F8"
           }
          },
          "shapedefaults": {
           "line": {
            "color": "#2a3f5f"
           }
          },
          "ternary": {
           "aaxis": {
            "gridcolor": "#DFE8F3",
            "linecolor": "#A2B1C6",
            "ticks": ""
           },
           "baxis": {
            "gridcolor": "#DFE8F3",
            "linecolor": "#A2B1C6",
            "ticks": ""
           },
           "bgcolor": "white",
           "caxis": {
            "gridcolor": "#DFE8F3",
            "linecolor": "#A2B1C6",
            "ticks": ""
           }
          },
          "title": {
           "x": 0.05
          },
          "xaxis": {
           "automargin": true,
           "gridcolor": "#EBF0F8",
           "linecolor": "#EBF0F8",
           "ticks": "",
           "title": {
            "standoff": 15
           },
           "zerolinecolor": "#EBF0F8",
           "zerolinewidth": 2
          },
          "yaxis": {
           "automargin": true,
           "gridcolor": "#EBF0F8",
           "linecolor": "#EBF0F8",
           "ticks": "",
           "title": {
            "standoff": 15
           },
           "zerolinecolor": "#EBF0F8",
           "zerolinewidth": 2
          }
         }
        },
        "title": {
         "text": "Feature Importances from Random Forest"
        },
        "xaxis": {
         "title": {
          "text": "Feature"
         }
        },
        "yaxis": {
         "title": {
          "text": "Importance"
         }
        }
       }
      }
     },
     "metadata": {},
     "output_type": "display_data"
    }
   ],
   "source": [
    "# Extract feature importances\n",
    "importances = rf_best.feature_importances_*100\n",
    "\n",
    "# Create a DataFrame for easy visualization\n",
    "importance_df = pd.DataFrame({\n",
    "    'Feature': X_train.columns,\n",
    "    'Importance': importances\n",
    "}).sort_values(by='Importance', ascending=False)\n",
    "\n",
    "# Plotly bar chart\n",
    "fig = go.Figure(go.Bar(\n",
    "    x=importance_df['Feature'],\n",
    "    y=importance_df['Importance'],\n",
    "    text=importance_df['Importance'].round(3),  # Show importance values on bars\n",
    "    textposition='auto'  # Display text directly on top of bars\n",
    "))\n",
    "\n",
    "# Customize layout\n",
    "fig.update_layout(\n",
    "    title=\"Feature Importances from Random Forest\",\n",
    "    xaxis_title=\"Feature\",\n",
    "    yaxis_title=\"Importance\",\n",
    "    template=\"plotly_white\",\n",
    ")\n",
    "\n",
    "# Show plot\n",
    "fig.show()"
   ]
  },
  {
   "cell_type": "code",
   "execution_count": 83,
   "metadata": {},
   "outputs": [
    {
     "name": "stderr",
     "output_type": "stream",
     "text": [
      "c:\\Users\\clopearg\\OneDrive - NTT DATA EMEAL\\Desktop\\Fer\\Visualización\\PracticaVisualizacion\\.venv\\Lib\\site-packages\\sklearn\\base.py:1473: DataConversionWarning:\n",
      "\n",
      "A column-vector y was passed when a 1d array was expected. Please change the shape of y to (n_samples,), for example using ravel().\n",
      "\n"
     ]
    }
   ],
   "source": [
    "rf_best.fit(df_X, df_y)\n",
    "\n",
    "# Predict on the test set\n",
    "y_pred = rf_best.predict(df_X)"
   ]
  },
  {
   "cell_type": "code",
   "execution_count": 84,
   "metadata": {},
   "outputs": [],
   "source": [
    "df_pred_test = pd.DataFrame(y_pred)\n",
    "df_pred_test.columns = [\"revenue\"]\n",
    "df_pred_test['date'] = pd.to_datetime(df[['year', 'month', 'day']]).reset_index(drop=True)"
   ]
  },
  {
   "cell_type": "code",
   "execution_count": 85,
   "metadata": {},
   "outputs": [
    {
     "name": "stderr",
     "output_type": "stream",
     "text": [
      "C:\\Users\\clopearg\\AppData\\Local\\Temp\\ipykernel_73216\\3548366166.py:1: SettingWithCopyWarning:\n",
      "\n",
      "\n",
      "A value is trying to be set on a copy of a slice from a DataFrame.\n",
      "Try using .loc[row_indexer,col_indexer] = value instead\n",
      "\n",
      "See the caveats in the documentation: https://pandas.pydata.org/pandas-docs/stable/user_guide/indexing.html#returning-a-view-versus-a-copy\n",
      "\n"
     ]
    }
   ],
   "source": [
    "df_y['date'] = pd.to_datetime(df[['year', 'month', 'day']]).reset_index(drop=True)"
   ]
  },
  {
   "cell_type": "code",
   "execution_count": 86,
   "metadata": {},
   "outputs": [
    {
     "data": {
      "application/vnd.plotly.v1+json": {
       "config": {
        "plotlyServerURL": "https://plot.ly"
       },
       "data": [
        {
         "hoverinfo": "x+y",
         "line": {
          "color": "steelblue",
          "width": 0.5
         },
         "mode": "lines",
         "name": "Revenue",
         "type": "scatter",
         "x": [
          1937,
          1939,
          1940,
          1942,
          1962,
          1963,
          1964,
          1965,
          1966,
          1967,
          1969,
          1970,
          1971,
          1972,
          1973,
          1974,
          1975,
          1977,
          1978,
          1979,
          1980,
          1981,
          1982,
          1983,
          1984,
          1985,
          1986,
          1987,
          1988,
          1989,
          1990,
          1991,
          1992,
          1993,
          1994,
          1995,
          1996,
          1997,
          1998,
          1999,
          2000,
          2001,
          2002,
          2003,
          2004,
          2005,
          2006,
          2007,
          2008,
          2009,
          2010,
          2011,
          2012,
          2013,
          2014,
          2015
         ],
         "y": [
          230577712.20590907,
          137126147.95544374,
          150986247.88337663,
          268728177.15273225,
          90743782.30958402,
          92412723.63126154,
          72221264.65144795,
          141345874.4164394,
          132436423.13886364,
          130125242.00560603,
          130761801.55053033,
          59738166.30656927,
          87536152.49055237,
          275005064.75765145,
          239543701.26159087,
          145767461.47573593,
          225323136.86633128,
          395433936.2065531,
          98027630.96747027,
          173953180.8756638,
          187209472.20231378,
          147605692.26152295,
          245983604.07684708,
          227368123.18498605,
          221824804.71967673,
          204323225.41216278,
          76278623.88830087,
          137705157.0970013,
          45778428.336633325,
          245023611.30657464,
          223663912.1794978,
          23051543.054035407,
          188223722.41831163,
          371580171.4505303,
          211887943.69416016,
          150659789.56137985,
          160521501.21913278,
          300218289.4336808,
          150329446.97481516,
          209027999.25402114,
          140544151.77973673,
          246781023.90965727,
          229124011.4553655,
          201556013.13401687,
          173763526.75013456,
          148355336.2906441,
          147004998.90684438,
          167780961.43640918,
          146639591.9032567,
          168799747.64905944,
          144183882.04598457,
          143875689.6286821,
          216188208.97296837,
          251184797.0251868,
          287254955.20608747,
          262229947.46942025
         ]
        },
        {
         "hoverinfo": "x+y",
         "line": {
          "color": "firebrick",
          "width": 0.5
         },
         "mode": "lines",
         "name": "Revenue real",
         "type": "scatter",
         "x": [
          1937,
          1939,
          1940,
          1942,
          1962,
          1963,
          1964,
          1965,
          1966,
          1967,
          1969,
          1970,
          1971,
          1972,
          1973,
          1974,
          1975,
          1977,
          1978,
          1979,
          1980,
          1981,
          1982,
          1983,
          1984,
          1985,
          1986,
          1987,
          1988,
          1989,
          1990,
          1991,
          1992,
          1993,
          1994,
          1995,
          1996,
          1997,
          1998,
          1999,
          2000,
          2001,
          2002,
          2003,
          2004,
          2005,
          2006,
          2007,
          2008,
          2009,
          2010,
          2011,
          2012,
          2013,
          2014,
          2015
         ],
         "y": [
          184925486,
          33754967,
          83320000,
          267447150,
          59600000,
          78898765,
          68590365,
          141195658,
          6000000,
          111584787,
          81974493,
          40000000,
          65609773.5,
          245066411,
          301541990.5,
          97572000,
          237841474,
          480418340,
          105500000,
          134900093.66666666,
          188214453.66666666,
          144496694.6,
          281893310.6666667,
          249941916.75,
          205685600,
          181558507.66666666,
          11000000,
          114652690,
          6948316.666666667,
          250705965,
          220802942.8,
          7434726,
          193652399.66666666,
          422993784.3333333,
          262285718.25,
          156172675.8,
          146918620.45454547,
          358063913.5555556,
          123903630.36363636,
          204831825.45454547,
          135656376.5625,
          244116027.52631578,
          237239313.2142857,
          200900740.5,
          184297390.66666666,
          137836984.91304347,
          143201600.15492958,
          170948609.2368421,
          142304536.75903615,
          174038177.34951457,
          143298693.38016528,
          141242674.73880598,
          222332547.8433735,
          250880832.63934427,
          279173547.0327869,
          256393572.52702704
         ]
        }
       ],
       "layout": {
        "font": {
         "size": 8
        },
        "legend": {
         "bgcolor": "white",
         "x": 0.01,
         "xanchor": "left",
         "y": 0.99,
         "yanchor": "top"
        },
        "template": {
         "data": {
          "bar": [
           {
            "error_x": {
             "color": "#2a3f5f"
            },
            "error_y": {
             "color": "#2a3f5f"
            },
            "marker": {
             "line": {
              "color": "#E5ECF6",
              "width": 0.5
             },
             "pattern": {
              "fillmode": "overlay",
              "size": 10,
              "solidity": 0.2
             }
            },
            "type": "bar"
           }
          ],
          "barpolar": [
           {
            "marker": {
             "line": {
              "color": "#E5ECF6",
              "width": 0.5
             },
             "pattern": {
              "fillmode": "overlay",
              "size": 10,
              "solidity": 0.2
             }
            },
            "type": "barpolar"
           }
          ],
          "carpet": [
           {
            "aaxis": {
             "endlinecolor": "#2a3f5f",
             "gridcolor": "white",
             "linecolor": "white",
             "minorgridcolor": "white",
             "startlinecolor": "#2a3f5f"
            },
            "baxis": {
             "endlinecolor": "#2a3f5f",
             "gridcolor": "white",
             "linecolor": "white",
             "minorgridcolor": "white",
             "startlinecolor": "#2a3f5f"
            },
            "type": "carpet"
           }
          ],
          "choropleth": [
           {
            "colorbar": {
             "outlinewidth": 0,
             "ticks": ""
            },
            "type": "choropleth"
           }
          ],
          "contour": [
           {
            "colorbar": {
             "outlinewidth": 0,
             "ticks": ""
            },
            "colorscale": [
             [
              0,
              "#0d0887"
             ],
             [
              0.1111111111111111,
              "#46039f"
             ],
             [
              0.2222222222222222,
              "#7201a8"
             ],
             [
              0.3333333333333333,
              "#9c179e"
             ],
             [
              0.4444444444444444,
              "#bd3786"
             ],
             [
              0.5555555555555556,
              "#d8576b"
             ],
             [
              0.6666666666666666,
              "#ed7953"
             ],
             [
              0.7777777777777778,
              "#fb9f3a"
             ],
             [
              0.8888888888888888,
              "#fdca26"
             ],
             [
              1,
              "#f0f921"
             ]
            ],
            "type": "contour"
           }
          ],
          "contourcarpet": [
           {
            "colorbar": {
             "outlinewidth": 0,
             "ticks": ""
            },
            "type": "contourcarpet"
           }
          ],
          "heatmap": [
           {
            "colorbar": {
             "outlinewidth": 0,
             "ticks": ""
            },
            "colorscale": [
             [
              0,
              "#0d0887"
             ],
             [
              0.1111111111111111,
              "#46039f"
             ],
             [
              0.2222222222222222,
              "#7201a8"
             ],
             [
              0.3333333333333333,
              "#9c179e"
             ],
             [
              0.4444444444444444,
              "#bd3786"
             ],
             [
              0.5555555555555556,
              "#d8576b"
             ],
             [
              0.6666666666666666,
              "#ed7953"
             ],
             [
              0.7777777777777778,
              "#fb9f3a"
             ],
             [
              0.8888888888888888,
              "#fdca26"
             ],
             [
              1,
              "#f0f921"
             ]
            ],
            "type": "heatmap"
           }
          ],
          "heatmapgl": [
           {
            "colorbar": {
             "outlinewidth": 0,
             "ticks": ""
            },
            "colorscale": [
             [
              0,
              "#0d0887"
             ],
             [
              0.1111111111111111,
              "#46039f"
             ],
             [
              0.2222222222222222,
              "#7201a8"
             ],
             [
              0.3333333333333333,
              "#9c179e"
             ],
             [
              0.4444444444444444,
              "#bd3786"
             ],
             [
              0.5555555555555556,
              "#d8576b"
             ],
             [
              0.6666666666666666,
              "#ed7953"
             ],
             [
              0.7777777777777778,
              "#fb9f3a"
             ],
             [
              0.8888888888888888,
              "#fdca26"
             ],
             [
              1,
              "#f0f921"
             ]
            ],
            "type": "heatmapgl"
           }
          ],
          "histogram": [
           {
            "marker": {
             "pattern": {
              "fillmode": "overlay",
              "size": 10,
              "solidity": 0.2
             }
            },
            "type": "histogram"
           }
          ],
          "histogram2d": [
           {
            "colorbar": {
             "outlinewidth": 0,
             "ticks": ""
            },
            "colorscale": [
             [
              0,
              "#0d0887"
             ],
             [
              0.1111111111111111,
              "#46039f"
             ],
             [
              0.2222222222222222,
              "#7201a8"
             ],
             [
              0.3333333333333333,
              "#9c179e"
             ],
             [
              0.4444444444444444,
              "#bd3786"
             ],
             [
              0.5555555555555556,
              "#d8576b"
             ],
             [
              0.6666666666666666,
              "#ed7953"
             ],
             [
              0.7777777777777778,
              "#fb9f3a"
             ],
             [
              0.8888888888888888,
              "#fdca26"
             ],
             [
              1,
              "#f0f921"
             ]
            ],
            "type": "histogram2d"
           }
          ],
          "histogram2dcontour": [
           {
            "colorbar": {
             "outlinewidth": 0,
             "ticks": ""
            },
            "colorscale": [
             [
              0,
              "#0d0887"
             ],
             [
              0.1111111111111111,
              "#46039f"
             ],
             [
              0.2222222222222222,
              "#7201a8"
             ],
             [
              0.3333333333333333,
              "#9c179e"
             ],
             [
              0.4444444444444444,
              "#bd3786"
             ],
             [
              0.5555555555555556,
              "#d8576b"
             ],
             [
              0.6666666666666666,
              "#ed7953"
             ],
             [
              0.7777777777777778,
              "#fb9f3a"
             ],
             [
              0.8888888888888888,
              "#fdca26"
             ],
             [
              1,
              "#f0f921"
             ]
            ],
            "type": "histogram2dcontour"
           }
          ],
          "mesh3d": [
           {
            "colorbar": {
             "outlinewidth": 0,
             "ticks": ""
            },
            "type": "mesh3d"
           }
          ],
          "parcoords": [
           {
            "line": {
             "colorbar": {
              "outlinewidth": 0,
              "ticks": ""
             }
            },
            "type": "parcoords"
           }
          ],
          "pie": [
           {
            "automargin": true,
            "type": "pie"
           }
          ],
          "scatter": [
           {
            "fillpattern": {
             "fillmode": "overlay",
             "size": 10,
             "solidity": 0.2
            },
            "type": "scatter"
           }
          ],
          "scatter3d": [
           {
            "line": {
             "colorbar": {
              "outlinewidth": 0,
              "ticks": ""
             }
            },
            "marker": {
             "colorbar": {
              "outlinewidth": 0,
              "ticks": ""
             }
            },
            "type": "scatter3d"
           }
          ],
          "scattercarpet": [
           {
            "marker": {
             "colorbar": {
              "outlinewidth": 0,
              "ticks": ""
             }
            },
            "type": "scattercarpet"
           }
          ],
          "scattergeo": [
           {
            "marker": {
             "colorbar": {
              "outlinewidth": 0,
              "ticks": ""
             }
            },
            "type": "scattergeo"
           }
          ],
          "scattergl": [
           {
            "marker": {
             "colorbar": {
              "outlinewidth": 0,
              "ticks": ""
             }
            },
            "type": "scattergl"
           }
          ],
          "scattermapbox": [
           {
            "marker": {
             "colorbar": {
              "outlinewidth": 0,
              "ticks": ""
             }
            },
            "type": "scattermapbox"
           }
          ],
          "scatterpolar": [
           {
            "marker": {
             "colorbar": {
              "outlinewidth": 0,
              "ticks": ""
             }
            },
            "type": "scatterpolar"
           }
          ],
          "scatterpolargl": [
           {
            "marker": {
             "colorbar": {
              "outlinewidth": 0,
              "ticks": ""
             }
            },
            "type": "scatterpolargl"
           }
          ],
          "scatterternary": [
           {
            "marker": {
             "colorbar": {
              "outlinewidth": 0,
              "ticks": ""
             }
            },
            "type": "scatterternary"
           }
          ],
          "surface": [
           {
            "colorbar": {
             "outlinewidth": 0,
             "ticks": ""
            },
            "colorscale": [
             [
              0,
              "#0d0887"
             ],
             [
              0.1111111111111111,
              "#46039f"
             ],
             [
              0.2222222222222222,
              "#7201a8"
             ],
             [
              0.3333333333333333,
              "#9c179e"
             ],
             [
              0.4444444444444444,
              "#bd3786"
             ],
             [
              0.5555555555555556,
              "#d8576b"
             ],
             [
              0.6666666666666666,
              "#ed7953"
             ],
             [
              0.7777777777777778,
              "#fb9f3a"
             ],
             [
              0.8888888888888888,
              "#fdca26"
             ],
             [
              1,
              "#f0f921"
             ]
            ],
            "type": "surface"
           }
          ],
          "table": [
           {
            "cells": {
             "fill": {
              "color": "#EBF0F8"
             },
             "line": {
              "color": "white"
             }
            },
            "header": {
             "fill": {
              "color": "#C8D4E3"
             },
             "line": {
              "color": "white"
             }
            },
            "type": "table"
           }
          ]
         },
         "layout": {
          "annotationdefaults": {
           "arrowcolor": "#2a3f5f",
           "arrowhead": 0,
           "arrowwidth": 1
          },
          "autotypenumbers": "strict",
          "coloraxis": {
           "colorbar": {
            "outlinewidth": 0,
            "ticks": ""
           }
          },
          "colorscale": {
           "diverging": [
            [
             0,
             "#8e0152"
            ],
            [
             0.1,
             "#c51b7d"
            ],
            [
             0.2,
             "#de77ae"
            ],
            [
             0.3,
             "#f1b6da"
            ],
            [
             0.4,
             "#fde0ef"
            ],
            [
             0.5,
             "#f7f7f7"
            ],
            [
             0.6,
             "#e6f5d0"
            ],
            [
             0.7,
             "#b8e186"
            ],
            [
             0.8,
             "#7fbc41"
            ],
            [
             0.9,
             "#4d9221"
            ],
            [
             1,
             "#276419"
            ]
           ],
           "sequential": [
            [
             0,
             "#0d0887"
            ],
            [
             0.1111111111111111,
             "#46039f"
            ],
            [
             0.2222222222222222,
             "#7201a8"
            ],
            [
             0.3333333333333333,
             "#9c179e"
            ],
            [
             0.4444444444444444,
             "#bd3786"
            ],
            [
             0.5555555555555556,
             "#d8576b"
            ],
            [
             0.6666666666666666,
             "#ed7953"
            ],
            [
             0.7777777777777778,
             "#fb9f3a"
            ],
            [
             0.8888888888888888,
             "#fdca26"
            ],
            [
             1,
             "#f0f921"
            ]
           ],
           "sequentialminus": [
            [
             0,
             "#0d0887"
            ],
            [
             0.1111111111111111,
             "#46039f"
            ],
            [
             0.2222222222222222,
             "#7201a8"
            ],
            [
             0.3333333333333333,
             "#9c179e"
            ],
            [
             0.4444444444444444,
             "#bd3786"
            ],
            [
             0.5555555555555556,
             "#d8576b"
            ],
            [
             0.6666666666666666,
             "#ed7953"
            ],
            [
             0.7777777777777778,
             "#fb9f3a"
            ],
            [
             0.8888888888888888,
             "#fdca26"
            ],
            [
             1,
             "#f0f921"
            ]
           ]
          },
          "colorway": [
           "#636efa",
           "#EF553B",
           "#00cc96",
           "#ab63fa",
           "#FFA15A",
           "#19d3f3",
           "#FF6692",
           "#B6E880",
           "#FF97FF",
           "#FECB52"
          ],
          "font": {
           "color": "#2a3f5f"
          },
          "geo": {
           "bgcolor": "white",
           "lakecolor": "white",
           "landcolor": "#E5ECF6",
           "showlakes": true,
           "showland": true,
           "subunitcolor": "white"
          },
          "hoverlabel": {
           "align": "left"
          },
          "hovermode": "closest",
          "mapbox": {
           "style": "light"
          },
          "paper_bgcolor": "white",
          "plot_bgcolor": "#E5ECF6",
          "polar": {
           "angularaxis": {
            "gridcolor": "white",
            "linecolor": "white",
            "ticks": ""
           },
           "bgcolor": "#E5ECF6",
           "radialaxis": {
            "gridcolor": "white",
            "linecolor": "white",
            "ticks": ""
           }
          },
          "scene": {
           "xaxis": {
            "backgroundcolor": "#E5ECF6",
            "gridcolor": "white",
            "gridwidth": 2,
            "linecolor": "white",
            "showbackground": true,
            "ticks": "",
            "zerolinecolor": "white"
           },
           "yaxis": {
            "backgroundcolor": "#E5ECF6",
            "gridcolor": "white",
            "gridwidth": 2,
            "linecolor": "white",
            "showbackground": true,
            "ticks": "",
            "zerolinecolor": "white"
           },
           "zaxis": {
            "backgroundcolor": "#E5ECF6",
            "gridcolor": "white",
            "gridwidth": 2,
            "linecolor": "white",
            "showbackground": true,
            "ticks": "",
            "zerolinecolor": "white"
           }
          },
          "shapedefaults": {
           "line": {
            "color": "#2a3f5f"
           }
          },
          "ternary": {
           "aaxis": {
            "gridcolor": "white",
            "linecolor": "white",
            "ticks": ""
           },
           "baxis": {
            "gridcolor": "white",
            "linecolor": "white",
            "ticks": ""
           },
           "bgcolor": "#E5ECF6",
           "caxis": {
            "gridcolor": "white",
            "linecolor": "white",
            "ticks": ""
           }
          },
          "title": {
           "x": 0.05
          },
          "xaxis": {
           "automargin": true,
           "gridcolor": "white",
           "linecolor": "white",
           "ticks": "",
           "title": {
            "standoff": 15
           },
           "zerolinecolor": "white",
           "zerolinewidth": 2
          },
          "yaxis": {
           "automargin": true,
           "gridcolor": "white",
           "linecolor": "white",
           "ticks": "",
           "title": {
            "standoff": 15
           },
           "zerolinecolor": "white",
           "zerolinewidth": 2
          }
         }
        },
        "title": {
         "text": "Evolución Temporal"
        },
        "xaxis": {
         "title": {
          "text": "Año"
         }
        },
        "yaxis": {
         "title": {
          "text": "Ventas (Millones)"
         }
        }
       }
      }
     },
     "metadata": {},
     "output_type": "display_data"
    }
   ],
   "source": [
    "df_aux = df_pred_test.groupby(df_pred_test[\"date\"].dt.year)['revenue'].mean().reset_index()[:-1]\n",
    "df_aux2 = df_y.groupby(df_y[\"date\"].dt.year)['revenue'].mean().reset_index()[:-1]\n",
    "\n",
    "\n",
    "fig = go.Figure()\n",
    "fig.add_trace(go.Scatter(\n",
    "    x=df_aux['date'], y=df_aux['revenue'],\n",
    "    hoverinfo='x+y',\n",
    "    mode='lines',\n",
    "    line=dict(width=0.5, color='steelblue'),\n",
    "    name = 'Revenue'\n",
    "))\n",
    "fig.add_trace(go.Scatter(\n",
    "    x=df_aux2['date'], y=df_aux2['revenue'],\n",
    "    hoverinfo='x+y',\n",
    "    mode='lines',\n",
    "    line=dict(width=0.5, color='firebrick'),\n",
    "    name = 'Revenue real'\n",
    "))\n",
    "\n",
    "fig.update_layout(\n",
    "    title = 'Evolución Temporal',\n",
    "    xaxis_title = 'Año',\n",
    "    yaxis_title = 'Ventas (Millones)',\n",
    "    legend=dict(\n",
    "        bgcolor = 'white',\n",
    "        yanchor=\"top\",\n",
    "        y=0.99,\n",
    "        xanchor=\"left\",\n",
    "        x=0.01),\n",
    "    font=dict(size=8),\n",
    "    # margin=dict(\n",
    "    #     l=0,\n",
    "    #     r=0,\n",
    "    #     b=0,\n",
    "    #     t=25,\n",
    "    #     pad=4\n",
    "    # )\n",
    ")"
   ]
  },
  {
   "cell_type": "markdown",
   "metadata": {},
   "source": [
    "### 4. xgboost tuning"
   ]
  },
  {
   "cell_type": "code",
   "execution_count": 87,
   "metadata": {},
   "outputs": [],
   "source": [
    "target = \"revenue\"\n",
    "df_X = df.drop(columns=[target, \"vote_average\",'vote_count', \"day\"])\n",
    "df_y = df[[target]]"
   ]
  },
  {
   "cell_type": "code",
   "execution_count": 88,
   "metadata": {},
   "outputs": [
    {
     "name": "stdout",
     "output_type": "stream",
     "text": [
      "X_train:  (861, 50) , y_train:  (861, 1)\n",
      "X_test:  (184, 50) , y_test:  (184, 1)\n",
      "X_val:  (185, 50) , y_val:  (185, 1)\n"
     ]
    }
   ],
   "source": [
    "X_train, X_test_val, y_train, y_test_val = train_test_split(df_X, df_y, test_size=0.3, random_state=42)\n",
    "X_test, X_val, y_test, y_val = train_test_split(X_test_val, y_test_val, test_size=0.5, random_state=42)\n",
    "print(\"X_train: \",X_train.shape, \", y_train: \",y_train.shape)\n",
    "print(\"X_test: \",X_test.shape, \", y_test: \",y_test.shape)\n",
    "print(\"X_val: \",X_val.shape, \", y_val: \",y_val.shape)"
   ]
  },
  {
   "cell_type": "markdown",
   "metadata": {},
   "source": [
    "XGBoost model with parameter tuning:"
   ]
  },
  {
   "cell_type": "code",
   "execution_count": 89,
   "metadata": {},
   "outputs": [],
   "source": [
    "# XGBoost\n",
    "def objective(trial,data,target,data_val,target_val):\n",
    "    \n",
    "    param = {\n",
    "        # #'tree_method':'gpu_hist',  # this parameter means using the GPU when training our model to speedup the training process\n",
    "        # 'lambda': trial.suggest_loguniform('lambda', 1e-3, 10.0),\n",
    "        # 'alpha': trial.suggest_loguniform('alpha', 1e-3, 10.0),\n",
    "        # 'colsample_bytree': trial.suggest_categorical('colsample_bytree', [0.3,0.4,0.5,0.6,0.7,0.8,0.9, 1.0]),\n",
    "        # 'subsample': trial.suggest_categorical('subsample', [0.4,0.5,0.6,0.7,0.8,1.0]),\n",
    "        # 'learning_rate': trial.suggest_categorical('learning_rate', [0.008,0.01,0.012,0.014,0.016,0.018, 0.02]),\n",
    "        # 'n_estimators': 10000,\n",
    "        # 'max_depth': trial.suggest_categorical('max_depth', [5,7,9,11,13,15,17]),\n",
    "        # 'random_state': trial.suggest_categorical('random_state', [2020]),\n",
    "        # 'min_child_weight': trial.suggest_int('min_child_weight', 1, 300),\n",
    "\n",
    "        \"verbosity\": 0,  # 0 (silent) - 3 (debug)\n",
    "        \"objective\": \"reg:squarederror\",\n",
    "        \"n_estimators\": 10000,\n",
    "        \"max_depth\": trial.suggest_int(\"max_depth\", 4, 12),\n",
    "        \"learning_rate\": trial.suggest_loguniform(\"learning_rate\", 0.005, 0.05),\n",
    "        \"colsample_bytree\": trial.suggest_loguniform(\"colsample_bytree\", 0.2, 0.6),\n",
    "        \"subsample\": trial.suggest_loguniform(\"subsample\", 0.4, 0.8),\n",
    "        \"alpha\": trial.suggest_loguniform(\"alpha\", 0.01, 10.0),\n",
    "        \"lambda\": trial.suggest_loguniform(\"lambda\", 1e-8, 10.0),\n",
    "        \"gamma\": trial.suggest_loguniform(\"lambda\", 1e-8, 10.0),\n",
    "        \"min_child_weight\": trial.suggest_loguniform(\"min_child_weight\", 10, 1000),\n",
    "        \"seed\": 124,\n",
    "        \"n_jobs\": 8,\n",
    "    }\n",
    "    model = xgb.XGBRegressor(**param)\n",
    "    \n",
    "    model.fit(data,target,eval_set=[(data_val,target_val)],verbose=False)\n",
    "    \n",
    "    preds = model.predict(data_val)\n",
    "    \n",
    "    rmse = root_mean_squared_error(target_val, preds)\n",
    "    \n",
    "    return rmse"
   ]
  },
  {
   "cell_type": "code",
   "execution_count": 90,
   "metadata": {},
   "outputs": [
    {
     "name": "stderr",
     "output_type": "stream",
     "text": [
      "[I 2024-11-19 19:23:26,544] A new study created in memory with name: no-name-2b5b8081-87af-4f38-9d89-c25b4e0425a3\n",
      "C:\\Users\\clopearg\\AppData\\Local\\Temp\\ipykernel_73216\\3309686106.py:20: FutureWarning:\n",
      "\n",
      "suggest_loguniform has been deprecated in v3.0.0. This feature will be removed in v6.0.0. See https://github.com/optuna/optuna/releases/tag/v3.0.0. Use suggest_float(..., log=True) instead.\n",
      "\n",
      "C:\\Users\\clopearg\\AppData\\Local\\Temp\\ipykernel_73216\\3309686106.py:21: FutureWarning:\n",
      "\n",
      "suggest_loguniform has been deprecated in v3.0.0. This feature will be removed in v6.0.0. See https://github.com/optuna/optuna/releases/tag/v3.0.0. Use suggest_float(..., log=True) instead.\n",
      "\n",
      "C:\\Users\\clopearg\\AppData\\Local\\Temp\\ipykernel_73216\\3309686106.py:22: FutureWarning:\n",
      "\n",
      "suggest_loguniform has been deprecated in v3.0.0. This feature will be removed in v6.0.0. See https://github.com/optuna/optuna/releases/tag/v3.0.0. Use suggest_float(..., log=True) instead.\n",
      "\n",
      "C:\\Users\\clopearg\\AppData\\Local\\Temp\\ipykernel_73216\\3309686106.py:23: FutureWarning:\n",
      "\n",
      "suggest_loguniform has been deprecated in v3.0.0. This feature will be removed in v6.0.0. See https://github.com/optuna/optuna/releases/tag/v3.0.0. Use suggest_float(..., log=True) instead.\n",
      "\n",
      "C:\\Users\\clopearg\\AppData\\Local\\Temp\\ipykernel_73216\\3309686106.py:24: FutureWarning:\n",
      "\n",
      "suggest_loguniform has been deprecated in v3.0.0. This feature will be removed in v6.0.0. See https://github.com/optuna/optuna/releases/tag/v3.0.0. Use suggest_float(..., log=True) instead.\n",
      "\n",
      "C:\\Users\\clopearg\\AppData\\Local\\Temp\\ipykernel_73216\\3309686106.py:25: FutureWarning:\n",
      "\n",
      "suggest_loguniform has been deprecated in v3.0.0. This feature will be removed in v6.0.0. See https://github.com/optuna/optuna/releases/tag/v3.0.0. Use suggest_float(..., log=True) instead.\n",
      "\n",
      "C:\\Users\\clopearg\\AppData\\Local\\Temp\\ipykernel_73216\\3309686106.py:26: FutureWarning:\n",
      "\n",
      "suggest_loguniform has been deprecated in v3.0.0. This feature will be removed in v6.0.0. See https://github.com/optuna/optuna/releases/tag/v3.0.0. Use suggest_float(..., log=True) instead.\n",
      "\n",
      "[I 2024-11-19 19:23:34,297] Trial 0 finished with value: 214749144.85862884 and parameters: {'max_depth': 5, 'learning_rate': 0.04578281744810319, 'colsample_bytree': 0.2387976497975953, 'subsample': 0.4017579388107942, 'alpha': 0.014681118974604385, 'lambda': 0.04070785720709981, 'min_child_weight': 846.2757709373603}. Best is trial 0 with value: 214749144.85862884.\n",
      "C:\\Users\\clopearg\\AppData\\Local\\Temp\\ipykernel_73216\\3309686106.py:20: FutureWarning:\n",
      "\n",
      "suggest_loguniform has been deprecated in v3.0.0. This feature will be removed in v6.0.0. See https://github.com/optuna/optuna/releases/tag/v3.0.0. Use suggest_float(..., log=True) instead.\n",
      "\n",
      "C:\\Users\\clopearg\\AppData\\Local\\Temp\\ipykernel_73216\\3309686106.py:21: FutureWarning:\n",
      "\n",
      "suggest_loguniform has been deprecated in v3.0.0. This feature will be removed in v6.0.0. See https://github.com/optuna/optuna/releases/tag/v3.0.0. Use suggest_float(..., log=True) instead.\n",
      "\n",
      "C:\\Users\\clopearg\\AppData\\Local\\Temp\\ipykernel_73216\\3309686106.py:22: FutureWarning:\n",
      "\n",
      "suggest_loguniform has been deprecated in v3.0.0. This feature will be removed in v6.0.0. See https://github.com/optuna/optuna/releases/tag/v3.0.0. Use suggest_float(..., log=True) instead.\n",
      "\n",
      "C:\\Users\\clopearg\\AppData\\Local\\Temp\\ipykernel_73216\\3309686106.py:23: FutureWarning:\n",
      "\n",
      "suggest_loguniform has been deprecated in v3.0.0. This feature will be removed in v6.0.0. See https://github.com/optuna/optuna/releases/tag/v3.0.0. Use suggest_float(..., log=True) instead.\n",
      "\n",
      "C:\\Users\\clopearg\\AppData\\Local\\Temp\\ipykernel_73216\\3309686106.py:24: FutureWarning:\n",
      "\n",
      "suggest_loguniform has been deprecated in v3.0.0. This feature will be removed in v6.0.0. See https://github.com/optuna/optuna/releases/tag/v3.0.0. Use suggest_float(..., log=True) instead.\n",
      "\n",
      "C:\\Users\\clopearg\\AppData\\Local\\Temp\\ipykernel_73216\\3309686106.py:25: FutureWarning:\n",
      "\n",
      "suggest_loguniform has been deprecated in v3.0.0. This feature will be removed in v6.0.0. See https://github.com/optuna/optuna/releases/tag/v3.0.0. Use suggest_float(..., log=True) instead.\n",
      "\n",
      "C:\\Users\\clopearg\\AppData\\Local\\Temp\\ipykernel_73216\\3309686106.py:26: FutureWarning:\n",
      "\n",
      "suggest_loguniform has been deprecated in v3.0.0. This feature will be removed in v6.0.0. See https://github.com/optuna/optuna/releases/tag/v3.0.0. Use suggest_float(..., log=True) instead.\n",
      "\n",
      "[I 2024-11-19 19:23:42,727] Trial 1 finished with value: 152870745.34919432 and parameters: {'max_depth': 9, 'learning_rate': 0.01471678771467039, 'colsample_bytree': 0.25797334019365886, 'subsample': 0.6975943253082155, 'alpha': 0.1332575760119881, 'lambda': 1.799226376470757e-06, 'min_child_weight': 192.84830402034268}. Best is trial 1 with value: 152870745.34919432.\n",
      "C:\\Users\\clopearg\\AppData\\Local\\Temp\\ipykernel_73216\\3309686106.py:20: FutureWarning:\n",
      "\n",
      "suggest_loguniform has been deprecated in v3.0.0. This feature will be removed in v6.0.0. See https://github.com/optuna/optuna/releases/tag/v3.0.0. Use suggest_float(..., log=True) instead.\n",
      "\n",
      "C:\\Users\\clopearg\\AppData\\Local\\Temp\\ipykernel_73216\\3309686106.py:21: FutureWarning:\n",
      "\n",
      "suggest_loguniform has been deprecated in v3.0.0. This feature will be removed in v6.0.0. See https://github.com/optuna/optuna/releases/tag/v3.0.0. Use suggest_float(..., log=True) instead.\n",
      "\n",
      "C:\\Users\\clopearg\\AppData\\Local\\Temp\\ipykernel_73216\\3309686106.py:22: FutureWarning:\n",
      "\n",
      "suggest_loguniform has been deprecated in v3.0.0. This feature will be removed in v6.0.0. See https://github.com/optuna/optuna/releases/tag/v3.0.0. Use suggest_float(..., log=True) instead.\n",
      "\n",
      "C:\\Users\\clopearg\\AppData\\Local\\Temp\\ipykernel_73216\\3309686106.py:23: FutureWarning:\n",
      "\n",
      "suggest_loguniform has been deprecated in v3.0.0. This feature will be removed in v6.0.0. See https://github.com/optuna/optuna/releases/tag/v3.0.0. Use suggest_float(..., log=True) instead.\n",
      "\n",
      "C:\\Users\\clopearg\\AppData\\Local\\Temp\\ipykernel_73216\\3309686106.py:24: FutureWarning:\n",
      "\n",
      "suggest_loguniform has been deprecated in v3.0.0. This feature will be removed in v6.0.0. See https://github.com/optuna/optuna/releases/tag/v3.0.0. Use suggest_float(..., log=True) instead.\n",
      "\n",
      "C:\\Users\\clopearg\\AppData\\Local\\Temp\\ipykernel_73216\\3309686106.py:25: FutureWarning:\n",
      "\n",
      "suggest_loguniform has been deprecated in v3.0.0. This feature will be removed in v6.0.0. See https://github.com/optuna/optuna/releases/tag/v3.0.0. Use suggest_float(..., log=True) instead.\n",
      "\n",
      "C:\\Users\\clopearg\\AppData\\Local\\Temp\\ipykernel_73216\\3309686106.py:26: FutureWarning:\n",
      "\n",
      "suggest_loguniform has been deprecated in v3.0.0. This feature will be removed in v6.0.0. See https://github.com/optuna/optuna/releases/tag/v3.0.0. Use suggest_float(..., log=True) instead.\n",
      "\n",
      "[I 2024-11-19 19:23:50,706] Trial 2 finished with value: 214749144.85862884 and parameters: {'max_depth': 9, 'learning_rate': 0.017528342971913725, 'colsample_bytree': 0.21921007671573753, 'subsample': 0.4179843944343296, 'alpha': 0.14141935600245797, 'lambda': 0.15208942590872848, 'min_child_weight': 631.3738340984323}. Best is trial 1 with value: 152870745.34919432.\n",
      "C:\\Users\\clopearg\\AppData\\Local\\Temp\\ipykernel_73216\\3309686106.py:20: FutureWarning:\n",
      "\n",
      "suggest_loguniform has been deprecated in v3.0.0. This feature will be removed in v6.0.0. See https://github.com/optuna/optuna/releases/tag/v3.0.0. Use suggest_float(..., log=True) instead.\n",
      "\n",
      "C:\\Users\\clopearg\\AppData\\Local\\Temp\\ipykernel_73216\\3309686106.py:21: FutureWarning:\n",
      "\n",
      "suggest_loguniform has been deprecated in v3.0.0. This feature will be removed in v6.0.0. See https://github.com/optuna/optuna/releases/tag/v3.0.0. Use suggest_float(..., log=True) instead.\n",
      "\n",
      "C:\\Users\\clopearg\\AppData\\Local\\Temp\\ipykernel_73216\\3309686106.py:22: FutureWarning:\n",
      "\n",
      "suggest_loguniform has been deprecated in v3.0.0. This feature will be removed in v6.0.0. See https://github.com/optuna/optuna/releases/tag/v3.0.0. Use suggest_float(..., log=True) instead.\n",
      "\n",
      "C:\\Users\\clopearg\\AppData\\Local\\Temp\\ipykernel_73216\\3309686106.py:23: FutureWarning:\n",
      "\n",
      "suggest_loguniform has been deprecated in v3.0.0. This feature will be removed in v6.0.0. See https://github.com/optuna/optuna/releases/tag/v3.0.0. Use suggest_float(..., log=True) instead.\n",
      "\n",
      "C:\\Users\\clopearg\\AppData\\Local\\Temp\\ipykernel_73216\\3309686106.py:24: FutureWarning:\n",
      "\n",
      "suggest_loguniform has been deprecated in v3.0.0. This feature will be removed in v6.0.0. See https://github.com/optuna/optuna/releases/tag/v3.0.0. Use suggest_float(..., log=True) instead.\n",
      "\n",
      "C:\\Users\\clopearg\\AppData\\Local\\Temp\\ipykernel_73216\\3309686106.py:25: FutureWarning:\n",
      "\n",
      "suggest_loguniform has been deprecated in v3.0.0. This feature will be removed in v6.0.0. See https://github.com/optuna/optuna/releases/tag/v3.0.0. Use suggest_float(..., log=True) instead.\n",
      "\n",
      "C:\\Users\\clopearg\\AppData\\Local\\Temp\\ipykernel_73216\\3309686106.py:26: FutureWarning:\n",
      "\n",
      "suggest_loguniform has been deprecated in v3.0.0. This feature will be removed in v6.0.0. See https://github.com/optuna/optuna/releases/tag/v3.0.0. Use suggest_float(..., log=True) instead.\n",
      "\n",
      "[I 2024-11-19 19:23:58,558] Trial 3 finished with value: 170357959.69286385 and parameters: {'max_depth': 9, 'learning_rate': 0.010507709007793168, 'colsample_bytree': 0.35822004895245063, 'subsample': 0.7525283056444775, 'alpha': 0.01584856299635486, 'lambda': 2.5204051637043357e-08, 'min_child_weight': 304.0858666484669}. Best is trial 1 with value: 152870745.34919432.\n",
      "C:\\Users\\clopearg\\AppData\\Local\\Temp\\ipykernel_73216\\3309686106.py:20: FutureWarning:\n",
      "\n",
      "suggest_loguniform has been deprecated in v3.0.0. This feature will be removed in v6.0.0. See https://github.com/optuna/optuna/releases/tag/v3.0.0. Use suggest_float(..., log=True) instead.\n",
      "\n",
      "C:\\Users\\clopearg\\AppData\\Local\\Temp\\ipykernel_73216\\3309686106.py:21: FutureWarning:\n",
      "\n",
      "suggest_loguniform has been deprecated in v3.0.0. This feature will be removed in v6.0.0. See https://github.com/optuna/optuna/releases/tag/v3.0.0. Use suggest_float(..., log=True) instead.\n",
      "\n",
      "C:\\Users\\clopearg\\AppData\\Local\\Temp\\ipykernel_73216\\3309686106.py:22: FutureWarning:\n",
      "\n",
      "suggest_loguniform has been deprecated in v3.0.0. This feature will be removed in v6.0.0. See https://github.com/optuna/optuna/releases/tag/v3.0.0. Use suggest_float(..., log=True) instead.\n",
      "\n",
      "C:\\Users\\clopearg\\AppData\\Local\\Temp\\ipykernel_73216\\3309686106.py:23: FutureWarning:\n",
      "\n",
      "suggest_loguniform has been deprecated in v3.0.0. This feature will be removed in v6.0.0. See https://github.com/optuna/optuna/releases/tag/v3.0.0. Use suggest_float(..., log=True) instead.\n",
      "\n",
      "C:\\Users\\clopearg\\AppData\\Local\\Temp\\ipykernel_73216\\3309686106.py:24: FutureWarning:\n",
      "\n",
      "suggest_loguniform has been deprecated in v3.0.0. This feature will be removed in v6.0.0. See https://github.com/optuna/optuna/releases/tag/v3.0.0. Use suggest_float(..., log=True) instead.\n",
      "\n",
      "C:\\Users\\clopearg\\AppData\\Local\\Temp\\ipykernel_73216\\3309686106.py:25: FutureWarning:\n",
      "\n",
      "suggest_loguniform has been deprecated in v3.0.0. This feature will be removed in v6.0.0. See https://github.com/optuna/optuna/releases/tag/v3.0.0. Use suggest_float(..., log=True) instead.\n",
      "\n",
      "C:\\Users\\clopearg\\AppData\\Local\\Temp\\ipykernel_73216\\3309686106.py:26: FutureWarning:\n",
      "\n",
      "suggest_loguniform has been deprecated in v3.0.0. This feature will be removed in v6.0.0. See https://github.com/optuna/optuna/releases/tag/v3.0.0. Use suggest_float(..., log=True) instead.\n",
      "\n",
      "[I 2024-11-19 19:24:09,329] Trial 4 finished with value: 133581684.80245699 and parameters: {'max_depth': 5, 'learning_rate': 0.01024285898236019, 'colsample_bytree': 0.22953307159426517, 'subsample': 0.7046428720041725, 'alpha': 0.22984449272000834, 'lambda': 4.773094894785673e-07, 'min_child_weight': 38.50443859650951}. Best is trial 4 with value: 133581684.80245699.\n",
      "C:\\Users\\clopearg\\AppData\\Local\\Temp\\ipykernel_73216\\3309686106.py:20: FutureWarning:\n",
      "\n",
      "suggest_loguniform has been deprecated in v3.0.0. This feature will be removed in v6.0.0. See https://github.com/optuna/optuna/releases/tag/v3.0.0. Use suggest_float(..., log=True) instead.\n",
      "\n",
      "C:\\Users\\clopearg\\AppData\\Local\\Temp\\ipykernel_73216\\3309686106.py:21: FutureWarning:\n",
      "\n",
      "suggest_loguniform has been deprecated in v3.0.0. This feature will be removed in v6.0.0. See https://github.com/optuna/optuna/releases/tag/v3.0.0. Use suggest_float(..., log=True) instead.\n",
      "\n",
      "C:\\Users\\clopearg\\AppData\\Local\\Temp\\ipykernel_73216\\3309686106.py:22: FutureWarning:\n",
      "\n",
      "suggest_loguniform has been deprecated in v3.0.0. This feature will be removed in v6.0.0. See https://github.com/optuna/optuna/releases/tag/v3.0.0. Use suggest_float(..., log=True) instead.\n",
      "\n",
      "C:\\Users\\clopearg\\AppData\\Local\\Temp\\ipykernel_73216\\3309686106.py:23: FutureWarning:\n",
      "\n",
      "suggest_loguniform has been deprecated in v3.0.0. This feature will be removed in v6.0.0. See https://github.com/optuna/optuna/releases/tag/v3.0.0. Use suggest_float(..., log=True) instead.\n",
      "\n",
      "C:\\Users\\clopearg\\AppData\\Local\\Temp\\ipykernel_73216\\3309686106.py:24: FutureWarning:\n",
      "\n",
      "suggest_loguniform has been deprecated in v3.0.0. This feature will be removed in v6.0.0. See https://github.com/optuna/optuna/releases/tag/v3.0.0. Use suggest_float(..., log=True) instead.\n",
      "\n",
      "C:\\Users\\clopearg\\AppData\\Local\\Temp\\ipykernel_73216\\3309686106.py:25: FutureWarning:\n",
      "\n",
      "suggest_loguniform has been deprecated in v3.0.0. This feature will be removed in v6.0.0. See https://github.com/optuna/optuna/releases/tag/v3.0.0. Use suggest_float(..., log=True) instead.\n",
      "\n",
      "C:\\Users\\clopearg\\AppData\\Local\\Temp\\ipykernel_73216\\3309686106.py:26: FutureWarning:\n",
      "\n",
      "suggest_loguniform has been deprecated in v3.0.0. This feature will be removed in v6.0.0. See https://github.com/optuna/optuna/releases/tag/v3.0.0. Use suggest_float(..., log=True) instead.\n",
      "\n",
      "[I 2024-11-19 19:24:18,538] Trial 5 finished with value: 144428551.04137212 and parameters: {'max_depth': 5, 'learning_rate': 0.009718896310464575, 'colsample_bytree': 0.28146552487273613, 'subsample': 0.5742507112232254, 'alpha': 0.011753633218718628, 'lambda': 5.5887897445713165e-08, 'min_child_weight': 125.12915438716301}. Best is trial 4 with value: 133581684.80245699.\n",
      "C:\\Users\\clopearg\\AppData\\Local\\Temp\\ipykernel_73216\\3309686106.py:20: FutureWarning:\n",
      "\n",
      "suggest_loguniform has been deprecated in v3.0.0. This feature will be removed in v6.0.0. See https://github.com/optuna/optuna/releases/tag/v3.0.0. Use suggest_float(..., log=True) instead.\n",
      "\n",
      "C:\\Users\\clopearg\\AppData\\Local\\Temp\\ipykernel_73216\\3309686106.py:21: FutureWarning:\n",
      "\n",
      "suggest_loguniform has been deprecated in v3.0.0. This feature will be removed in v6.0.0. See https://github.com/optuna/optuna/releases/tag/v3.0.0. Use suggest_float(..., log=True) instead.\n",
      "\n",
      "C:\\Users\\clopearg\\AppData\\Local\\Temp\\ipykernel_73216\\3309686106.py:22: FutureWarning:\n",
      "\n",
      "suggest_loguniform has been deprecated in v3.0.0. This feature will be removed in v6.0.0. See https://github.com/optuna/optuna/releases/tag/v3.0.0. Use suggest_float(..., log=True) instead.\n",
      "\n",
      "C:\\Users\\clopearg\\AppData\\Local\\Temp\\ipykernel_73216\\3309686106.py:23: FutureWarning:\n",
      "\n",
      "suggest_loguniform has been deprecated in v3.0.0. This feature will be removed in v6.0.0. See https://github.com/optuna/optuna/releases/tag/v3.0.0. Use suggest_float(..., log=True) instead.\n",
      "\n",
      "C:\\Users\\clopearg\\AppData\\Local\\Temp\\ipykernel_73216\\3309686106.py:24: FutureWarning:\n",
      "\n",
      "suggest_loguniform has been deprecated in v3.0.0. This feature will be removed in v6.0.0. See https://github.com/optuna/optuna/releases/tag/v3.0.0. Use suggest_float(..., log=True) instead.\n",
      "\n",
      "C:\\Users\\clopearg\\AppData\\Local\\Temp\\ipykernel_73216\\3309686106.py:25: FutureWarning:\n",
      "\n",
      "suggest_loguniform has been deprecated in v3.0.0. This feature will be removed in v6.0.0. See https://github.com/optuna/optuna/releases/tag/v3.0.0. Use suggest_float(..., log=True) instead.\n",
      "\n",
      "C:\\Users\\clopearg\\AppData\\Local\\Temp\\ipykernel_73216\\3309686106.py:26: FutureWarning:\n",
      "\n",
      "suggest_loguniform has been deprecated in v3.0.0. This feature will be removed in v6.0.0. See https://github.com/optuna/optuna/releases/tag/v3.0.0. Use suggest_float(..., log=True) instead.\n",
      "\n",
      "[I 2024-11-19 19:24:29,100] Trial 6 finished with value: 148909991.0610663 and parameters: {'max_depth': 4, 'learning_rate': 0.016464048717482475, 'colsample_bytree': 0.5651533054212388, 'subsample': 0.5563011619278228, 'alpha': 0.024765198632822925, 'lambda': 0.09135600217242479, 'min_child_weight': 55.644222411311745}. Best is trial 4 with value: 133581684.80245699.\n",
      "C:\\Users\\clopearg\\AppData\\Local\\Temp\\ipykernel_73216\\3309686106.py:20: FutureWarning:\n",
      "\n",
      "suggest_loguniform has been deprecated in v3.0.0. This feature will be removed in v6.0.0. See https://github.com/optuna/optuna/releases/tag/v3.0.0. Use suggest_float(..., log=True) instead.\n",
      "\n",
      "C:\\Users\\clopearg\\AppData\\Local\\Temp\\ipykernel_73216\\3309686106.py:21: FutureWarning:\n",
      "\n",
      "suggest_loguniform has been deprecated in v3.0.0. This feature will be removed in v6.0.0. See https://github.com/optuna/optuna/releases/tag/v3.0.0. Use suggest_float(..., log=True) instead.\n",
      "\n",
      "C:\\Users\\clopearg\\AppData\\Local\\Temp\\ipykernel_73216\\3309686106.py:22: FutureWarning:\n",
      "\n",
      "suggest_loguniform has been deprecated in v3.0.0. This feature will be removed in v6.0.0. See https://github.com/optuna/optuna/releases/tag/v3.0.0. Use suggest_float(..., log=True) instead.\n",
      "\n",
      "C:\\Users\\clopearg\\AppData\\Local\\Temp\\ipykernel_73216\\3309686106.py:23: FutureWarning:\n",
      "\n",
      "suggest_loguniform has been deprecated in v3.0.0. This feature will be removed in v6.0.0. See https://github.com/optuna/optuna/releases/tag/v3.0.0. Use suggest_float(..., log=True) instead.\n",
      "\n",
      "C:\\Users\\clopearg\\AppData\\Local\\Temp\\ipykernel_73216\\3309686106.py:24: FutureWarning:\n",
      "\n",
      "suggest_loguniform has been deprecated in v3.0.0. This feature will be removed in v6.0.0. See https://github.com/optuna/optuna/releases/tag/v3.0.0. Use suggest_float(..., log=True) instead.\n",
      "\n",
      "C:\\Users\\clopearg\\AppData\\Local\\Temp\\ipykernel_73216\\3309686106.py:25: FutureWarning:\n",
      "\n",
      "suggest_loguniform has been deprecated in v3.0.0. This feature will be removed in v6.0.0. See https://github.com/optuna/optuna/releases/tag/v3.0.0. Use suggest_float(..., log=True) instead.\n",
      "\n",
      "C:\\Users\\clopearg\\AppData\\Local\\Temp\\ipykernel_73216\\3309686106.py:26: FutureWarning:\n",
      "\n",
      "suggest_loguniform has been deprecated in v3.0.0. This feature will be removed in v6.0.0. See https://github.com/optuna/optuna/releases/tag/v3.0.0. Use suggest_float(..., log=True) instead.\n",
      "\n",
      "[I 2024-11-19 19:24:37,704] Trial 7 finished with value: 164888768.86729717 and parameters: {'max_depth': 9, 'learning_rate': 0.006374952407185533, 'colsample_bytree': 0.41075308450883147, 'subsample': 0.572401141384925, 'alpha': 0.6656366935168805, 'lambda': 1.2833205087215165e-08, 'min_child_weight': 215.96569562005317}. Best is trial 4 with value: 133581684.80245699.\n",
      "C:\\Users\\clopearg\\AppData\\Local\\Temp\\ipykernel_73216\\3309686106.py:20: FutureWarning:\n",
      "\n",
      "suggest_loguniform has been deprecated in v3.0.0. This feature will be removed in v6.0.0. See https://github.com/optuna/optuna/releases/tag/v3.0.0. Use suggest_float(..., log=True) instead.\n",
      "\n",
      "C:\\Users\\clopearg\\AppData\\Local\\Temp\\ipykernel_73216\\3309686106.py:21: FutureWarning:\n",
      "\n",
      "suggest_loguniform has been deprecated in v3.0.0. This feature will be removed in v6.0.0. See https://github.com/optuna/optuna/releases/tag/v3.0.0. Use suggest_float(..., log=True) instead.\n",
      "\n",
      "C:\\Users\\clopearg\\AppData\\Local\\Temp\\ipykernel_73216\\3309686106.py:22: FutureWarning:\n",
      "\n",
      "suggest_loguniform has been deprecated in v3.0.0. This feature will be removed in v6.0.0. See https://github.com/optuna/optuna/releases/tag/v3.0.0. Use suggest_float(..., log=True) instead.\n",
      "\n",
      "C:\\Users\\clopearg\\AppData\\Local\\Temp\\ipykernel_73216\\3309686106.py:23: FutureWarning:\n",
      "\n",
      "suggest_loguniform has been deprecated in v3.0.0. This feature will be removed in v6.0.0. See https://github.com/optuna/optuna/releases/tag/v3.0.0. Use suggest_float(..., log=True) instead.\n",
      "\n",
      "C:\\Users\\clopearg\\AppData\\Local\\Temp\\ipykernel_73216\\3309686106.py:24: FutureWarning:\n",
      "\n",
      "suggest_loguniform has been deprecated in v3.0.0. This feature will be removed in v6.0.0. See https://github.com/optuna/optuna/releases/tag/v3.0.0. Use suggest_float(..., log=True) instead.\n",
      "\n",
      "C:\\Users\\clopearg\\AppData\\Local\\Temp\\ipykernel_73216\\3309686106.py:25: FutureWarning:\n",
      "\n",
      "suggest_loguniform has been deprecated in v3.0.0. This feature will be removed in v6.0.0. See https://github.com/optuna/optuna/releases/tag/v3.0.0. Use suggest_float(..., log=True) instead.\n",
      "\n",
      "C:\\Users\\clopearg\\AppData\\Local\\Temp\\ipykernel_73216\\3309686106.py:26: FutureWarning:\n",
      "\n",
      "suggest_loguniform has been deprecated in v3.0.0. This feature will be removed in v6.0.0. See https://github.com/optuna/optuna/releases/tag/v3.0.0. Use suggest_float(..., log=True) instead.\n",
      "\n",
      "[I 2024-11-19 19:24:49,806] Trial 8 finished with value: 143667129.74656498 and parameters: {'max_depth': 5, 'learning_rate': 0.021830231315393703, 'colsample_bytree': 0.4195468890643999, 'subsample': 0.5515063827040455, 'alpha': 6.946111739341784, 'lambda': 0.00020611167316646003, 'min_child_weight': 37.248366528177876}. Best is trial 4 with value: 133581684.80245699.\n",
      "C:\\Users\\clopearg\\AppData\\Local\\Temp\\ipykernel_73216\\3309686106.py:20: FutureWarning:\n",
      "\n",
      "suggest_loguniform has been deprecated in v3.0.0. This feature will be removed in v6.0.0. See https://github.com/optuna/optuna/releases/tag/v3.0.0. Use suggest_float(..., log=True) instead.\n",
      "\n",
      "C:\\Users\\clopearg\\AppData\\Local\\Temp\\ipykernel_73216\\3309686106.py:21: FutureWarning:\n",
      "\n",
      "suggest_loguniform has been deprecated in v3.0.0. This feature will be removed in v6.0.0. See https://github.com/optuna/optuna/releases/tag/v3.0.0. Use suggest_float(..., log=True) instead.\n",
      "\n",
      "C:\\Users\\clopearg\\AppData\\Local\\Temp\\ipykernel_73216\\3309686106.py:22: FutureWarning:\n",
      "\n",
      "suggest_loguniform has been deprecated in v3.0.0. This feature will be removed in v6.0.0. See https://github.com/optuna/optuna/releases/tag/v3.0.0. Use suggest_float(..., log=True) instead.\n",
      "\n",
      "C:\\Users\\clopearg\\AppData\\Local\\Temp\\ipykernel_73216\\3309686106.py:23: FutureWarning:\n",
      "\n",
      "suggest_loguniform has been deprecated in v3.0.0. This feature will be removed in v6.0.0. See https://github.com/optuna/optuna/releases/tag/v3.0.0. Use suggest_float(..., log=True) instead.\n",
      "\n",
      "C:\\Users\\clopearg\\AppData\\Local\\Temp\\ipykernel_73216\\3309686106.py:24: FutureWarning:\n",
      "\n",
      "suggest_loguniform has been deprecated in v3.0.0. This feature will be removed in v6.0.0. See https://github.com/optuna/optuna/releases/tag/v3.0.0. Use suggest_float(..., log=True) instead.\n",
      "\n",
      "C:\\Users\\clopearg\\AppData\\Local\\Temp\\ipykernel_73216\\3309686106.py:25: FutureWarning:\n",
      "\n",
      "suggest_loguniform has been deprecated in v3.0.0. This feature will be removed in v6.0.0. See https://github.com/optuna/optuna/releases/tag/v3.0.0. Use suggest_float(..., log=True) instead.\n",
      "\n",
      "C:\\Users\\clopearg\\AppData\\Local\\Temp\\ipykernel_73216\\3309686106.py:26: FutureWarning:\n",
      "\n",
      "suggest_loguniform has been deprecated in v3.0.0. This feature will be removed in v6.0.0. See https://github.com/optuna/optuna/releases/tag/v3.0.0. Use suggest_float(..., log=True) instead.\n",
      "\n",
      "[I 2024-11-19 19:25:03,086] Trial 9 finished with value: 151102364.41248658 and parameters: {'max_depth': 8, 'learning_rate': 0.01652606511093772, 'colsample_bytree': 0.3048617054850604, 'subsample': 0.6107623970956946, 'alpha': 0.27996644130223425, 'lambda': 4.165963532217085e-07, 'min_child_weight': 11.291461019505748}. Best is trial 4 with value: 133581684.80245699.\n",
      "C:\\Users\\clopearg\\AppData\\Local\\Temp\\ipykernel_73216\\3309686106.py:20: FutureWarning:\n",
      "\n",
      "suggest_loguniform has been deprecated in v3.0.0. This feature will be removed in v6.0.0. See https://github.com/optuna/optuna/releases/tag/v3.0.0. Use suggest_float(..., log=True) instead.\n",
      "\n",
      "C:\\Users\\clopearg\\AppData\\Local\\Temp\\ipykernel_73216\\3309686106.py:21: FutureWarning:\n",
      "\n",
      "suggest_loguniform has been deprecated in v3.0.0. This feature will be removed in v6.0.0. See https://github.com/optuna/optuna/releases/tag/v3.0.0. Use suggest_float(..., log=True) instead.\n",
      "\n",
      "C:\\Users\\clopearg\\AppData\\Local\\Temp\\ipykernel_73216\\3309686106.py:22: FutureWarning:\n",
      "\n",
      "suggest_loguniform has been deprecated in v3.0.0. This feature will be removed in v6.0.0. See https://github.com/optuna/optuna/releases/tag/v3.0.0. Use suggest_float(..., log=True) instead.\n",
      "\n",
      "C:\\Users\\clopearg\\AppData\\Local\\Temp\\ipykernel_73216\\3309686106.py:23: FutureWarning:\n",
      "\n",
      "suggest_loguniform has been deprecated in v3.0.0. This feature will be removed in v6.0.0. See https://github.com/optuna/optuna/releases/tag/v3.0.0. Use suggest_float(..., log=True) instead.\n",
      "\n",
      "C:\\Users\\clopearg\\AppData\\Local\\Temp\\ipykernel_73216\\3309686106.py:24: FutureWarning:\n",
      "\n",
      "suggest_loguniform has been deprecated in v3.0.0. This feature will be removed in v6.0.0. See https://github.com/optuna/optuna/releases/tag/v3.0.0. Use suggest_float(..., log=True) instead.\n",
      "\n",
      "C:\\Users\\clopearg\\AppData\\Local\\Temp\\ipykernel_73216\\3309686106.py:25: FutureWarning:\n",
      "\n",
      "suggest_loguniform has been deprecated in v3.0.0. This feature will be removed in v6.0.0. See https://github.com/optuna/optuna/releases/tag/v3.0.0. Use suggest_float(..., log=True) instead.\n",
      "\n",
      "C:\\Users\\clopearg\\AppData\\Local\\Temp\\ipykernel_73216\\3309686106.py:26: FutureWarning:\n",
      "\n",
      "suggest_loguniform has been deprecated in v3.0.0. This feature will be removed in v6.0.0. See https://github.com/optuna/optuna/releases/tag/v3.0.0. Use suggest_float(..., log=True) instead.\n",
      "\n",
      "[I 2024-11-19 19:25:16,752] Trial 10 finished with value: 143418215.62393793 and parameters: {'max_depth': 11, 'learning_rate': 0.0050520954240158835, 'colsample_bytree': 0.2002817503614527, 'subsample': 0.6672694823850481, 'alpha': 1.753656407865938, 'lambda': 6.234532623875416e-05, 'min_child_weight': 12.504532722871634}. Best is trial 4 with value: 133581684.80245699.\n",
      "C:\\Users\\clopearg\\AppData\\Local\\Temp\\ipykernel_73216\\3309686106.py:20: FutureWarning:\n",
      "\n",
      "suggest_loguniform has been deprecated in v3.0.0. This feature will be removed in v6.0.0. See https://github.com/optuna/optuna/releases/tag/v3.0.0. Use suggest_float(..., log=True) instead.\n",
      "\n",
      "C:\\Users\\clopearg\\AppData\\Local\\Temp\\ipykernel_73216\\3309686106.py:21: FutureWarning:\n",
      "\n",
      "suggest_loguniform has been deprecated in v3.0.0. This feature will be removed in v6.0.0. See https://github.com/optuna/optuna/releases/tag/v3.0.0. Use suggest_float(..., log=True) instead.\n",
      "\n",
      "C:\\Users\\clopearg\\AppData\\Local\\Temp\\ipykernel_73216\\3309686106.py:22: FutureWarning:\n",
      "\n",
      "suggest_loguniform has been deprecated in v3.0.0. This feature will be removed in v6.0.0. See https://github.com/optuna/optuna/releases/tag/v3.0.0. Use suggest_float(..., log=True) instead.\n",
      "\n",
      "C:\\Users\\clopearg\\AppData\\Local\\Temp\\ipykernel_73216\\3309686106.py:23: FutureWarning:\n",
      "\n",
      "suggest_loguniform has been deprecated in v3.0.0. This feature will be removed in v6.0.0. See https://github.com/optuna/optuna/releases/tag/v3.0.0. Use suggest_float(..., log=True) instead.\n",
      "\n",
      "C:\\Users\\clopearg\\AppData\\Local\\Temp\\ipykernel_73216\\3309686106.py:24: FutureWarning:\n",
      "\n",
      "suggest_loguniform has been deprecated in v3.0.0. This feature will be removed in v6.0.0. See https://github.com/optuna/optuna/releases/tag/v3.0.0. Use suggest_float(..., log=True) instead.\n",
      "\n",
      "C:\\Users\\clopearg\\AppData\\Local\\Temp\\ipykernel_73216\\3309686106.py:25: FutureWarning:\n",
      "\n",
      "suggest_loguniform has been deprecated in v3.0.0. This feature will be removed in v6.0.0. See https://github.com/optuna/optuna/releases/tag/v3.0.0. Use suggest_float(..., log=True) instead.\n",
      "\n",
      "C:\\Users\\clopearg\\AppData\\Local\\Temp\\ipykernel_73216\\3309686106.py:26: FutureWarning:\n",
      "\n",
      "suggest_loguniform has been deprecated in v3.0.0. This feature will be removed in v6.0.0. See https://github.com/optuna/optuna/releases/tag/v3.0.0. Use suggest_float(..., log=True) instead.\n",
      "\n",
      "[I 2024-11-19 19:25:32,783] Trial 11 finished with value: 145052433.3915726 and parameters: {'max_depth': 12, 'learning_rate': 0.006126401160113085, 'colsample_bytree': 0.20391949652847807, 'subsample': 0.6782851980728978, 'alpha': 2.419674262358517, 'lambda': 9.674748243025255e-05, 'min_child_weight': 12.27615180313747}. Best is trial 4 with value: 133581684.80245699.\n",
      "C:\\Users\\clopearg\\AppData\\Local\\Temp\\ipykernel_73216\\3309686106.py:20: FutureWarning:\n",
      "\n",
      "suggest_loguniform has been deprecated in v3.0.0. This feature will be removed in v6.0.0. See https://github.com/optuna/optuna/releases/tag/v3.0.0. Use suggest_float(..., log=True) instead.\n",
      "\n",
      "C:\\Users\\clopearg\\AppData\\Local\\Temp\\ipykernel_73216\\3309686106.py:21: FutureWarning:\n",
      "\n",
      "suggest_loguniform has been deprecated in v3.0.0. This feature will be removed in v6.0.0. See https://github.com/optuna/optuna/releases/tag/v3.0.0. Use suggest_float(..., log=True) instead.\n",
      "\n",
      "C:\\Users\\clopearg\\AppData\\Local\\Temp\\ipykernel_73216\\3309686106.py:22: FutureWarning:\n",
      "\n",
      "suggest_loguniform has been deprecated in v3.0.0. This feature will be removed in v6.0.0. See https://github.com/optuna/optuna/releases/tag/v3.0.0. Use suggest_float(..., log=True) instead.\n",
      "\n",
      "C:\\Users\\clopearg\\AppData\\Local\\Temp\\ipykernel_73216\\3309686106.py:23: FutureWarning:\n",
      "\n",
      "suggest_loguniform has been deprecated in v3.0.0. This feature will be removed in v6.0.0. See https://github.com/optuna/optuna/releases/tag/v3.0.0. Use suggest_float(..., log=True) instead.\n",
      "\n",
      "C:\\Users\\clopearg\\AppData\\Local\\Temp\\ipykernel_73216\\3309686106.py:24: FutureWarning:\n",
      "\n",
      "suggest_loguniform has been deprecated in v3.0.0. This feature will be removed in v6.0.0. See https://github.com/optuna/optuna/releases/tag/v3.0.0. Use suggest_float(..., log=True) instead.\n",
      "\n",
      "C:\\Users\\clopearg\\AppData\\Local\\Temp\\ipykernel_73216\\3309686106.py:25: FutureWarning:\n",
      "\n",
      "suggest_loguniform has been deprecated in v3.0.0. This feature will be removed in v6.0.0. See https://github.com/optuna/optuna/releases/tag/v3.0.0. Use suggest_float(..., log=True) instead.\n",
      "\n",
      "C:\\Users\\clopearg\\AppData\\Local\\Temp\\ipykernel_73216\\3309686106.py:26: FutureWarning:\n",
      "\n",
      "suggest_loguniform has been deprecated in v3.0.0. This feature will be removed in v6.0.0. See https://github.com/optuna/optuna/releases/tag/v3.0.0. Use suggest_float(..., log=True) instead.\n",
      "\n",
      "[I 2024-11-19 19:25:48,224] Trial 12 finished with value: 135005194.37982285 and parameters: {'max_depth': 12, 'learning_rate': 0.005203965542842476, 'colsample_bytree': 0.20573791645173417, 'subsample': 0.7854764826007452, 'alpha': 1.1621443421438076, 'lambda': 1.0504517648481003e-05, 'min_child_weight': 24.493305402115617}. Best is trial 4 with value: 133581684.80245699.\n",
      "C:\\Users\\clopearg\\AppData\\Local\\Temp\\ipykernel_73216\\3309686106.py:20: FutureWarning:\n",
      "\n",
      "suggest_loguniform has been deprecated in v3.0.0. This feature will be removed in v6.0.0. See https://github.com/optuna/optuna/releases/tag/v3.0.0. Use suggest_float(..., log=True) instead.\n",
      "\n",
      "C:\\Users\\clopearg\\AppData\\Local\\Temp\\ipykernel_73216\\3309686106.py:21: FutureWarning:\n",
      "\n",
      "suggest_loguniform has been deprecated in v3.0.0. This feature will be removed in v6.0.0. See https://github.com/optuna/optuna/releases/tag/v3.0.0. Use suggest_float(..., log=True) instead.\n",
      "\n",
      "C:\\Users\\clopearg\\AppData\\Local\\Temp\\ipykernel_73216\\3309686106.py:22: FutureWarning:\n",
      "\n",
      "suggest_loguniform has been deprecated in v3.0.0. This feature will be removed in v6.0.0. See https://github.com/optuna/optuna/releases/tag/v3.0.0. Use suggest_float(..., log=True) instead.\n",
      "\n",
      "C:\\Users\\clopearg\\AppData\\Local\\Temp\\ipykernel_73216\\3309686106.py:23: FutureWarning:\n",
      "\n",
      "suggest_loguniform has been deprecated in v3.0.0. This feature will be removed in v6.0.0. See https://github.com/optuna/optuna/releases/tag/v3.0.0. Use suggest_float(..., log=True) instead.\n",
      "\n",
      "C:\\Users\\clopearg\\AppData\\Local\\Temp\\ipykernel_73216\\3309686106.py:24: FutureWarning:\n",
      "\n",
      "suggest_loguniform has been deprecated in v3.0.0. This feature will be removed in v6.0.0. See https://github.com/optuna/optuna/releases/tag/v3.0.0. Use suggest_float(..., log=True) instead.\n",
      "\n",
      "C:\\Users\\clopearg\\AppData\\Local\\Temp\\ipykernel_73216\\3309686106.py:25: FutureWarning:\n",
      "\n",
      "suggest_loguniform has been deprecated in v3.0.0. This feature will be removed in v6.0.0. See https://github.com/optuna/optuna/releases/tag/v3.0.0. Use suggest_float(..., log=True) instead.\n",
      "\n",
      "C:\\Users\\clopearg\\AppData\\Local\\Temp\\ipykernel_73216\\3309686106.py:26: FutureWarning:\n",
      "\n",
      "suggest_loguniform has been deprecated in v3.0.0. This feature will be removed in v6.0.0. See https://github.com/optuna/optuna/releases/tag/v3.0.0. Use suggest_float(..., log=True) instead.\n",
      "\n",
      "[I 2024-11-19 19:26:01,572] Trial 13 finished with value: 136148484.6608107 and parameters: {'max_depth': 7, 'learning_rate': 0.008633120830786606, 'colsample_bytree': 0.24897610798652184, 'subsample': 0.795954841651312, 'alpha': 0.7768932211157731, 'lambda': 3.12122264011391e-06, 'min_child_weight': 36.13242176374988}. Best is trial 4 with value: 133581684.80245699.\n",
      "C:\\Users\\clopearg\\AppData\\Local\\Temp\\ipykernel_73216\\3309686106.py:20: FutureWarning:\n",
      "\n",
      "suggest_loguniform has been deprecated in v3.0.0. This feature will be removed in v6.0.0. See https://github.com/optuna/optuna/releases/tag/v3.0.0. Use suggest_float(..., log=True) instead.\n",
      "\n",
      "C:\\Users\\clopearg\\AppData\\Local\\Temp\\ipykernel_73216\\3309686106.py:21: FutureWarning:\n",
      "\n",
      "suggest_loguniform has been deprecated in v3.0.0. This feature will be removed in v6.0.0. See https://github.com/optuna/optuna/releases/tag/v3.0.0. Use suggest_float(..., log=True) instead.\n",
      "\n",
      "C:\\Users\\clopearg\\AppData\\Local\\Temp\\ipykernel_73216\\3309686106.py:22: FutureWarning:\n",
      "\n",
      "suggest_loguniform has been deprecated in v3.0.0. This feature will be removed in v6.0.0. See https://github.com/optuna/optuna/releases/tag/v3.0.0. Use suggest_float(..., log=True) instead.\n",
      "\n",
      "C:\\Users\\clopearg\\AppData\\Local\\Temp\\ipykernel_73216\\3309686106.py:23: FutureWarning:\n",
      "\n",
      "suggest_loguniform has been deprecated in v3.0.0. This feature will be removed in v6.0.0. See https://github.com/optuna/optuna/releases/tag/v3.0.0. Use suggest_float(..., log=True) instead.\n",
      "\n",
      "C:\\Users\\clopearg\\AppData\\Local\\Temp\\ipykernel_73216\\3309686106.py:24: FutureWarning:\n",
      "\n",
      "suggest_loguniform has been deprecated in v3.0.0. This feature will be removed in v6.0.0. See https://github.com/optuna/optuna/releases/tag/v3.0.0. Use suggest_float(..., log=True) instead.\n",
      "\n",
      "C:\\Users\\clopearg\\AppData\\Local\\Temp\\ipykernel_73216\\3309686106.py:25: FutureWarning:\n",
      "\n",
      "suggest_loguniform has been deprecated in v3.0.0. This feature will be removed in v6.0.0. See https://github.com/optuna/optuna/releases/tag/v3.0.0. Use suggest_float(..., log=True) instead.\n",
      "\n",
      "C:\\Users\\clopearg\\AppData\\Local\\Temp\\ipykernel_73216\\3309686106.py:26: FutureWarning:\n",
      "\n",
      "suggest_loguniform has been deprecated in v3.0.0. This feature will be removed in v6.0.0. See https://github.com/optuna/optuna/releases/tag/v3.0.0. Use suggest_float(..., log=True) instead.\n",
      "\n",
      "[I 2024-11-19 19:26:14,521] Trial 14 finished with value: 148674825.53893608 and parameters: {'max_depth': 7, 'learning_rate': 0.026780134613566, 'colsample_bytree': 0.3318983267169231, 'subsample': 0.48964564897072066, 'alpha': 0.056835676477867775, 'lambda': 0.004213176936921712, 'min_child_weight': 26.489552279954307}. Best is trial 4 with value: 133581684.80245699.\n",
      "C:\\Users\\clopearg\\AppData\\Local\\Temp\\ipykernel_73216\\3309686106.py:20: FutureWarning:\n",
      "\n",
      "suggest_loguniform has been deprecated in v3.0.0. This feature will be removed in v6.0.0. See https://github.com/optuna/optuna/releases/tag/v3.0.0. Use suggest_float(..., log=True) instead.\n",
      "\n",
      "C:\\Users\\clopearg\\AppData\\Local\\Temp\\ipykernel_73216\\3309686106.py:21: FutureWarning:\n",
      "\n",
      "suggest_loguniform has been deprecated in v3.0.0. This feature will be removed in v6.0.0. See https://github.com/optuna/optuna/releases/tag/v3.0.0. Use suggest_float(..., log=True) instead.\n",
      "\n",
      "C:\\Users\\clopearg\\AppData\\Local\\Temp\\ipykernel_73216\\3309686106.py:22: FutureWarning:\n",
      "\n",
      "suggest_loguniform has been deprecated in v3.0.0. This feature will be removed in v6.0.0. See https://github.com/optuna/optuna/releases/tag/v3.0.0. Use suggest_float(..., log=True) instead.\n",
      "\n",
      "C:\\Users\\clopearg\\AppData\\Local\\Temp\\ipykernel_73216\\3309686106.py:23: FutureWarning:\n",
      "\n",
      "suggest_loguniform has been deprecated in v3.0.0. This feature will be removed in v6.0.0. See https://github.com/optuna/optuna/releases/tag/v3.0.0. Use suggest_float(..., log=True) instead.\n",
      "\n",
      "C:\\Users\\clopearg\\AppData\\Local\\Temp\\ipykernel_73216\\3309686106.py:24: FutureWarning:\n",
      "\n",
      "suggest_loguniform has been deprecated in v3.0.0. This feature will be removed in v6.0.0. See https://github.com/optuna/optuna/releases/tag/v3.0.0. Use suggest_float(..., log=True) instead.\n",
      "\n",
      "C:\\Users\\clopearg\\AppData\\Local\\Temp\\ipykernel_73216\\3309686106.py:25: FutureWarning:\n",
      "\n",
      "suggest_loguniform has been deprecated in v3.0.0. This feature will be removed in v6.0.0. See https://github.com/optuna/optuna/releases/tag/v3.0.0. Use suggest_float(..., log=True) instead.\n",
      "\n",
      "C:\\Users\\clopearg\\AppData\\Local\\Temp\\ipykernel_73216\\3309686106.py:26: FutureWarning:\n",
      "\n",
      "suggest_loguniform has been deprecated in v3.0.0. This feature will be removed in v6.0.0. See https://github.com/optuna/optuna/releases/tag/v3.0.0. Use suggest_float(..., log=True) instead.\n",
      "\n",
      "[I 2024-11-19 19:26:25,983] Trial 15 finished with value: 136227830.59175318 and parameters: {'max_depth': 11, 'learning_rate': 0.00787186029368853, 'colsample_bytree': 0.2349423183271113, 'subsample': 0.7978309266236894, 'alpha': 0.5629506881284598, 'lambda': 1.3720703756186186e-05, 'min_child_weight': 71.67056217973757}. Best is trial 4 with value: 133581684.80245699.\n",
      "C:\\Users\\clopearg\\AppData\\Local\\Temp\\ipykernel_73216\\3309686106.py:20: FutureWarning:\n",
      "\n",
      "suggest_loguniform has been deprecated in v3.0.0. This feature will be removed in v6.0.0. See https://github.com/optuna/optuna/releases/tag/v3.0.0. Use suggest_float(..., log=True) instead.\n",
      "\n",
      "C:\\Users\\clopearg\\AppData\\Local\\Temp\\ipykernel_73216\\3309686106.py:21: FutureWarning:\n",
      "\n",
      "suggest_loguniform has been deprecated in v3.0.0. This feature will be removed in v6.0.0. See https://github.com/optuna/optuna/releases/tag/v3.0.0. Use suggest_float(..., log=True) instead.\n",
      "\n",
      "C:\\Users\\clopearg\\AppData\\Local\\Temp\\ipykernel_73216\\3309686106.py:22: FutureWarning:\n",
      "\n",
      "suggest_loguniform has been deprecated in v3.0.0. This feature will be removed in v6.0.0. See https://github.com/optuna/optuna/releases/tag/v3.0.0. Use suggest_float(..., log=True) instead.\n",
      "\n",
      "C:\\Users\\clopearg\\AppData\\Local\\Temp\\ipykernel_73216\\3309686106.py:23: FutureWarning:\n",
      "\n",
      "suggest_loguniform has been deprecated in v3.0.0. This feature will be removed in v6.0.0. See https://github.com/optuna/optuna/releases/tag/v3.0.0. Use suggest_float(..., log=True) instead.\n",
      "\n",
      "C:\\Users\\clopearg\\AppData\\Local\\Temp\\ipykernel_73216\\3309686106.py:24: FutureWarning:\n",
      "\n",
      "suggest_loguniform has been deprecated in v3.0.0. This feature will be removed in v6.0.0. See https://github.com/optuna/optuna/releases/tag/v3.0.0. Use suggest_float(..., log=True) instead.\n",
      "\n",
      "C:\\Users\\clopearg\\AppData\\Local\\Temp\\ipykernel_73216\\3309686106.py:25: FutureWarning:\n",
      "\n",
      "suggest_loguniform has been deprecated in v3.0.0. This feature will be removed in v6.0.0. See https://github.com/optuna/optuna/releases/tag/v3.0.0. Use suggest_float(..., log=True) instead.\n",
      "\n",
      "C:\\Users\\clopearg\\AppData\\Local\\Temp\\ipykernel_73216\\3309686106.py:26: FutureWarning:\n",
      "\n",
      "suggest_loguniform has been deprecated in v3.0.0. This feature will be removed in v6.0.0. See https://github.com/optuna/optuna/releases/tag/v3.0.0. Use suggest_float(..., log=True) instead.\n",
      "\n",
      "[I 2024-11-19 19:26:38,472] Trial 16 finished with value: 142416242.41286695 and parameters: {'max_depth': 7, 'learning_rate': 0.011487564687207897, 'colsample_bytree': 0.2790945216938545, 'subsample': 0.7230309861630494, 'alpha': 2.148191796465147, 'lambda': 7.502086285487277, 'min_child_weight': 20.221617756877368}. Best is trial 4 with value: 133581684.80245699.\n",
      "C:\\Users\\clopearg\\AppData\\Local\\Temp\\ipykernel_73216\\3309686106.py:20: FutureWarning:\n",
      "\n",
      "suggest_loguniform has been deprecated in v3.0.0. This feature will be removed in v6.0.0. See https://github.com/optuna/optuna/releases/tag/v3.0.0. Use suggest_float(..., log=True) instead.\n",
      "\n",
      "C:\\Users\\clopearg\\AppData\\Local\\Temp\\ipykernel_73216\\3309686106.py:21: FutureWarning:\n",
      "\n",
      "suggest_loguniform has been deprecated in v3.0.0. This feature will be removed in v6.0.0. See https://github.com/optuna/optuna/releases/tag/v3.0.0. Use suggest_float(..., log=True) instead.\n",
      "\n",
      "C:\\Users\\clopearg\\AppData\\Local\\Temp\\ipykernel_73216\\3309686106.py:22: FutureWarning:\n",
      "\n",
      "suggest_loguniform has been deprecated in v3.0.0. This feature will be removed in v6.0.0. See https://github.com/optuna/optuna/releases/tag/v3.0.0. Use suggest_float(..., log=True) instead.\n",
      "\n",
      "C:\\Users\\clopearg\\AppData\\Local\\Temp\\ipykernel_73216\\3309686106.py:23: FutureWarning:\n",
      "\n",
      "suggest_loguniform has been deprecated in v3.0.0. This feature will be removed in v6.0.0. See https://github.com/optuna/optuna/releases/tag/v3.0.0. Use suggest_float(..., log=True) instead.\n",
      "\n",
      "C:\\Users\\clopearg\\AppData\\Local\\Temp\\ipykernel_73216\\3309686106.py:24: FutureWarning:\n",
      "\n",
      "suggest_loguniform has been deprecated in v3.0.0. This feature will be removed in v6.0.0. See https://github.com/optuna/optuna/releases/tag/v3.0.0. Use suggest_float(..., log=True) instead.\n",
      "\n",
      "C:\\Users\\clopearg\\AppData\\Local\\Temp\\ipykernel_73216\\3309686106.py:25: FutureWarning:\n",
      "\n",
      "suggest_loguniform has been deprecated in v3.0.0. This feature will be removed in v6.0.0. See https://github.com/optuna/optuna/releases/tag/v3.0.0. Use suggest_float(..., log=True) instead.\n",
      "\n",
      "C:\\Users\\clopearg\\AppData\\Local\\Temp\\ipykernel_73216\\3309686106.py:26: FutureWarning:\n",
      "\n",
      "suggest_loguniform has been deprecated in v3.0.0. This feature will be removed in v6.0.0. See https://github.com/optuna/optuna/releases/tag/v3.0.0. Use suggest_float(..., log=True) instead.\n",
      "\n",
      "[I 2024-11-19 19:26:55,471] Trial 17 finished with value: 134993346.40616363 and parameters: {'max_depth': 12, 'learning_rate': 0.005127922493352824, 'colsample_bytree': 0.5744317562881385, 'subsample': 0.6261295465543043, 'alpha': 9.469711996672492, 'lambda': 0.0011087400270312078, 'min_child_weight': 75.54884509402338}. Best is trial 4 with value: 133581684.80245699.\n",
      "C:\\Users\\clopearg\\AppData\\Local\\Temp\\ipykernel_73216\\3309686106.py:20: FutureWarning:\n",
      "\n",
      "suggest_loguniform has been deprecated in v3.0.0. This feature will be removed in v6.0.0. See https://github.com/optuna/optuna/releases/tag/v3.0.0. Use suggest_float(..., log=True) instead.\n",
      "\n",
      "C:\\Users\\clopearg\\AppData\\Local\\Temp\\ipykernel_73216\\3309686106.py:21: FutureWarning:\n",
      "\n",
      "suggest_loguniform has been deprecated in v3.0.0. This feature will be removed in v6.0.0. See https://github.com/optuna/optuna/releases/tag/v3.0.0. Use suggest_float(..., log=True) instead.\n",
      "\n",
      "C:\\Users\\clopearg\\AppData\\Local\\Temp\\ipykernel_73216\\3309686106.py:22: FutureWarning:\n",
      "\n",
      "suggest_loguniform has been deprecated in v3.0.0. This feature will be removed in v6.0.0. See https://github.com/optuna/optuna/releases/tag/v3.0.0. Use suggest_float(..., log=True) instead.\n",
      "\n",
      "C:\\Users\\clopearg\\AppData\\Local\\Temp\\ipykernel_73216\\3309686106.py:23: FutureWarning:\n",
      "\n",
      "suggest_loguniform has been deprecated in v3.0.0. This feature will be removed in v6.0.0. See https://github.com/optuna/optuna/releases/tag/v3.0.0. Use suggest_float(..., log=True) instead.\n",
      "\n",
      "C:\\Users\\clopearg\\AppData\\Local\\Temp\\ipykernel_73216\\3309686106.py:24: FutureWarning:\n",
      "\n",
      "suggest_loguniform has been deprecated in v3.0.0. This feature will be removed in v6.0.0. See https://github.com/optuna/optuna/releases/tag/v3.0.0. Use suggest_float(..., log=True) instead.\n",
      "\n",
      "C:\\Users\\clopearg\\AppData\\Local\\Temp\\ipykernel_73216\\3309686106.py:25: FutureWarning:\n",
      "\n",
      "suggest_loguniform has been deprecated in v3.0.0. This feature will be removed in v6.0.0. See https://github.com/optuna/optuna/releases/tag/v3.0.0. Use suggest_float(..., log=True) instead.\n",
      "\n",
      "C:\\Users\\clopearg\\AppData\\Local\\Temp\\ipykernel_73216\\3309686106.py:26: FutureWarning:\n",
      "\n",
      "suggest_loguniform has been deprecated in v3.0.0. This feature will be removed in v6.0.0. See https://github.com/optuna/optuna/releases/tag/v3.0.0. Use suggest_float(..., log=True) instead.\n",
      "\n",
      "[I 2024-11-19 19:27:24,388] Trial 18 finished with value: 136791568.37754786 and parameters: {'max_depth': 6, 'learning_rate': 0.007289940725321074, 'colsample_bytree': 0.5941761195292418, 'subsample': 0.6282764555864678, 'alpha': 5.991757484693444, 'lambda': 0.0022420305526037925, 'min_child_weight': 96.30848691361636}. Best is trial 4 with value: 133581684.80245699.\n",
      "C:\\Users\\clopearg\\AppData\\Local\\Temp\\ipykernel_73216\\3309686106.py:20: FutureWarning:\n",
      "\n",
      "suggest_loguniform has been deprecated in v3.0.0. This feature will be removed in v6.0.0. See https://github.com/optuna/optuna/releases/tag/v3.0.0. Use suggest_float(..., log=True) instead.\n",
      "\n",
      "C:\\Users\\clopearg\\AppData\\Local\\Temp\\ipykernel_73216\\3309686106.py:21: FutureWarning:\n",
      "\n",
      "suggest_loguniform has been deprecated in v3.0.0. This feature will be removed in v6.0.0. See https://github.com/optuna/optuna/releases/tag/v3.0.0. Use suggest_float(..., log=True) instead.\n",
      "\n",
      "C:\\Users\\clopearg\\AppData\\Local\\Temp\\ipykernel_73216\\3309686106.py:22: FutureWarning:\n",
      "\n",
      "suggest_loguniform has been deprecated in v3.0.0. This feature will be removed in v6.0.0. See https://github.com/optuna/optuna/releases/tag/v3.0.0. Use suggest_float(..., log=True) instead.\n",
      "\n",
      "C:\\Users\\clopearg\\AppData\\Local\\Temp\\ipykernel_73216\\3309686106.py:23: FutureWarning:\n",
      "\n",
      "suggest_loguniform has been deprecated in v3.0.0. This feature will be removed in v6.0.0. See https://github.com/optuna/optuna/releases/tag/v3.0.0. Use suggest_float(..., log=True) instead.\n",
      "\n",
      "C:\\Users\\clopearg\\AppData\\Local\\Temp\\ipykernel_73216\\3309686106.py:24: FutureWarning:\n",
      "\n",
      "suggest_loguniform has been deprecated in v3.0.0. This feature will be removed in v6.0.0. See https://github.com/optuna/optuna/releases/tag/v3.0.0. Use suggest_float(..., log=True) instead.\n",
      "\n",
      "C:\\Users\\clopearg\\AppData\\Local\\Temp\\ipykernel_73216\\3309686106.py:25: FutureWarning:\n",
      "\n",
      "suggest_loguniform has been deprecated in v3.0.0. This feature will be removed in v6.0.0. See https://github.com/optuna/optuna/releases/tag/v3.0.0. Use suggest_float(..., log=True) instead.\n",
      "\n",
      "C:\\Users\\clopearg\\AppData\\Local\\Temp\\ipykernel_73216\\3309686106.py:26: FutureWarning:\n",
      "\n",
      "suggest_loguniform has been deprecated in v3.0.0. This feature will be removed in v6.0.0. See https://github.com/optuna/optuna/releases/tag/v3.0.0. Use suggest_float(..., log=True) instead.\n",
      "\n",
      "[I 2024-11-19 19:27:38,162] Trial 19 finished with value: 139419884.49941304 and parameters: {'max_depth': 4, 'learning_rate': 0.012405133659454766, 'colsample_bytree': 0.5035262716265992, 'subsample': 0.4981130713583734, 'alpha': 0.21859968514995737, 'lambda': 0.0010866041580538067, 'min_child_weight': 62.39189641353918}. Best is trial 4 with value: 133581684.80245699.\n",
      "C:\\Users\\clopearg\\AppData\\Local\\Temp\\ipykernel_73216\\3309686106.py:20: FutureWarning:\n",
      "\n",
      "suggest_loguniform has been deprecated in v3.0.0. This feature will be removed in v6.0.0. See https://github.com/optuna/optuna/releases/tag/v3.0.0. Use suggest_float(..., log=True) instead.\n",
      "\n",
      "C:\\Users\\clopearg\\AppData\\Local\\Temp\\ipykernel_73216\\3309686106.py:21: FutureWarning:\n",
      "\n",
      "suggest_loguniform has been deprecated in v3.0.0. This feature will be removed in v6.0.0. See https://github.com/optuna/optuna/releases/tag/v3.0.0. Use suggest_float(..., log=True) instead.\n",
      "\n",
      "C:\\Users\\clopearg\\AppData\\Local\\Temp\\ipykernel_73216\\3309686106.py:22: FutureWarning:\n",
      "\n",
      "suggest_loguniform has been deprecated in v3.0.0. This feature will be removed in v6.0.0. See https://github.com/optuna/optuna/releases/tag/v3.0.0. Use suggest_float(..., log=True) instead.\n",
      "\n",
      "C:\\Users\\clopearg\\AppData\\Local\\Temp\\ipykernel_73216\\3309686106.py:23: FutureWarning:\n",
      "\n",
      "suggest_loguniform has been deprecated in v3.0.0. This feature will be removed in v6.0.0. See https://github.com/optuna/optuna/releases/tag/v3.0.0. Use suggest_float(..., log=True) instead.\n",
      "\n",
      "C:\\Users\\clopearg\\AppData\\Local\\Temp\\ipykernel_73216\\3309686106.py:24: FutureWarning:\n",
      "\n",
      "suggest_loguniform has been deprecated in v3.0.0. This feature will be removed in v6.0.0. See https://github.com/optuna/optuna/releases/tag/v3.0.0. Use suggest_float(..., log=True) instead.\n",
      "\n",
      "C:\\Users\\clopearg\\AppData\\Local\\Temp\\ipykernel_73216\\3309686106.py:25: FutureWarning:\n",
      "\n",
      "suggest_loguniform has been deprecated in v3.0.0. This feature will be removed in v6.0.0. See https://github.com/optuna/optuna/releases/tag/v3.0.0. Use suggest_float(..., log=True) instead.\n",
      "\n",
      "C:\\Users\\clopearg\\AppData\\Local\\Temp\\ipykernel_73216\\3309686106.py:26: FutureWarning:\n",
      "\n",
      "suggest_loguniform has been deprecated in v3.0.0. This feature will be removed in v6.0.0. See https://github.com/optuna/optuna/releases/tag/v3.0.0. Use suggest_float(..., log=True) instead.\n",
      "\n",
      "[I 2024-11-19 19:27:50,201] Trial 20 finished with value: 151186239.43291938 and parameters: {'max_depth': 10, 'learning_rate': 0.03206393913855327, 'colsample_bytree': 0.46662513190498145, 'subsample': 0.6480563763787409, 'alpha': 0.048146320295762025, 'lambda': 2.703934383186519e-07, 'min_child_weight': 124.02480586705255}. Best is trial 4 with value: 133581684.80245699.\n",
      "C:\\Users\\clopearg\\AppData\\Local\\Temp\\ipykernel_73216\\3309686106.py:20: FutureWarning:\n",
      "\n",
      "suggest_loguniform has been deprecated in v3.0.0. This feature will be removed in v6.0.0. See https://github.com/optuna/optuna/releases/tag/v3.0.0. Use suggest_float(..., log=True) instead.\n",
      "\n",
      "C:\\Users\\clopearg\\AppData\\Local\\Temp\\ipykernel_73216\\3309686106.py:21: FutureWarning:\n",
      "\n",
      "suggest_loguniform has been deprecated in v3.0.0. This feature will be removed in v6.0.0. See https://github.com/optuna/optuna/releases/tag/v3.0.0. Use suggest_float(..., log=True) instead.\n",
      "\n",
      "C:\\Users\\clopearg\\AppData\\Local\\Temp\\ipykernel_73216\\3309686106.py:22: FutureWarning:\n",
      "\n",
      "suggest_loguniform has been deprecated in v3.0.0. This feature will be removed in v6.0.0. See https://github.com/optuna/optuna/releases/tag/v3.0.0. Use suggest_float(..., log=True) instead.\n",
      "\n",
      "C:\\Users\\clopearg\\AppData\\Local\\Temp\\ipykernel_73216\\3309686106.py:23: FutureWarning:\n",
      "\n",
      "suggest_loguniform has been deprecated in v3.0.0. This feature will be removed in v6.0.0. See https://github.com/optuna/optuna/releases/tag/v3.0.0. Use suggest_float(..., log=True) instead.\n",
      "\n",
      "C:\\Users\\clopearg\\AppData\\Local\\Temp\\ipykernel_73216\\3309686106.py:24: FutureWarning:\n",
      "\n",
      "suggest_loguniform has been deprecated in v3.0.0. This feature will be removed in v6.0.0. See https://github.com/optuna/optuna/releases/tag/v3.0.0. Use suggest_float(..., log=True) instead.\n",
      "\n",
      "C:\\Users\\clopearg\\AppData\\Local\\Temp\\ipykernel_73216\\3309686106.py:25: FutureWarning:\n",
      "\n",
      "suggest_loguniform has been deprecated in v3.0.0. This feature will be removed in v6.0.0. See https://github.com/optuna/optuna/releases/tag/v3.0.0. Use suggest_float(..., log=True) instead.\n",
      "\n",
      "C:\\Users\\clopearg\\AppData\\Local\\Temp\\ipykernel_73216\\3309686106.py:26: FutureWarning:\n",
      "\n",
      "suggest_loguniform has been deprecated in v3.0.0. This feature will be removed in v6.0.0. See https://github.com/optuna/optuna/releases/tag/v3.0.0. Use suggest_float(..., log=True) instead.\n",
      "\n",
      "[I 2024-11-19 19:28:04,170] Trial 21 finished with value: 136182887.86851764 and parameters: {'max_depth': 12, 'learning_rate': 0.005333967765578132, 'colsample_bytree': 0.3466874020399606, 'subsample': 0.7336173389520095, 'alpha': 4.327872027086503, 'lambda': 1.8718662326082775e-05, 'min_child_weight': 24.52205377642318}. Best is trial 4 with value: 133581684.80245699.\n",
      "C:\\Users\\clopearg\\AppData\\Local\\Temp\\ipykernel_73216\\3309686106.py:20: FutureWarning:\n",
      "\n",
      "suggest_loguniform has been deprecated in v3.0.0. This feature will be removed in v6.0.0. See https://github.com/optuna/optuna/releases/tag/v3.0.0. Use suggest_float(..., log=True) instead.\n",
      "\n",
      "C:\\Users\\clopearg\\AppData\\Local\\Temp\\ipykernel_73216\\3309686106.py:21: FutureWarning:\n",
      "\n",
      "suggest_loguniform has been deprecated in v3.0.0. This feature will be removed in v6.0.0. See https://github.com/optuna/optuna/releases/tag/v3.0.0. Use suggest_float(..., log=True) instead.\n",
      "\n",
      "C:\\Users\\clopearg\\AppData\\Local\\Temp\\ipykernel_73216\\3309686106.py:22: FutureWarning:\n",
      "\n",
      "suggest_loguniform has been deprecated in v3.0.0. This feature will be removed in v6.0.0. See https://github.com/optuna/optuna/releases/tag/v3.0.0. Use suggest_float(..., log=True) instead.\n",
      "\n",
      "C:\\Users\\clopearg\\AppData\\Local\\Temp\\ipykernel_73216\\3309686106.py:23: FutureWarning:\n",
      "\n",
      "suggest_loguniform has been deprecated in v3.0.0. This feature will be removed in v6.0.0. See https://github.com/optuna/optuna/releases/tag/v3.0.0. Use suggest_float(..., log=True) instead.\n",
      "\n",
      "C:\\Users\\clopearg\\AppData\\Local\\Temp\\ipykernel_73216\\3309686106.py:24: FutureWarning:\n",
      "\n",
      "suggest_loguniform has been deprecated in v3.0.0. This feature will be removed in v6.0.0. See https://github.com/optuna/optuna/releases/tag/v3.0.0. Use suggest_float(..., log=True) instead.\n",
      "\n",
      "C:\\Users\\clopearg\\AppData\\Local\\Temp\\ipykernel_73216\\3309686106.py:25: FutureWarning:\n",
      "\n",
      "suggest_loguniform has been deprecated in v3.0.0. This feature will be removed in v6.0.0. See https://github.com/optuna/optuna/releases/tag/v3.0.0. Use suggest_float(..., log=True) instead.\n",
      "\n",
      "C:\\Users\\clopearg\\AppData\\Local\\Temp\\ipykernel_73216\\3309686106.py:26: FutureWarning:\n",
      "\n",
      "suggest_loguniform has been deprecated in v3.0.0. This feature will be removed in v6.0.0. See https://github.com/optuna/optuna/releases/tag/v3.0.0. Use suggest_float(..., log=True) instead.\n",
      "\n",
      "[I 2024-11-19 19:28:15,529] Trial 22 finished with value: 129765709.16350713 and parameters: {'max_depth': 11, 'learning_rate': 0.00658569112378145, 'colsample_bytree': 0.23040102456303838, 'subsample': 0.7484996737939773, 'alpha': 1.1865070295407734, 'lambda': 4.2087852501025315e-06, 'min_child_weight': 47.05523698454085}. Best is trial 22 with value: 129765709.16350713.\n",
      "C:\\Users\\clopearg\\AppData\\Local\\Temp\\ipykernel_73216\\3309686106.py:20: FutureWarning:\n",
      "\n",
      "suggest_loguniform has been deprecated in v3.0.0. This feature will be removed in v6.0.0. See https://github.com/optuna/optuna/releases/tag/v3.0.0. Use suggest_float(..., log=True) instead.\n",
      "\n",
      "C:\\Users\\clopearg\\AppData\\Local\\Temp\\ipykernel_73216\\3309686106.py:21: FutureWarning:\n",
      "\n",
      "suggest_loguniform has been deprecated in v3.0.0. This feature will be removed in v6.0.0. See https://github.com/optuna/optuna/releases/tag/v3.0.0. Use suggest_float(..., log=True) instead.\n",
      "\n",
      "C:\\Users\\clopearg\\AppData\\Local\\Temp\\ipykernel_73216\\3309686106.py:22: FutureWarning:\n",
      "\n",
      "suggest_loguniform has been deprecated in v3.0.0. This feature will be removed in v6.0.0. See https://github.com/optuna/optuna/releases/tag/v3.0.0. Use suggest_float(..., log=True) instead.\n",
      "\n",
      "C:\\Users\\clopearg\\AppData\\Local\\Temp\\ipykernel_73216\\3309686106.py:23: FutureWarning:\n",
      "\n",
      "suggest_loguniform has been deprecated in v3.0.0. This feature will be removed in v6.0.0. See https://github.com/optuna/optuna/releases/tag/v3.0.0. Use suggest_float(..., log=True) instead.\n",
      "\n",
      "C:\\Users\\clopearg\\AppData\\Local\\Temp\\ipykernel_73216\\3309686106.py:24: FutureWarning:\n",
      "\n",
      "suggest_loguniform has been deprecated in v3.0.0. This feature will be removed in v6.0.0. See https://github.com/optuna/optuna/releases/tag/v3.0.0. Use suggest_float(..., log=True) instead.\n",
      "\n",
      "C:\\Users\\clopearg\\AppData\\Local\\Temp\\ipykernel_73216\\3309686106.py:25: FutureWarning:\n",
      "\n",
      "suggest_loguniform has been deprecated in v3.0.0. This feature will be removed in v6.0.0. See https://github.com/optuna/optuna/releases/tag/v3.0.0. Use suggest_float(..., log=True) instead.\n",
      "\n",
      "C:\\Users\\clopearg\\AppData\\Local\\Temp\\ipykernel_73216\\3309686106.py:26: FutureWarning:\n",
      "\n",
      "suggest_loguniform has been deprecated in v3.0.0. This feature will be removed in v6.0.0. See https://github.com/optuna/optuna/releases/tag/v3.0.0. Use suggest_float(..., log=True) instead.\n",
      "\n",
      "[I 2024-11-19 19:28:26,356] Trial 23 finished with value: 133256107.25378162 and parameters: {'max_depth': 11, 'learning_rate': 0.00689940721486356, 'colsample_bytree': 0.3818414642637911, 'subsample': 0.6118073620646811, 'alpha': 3.685730685321281, 'lambda': 4.040921176672034e-07, 'min_child_weight': 44.04320519960491}. Best is trial 22 with value: 129765709.16350713.\n",
      "C:\\Users\\clopearg\\AppData\\Local\\Temp\\ipykernel_73216\\3309686106.py:20: FutureWarning:\n",
      "\n",
      "suggest_loguniform has been deprecated in v3.0.0. This feature will be removed in v6.0.0. See https://github.com/optuna/optuna/releases/tag/v3.0.0. Use suggest_float(..., log=True) instead.\n",
      "\n",
      "C:\\Users\\clopearg\\AppData\\Local\\Temp\\ipykernel_73216\\3309686106.py:21: FutureWarning:\n",
      "\n",
      "suggest_loguniform has been deprecated in v3.0.0. This feature will be removed in v6.0.0. See https://github.com/optuna/optuna/releases/tag/v3.0.0. Use suggest_float(..., log=True) instead.\n",
      "\n",
      "C:\\Users\\clopearg\\AppData\\Local\\Temp\\ipykernel_73216\\3309686106.py:22: FutureWarning:\n",
      "\n",
      "suggest_loguniform has been deprecated in v3.0.0. This feature will be removed in v6.0.0. See https://github.com/optuna/optuna/releases/tag/v3.0.0. Use suggest_float(..., log=True) instead.\n",
      "\n",
      "C:\\Users\\clopearg\\AppData\\Local\\Temp\\ipykernel_73216\\3309686106.py:23: FutureWarning:\n",
      "\n",
      "suggest_loguniform has been deprecated in v3.0.0. This feature will be removed in v6.0.0. See https://github.com/optuna/optuna/releases/tag/v3.0.0. Use suggest_float(..., log=True) instead.\n",
      "\n",
      "C:\\Users\\clopearg\\AppData\\Local\\Temp\\ipykernel_73216\\3309686106.py:24: FutureWarning:\n",
      "\n",
      "suggest_loguniform has been deprecated in v3.0.0. This feature will be removed in v6.0.0. See https://github.com/optuna/optuna/releases/tag/v3.0.0. Use suggest_float(..., log=True) instead.\n",
      "\n",
      "C:\\Users\\clopearg\\AppData\\Local\\Temp\\ipykernel_73216\\3309686106.py:25: FutureWarning:\n",
      "\n",
      "suggest_loguniform has been deprecated in v3.0.0. This feature will be removed in v6.0.0. See https://github.com/optuna/optuna/releases/tag/v3.0.0. Use suggest_float(..., log=True) instead.\n",
      "\n",
      "C:\\Users\\clopearg\\AppData\\Local\\Temp\\ipykernel_73216\\3309686106.py:26: FutureWarning:\n",
      "\n",
      "suggest_loguniform has been deprecated in v3.0.0. This feature will be removed in v6.0.0. See https://github.com/optuna/optuna/releases/tag/v3.0.0. Use suggest_float(..., log=True) instead.\n",
      "\n",
      "[I 2024-11-19 19:28:37,509] Trial 24 finished with value: 135802685.2153366 and parameters: {'max_depth': 10, 'learning_rate': 0.008783620379871472, 'colsample_bytree': 0.3904511711181947, 'subsample': 0.7140234250300889, 'alpha': 3.472945277693455, 'lambda': 4.72075691102371e-07, 'min_child_weight': 44.956531240808836}. Best is trial 22 with value: 129765709.16350713.\n",
      "C:\\Users\\clopearg\\AppData\\Local\\Temp\\ipykernel_73216\\3309686106.py:20: FutureWarning:\n",
      "\n",
      "suggest_loguniform has been deprecated in v3.0.0. This feature will be removed in v6.0.0. See https://github.com/optuna/optuna/releases/tag/v3.0.0. Use suggest_float(..., log=True) instead.\n",
      "\n",
      "C:\\Users\\clopearg\\AppData\\Local\\Temp\\ipykernel_73216\\3309686106.py:21: FutureWarning:\n",
      "\n",
      "suggest_loguniform has been deprecated in v3.0.0. This feature will be removed in v6.0.0. See https://github.com/optuna/optuna/releases/tag/v3.0.0. Use suggest_float(..., log=True) instead.\n",
      "\n",
      "C:\\Users\\clopearg\\AppData\\Local\\Temp\\ipykernel_73216\\3309686106.py:22: FutureWarning:\n",
      "\n",
      "suggest_loguniform has been deprecated in v3.0.0. This feature will be removed in v6.0.0. See https://github.com/optuna/optuna/releases/tag/v3.0.0. Use suggest_float(..., log=True) instead.\n",
      "\n",
      "C:\\Users\\clopearg\\AppData\\Local\\Temp\\ipykernel_73216\\3309686106.py:23: FutureWarning:\n",
      "\n",
      "suggest_loguniform has been deprecated in v3.0.0. This feature will be removed in v6.0.0. See https://github.com/optuna/optuna/releases/tag/v3.0.0. Use suggest_float(..., log=True) instead.\n",
      "\n",
      "C:\\Users\\clopearg\\AppData\\Local\\Temp\\ipykernel_73216\\3309686106.py:24: FutureWarning:\n",
      "\n",
      "suggest_loguniform has been deprecated in v3.0.0. This feature will be removed in v6.0.0. See https://github.com/optuna/optuna/releases/tag/v3.0.0. Use suggest_float(..., log=True) instead.\n",
      "\n",
      "C:\\Users\\clopearg\\AppData\\Local\\Temp\\ipykernel_73216\\3309686106.py:25: FutureWarning:\n",
      "\n",
      "suggest_loguniform has been deprecated in v3.0.0. This feature will be removed in v6.0.0. See https://github.com/optuna/optuna/releases/tag/v3.0.0. Use suggest_float(..., log=True) instead.\n",
      "\n",
      "C:\\Users\\clopearg\\AppData\\Local\\Temp\\ipykernel_73216\\3309686106.py:26: FutureWarning:\n",
      "\n",
      "suggest_loguniform has been deprecated in v3.0.0. This feature will be removed in v6.0.0. See https://github.com/optuna/optuna/releases/tag/v3.0.0. Use suggest_float(..., log=True) instead.\n",
      "\n",
      "[I 2024-11-19 19:28:50,340] Trial 25 finished with value: 141556181.1131992 and parameters: {'max_depth': 11, 'learning_rate': 0.006893225168639491, 'colsample_bytree': 0.3104741640780495, 'subsample': 0.6002423408976459, 'alpha': 0.4488897721208777, 'lambda': 2.2858542773641425e-06, 'min_child_weight': 17.92992986862249}. Best is trial 22 with value: 129765709.16350713.\n",
      "C:\\Users\\clopearg\\AppData\\Local\\Temp\\ipykernel_73216\\3309686106.py:20: FutureWarning:\n",
      "\n",
      "suggest_loguniform has been deprecated in v3.0.0. This feature will be removed in v6.0.0. See https://github.com/optuna/optuna/releases/tag/v3.0.0. Use suggest_float(..., log=True) instead.\n",
      "\n",
      "C:\\Users\\clopearg\\AppData\\Local\\Temp\\ipykernel_73216\\3309686106.py:21: FutureWarning:\n",
      "\n",
      "suggest_loguniform has been deprecated in v3.0.0. This feature will be removed in v6.0.0. See https://github.com/optuna/optuna/releases/tag/v3.0.0. Use suggest_float(..., log=True) instead.\n",
      "\n",
      "C:\\Users\\clopearg\\AppData\\Local\\Temp\\ipykernel_73216\\3309686106.py:22: FutureWarning:\n",
      "\n",
      "suggest_loguniform has been deprecated in v3.0.0. This feature will be removed in v6.0.0. See https://github.com/optuna/optuna/releases/tag/v3.0.0. Use suggest_float(..., log=True) instead.\n",
      "\n",
      "C:\\Users\\clopearg\\AppData\\Local\\Temp\\ipykernel_73216\\3309686106.py:23: FutureWarning:\n",
      "\n",
      "suggest_loguniform has been deprecated in v3.0.0. This feature will be removed in v6.0.0. See https://github.com/optuna/optuna/releases/tag/v3.0.0. Use suggest_float(..., log=True) instead.\n",
      "\n",
      "C:\\Users\\clopearg\\AppData\\Local\\Temp\\ipykernel_73216\\3309686106.py:24: FutureWarning:\n",
      "\n",
      "suggest_loguniform has been deprecated in v3.0.0. This feature will be removed in v6.0.0. See https://github.com/optuna/optuna/releases/tag/v3.0.0. Use suggest_float(..., log=True) instead.\n",
      "\n",
      "C:\\Users\\clopearg\\AppData\\Local\\Temp\\ipykernel_73216\\3309686106.py:25: FutureWarning:\n",
      "\n",
      "suggest_loguniform has been deprecated in v3.0.0. This feature will be removed in v6.0.0. See https://github.com/optuna/optuna/releases/tag/v3.0.0. Use suggest_float(..., log=True) instead.\n",
      "\n",
      "C:\\Users\\clopearg\\AppData\\Local\\Temp\\ipykernel_73216\\3309686106.py:26: FutureWarning:\n",
      "\n",
      "suggest_loguniform has been deprecated in v3.0.0. This feature will be removed in v6.0.0. See https://github.com/optuna/optuna/releases/tag/v3.0.0. Use suggest_float(..., log=True) instead.\n",
      "\n",
      "[I 2024-11-19 19:29:03,493] Trial 26 finished with value: 138487518.51979104 and parameters: {'max_depth': 10, 'learning_rate': 0.013063949735576669, 'colsample_bytree': 0.2716419489586589, 'subsample': 0.6768880481184543, 'alpha': 1.2234854339551382, 'lambda': 7.852067283403153e-08, 'min_child_weight': 36.97774901148351}. Best is trial 22 with value: 129765709.16350713.\n",
      "C:\\Users\\clopearg\\AppData\\Local\\Temp\\ipykernel_73216\\3309686106.py:20: FutureWarning:\n",
      "\n",
      "suggest_loguniform has been deprecated in v3.0.0. This feature will be removed in v6.0.0. See https://github.com/optuna/optuna/releases/tag/v3.0.0. Use suggest_float(..., log=True) instead.\n",
      "\n",
      "C:\\Users\\clopearg\\AppData\\Local\\Temp\\ipykernel_73216\\3309686106.py:21: FutureWarning:\n",
      "\n",
      "suggest_loguniform has been deprecated in v3.0.0. This feature will be removed in v6.0.0. See https://github.com/optuna/optuna/releases/tag/v3.0.0. Use suggest_float(..., log=True) instead.\n",
      "\n",
      "C:\\Users\\clopearg\\AppData\\Local\\Temp\\ipykernel_73216\\3309686106.py:22: FutureWarning:\n",
      "\n",
      "suggest_loguniform has been deprecated in v3.0.0. This feature will be removed in v6.0.0. See https://github.com/optuna/optuna/releases/tag/v3.0.0. Use suggest_float(..., log=True) instead.\n",
      "\n",
      "C:\\Users\\clopearg\\AppData\\Local\\Temp\\ipykernel_73216\\3309686106.py:23: FutureWarning:\n",
      "\n",
      "suggest_loguniform has been deprecated in v3.0.0. This feature will be removed in v6.0.0. See https://github.com/optuna/optuna/releases/tag/v3.0.0. Use suggest_float(..., log=True) instead.\n",
      "\n",
      "C:\\Users\\clopearg\\AppData\\Local\\Temp\\ipykernel_73216\\3309686106.py:24: FutureWarning:\n",
      "\n",
      "suggest_loguniform has been deprecated in v3.0.0. This feature will be removed in v6.0.0. See https://github.com/optuna/optuna/releases/tag/v3.0.0. Use suggest_float(..., log=True) instead.\n",
      "\n",
      "C:\\Users\\clopearg\\AppData\\Local\\Temp\\ipykernel_73216\\3309686106.py:25: FutureWarning:\n",
      "\n",
      "suggest_loguniform has been deprecated in v3.0.0. This feature will be removed in v6.0.0. See https://github.com/optuna/optuna/releases/tag/v3.0.0. Use suggest_float(..., log=True) instead.\n",
      "\n",
      "C:\\Users\\clopearg\\AppData\\Local\\Temp\\ipykernel_73216\\3309686106.py:26: FutureWarning:\n",
      "\n",
      "suggest_loguniform has been deprecated in v3.0.0. This feature will be removed in v6.0.0. See https://github.com/optuna/optuna/releases/tag/v3.0.0. Use suggest_float(..., log=True) instead.\n",
      "\n",
      "[I 2024-11-19 19:29:42,628] Trial 27 finished with value: 133612509.0268079 and parameters: {'max_depth': 8, 'learning_rate': 0.00895402845895912, 'colsample_bytree': 0.22289464896113445, 'subsample': 0.5240881889627883, 'alpha': 1.0201083386668577, 'lambda': 1.3102340610247064e-07, 'min_child_weight': 43.72298487366237}. Best is trial 22 with value: 129765709.16350713.\n",
      "C:\\Users\\clopearg\\AppData\\Local\\Temp\\ipykernel_73216\\3309686106.py:20: FutureWarning:\n",
      "\n",
      "suggest_loguniform has been deprecated in v3.0.0. This feature will be removed in v6.0.0. See https://github.com/optuna/optuna/releases/tag/v3.0.0. Use suggest_float(..., log=True) instead.\n",
      "\n",
      "C:\\Users\\clopearg\\AppData\\Local\\Temp\\ipykernel_73216\\3309686106.py:21: FutureWarning:\n",
      "\n",
      "suggest_loguniform has been deprecated in v3.0.0. This feature will be removed in v6.0.0. See https://github.com/optuna/optuna/releases/tag/v3.0.0. Use suggest_float(..., log=True) instead.\n",
      "\n",
      "C:\\Users\\clopearg\\AppData\\Local\\Temp\\ipykernel_73216\\3309686106.py:22: FutureWarning:\n",
      "\n",
      "suggest_loguniform has been deprecated in v3.0.0. This feature will be removed in v6.0.0. See https://github.com/optuna/optuna/releases/tag/v3.0.0. Use suggest_float(..., log=True) instead.\n",
      "\n",
      "C:\\Users\\clopearg\\AppData\\Local\\Temp\\ipykernel_73216\\3309686106.py:23: FutureWarning:\n",
      "\n",
      "suggest_loguniform has been deprecated in v3.0.0. This feature will be removed in v6.0.0. See https://github.com/optuna/optuna/releases/tag/v3.0.0. Use suggest_float(..., log=True) instead.\n",
      "\n",
      "C:\\Users\\clopearg\\AppData\\Local\\Temp\\ipykernel_73216\\3309686106.py:24: FutureWarning:\n",
      "\n",
      "suggest_loguniform has been deprecated in v3.0.0. This feature will be removed in v6.0.0. See https://github.com/optuna/optuna/releases/tag/v3.0.0. Use suggest_float(..., log=True) instead.\n",
      "\n",
      "C:\\Users\\clopearg\\AppData\\Local\\Temp\\ipykernel_73216\\3309686106.py:25: FutureWarning:\n",
      "\n",
      "suggest_loguniform has been deprecated in v3.0.0. This feature will be removed in v6.0.0. See https://github.com/optuna/optuna/releases/tag/v3.0.0. Use suggest_float(..., log=True) instead.\n",
      "\n",
      "C:\\Users\\clopearg\\AppData\\Local\\Temp\\ipykernel_73216\\3309686106.py:26: FutureWarning:\n",
      "\n",
      "suggest_loguniform has been deprecated in v3.0.0. This feature will be removed in v6.0.0. See https://github.com/optuna/optuna/releases/tag/v3.0.0. Use suggest_float(..., log=True) instead.\n",
      "\n",
      "[I 2024-11-19 19:30:11,857] Trial 28 finished with value: 143834430.04190418 and parameters: {'max_depth': 11, 'learning_rate': 0.007754768212701398, 'colsample_bytree': 0.37877845942982025, 'subsample': 0.753413156905594, 'alpha': 0.08865681983846657, 'lambda': 9.236583954931309e-07, 'min_child_weight': 16.729564373678777}. Best is trial 22 with value: 129765709.16350713.\n",
      "C:\\Users\\clopearg\\AppData\\Local\\Temp\\ipykernel_73216\\3309686106.py:20: FutureWarning:\n",
      "\n",
      "suggest_loguniform has been deprecated in v3.0.0. This feature will be removed in v6.0.0. See https://github.com/optuna/optuna/releases/tag/v3.0.0. Use suggest_float(..., log=True) instead.\n",
      "\n",
      "C:\\Users\\clopearg\\AppData\\Local\\Temp\\ipykernel_73216\\3309686106.py:21: FutureWarning:\n",
      "\n",
      "suggest_loguniform has been deprecated in v3.0.0. This feature will be removed in v6.0.0. See https://github.com/optuna/optuna/releases/tag/v3.0.0. Use suggest_float(..., log=True) instead.\n",
      "\n",
      "C:\\Users\\clopearg\\AppData\\Local\\Temp\\ipykernel_73216\\3309686106.py:22: FutureWarning:\n",
      "\n",
      "suggest_loguniform has been deprecated in v3.0.0. This feature will be removed in v6.0.0. See https://github.com/optuna/optuna/releases/tag/v3.0.0. Use suggest_float(..., log=True) instead.\n",
      "\n",
      "C:\\Users\\clopearg\\AppData\\Local\\Temp\\ipykernel_73216\\3309686106.py:23: FutureWarning:\n",
      "\n",
      "suggest_loguniform has been deprecated in v3.0.0. This feature will be removed in v6.0.0. See https://github.com/optuna/optuna/releases/tag/v3.0.0. Use suggest_float(..., log=True) instead.\n",
      "\n",
      "C:\\Users\\clopearg\\AppData\\Local\\Temp\\ipykernel_73216\\3309686106.py:24: FutureWarning:\n",
      "\n",
      "suggest_loguniform has been deprecated in v3.0.0. This feature will be removed in v6.0.0. See https://github.com/optuna/optuna/releases/tag/v3.0.0. Use suggest_float(..., log=True) instead.\n",
      "\n",
      "C:\\Users\\clopearg\\AppData\\Local\\Temp\\ipykernel_73216\\3309686106.py:25: FutureWarning:\n",
      "\n",
      "suggest_loguniform has been deprecated in v3.0.0. This feature will be removed in v6.0.0. See https://github.com/optuna/optuna/releases/tag/v3.0.0. Use suggest_float(..., log=True) instead.\n",
      "\n",
      "C:\\Users\\clopearg\\AppData\\Local\\Temp\\ipykernel_73216\\3309686106.py:26: FutureWarning:\n",
      "\n",
      "suggest_loguniform has been deprecated in v3.0.0. This feature will be removed in v6.0.0. See https://github.com/optuna/optuna/releases/tag/v3.0.0. Use suggest_float(..., log=True) instead.\n",
      "\n",
      "[I 2024-11-19 19:30:25,377] Trial 29 finished with value: 143861295.0079493 and parameters: {'max_depth': 5, 'learning_rate': 0.01025304851068426, 'colsample_bytree': 0.30180178840467087, 'subsample': 0.6399077210001765, 'alpha': 0.318263103971114, 'lambda': 6.552899299326293e-06, 'min_child_weight': 109.71269449256746}. Best is trial 22 with value: 129765709.16350713.\n"
     ]
    },
    {
     "name": "stdout",
     "output_type": "stream",
     "text": [
      "Number of finished trials: 30\n",
      "Best trial: {'max_depth': 11, 'learning_rate': 0.00658569112378145, 'colsample_bytree': 0.23040102456303838, 'subsample': 0.7484996737939773, 'alpha': 1.1865070295407734, 'lambda': 4.2087852501025315e-06, 'min_child_weight': 47.05523698454085}\n"
     ]
    }
   ],
   "source": [
    "study = optuna.create_study(direction='minimize')\n",
    "study.optimize(lambda trial: objective(trial,X_train,y_train,X_val,y_val), n_trials=30)\n",
    "print('Number of finished trials:', len(study.trials))\n",
    "print('Best trial:', study.best_trial.params)"
   ]
  },
  {
   "cell_type": "code",
   "execution_count": 91,
   "metadata": {},
   "outputs": [
    {
     "name": "stdout",
     "output_type": "stream",
     "text": [
      "XGB MAE: 133860519.31521739\n",
      "XGB MAPE: 96.15955318025672\n",
      "XGB RMSE: 199571785.84802416\n"
     ]
    }
   ],
   "source": [
    "param = study.best_trial.params\n",
    "\n",
    "model_xgb = xgb.XGBRegressor(**param)\n",
    "model_xgb.fit(X_train, y_train)\n",
    "pred_xgb = model_xgb.predict(X_test)\n",
    "print('XGB MAE:', mean_absolute_error(y_test, pred_xgb))\n",
    "print('XGB MAPE:', mean_absolute_percentage_error(y_test, pred_xgb))\n",
    "print('XGB RMSE:', root_mean_squared_error(y_test, pred_xgb))"
   ]
  },
  {
   "cell_type": "markdown",
   "metadata": {},
   "source": [
    "### 5. Catboost"
   ]
  },
  {
   "cell_type": "code",
   "execution_count": 8,
   "metadata": {},
   "outputs": [],
   "source": [
    "target = \"revenue\"\n",
    "df_X = df.drop(columns=[target, \"vote_average\",'vote_count'])\n",
    "df_y = df[[target]]"
   ]
  },
  {
   "cell_type": "code",
   "execution_count": 5,
   "metadata": {},
   "outputs": [],
   "source": [
    "# Split the data into training and testing sets\n",
    "X_train, X_test, y_train, y_test = train_test_split(df_X, df_y, test_size=0.2, random_state=42)"
   ]
  },
  {
   "cell_type": "code",
   "execution_count": 6,
   "metadata": {},
   "outputs": [],
   "source": [
    "# Initialize the RandomForestRegressor model\n",
    "rf_regressor = CatBoostRegressor(random_state=42, verbose=False)\n",
    "\n",
    "# Train the model\n",
    "rf_regressor.fit(X_train, y_train)\n",
    "\n",
    "# Predict on the test set\n",
    "y_pred = rf_regressor.predict(X_test)"
   ]
  },
  {
   "cell_type": "code",
   "execution_count": 7,
   "metadata": {},
   "outputs": [
    {
     "name": "stdout",
     "output_type": "stream",
     "text": [
      "mse: 1.5567157152287674e+16\n",
      "r2: 0.7169840296093629\n",
      "mape: 6.6002033535997775\n",
      "mae: 77057838.01880844\n"
     ]
    }
   ],
   "source": [
    "# Evaluate the model\n",
    "mse = mean_squared_error(y_test, y_pred)\n",
    "r2 = r2_score(y_test, y_pred)\n",
    "mape = mean_absolute_percentage_error(y_test, y_pred)\n",
    "mae = mean_absolute_error(y_test, y_pred)\n",
    "\n",
    "print(f\"mse: {mse}\")\n",
    "print(f\"r2: {r2}\")\n",
    "print(f\"mape: {mape}\")\n",
    "print(f\"mae: {mae}\")"
   ]
  },
  {
   "cell_type": "code",
   "execution_count": 30,
   "metadata": {},
   "outputs": [
    {
     "data": {
      "text/html": [
       "<div>\n",
       "<style scoped>\n",
       "    .dataframe tbody tr th:only-of-type {\n",
       "        vertical-align: middle;\n",
       "    }\n",
       "\n",
       "    .dataframe tbody tr th {\n",
       "        vertical-align: top;\n",
       "    }\n",
       "\n",
       "    .dataframe thead th {\n",
       "        text-align: right;\n",
       "    }\n",
       "</style>\n",
       "<table border=\"1\" class=\"dataframe\">\n",
       "  <thead>\n",
       "    <tr style=\"text-align: right;\">\n",
       "      <th></th>\n",
       "      <th>y_real</th>\n",
       "      <th>y_pred</th>\n",
       "      <th>mape</th>\n",
       "    </tr>\n",
       "  </thead>\n",
       "  <tbody>\n",
       "    <tr>\n",
       "      <th>548</th>\n",
       "      <td>170128460</td>\n",
       "      <td>4.651892e+07</td>\n",
       "      <td>72.656590</td>\n",
       "    </tr>\n",
       "    <tr>\n",
       "      <th>704</th>\n",
       "      <td>201634991</td>\n",
       "      <td>1.141011e+08</td>\n",
       "      <td>43.412052</td>\n",
       "    </tr>\n",
       "    <tr>\n",
       "      <th>244</th>\n",
       "      <td>384335608</td>\n",
       "      <td>2.523849e+08</td>\n",
       "      <td>34.332160</td>\n",
       "    </tr>\n",
       "    <tr>\n",
       "      <th>552</th>\n",
       "      <td>74597643</td>\n",
       "      <td>7.151566e+07</td>\n",
       "      <td>4.131470</td>\n",
       "    </tr>\n",
       "    <tr>\n",
       "      <th>1164</th>\n",
       "      <td>15992615</td>\n",
       "      <td>2.671366e+07</td>\n",
       "      <td>67.037460</td>\n",
       "    </tr>\n",
       "    <tr>\n",
       "      <th>...</th>\n",
       "      <td>...</td>\n",
       "      <td>...</td>\n",
       "      <td>...</td>\n",
       "    </tr>\n",
       "    <tr>\n",
       "      <th>808</th>\n",
       "      <td>131282949</td>\n",
       "      <td>1.420385e+08</td>\n",
       "      <td>8.192633</td>\n",
       "    </tr>\n",
       "    <tr>\n",
       "      <th>88</th>\n",
       "      <td>938212738</td>\n",
       "      <td>6.200312e+08</td>\n",
       "      <td>33.913585</td>\n",
       "    </tr>\n",
       "    <tr>\n",
       "      <th>1144</th>\n",
       "      <td>35564473</td>\n",
       "      <td>3.123450e+07</td>\n",
       "      <td>12.175003</td>\n",
       "    </tr>\n",
       "    <tr>\n",
       "      <th>298</th>\n",
       "      <td>219417255</td>\n",
       "      <td>2.658917e+08</td>\n",
       "      <td>21.180872</td>\n",
       "    </tr>\n",
       "    <tr>\n",
       "      <th>376</th>\n",
       "      <td>244082376</td>\n",
       "      <td>2.003264e+08</td>\n",
       "      <td>17.926740</td>\n",
       "    </tr>\n",
       "  </tbody>\n",
       "</table>\n",
       "<p>246 rows × 3 columns</p>\n",
       "</div>"
      ],
      "text/plain": [
       "         y_real        y_pred       mape\n",
       "548   170128460  4.651892e+07  72.656590\n",
       "704   201634991  1.141011e+08  43.412052\n",
       "244   384335608  2.523849e+08  34.332160\n",
       "552    74597643  7.151566e+07   4.131470\n",
       "1164   15992615  2.671366e+07  67.037460\n",
       "...         ...           ...        ...\n",
       "808   131282949  1.420385e+08   8.192633\n",
       "88    938212738  6.200312e+08  33.913585\n",
       "1144   35564473  3.123450e+07  12.175003\n",
       "298   219417255  2.658917e+08  21.180872\n",
       "376   244082376  2.003264e+08  17.926740\n",
       "\n",
       "[246 rows x 3 columns]"
      ]
     },
     "execution_count": 30,
     "metadata": {},
     "output_type": "execute_result"
    }
   ],
   "source": [
    "test_preds_df = pd.DataFrame({'y_real': y_test['revenue'], 'y_pred': y_pred})\n",
    "test_preds_df['mape'] = abs(test_preds_df['y_real']-test_preds_df['y_pred'])/test_preds_df['y_real']*100\n",
    "test_preds_df"
   ]
  },
  {
   "cell_type": "code",
   "execution_count": 31,
   "metadata": {},
   "outputs": [
    {
     "data": {
      "application/vnd.plotly.v1+json": {
       "config": {
        "plotlyServerURL": "https://plot.ly"
       },
       "data": [
        {
         "text": [
          29.421,
          27.077,
          7.502,
          4.758,
          3.766,
          3.026,
          2.203,
          2.195,
          2.086,
          1.963,
          1.537,
          1.375,
          1.344,
          1.336,
          1.319,
          1.298,
          0.973,
          0.966,
          0.638,
          0.535,
          0.528,
          0.471,
          0.466,
          0.449,
          0.431,
          0.357,
          0.329,
          0.27,
          0.253,
          0.22,
          0.205,
          0.172,
          0.094,
          0.085,
          0.063,
          0.057,
          0.052,
          0.047,
          0.031,
          0.03,
          0.023,
          0.011,
          0.01,
          0.009,
          0.007,
          0.007,
          0.002,
          0.002,
          0.001,
          0,
          0
         ],
         "textposition": "auto",
         "type": "bar",
         "x": [
          "budget",
          "popularity",
          "runtime",
          "day_of_year",
          "day",
          "Adventure",
          "month",
          "gdp",
          "year",
          "weekday",
          "Animation",
          "Science_Fiction",
          "Drama",
          "Family",
          "Twentieth Century Fox Film Corporation",
          "Warner Bros.",
          "Fantasy",
          "Universal Pictures",
          "Action",
          "Mystery",
          "Walt Disney Pictures",
          "Romance",
          "United Kingdom",
          "Other_country",
          "Comedy",
          "Thriller",
          "Dune Entertainment",
          "Village Roadshow Pictures",
          "Crime",
          "Paramount Pictures",
          "Germany",
          "Horror",
          "Western",
          "Columbia Pictures",
          "Relativity Media",
          "History",
          "New Line Cinema",
          "Music",
          "United States of America",
          "France",
          "en_language",
          "Other_company",
          "War",
          "Other_language",
          "ja_language",
          "Canada",
          "fr_language",
          "Documentary",
          "Foreign",
          "es_language",
          "zh_language"
         ],
         "y": [
          29.420990466631533,
          27.07743750635422,
          7.50172664544932,
          4.7579934570149645,
          3.7658855350601326,
          3.0264602042381923,
          2.2034532363168355,
          2.1945442177227314,
          2.086116339921404,
          1.963315004307023,
          1.537110139143372,
          1.374609193790388,
          1.3436567256901184,
          1.3355560634637453,
          1.3189603940401582,
          1.2981953492420921,
          0.9733897732968905,
          0.9662382446088086,
          0.6384214351372774,
          0.5351094059530852,
          0.5280735075995929,
          0.4705306064216983,
          0.4659824043721715,
          0.4492160858655662,
          0.43116437597929125,
          0.35748192832513154,
          0.32863259328268635,
          0.26972631230014293,
          0.25266194692443394,
          0.21969360603202717,
          0.20512596256148485,
          0.17237340146720856,
          0.09444920029404248,
          0.0849356544978268,
          0.06251779775684285,
          0.05667226653914755,
          0.05210738298707735,
          0.046575736452839654,
          0.03143002729419308,
          0.02966110713350281,
          0.022512920727496378,
          0.011457915046803036,
          0.009927623793020087,
          0.008624898869390345,
          0.007490058770504177,
          0.007033037808606813,
          0.002109874573163247,
          0.0020142720821462634,
          0.0006225116019081772,
          0.000025645257723424256,
          0
         ]
        }
       ],
       "layout": {
        "template": {
         "data": {
          "bar": [
           {
            "error_x": {
             "color": "#2a3f5f"
            },
            "error_y": {
             "color": "#2a3f5f"
            },
            "marker": {
             "line": {
              "color": "white",
              "width": 0.5
             },
             "pattern": {
              "fillmode": "overlay",
              "size": 10,
              "solidity": 0.2
             }
            },
            "type": "bar"
           }
          ],
          "barpolar": [
           {
            "marker": {
             "line": {
              "color": "white",
              "width": 0.5
             },
             "pattern": {
              "fillmode": "overlay",
              "size": 10,
              "solidity": 0.2
             }
            },
            "type": "barpolar"
           }
          ],
          "carpet": [
           {
            "aaxis": {
             "endlinecolor": "#2a3f5f",
             "gridcolor": "#C8D4E3",
             "linecolor": "#C8D4E3",
             "minorgridcolor": "#C8D4E3",
             "startlinecolor": "#2a3f5f"
            },
            "baxis": {
             "endlinecolor": "#2a3f5f",
             "gridcolor": "#C8D4E3",
             "linecolor": "#C8D4E3",
             "minorgridcolor": "#C8D4E3",
             "startlinecolor": "#2a3f5f"
            },
            "type": "carpet"
           }
          ],
          "choropleth": [
           {
            "colorbar": {
             "outlinewidth": 0,
             "ticks": ""
            },
            "type": "choropleth"
           }
          ],
          "contour": [
           {
            "colorbar": {
             "outlinewidth": 0,
             "ticks": ""
            },
            "colorscale": [
             [
              0,
              "#0d0887"
             ],
             [
              0.1111111111111111,
              "#46039f"
             ],
             [
              0.2222222222222222,
              "#7201a8"
             ],
             [
              0.3333333333333333,
              "#9c179e"
             ],
             [
              0.4444444444444444,
              "#bd3786"
             ],
             [
              0.5555555555555556,
              "#d8576b"
             ],
             [
              0.6666666666666666,
              "#ed7953"
             ],
             [
              0.7777777777777778,
              "#fb9f3a"
             ],
             [
              0.8888888888888888,
              "#fdca26"
             ],
             [
              1,
              "#f0f921"
             ]
            ],
            "type": "contour"
           }
          ],
          "contourcarpet": [
           {
            "colorbar": {
             "outlinewidth": 0,
             "ticks": ""
            },
            "type": "contourcarpet"
           }
          ],
          "heatmap": [
           {
            "colorbar": {
             "outlinewidth": 0,
             "ticks": ""
            },
            "colorscale": [
             [
              0,
              "#0d0887"
             ],
             [
              0.1111111111111111,
              "#46039f"
             ],
             [
              0.2222222222222222,
              "#7201a8"
             ],
             [
              0.3333333333333333,
              "#9c179e"
             ],
             [
              0.4444444444444444,
              "#bd3786"
             ],
             [
              0.5555555555555556,
              "#d8576b"
             ],
             [
              0.6666666666666666,
              "#ed7953"
             ],
             [
              0.7777777777777778,
              "#fb9f3a"
             ],
             [
              0.8888888888888888,
              "#fdca26"
             ],
             [
              1,
              "#f0f921"
             ]
            ],
            "type": "heatmap"
           }
          ],
          "heatmapgl": [
           {
            "colorbar": {
             "outlinewidth": 0,
             "ticks": ""
            },
            "colorscale": [
             [
              0,
              "#0d0887"
             ],
             [
              0.1111111111111111,
              "#46039f"
             ],
             [
              0.2222222222222222,
              "#7201a8"
             ],
             [
              0.3333333333333333,
              "#9c179e"
             ],
             [
              0.4444444444444444,
              "#bd3786"
             ],
             [
              0.5555555555555556,
              "#d8576b"
             ],
             [
              0.6666666666666666,
              "#ed7953"
             ],
             [
              0.7777777777777778,
              "#fb9f3a"
             ],
             [
              0.8888888888888888,
              "#fdca26"
             ],
             [
              1,
              "#f0f921"
             ]
            ],
            "type": "heatmapgl"
           }
          ],
          "histogram": [
           {
            "marker": {
             "pattern": {
              "fillmode": "overlay",
              "size": 10,
              "solidity": 0.2
             }
            },
            "type": "histogram"
           }
          ],
          "histogram2d": [
           {
            "colorbar": {
             "outlinewidth": 0,
             "ticks": ""
            },
            "colorscale": [
             [
              0,
              "#0d0887"
             ],
             [
              0.1111111111111111,
              "#46039f"
             ],
             [
              0.2222222222222222,
              "#7201a8"
             ],
             [
              0.3333333333333333,
              "#9c179e"
             ],
             [
              0.4444444444444444,
              "#bd3786"
             ],
             [
              0.5555555555555556,
              "#d8576b"
             ],
             [
              0.6666666666666666,
              "#ed7953"
             ],
             [
              0.7777777777777778,
              "#fb9f3a"
             ],
             [
              0.8888888888888888,
              "#fdca26"
             ],
             [
              1,
              "#f0f921"
             ]
            ],
            "type": "histogram2d"
           }
          ],
          "histogram2dcontour": [
           {
            "colorbar": {
             "outlinewidth": 0,
             "ticks": ""
            },
            "colorscale": [
             [
              0,
              "#0d0887"
             ],
             [
              0.1111111111111111,
              "#46039f"
             ],
             [
              0.2222222222222222,
              "#7201a8"
             ],
             [
              0.3333333333333333,
              "#9c179e"
             ],
             [
              0.4444444444444444,
              "#bd3786"
             ],
             [
              0.5555555555555556,
              "#d8576b"
             ],
             [
              0.6666666666666666,
              "#ed7953"
             ],
             [
              0.7777777777777778,
              "#fb9f3a"
             ],
             [
              0.8888888888888888,
              "#fdca26"
             ],
             [
              1,
              "#f0f921"
             ]
            ],
            "type": "histogram2dcontour"
           }
          ],
          "mesh3d": [
           {
            "colorbar": {
             "outlinewidth": 0,
             "ticks": ""
            },
            "type": "mesh3d"
           }
          ],
          "parcoords": [
           {
            "line": {
             "colorbar": {
              "outlinewidth": 0,
              "ticks": ""
             }
            },
            "type": "parcoords"
           }
          ],
          "pie": [
           {
            "automargin": true,
            "type": "pie"
           }
          ],
          "scatter": [
           {
            "fillpattern": {
             "fillmode": "overlay",
             "size": 10,
             "solidity": 0.2
            },
            "type": "scatter"
           }
          ],
          "scatter3d": [
           {
            "line": {
             "colorbar": {
              "outlinewidth": 0,
              "ticks": ""
             }
            },
            "marker": {
             "colorbar": {
              "outlinewidth": 0,
              "ticks": ""
             }
            },
            "type": "scatter3d"
           }
          ],
          "scattercarpet": [
           {
            "marker": {
             "colorbar": {
              "outlinewidth": 0,
              "ticks": ""
             }
            },
            "type": "scattercarpet"
           }
          ],
          "scattergeo": [
           {
            "marker": {
             "colorbar": {
              "outlinewidth": 0,
              "ticks": ""
             }
            },
            "type": "scattergeo"
           }
          ],
          "scattergl": [
           {
            "marker": {
             "colorbar": {
              "outlinewidth": 0,
              "ticks": ""
             }
            },
            "type": "scattergl"
           }
          ],
          "scattermapbox": [
           {
            "marker": {
             "colorbar": {
              "outlinewidth": 0,
              "ticks": ""
             }
            },
            "type": "scattermapbox"
           }
          ],
          "scatterpolar": [
           {
            "marker": {
             "colorbar": {
              "outlinewidth": 0,
              "ticks": ""
             }
            },
            "type": "scatterpolar"
           }
          ],
          "scatterpolargl": [
           {
            "marker": {
             "colorbar": {
              "outlinewidth": 0,
              "ticks": ""
             }
            },
            "type": "scatterpolargl"
           }
          ],
          "scatterternary": [
           {
            "marker": {
             "colorbar": {
              "outlinewidth": 0,
              "ticks": ""
             }
            },
            "type": "scatterternary"
           }
          ],
          "surface": [
           {
            "colorbar": {
             "outlinewidth": 0,
             "ticks": ""
            },
            "colorscale": [
             [
              0,
              "#0d0887"
             ],
             [
              0.1111111111111111,
              "#46039f"
             ],
             [
              0.2222222222222222,
              "#7201a8"
             ],
             [
              0.3333333333333333,
              "#9c179e"
             ],
             [
              0.4444444444444444,
              "#bd3786"
             ],
             [
              0.5555555555555556,
              "#d8576b"
             ],
             [
              0.6666666666666666,
              "#ed7953"
             ],
             [
              0.7777777777777778,
              "#fb9f3a"
             ],
             [
              0.8888888888888888,
              "#fdca26"
             ],
             [
              1,
              "#f0f921"
             ]
            ],
            "type": "surface"
           }
          ],
          "table": [
           {
            "cells": {
             "fill": {
              "color": "#EBF0F8"
             },
             "line": {
              "color": "white"
             }
            },
            "header": {
             "fill": {
              "color": "#C8D4E3"
             },
             "line": {
              "color": "white"
             }
            },
            "type": "table"
           }
          ]
         },
         "layout": {
          "annotationdefaults": {
           "arrowcolor": "#2a3f5f",
           "arrowhead": 0,
           "arrowwidth": 1
          },
          "autotypenumbers": "strict",
          "coloraxis": {
           "colorbar": {
            "outlinewidth": 0,
            "ticks": ""
           }
          },
          "colorscale": {
           "diverging": [
            [
             0,
             "#8e0152"
            ],
            [
             0.1,
             "#c51b7d"
            ],
            [
             0.2,
             "#de77ae"
            ],
            [
             0.3,
             "#f1b6da"
            ],
            [
             0.4,
             "#fde0ef"
            ],
            [
             0.5,
             "#f7f7f7"
            ],
            [
             0.6,
             "#e6f5d0"
            ],
            [
             0.7,
             "#b8e186"
            ],
            [
             0.8,
             "#7fbc41"
            ],
            [
             0.9,
             "#4d9221"
            ],
            [
             1,
             "#276419"
            ]
           ],
           "sequential": [
            [
             0,
             "#0d0887"
            ],
            [
             0.1111111111111111,
             "#46039f"
            ],
            [
             0.2222222222222222,
             "#7201a8"
            ],
            [
             0.3333333333333333,
             "#9c179e"
            ],
            [
             0.4444444444444444,
             "#bd3786"
            ],
            [
             0.5555555555555556,
             "#d8576b"
            ],
            [
             0.6666666666666666,
             "#ed7953"
            ],
            [
             0.7777777777777778,
             "#fb9f3a"
            ],
            [
             0.8888888888888888,
             "#fdca26"
            ],
            [
             1,
             "#f0f921"
            ]
           ],
           "sequentialminus": [
            [
             0,
             "#0d0887"
            ],
            [
             0.1111111111111111,
             "#46039f"
            ],
            [
             0.2222222222222222,
             "#7201a8"
            ],
            [
             0.3333333333333333,
             "#9c179e"
            ],
            [
             0.4444444444444444,
             "#bd3786"
            ],
            [
             0.5555555555555556,
             "#d8576b"
            ],
            [
             0.6666666666666666,
             "#ed7953"
            ],
            [
             0.7777777777777778,
             "#fb9f3a"
            ],
            [
             0.8888888888888888,
             "#fdca26"
            ],
            [
             1,
             "#f0f921"
            ]
           ]
          },
          "colorway": [
           "#636efa",
           "#EF553B",
           "#00cc96",
           "#ab63fa",
           "#FFA15A",
           "#19d3f3",
           "#FF6692",
           "#B6E880",
           "#FF97FF",
           "#FECB52"
          ],
          "font": {
           "color": "#2a3f5f"
          },
          "geo": {
           "bgcolor": "white",
           "lakecolor": "white",
           "landcolor": "white",
           "showlakes": true,
           "showland": true,
           "subunitcolor": "#C8D4E3"
          },
          "hoverlabel": {
           "align": "left"
          },
          "hovermode": "closest",
          "mapbox": {
           "style": "light"
          },
          "paper_bgcolor": "white",
          "plot_bgcolor": "white",
          "polar": {
           "angularaxis": {
            "gridcolor": "#EBF0F8",
            "linecolor": "#EBF0F8",
            "ticks": ""
           },
           "bgcolor": "white",
           "radialaxis": {
            "gridcolor": "#EBF0F8",
            "linecolor": "#EBF0F8",
            "ticks": ""
           }
          },
          "scene": {
           "xaxis": {
            "backgroundcolor": "white",
            "gridcolor": "#DFE8F3",
            "gridwidth": 2,
            "linecolor": "#EBF0F8",
            "showbackground": true,
            "ticks": "",
            "zerolinecolor": "#EBF0F8"
           },
           "yaxis": {
            "backgroundcolor": "white",
            "gridcolor": "#DFE8F3",
            "gridwidth": 2,
            "linecolor": "#EBF0F8",
            "showbackground": true,
            "ticks": "",
            "zerolinecolor": "#EBF0F8"
           },
           "zaxis": {
            "backgroundcolor": "white",
            "gridcolor": "#DFE8F3",
            "gridwidth": 2,
            "linecolor": "#EBF0F8",
            "showbackground": true,
            "ticks": "",
            "zerolinecolor": "#EBF0F8"
           }
          },
          "shapedefaults": {
           "line": {
            "color": "#2a3f5f"
           }
          },
          "ternary": {
           "aaxis": {
            "gridcolor": "#DFE8F3",
            "linecolor": "#A2B1C6",
            "ticks": ""
           },
           "baxis": {
            "gridcolor": "#DFE8F3",
            "linecolor": "#A2B1C6",
            "ticks": ""
           },
           "bgcolor": "white",
           "caxis": {
            "gridcolor": "#DFE8F3",
            "linecolor": "#A2B1C6",
            "ticks": ""
           }
          },
          "title": {
           "x": 0.05
          },
          "xaxis": {
           "automargin": true,
           "gridcolor": "#EBF0F8",
           "linecolor": "#EBF0F8",
           "ticks": "",
           "title": {
            "standoff": 15
           },
           "zerolinecolor": "#EBF0F8",
           "zerolinewidth": 2
          },
          "yaxis": {
           "automargin": true,
           "gridcolor": "#EBF0F8",
           "linecolor": "#EBF0F8",
           "ticks": "",
           "title": {
            "standoff": 15
           },
           "zerolinecolor": "#EBF0F8",
           "zerolinewidth": 2
          }
         }
        },
        "title": {
         "text": "Feature Importances from Random Forest"
        },
        "xaxis": {
         "title": {
          "text": "Feature"
         }
        },
        "yaxis": {
         "title": {
          "text": "Importance"
         }
        }
       }
      }
     },
     "metadata": {},
     "output_type": "display_data"
    }
   ],
   "source": [
    "# Extract feature importances\n",
    "importances = rf_regressor.feature_importances_\n",
    "\n",
    "# Create a DataFrame for easy visualization\n",
    "importance_df = pd.DataFrame({\n",
    "    'Feature': X_train.columns,\n",
    "    'Importance': importances\n",
    "}).sort_values(by='Importance', ascending=False)\n",
    "\n",
    "# Plotly bar chart\n",
    "fig = go.Figure(go.Bar(\n",
    "    x=importance_df['Feature'],\n",
    "    y=importance_df['Importance'],\n",
    "    text=importance_df['Importance'].round(3),  # Show importance values on bars\n",
    "    textposition='auto'  # Display text directly on top of bars\n",
    "))\n",
    "\n",
    "# Customize layout\n",
    "fig.update_layout(\n",
    "    title=\"Feature Importances from Random Forest\",\n",
    "    xaxis_title=\"Feature\",\n",
    "    yaxis_title=\"Importance\",\n",
    "    template=\"plotly_white\",\n",
    ")\n",
    "\n",
    "# Show plot\n",
    "fig.show()"
   ]
  },
  {
   "cell_type": "code",
   "execution_count": 32,
   "metadata": {},
   "outputs": [],
   "source": [
    "rf_regressor.fit(df_X, df_y)\n",
    "\n",
    "# Predict on the test set\n",
    "y_pred = rf_regressor.predict(df_X)"
   ]
  },
  {
   "cell_type": "code",
   "execution_count": 36,
   "metadata": {},
   "outputs": [
    {
     "data": {
      "application/vnd.plotly.v1+json": {
       "config": {
        "plotlyServerURL": "https://plot.ly"
       },
       "data": [
        {
         "text": [
          27.683,
          26.089,
          8.688,
          5.161,
          4.257,
          2.572,
          2.569,
          2.456,
          2.365,
          2.098,
          1.936,
          1.909,
          1.756,
          1.356,
          1.113,
          0.882,
          0.857,
          0.838,
          0.501,
          0.499,
          0.435,
          0.412,
          0.395,
          0.323,
          0.322,
          0.304,
          0.292,
          0.28,
          0.274,
          0.242,
          0.223,
          0.149,
          0.131,
          0.122,
          0.094,
          0.09,
          0.089,
          0.056,
          0.05,
          0.033,
          0.032,
          0.018,
          0.017,
          0.015,
          0.012,
          0.005,
          0.002,
          0.001,
          0,
          0,
          0
         ],
         "textposition": "auto",
         "type": "bar",
         "x": [
          "budget",
          "popularity",
          "runtime",
          "day_of_year",
          "day",
          "weekday",
          "Adventure",
          "month",
          "gdp",
          "Family",
          "year",
          "Science_Fiction",
          "Animation",
          "Twentieth Century Fox Film Corporation",
          "Drama",
          "Warner Bros.",
          "Universal Pictures",
          "Action",
          "United Kingdom",
          "Other_country",
          "Crime",
          "Mystery",
          "Fantasy",
          "Village Roadshow Pictures",
          "Walt Disney Pictures",
          "Romance",
          "Dune Entertainment",
          "Germany",
          "Thriller",
          "Comedy",
          "Horror",
          "Paramount Pictures",
          "Columbia Pictures",
          "New Line Cinema",
          "History",
          "France",
          "Western",
          "Relativity Media",
          "en_language",
          "Music",
          "United States of America",
          "War",
          "Other_language",
          "Other_company",
          "Canada",
          "es_language",
          "ja_language",
          "Documentary",
          "Foreign",
          "zh_language",
          "fr_language"
         ],
         "y": [
          27.682684738036734,
          26.08859259132817,
          8.687810739361645,
          5.160632702321035,
          4.257485343275076,
          2.5720181676047518,
          2.5689776360980368,
          2.4555257286449015,
          2.365428929319583,
          2.097701104964467,
          1.9358981605318792,
          1.908665958997102,
          1.7556615027731834,
          1.3557900897078046,
          1.1134492885315252,
          0.8822305140771164,
          0.8568358483290995,
          0.8377050211134771,
          0.5007865622049236,
          0.4989294530059113,
          0.43534998579135603,
          0.412174472186948,
          0.39492123884521396,
          0.32301627859271176,
          0.32208869817005853,
          0.30438071958200047,
          0.2922502650867383,
          0.2797361127047336,
          0.27384693852848047,
          0.2415011431721516,
          0.22280150246171065,
          0.14850468086252946,
          0.13096015338220135,
          0.12178070956754375,
          0.09363844493121996,
          0.08996943838546842,
          0.08856477363585352,
          0.05615657810481988,
          0.04972141855881495,
          0.03286772012286047,
          0.032142041678475876,
          0.01817182707804441,
          0.016577275545762795,
          0.014931430444968152,
          0.012371863635337082,
          0.00453594506521659,
          0.0024881364398871473,
          0.0014132607728373592,
          0.00022495084560647709,
          0.00010191559402736148,
          0
         ]
        }
       ],
       "layout": {
        "template": {
         "data": {
          "bar": [
           {
            "error_x": {
             "color": "#2a3f5f"
            },
            "error_y": {
             "color": "#2a3f5f"
            },
            "marker": {
             "line": {
              "color": "white",
              "width": 0.5
             },
             "pattern": {
              "fillmode": "overlay",
              "size": 10,
              "solidity": 0.2
             }
            },
            "type": "bar"
           }
          ],
          "barpolar": [
           {
            "marker": {
             "line": {
              "color": "white",
              "width": 0.5
             },
             "pattern": {
              "fillmode": "overlay",
              "size": 10,
              "solidity": 0.2
             }
            },
            "type": "barpolar"
           }
          ],
          "carpet": [
           {
            "aaxis": {
             "endlinecolor": "#2a3f5f",
             "gridcolor": "#C8D4E3",
             "linecolor": "#C8D4E3",
             "minorgridcolor": "#C8D4E3",
             "startlinecolor": "#2a3f5f"
            },
            "baxis": {
             "endlinecolor": "#2a3f5f",
             "gridcolor": "#C8D4E3",
             "linecolor": "#C8D4E3",
             "minorgridcolor": "#C8D4E3",
             "startlinecolor": "#2a3f5f"
            },
            "type": "carpet"
           }
          ],
          "choropleth": [
           {
            "colorbar": {
             "outlinewidth": 0,
             "ticks": ""
            },
            "type": "choropleth"
           }
          ],
          "contour": [
           {
            "colorbar": {
             "outlinewidth": 0,
             "ticks": ""
            },
            "colorscale": [
             [
              0,
              "#0d0887"
             ],
             [
              0.1111111111111111,
              "#46039f"
             ],
             [
              0.2222222222222222,
              "#7201a8"
             ],
             [
              0.3333333333333333,
              "#9c179e"
             ],
             [
              0.4444444444444444,
              "#bd3786"
             ],
             [
              0.5555555555555556,
              "#d8576b"
             ],
             [
              0.6666666666666666,
              "#ed7953"
             ],
             [
              0.7777777777777778,
              "#fb9f3a"
             ],
             [
              0.8888888888888888,
              "#fdca26"
             ],
             [
              1,
              "#f0f921"
             ]
            ],
            "type": "contour"
           }
          ],
          "contourcarpet": [
           {
            "colorbar": {
             "outlinewidth": 0,
             "ticks": ""
            },
            "type": "contourcarpet"
           }
          ],
          "heatmap": [
           {
            "colorbar": {
             "outlinewidth": 0,
             "ticks": ""
            },
            "colorscale": [
             [
              0,
              "#0d0887"
             ],
             [
              0.1111111111111111,
              "#46039f"
             ],
             [
              0.2222222222222222,
              "#7201a8"
             ],
             [
              0.3333333333333333,
              "#9c179e"
             ],
             [
              0.4444444444444444,
              "#bd3786"
             ],
             [
              0.5555555555555556,
              "#d8576b"
             ],
             [
              0.6666666666666666,
              "#ed7953"
             ],
             [
              0.7777777777777778,
              "#fb9f3a"
             ],
             [
              0.8888888888888888,
              "#fdca26"
             ],
             [
              1,
              "#f0f921"
             ]
            ],
            "type": "heatmap"
           }
          ],
          "heatmapgl": [
           {
            "colorbar": {
             "outlinewidth": 0,
             "ticks": ""
            },
            "colorscale": [
             [
              0,
              "#0d0887"
             ],
             [
              0.1111111111111111,
              "#46039f"
             ],
             [
              0.2222222222222222,
              "#7201a8"
             ],
             [
              0.3333333333333333,
              "#9c179e"
             ],
             [
              0.4444444444444444,
              "#bd3786"
             ],
             [
              0.5555555555555556,
              "#d8576b"
             ],
             [
              0.6666666666666666,
              "#ed7953"
             ],
             [
              0.7777777777777778,
              "#fb9f3a"
             ],
             [
              0.8888888888888888,
              "#fdca26"
             ],
             [
              1,
              "#f0f921"
             ]
            ],
            "type": "heatmapgl"
           }
          ],
          "histogram": [
           {
            "marker": {
             "pattern": {
              "fillmode": "overlay",
              "size": 10,
              "solidity": 0.2
             }
            },
            "type": "histogram"
           }
          ],
          "histogram2d": [
           {
            "colorbar": {
             "outlinewidth": 0,
             "ticks": ""
            },
            "colorscale": [
             [
              0,
              "#0d0887"
             ],
             [
              0.1111111111111111,
              "#46039f"
             ],
             [
              0.2222222222222222,
              "#7201a8"
             ],
             [
              0.3333333333333333,
              "#9c179e"
             ],
             [
              0.4444444444444444,
              "#bd3786"
             ],
             [
              0.5555555555555556,
              "#d8576b"
             ],
             [
              0.6666666666666666,
              "#ed7953"
             ],
             [
              0.7777777777777778,
              "#fb9f3a"
             ],
             [
              0.8888888888888888,
              "#fdca26"
             ],
             [
              1,
              "#f0f921"
             ]
            ],
            "type": "histogram2d"
           }
          ],
          "histogram2dcontour": [
           {
            "colorbar": {
             "outlinewidth": 0,
             "ticks": ""
            },
            "colorscale": [
             [
              0,
              "#0d0887"
             ],
             [
              0.1111111111111111,
              "#46039f"
             ],
             [
              0.2222222222222222,
              "#7201a8"
             ],
             [
              0.3333333333333333,
              "#9c179e"
             ],
             [
              0.4444444444444444,
              "#bd3786"
             ],
             [
              0.5555555555555556,
              "#d8576b"
             ],
             [
              0.6666666666666666,
              "#ed7953"
             ],
             [
              0.7777777777777778,
              "#fb9f3a"
             ],
             [
              0.8888888888888888,
              "#fdca26"
             ],
             [
              1,
              "#f0f921"
             ]
            ],
            "type": "histogram2dcontour"
           }
          ],
          "mesh3d": [
           {
            "colorbar": {
             "outlinewidth": 0,
             "ticks": ""
            },
            "type": "mesh3d"
           }
          ],
          "parcoords": [
           {
            "line": {
             "colorbar": {
              "outlinewidth": 0,
              "ticks": ""
             }
            },
            "type": "parcoords"
           }
          ],
          "pie": [
           {
            "automargin": true,
            "type": "pie"
           }
          ],
          "scatter": [
           {
            "fillpattern": {
             "fillmode": "overlay",
             "size": 10,
             "solidity": 0.2
            },
            "type": "scatter"
           }
          ],
          "scatter3d": [
           {
            "line": {
             "colorbar": {
              "outlinewidth": 0,
              "ticks": ""
             }
            },
            "marker": {
             "colorbar": {
              "outlinewidth": 0,
              "ticks": ""
             }
            },
            "type": "scatter3d"
           }
          ],
          "scattercarpet": [
           {
            "marker": {
             "colorbar": {
              "outlinewidth": 0,
              "ticks": ""
             }
            },
            "type": "scattercarpet"
           }
          ],
          "scattergeo": [
           {
            "marker": {
             "colorbar": {
              "outlinewidth": 0,
              "ticks": ""
             }
            },
            "type": "scattergeo"
           }
          ],
          "scattergl": [
           {
            "marker": {
             "colorbar": {
              "outlinewidth": 0,
              "ticks": ""
             }
            },
            "type": "scattergl"
           }
          ],
          "scattermapbox": [
           {
            "marker": {
             "colorbar": {
              "outlinewidth": 0,
              "ticks": ""
             }
            },
            "type": "scattermapbox"
           }
          ],
          "scatterpolar": [
           {
            "marker": {
             "colorbar": {
              "outlinewidth": 0,
              "ticks": ""
             }
            },
            "type": "scatterpolar"
           }
          ],
          "scatterpolargl": [
           {
            "marker": {
             "colorbar": {
              "outlinewidth": 0,
              "ticks": ""
             }
            },
            "type": "scatterpolargl"
           }
          ],
          "scatterternary": [
           {
            "marker": {
             "colorbar": {
              "outlinewidth": 0,
              "ticks": ""
             }
            },
            "type": "scatterternary"
           }
          ],
          "surface": [
           {
            "colorbar": {
             "outlinewidth": 0,
             "ticks": ""
            },
            "colorscale": [
             [
              0,
              "#0d0887"
             ],
             [
              0.1111111111111111,
              "#46039f"
             ],
             [
              0.2222222222222222,
              "#7201a8"
             ],
             [
              0.3333333333333333,
              "#9c179e"
             ],
             [
              0.4444444444444444,
              "#bd3786"
             ],
             [
              0.5555555555555556,
              "#d8576b"
             ],
             [
              0.6666666666666666,
              "#ed7953"
             ],
             [
              0.7777777777777778,
              "#fb9f3a"
             ],
             [
              0.8888888888888888,
              "#fdca26"
             ],
             [
              1,
              "#f0f921"
             ]
            ],
            "type": "surface"
           }
          ],
          "table": [
           {
            "cells": {
             "fill": {
              "color": "#EBF0F8"
             },
             "line": {
              "color": "white"
             }
            },
            "header": {
             "fill": {
              "color": "#C8D4E3"
             },
             "line": {
              "color": "white"
             }
            },
            "type": "table"
           }
          ]
         },
         "layout": {
          "annotationdefaults": {
           "arrowcolor": "#2a3f5f",
           "arrowhead": 0,
           "arrowwidth": 1
          },
          "autotypenumbers": "strict",
          "coloraxis": {
           "colorbar": {
            "outlinewidth": 0,
            "ticks": ""
           }
          },
          "colorscale": {
           "diverging": [
            [
             0,
             "#8e0152"
            ],
            [
             0.1,
             "#c51b7d"
            ],
            [
             0.2,
             "#de77ae"
            ],
            [
             0.3,
             "#f1b6da"
            ],
            [
             0.4,
             "#fde0ef"
            ],
            [
             0.5,
             "#f7f7f7"
            ],
            [
             0.6,
             "#e6f5d0"
            ],
            [
             0.7,
             "#b8e186"
            ],
            [
             0.8,
             "#7fbc41"
            ],
            [
             0.9,
             "#4d9221"
            ],
            [
             1,
             "#276419"
            ]
           ],
           "sequential": [
            [
             0,
             "#0d0887"
            ],
            [
             0.1111111111111111,
             "#46039f"
            ],
            [
             0.2222222222222222,
             "#7201a8"
            ],
            [
             0.3333333333333333,
             "#9c179e"
            ],
            [
             0.4444444444444444,
             "#bd3786"
            ],
            [
             0.5555555555555556,
             "#d8576b"
            ],
            [
             0.6666666666666666,
             "#ed7953"
            ],
            [
             0.7777777777777778,
             "#fb9f3a"
            ],
            [
             0.8888888888888888,
             "#fdca26"
            ],
            [
             1,
             "#f0f921"
            ]
           ],
           "sequentialminus": [
            [
             0,
             "#0d0887"
            ],
            [
             0.1111111111111111,
             "#46039f"
            ],
            [
             0.2222222222222222,
             "#7201a8"
            ],
            [
             0.3333333333333333,
             "#9c179e"
            ],
            [
             0.4444444444444444,
             "#bd3786"
            ],
            [
             0.5555555555555556,
             "#d8576b"
            ],
            [
             0.6666666666666666,
             "#ed7953"
            ],
            [
             0.7777777777777778,
             "#fb9f3a"
            ],
            [
             0.8888888888888888,
             "#fdca26"
            ],
            [
             1,
             "#f0f921"
            ]
           ]
          },
          "colorway": [
           "#636efa",
           "#EF553B",
           "#00cc96",
           "#ab63fa",
           "#FFA15A",
           "#19d3f3",
           "#FF6692",
           "#B6E880",
           "#FF97FF",
           "#FECB52"
          ],
          "font": {
           "color": "#2a3f5f"
          },
          "geo": {
           "bgcolor": "white",
           "lakecolor": "white",
           "landcolor": "white",
           "showlakes": true,
           "showland": true,
           "subunitcolor": "#C8D4E3"
          },
          "hoverlabel": {
           "align": "left"
          },
          "hovermode": "closest",
          "mapbox": {
           "style": "light"
          },
          "paper_bgcolor": "white",
          "plot_bgcolor": "white",
          "polar": {
           "angularaxis": {
            "gridcolor": "#EBF0F8",
            "linecolor": "#EBF0F8",
            "ticks": ""
           },
           "bgcolor": "white",
           "radialaxis": {
            "gridcolor": "#EBF0F8",
            "linecolor": "#EBF0F8",
            "ticks": ""
           }
          },
          "scene": {
           "xaxis": {
            "backgroundcolor": "white",
            "gridcolor": "#DFE8F3",
            "gridwidth": 2,
            "linecolor": "#EBF0F8",
            "showbackground": true,
            "ticks": "",
            "zerolinecolor": "#EBF0F8"
           },
           "yaxis": {
            "backgroundcolor": "white",
            "gridcolor": "#DFE8F3",
            "gridwidth": 2,
            "linecolor": "#EBF0F8",
            "showbackground": true,
            "ticks": "",
            "zerolinecolor": "#EBF0F8"
           },
           "zaxis": {
            "backgroundcolor": "white",
            "gridcolor": "#DFE8F3",
            "gridwidth": 2,
            "linecolor": "#EBF0F8",
            "showbackground": true,
            "ticks": "",
            "zerolinecolor": "#EBF0F8"
           }
          },
          "shapedefaults": {
           "line": {
            "color": "#2a3f5f"
           }
          },
          "ternary": {
           "aaxis": {
            "gridcolor": "#DFE8F3",
            "linecolor": "#A2B1C6",
            "ticks": ""
           },
           "baxis": {
            "gridcolor": "#DFE8F3",
            "linecolor": "#A2B1C6",
            "ticks": ""
           },
           "bgcolor": "white",
           "caxis": {
            "gridcolor": "#DFE8F3",
            "linecolor": "#A2B1C6",
            "ticks": ""
           }
          },
          "title": {
           "x": 0.05
          },
          "xaxis": {
           "automargin": true,
           "gridcolor": "#EBF0F8",
           "linecolor": "#EBF0F8",
           "ticks": "",
           "title": {
            "standoff": 15
           },
           "zerolinecolor": "#EBF0F8",
           "zerolinewidth": 2
          },
          "yaxis": {
           "automargin": true,
           "gridcolor": "#EBF0F8",
           "linecolor": "#EBF0F8",
           "ticks": "",
           "title": {
            "standoff": 15
           },
           "zerolinecolor": "#EBF0F8",
           "zerolinewidth": 2
          }
         }
        },
        "title": {
         "text": "Feature Importances from Random Forest"
        },
        "xaxis": {
         "title": {
          "text": "Feature"
         }
        },
        "yaxis": {
         "title": {
          "text": "Importance"
         }
        }
       }
      }
     },
     "metadata": {},
     "output_type": "display_data"
    }
   ],
   "source": [
    "# Extract feature importances\n",
    "importances = rf_regressor.feature_importances_\n",
    "\n",
    "# Create a DataFrame for easy visualization\n",
    "importance_df = pd.DataFrame({\n",
    "    'Feature': X_train.columns,\n",
    "    'Importance': importances\n",
    "}).sort_values(by='Importance', ascending=False)\n",
    "\n",
    "# Plotly bar chart\n",
    "fig = go.Figure(go.Bar(\n",
    "    x=importance_df['Feature'],\n",
    "    y=importance_df['Importance'],\n",
    "    text=importance_df['Importance'].round(3),  # Show importance values on bars\n",
    "    textposition='auto'  # Display text directly on top of bars\n",
    "))\n",
    "\n",
    "# Customize layout\n",
    "fig.update_layout(\n",
    "    title=\"Feature Importances from Random Forest\",\n",
    "    xaxis_title=\"Feature\",\n",
    "    yaxis_title=\"Importance\",\n",
    "    template=\"plotly_white\",\n",
    ")\n",
    "\n",
    "# Show plot\n",
    "fig.show()"
   ]
  },
  {
   "cell_type": "code",
   "execution_count": 33,
   "metadata": {},
   "outputs": [],
   "source": [
    "df_pred_test = pd.DataFrame(y_pred)\n",
    "df_pred_test.columns = [\"revenue\"]\n",
    "df_pred_test['date'] = pd.to_datetime(df[['year', 'month', 'day']]).reset_index(drop=True)"
   ]
  },
  {
   "cell_type": "code",
   "execution_count": 34,
   "metadata": {},
   "outputs": [
    {
     "name": "stderr",
     "output_type": "stream",
     "text": [
      "C:\\Users\\clopearg\\AppData\\Local\\Temp\\ipykernel_48504\\3548366166.py:1: SettingWithCopyWarning:\n",
      "\n",
      "\n",
      "A value is trying to be set on a copy of a slice from a DataFrame.\n",
      "Try using .loc[row_indexer,col_indexer] = value instead\n",
      "\n",
      "See the caveats in the documentation: https://pandas.pydata.org/pandas-docs/stable/user_guide/indexing.html#returning-a-view-versus-a-copy\n",
      "\n"
     ]
    }
   ],
   "source": [
    "df_y['date'] = pd.to_datetime(df[['year', 'month', 'day']]).reset_index(drop=True)"
   ]
  },
  {
   "cell_type": "code",
   "execution_count": 35,
   "metadata": {},
   "outputs": [
    {
     "data": {
      "application/vnd.plotly.v1+json": {
       "config": {
        "plotlyServerURL": "https://plot.ly"
       },
       "data": [
        {
         "hoverinfo": "x+y",
         "line": {
          "color": "steelblue",
          "width": 0.5
         },
         "mode": "lines",
         "name": "Revenue",
         "type": "scatter",
         "x": [
          1937,
          1939,
          1940,
          1942,
          1962,
          1963,
          1964,
          1965,
          1966,
          1967,
          1969,
          1970,
          1971,
          1972,
          1973,
          1974,
          1975,
          1977,
          1978,
          1979,
          1980,
          1981,
          1982,
          1983,
          1984,
          1985,
          1986,
          1987,
          1988,
          1989,
          1990,
          1991,
          1992,
          1993,
          1994,
          1995,
          1996,
          1997,
          1998,
          1999,
          2000,
          2001,
          2002,
          2003,
          2004,
          2005,
          2006,
          2007,
          2008,
          2009,
          2010,
          2011,
          2012,
          2013,
          2014,
          2015
         ],
         "y": [
          192948089.80317673,
          59783922.96888283,
          97639887.65582742,
          243308428.85863507,
          82318455.33494192,
          88267682.86321622,
          63842739.31384602,
          129951437.13228479,
          10470543.256589025,
          119938738.08812167,
          90380334.86866662,
          54214420.47324169,
          71112251.7419888,
          236326527.9283236,
          270371584.9153534,
          115129472.18305026,
          232137954.40992877,
          451576577.72638804,
          91028807.158584,
          163954153.17387533,
          190887887.83704054,
          136200377.5720547,
          282232829.68513185,
          246931051.91437283,
          179218682.8739639,
          210164897.8289132,
          50819504.841857195,
          133790122.82056002,
          26650041.950941462,
          253194118.15274844,
          228070769.20243365,
          15118270.411735296,
          171263638.1819254,
          380784562.7163596,
          232091154.66440153,
          147132197.0874382,
          149284594.47624627,
          355949925.0169095,
          148222012.69651824,
          201558756.49484986,
          125168642.6629153,
          252127110.4298148,
          228910120.86614677,
          206451785.86370093,
          177937855.52938426,
          143118804.13102415,
          146080591.42734852,
          167868780.35752273,
          145103125.31744835,
          175879867.52907094,
          142890000.33635506,
          139092281.0261484,
          222682834.8857199,
          247230176.78083825,
          281830812.84183604,
          258189372.84090805
         ]
        },
        {
         "hoverinfo": "x+y",
         "line": {
          "color": "firebrick",
          "width": 0.5
         },
         "mode": "lines",
         "name": "Revenue real",
         "type": "scatter",
         "x": [
          1937,
          1939,
          1940,
          1942,
          1962,
          1963,
          1964,
          1965,
          1966,
          1967,
          1969,
          1970,
          1971,
          1972,
          1973,
          1974,
          1975,
          1977,
          1978,
          1979,
          1980,
          1981,
          1982,
          1983,
          1984,
          1985,
          1986,
          1987,
          1988,
          1989,
          1990,
          1991,
          1992,
          1993,
          1994,
          1995,
          1996,
          1997,
          1998,
          1999,
          2000,
          2001,
          2002,
          2003,
          2004,
          2005,
          2006,
          2007,
          2008,
          2009,
          2010,
          2011,
          2012,
          2013,
          2014,
          2015
         ],
         "y": [
          184925486,
          33754967,
          83320000,
          267447150,
          59600000,
          78898765,
          68590365,
          141195658,
          6000000,
          111584787,
          81974493,
          40000000,
          65609773.5,
          245066411,
          301541990.5,
          97572000,
          237841474,
          480418340,
          105500000,
          134900093.66666666,
          188214453.66666666,
          144496694.6,
          281893310.6666667,
          249941916.75,
          205685600,
          181558507.66666666,
          11000000,
          114652690,
          6948316.666666667,
          250705965,
          220802942.8,
          7434726,
          193652399.66666666,
          422993784.3333333,
          262285718.25,
          156172675.8,
          146918620.45454547,
          358063913.5555556,
          123903630.36363636,
          204831825.45454547,
          135656376.5625,
          244116027.52631578,
          237239313.2142857,
          200900740.5,
          184297390.66666666,
          137836984.91304347,
          143201600.15492958,
          170948609.2368421,
          142304536.75903615,
          174038177.34951457,
          143298693.38016528,
          141242674.73880598,
          222332547.8433735,
          250880832.63934427,
          279173547.0327869,
          256393572.52702704
         ]
        }
       ],
       "layout": {
        "font": {
         "size": 8
        },
        "legend": {
         "bgcolor": "white",
         "x": 0.01,
         "xanchor": "left",
         "y": 0.99,
         "yanchor": "top"
        },
        "template": {
         "data": {
          "bar": [
           {
            "error_x": {
             "color": "#2a3f5f"
            },
            "error_y": {
             "color": "#2a3f5f"
            },
            "marker": {
             "line": {
              "color": "#E5ECF6",
              "width": 0.5
             },
             "pattern": {
              "fillmode": "overlay",
              "size": 10,
              "solidity": 0.2
             }
            },
            "type": "bar"
           }
          ],
          "barpolar": [
           {
            "marker": {
             "line": {
              "color": "#E5ECF6",
              "width": 0.5
             },
             "pattern": {
              "fillmode": "overlay",
              "size": 10,
              "solidity": 0.2
             }
            },
            "type": "barpolar"
           }
          ],
          "carpet": [
           {
            "aaxis": {
             "endlinecolor": "#2a3f5f",
             "gridcolor": "white",
             "linecolor": "white",
             "minorgridcolor": "white",
             "startlinecolor": "#2a3f5f"
            },
            "baxis": {
             "endlinecolor": "#2a3f5f",
             "gridcolor": "white",
             "linecolor": "white",
             "minorgridcolor": "white",
             "startlinecolor": "#2a3f5f"
            },
            "type": "carpet"
           }
          ],
          "choropleth": [
           {
            "colorbar": {
             "outlinewidth": 0,
             "ticks": ""
            },
            "type": "choropleth"
           }
          ],
          "contour": [
           {
            "colorbar": {
             "outlinewidth": 0,
             "ticks": ""
            },
            "colorscale": [
             [
              0,
              "#0d0887"
             ],
             [
              0.1111111111111111,
              "#46039f"
             ],
             [
              0.2222222222222222,
              "#7201a8"
             ],
             [
              0.3333333333333333,
              "#9c179e"
             ],
             [
              0.4444444444444444,
              "#bd3786"
             ],
             [
              0.5555555555555556,
              "#d8576b"
             ],
             [
              0.6666666666666666,
              "#ed7953"
             ],
             [
              0.7777777777777778,
              "#fb9f3a"
             ],
             [
              0.8888888888888888,
              "#fdca26"
             ],
             [
              1,
              "#f0f921"
             ]
            ],
            "type": "contour"
           }
          ],
          "contourcarpet": [
           {
            "colorbar": {
             "outlinewidth": 0,
             "ticks": ""
            },
            "type": "contourcarpet"
           }
          ],
          "heatmap": [
           {
            "colorbar": {
             "outlinewidth": 0,
             "ticks": ""
            },
            "colorscale": [
             [
              0,
              "#0d0887"
             ],
             [
              0.1111111111111111,
              "#46039f"
             ],
             [
              0.2222222222222222,
              "#7201a8"
             ],
             [
              0.3333333333333333,
              "#9c179e"
             ],
             [
              0.4444444444444444,
              "#bd3786"
             ],
             [
              0.5555555555555556,
              "#d8576b"
             ],
             [
              0.6666666666666666,
              "#ed7953"
             ],
             [
              0.7777777777777778,
              "#fb9f3a"
             ],
             [
              0.8888888888888888,
              "#fdca26"
             ],
             [
              1,
              "#f0f921"
             ]
            ],
            "type": "heatmap"
           }
          ],
          "heatmapgl": [
           {
            "colorbar": {
             "outlinewidth": 0,
             "ticks": ""
            },
            "colorscale": [
             [
              0,
              "#0d0887"
             ],
             [
              0.1111111111111111,
              "#46039f"
             ],
             [
              0.2222222222222222,
              "#7201a8"
             ],
             [
              0.3333333333333333,
              "#9c179e"
             ],
             [
              0.4444444444444444,
              "#bd3786"
             ],
             [
              0.5555555555555556,
              "#d8576b"
             ],
             [
              0.6666666666666666,
              "#ed7953"
             ],
             [
              0.7777777777777778,
              "#fb9f3a"
             ],
             [
              0.8888888888888888,
              "#fdca26"
             ],
             [
              1,
              "#f0f921"
             ]
            ],
            "type": "heatmapgl"
           }
          ],
          "histogram": [
           {
            "marker": {
             "pattern": {
              "fillmode": "overlay",
              "size": 10,
              "solidity": 0.2
             }
            },
            "type": "histogram"
           }
          ],
          "histogram2d": [
           {
            "colorbar": {
             "outlinewidth": 0,
             "ticks": ""
            },
            "colorscale": [
             [
              0,
              "#0d0887"
             ],
             [
              0.1111111111111111,
              "#46039f"
             ],
             [
              0.2222222222222222,
              "#7201a8"
             ],
             [
              0.3333333333333333,
              "#9c179e"
             ],
             [
              0.4444444444444444,
              "#bd3786"
             ],
             [
              0.5555555555555556,
              "#d8576b"
             ],
             [
              0.6666666666666666,
              "#ed7953"
             ],
             [
              0.7777777777777778,
              "#fb9f3a"
             ],
             [
              0.8888888888888888,
              "#fdca26"
             ],
             [
              1,
              "#f0f921"
             ]
            ],
            "type": "histogram2d"
           }
          ],
          "histogram2dcontour": [
           {
            "colorbar": {
             "outlinewidth": 0,
             "ticks": ""
            },
            "colorscale": [
             [
              0,
              "#0d0887"
             ],
             [
              0.1111111111111111,
              "#46039f"
             ],
             [
              0.2222222222222222,
              "#7201a8"
             ],
             [
              0.3333333333333333,
              "#9c179e"
             ],
             [
              0.4444444444444444,
              "#bd3786"
             ],
             [
              0.5555555555555556,
              "#d8576b"
             ],
             [
              0.6666666666666666,
              "#ed7953"
             ],
             [
              0.7777777777777778,
              "#fb9f3a"
             ],
             [
              0.8888888888888888,
              "#fdca26"
             ],
             [
              1,
              "#f0f921"
             ]
            ],
            "type": "histogram2dcontour"
           }
          ],
          "mesh3d": [
           {
            "colorbar": {
             "outlinewidth": 0,
             "ticks": ""
            },
            "type": "mesh3d"
           }
          ],
          "parcoords": [
           {
            "line": {
             "colorbar": {
              "outlinewidth": 0,
              "ticks": ""
             }
            },
            "type": "parcoords"
           }
          ],
          "pie": [
           {
            "automargin": true,
            "type": "pie"
           }
          ],
          "scatter": [
           {
            "fillpattern": {
             "fillmode": "overlay",
             "size": 10,
             "solidity": 0.2
            },
            "type": "scatter"
           }
          ],
          "scatter3d": [
           {
            "line": {
             "colorbar": {
              "outlinewidth": 0,
              "ticks": ""
             }
            },
            "marker": {
             "colorbar": {
              "outlinewidth": 0,
              "ticks": ""
             }
            },
            "type": "scatter3d"
           }
          ],
          "scattercarpet": [
           {
            "marker": {
             "colorbar": {
              "outlinewidth": 0,
              "ticks": ""
             }
            },
            "type": "scattercarpet"
           }
          ],
          "scattergeo": [
           {
            "marker": {
             "colorbar": {
              "outlinewidth": 0,
              "ticks": ""
             }
            },
            "type": "scattergeo"
           }
          ],
          "scattergl": [
           {
            "marker": {
             "colorbar": {
              "outlinewidth": 0,
              "ticks": ""
             }
            },
            "type": "scattergl"
           }
          ],
          "scattermapbox": [
           {
            "marker": {
             "colorbar": {
              "outlinewidth": 0,
              "ticks": ""
             }
            },
            "type": "scattermapbox"
           }
          ],
          "scatterpolar": [
           {
            "marker": {
             "colorbar": {
              "outlinewidth": 0,
              "ticks": ""
             }
            },
            "type": "scatterpolar"
           }
          ],
          "scatterpolargl": [
           {
            "marker": {
             "colorbar": {
              "outlinewidth": 0,
              "ticks": ""
             }
            },
            "type": "scatterpolargl"
           }
          ],
          "scatterternary": [
           {
            "marker": {
             "colorbar": {
              "outlinewidth": 0,
              "ticks": ""
             }
            },
            "type": "scatterternary"
           }
          ],
          "surface": [
           {
            "colorbar": {
             "outlinewidth": 0,
             "ticks": ""
            },
            "colorscale": [
             [
              0,
              "#0d0887"
             ],
             [
              0.1111111111111111,
              "#46039f"
             ],
             [
              0.2222222222222222,
              "#7201a8"
             ],
             [
              0.3333333333333333,
              "#9c179e"
             ],
             [
              0.4444444444444444,
              "#bd3786"
             ],
             [
              0.5555555555555556,
              "#d8576b"
             ],
             [
              0.6666666666666666,
              "#ed7953"
             ],
             [
              0.7777777777777778,
              "#fb9f3a"
             ],
             [
              0.8888888888888888,
              "#fdca26"
             ],
             [
              1,
              "#f0f921"
             ]
            ],
            "type": "surface"
           }
          ],
          "table": [
           {
            "cells": {
             "fill": {
              "color": "#EBF0F8"
             },
             "line": {
              "color": "white"
             }
            },
            "header": {
             "fill": {
              "color": "#C8D4E3"
             },
             "line": {
              "color": "white"
             }
            },
            "type": "table"
           }
          ]
         },
         "layout": {
          "annotationdefaults": {
           "arrowcolor": "#2a3f5f",
           "arrowhead": 0,
           "arrowwidth": 1
          },
          "autotypenumbers": "strict",
          "coloraxis": {
           "colorbar": {
            "outlinewidth": 0,
            "ticks": ""
           }
          },
          "colorscale": {
           "diverging": [
            [
             0,
             "#8e0152"
            ],
            [
             0.1,
             "#c51b7d"
            ],
            [
             0.2,
             "#de77ae"
            ],
            [
             0.3,
             "#f1b6da"
            ],
            [
             0.4,
             "#fde0ef"
            ],
            [
             0.5,
             "#f7f7f7"
            ],
            [
             0.6,
             "#e6f5d0"
            ],
            [
             0.7,
             "#b8e186"
            ],
            [
             0.8,
             "#7fbc41"
            ],
            [
             0.9,
             "#4d9221"
            ],
            [
             1,
             "#276419"
            ]
           ],
           "sequential": [
            [
             0,
             "#0d0887"
            ],
            [
             0.1111111111111111,
             "#46039f"
            ],
            [
             0.2222222222222222,
             "#7201a8"
            ],
            [
             0.3333333333333333,
             "#9c179e"
            ],
            [
             0.4444444444444444,
             "#bd3786"
            ],
            [
             0.5555555555555556,
             "#d8576b"
            ],
            [
             0.6666666666666666,
             "#ed7953"
            ],
            [
             0.7777777777777778,
             "#fb9f3a"
            ],
            [
             0.8888888888888888,
             "#fdca26"
            ],
            [
             1,
             "#f0f921"
            ]
           ],
           "sequentialminus": [
            [
             0,
             "#0d0887"
            ],
            [
             0.1111111111111111,
             "#46039f"
            ],
            [
             0.2222222222222222,
             "#7201a8"
            ],
            [
             0.3333333333333333,
             "#9c179e"
            ],
            [
             0.4444444444444444,
             "#bd3786"
            ],
            [
             0.5555555555555556,
             "#d8576b"
            ],
            [
             0.6666666666666666,
             "#ed7953"
            ],
            [
             0.7777777777777778,
             "#fb9f3a"
            ],
            [
             0.8888888888888888,
             "#fdca26"
            ],
            [
             1,
             "#f0f921"
            ]
           ]
          },
          "colorway": [
           "#636efa",
           "#EF553B",
           "#00cc96",
           "#ab63fa",
           "#FFA15A",
           "#19d3f3",
           "#FF6692",
           "#B6E880",
           "#FF97FF",
           "#FECB52"
          ],
          "font": {
           "color": "#2a3f5f"
          },
          "geo": {
           "bgcolor": "white",
           "lakecolor": "white",
           "landcolor": "#E5ECF6",
           "showlakes": true,
           "showland": true,
           "subunitcolor": "white"
          },
          "hoverlabel": {
           "align": "left"
          },
          "hovermode": "closest",
          "mapbox": {
           "style": "light"
          },
          "paper_bgcolor": "white",
          "plot_bgcolor": "#E5ECF6",
          "polar": {
           "angularaxis": {
            "gridcolor": "white",
            "linecolor": "white",
            "ticks": ""
           },
           "bgcolor": "#E5ECF6",
           "radialaxis": {
            "gridcolor": "white",
            "linecolor": "white",
            "ticks": ""
           }
          },
          "scene": {
           "xaxis": {
            "backgroundcolor": "#E5ECF6",
            "gridcolor": "white",
            "gridwidth": 2,
            "linecolor": "white",
            "showbackground": true,
            "ticks": "",
            "zerolinecolor": "white"
           },
           "yaxis": {
            "backgroundcolor": "#E5ECF6",
            "gridcolor": "white",
            "gridwidth": 2,
            "linecolor": "white",
            "showbackground": true,
            "ticks": "",
            "zerolinecolor": "white"
           },
           "zaxis": {
            "backgroundcolor": "#E5ECF6",
            "gridcolor": "white",
            "gridwidth": 2,
            "linecolor": "white",
            "showbackground": true,
            "ticks": "",
            "zerolinecolor": "white"
           }
          },
          "shapedefaults": {
           "line": {
            "color": "#2a3f5f"
           }
          },
          "ternary": {
           "aaxis": {
            "gridcolor": "white",
            "linecolor": "white",
            "ticks": ""
           },
           "baxis": {
            "gridcolor": "white",
            "linecolor": "white",
            "ticks": ""
           },
           "bgcolor": "#E5ECF6",
           "caxis": {
            "gridcolor": "white",
            "linecolor": "white",
            "ticks": ""
           }
          },
          "title": {
           "x": 0.05
          },
          "xaxis": {
           "automargin": true,
           "gridcolor": "white",
           "linecolor": "white",
           "ticks": "",
           "title": {
            "standoff": 15
           },
           "zerolinecolor": "white",
           "zerolinewidth": 2
          },
          "yaxis": {
           "automargin": true,
           "gridcolor": "white",
           "linecolor": "white",
           "ticks": "",
           "title": {
            "standoff": 15
           },
           "zerolinecolor": "white",
           "zerolinewidth": 2
          }
         }
        },
        "title": {
         "text": "Evolución Temporal"
        },
        "xaxis": {
         "title": {
          "text": "Año"
         }
        },
        "yaxis": {
         "title": {
          "text": "Ventas (Millones)"
         }
        }
       }
      }
     },
     "metadata": {},
     "output_type": "display_data"
    }
   ],
   "source": [
    "df_aux = df_pred_test.groupby(df_pred_test[\"date\"].dt.year)['revenue'].mean().reset_index()[:-1]\n",
    "df_aux2 = df_y.groupby(df_y[\"date\"].dt.year)['revenue'].mean().reset_index()[:-1]\n",
    "\n",
    "\n",
    "fig = go.Figure()\n",
    "fig.add_trace(go.Scatter(\n",
    "    x=df_aux['date'], y=df_aux['revenue'],\n",
    "    hoverinfo='x+y',\n",
    "    mode='lines',\n",
    "    line=dict(width=0.5, color='steelblue'),\n",
    "    name = 'Revenue'\n",
    "))\n",
    "fig.add_trace(go.Scatter(\n",
    "    x=df_aux2['date'], y=df_aux2['revenue'],\n",
    "    hoverinfo='x+y',\n",
    "    mode='lines',\n",
    "    line=dict(width=0.5, color='firebrick'),\n",
    "    name = 'Revenue real'\n",
    "))\n",
    "\n",
    "fig.update_layout(\n",
    "    title = 'Evolución Temporal',\n",
    "    xaxis_title = 'Año',\n",
    "    yaxis_title = 'Ventas (Millones)',\n",
    "    legend=dict(\n",
    "        bgcolor = 'white',\n",
    "        yanchor=\"top\",\n",
    "        y=0.99,\n",
    "        xanchor=\"left\",\n",
    "        x=0.01),\n",
    "    font=dict(size=8),\n",
    "    # margin=dict(\n",
    "    #     l=0,\n",
    "    #     r=0,\n",
    "    #     b=0,\n",
    "    #     t=25,\n",
    "    #     pad=4\n",
    "    # )\n",
    ")"
   ]
  },
  {
   "cell_type": "markdown",
   "metadata": {},
   "source": [
    "### 6. Catboost tuning"
   ]
  },
  {
   "cell_type": "code",
   "execution_count": 14,
   "metadata": {},
   "outputs": [],
   "source": [
    "target = \"revenue\"\n",
    "df_X = df.drop(columns=[target, \"vote_average\",'vote_count'])\n",
    "df_y = df[[target]]"
   ]
  },
  {
   "cell_type": "code",
   "execution_count": 15,
   "metadata": {},
   "outputs": [],
   "source": [
    "# Split the data into training and testing sets\n",
    "X_train, X_test, y_train, y_test = train_test_split(df_X, df_y, test_size=0.3, random_state=42)"
   ]
  },
  {
   "cell_type": "code",
   "execution_count": 16,
   "metadata": {},
   "outputs": [
    {
     "name": "stderr",
     "output_type": "stream",
     "text": [
      "[I 2024-11-19 19:34:02,140] A new study created in memory with name: no-name-e349ea0e-00f1-4bbe-88de-5f4edca46a19\n",
      "[I 2024-11-19 19:34:08,166] Trial 0 finished with value: 2.5648061064873332e+16 and parameters: {'iterations': 970, 'depth': 7, 'learning_rate': 0.001152480312371461, 'l2_leaf_reg': 6.231090998151867, 'bagging_temperature': 0.6244750135268542, 'random_strength': 9.601970578529249, 'border_count': 90}. Best is trial 0 with value: 2.5648061064873332e+16.\n",
      "[I 2024-11-19 19:34:17,656] Trial 1 finished with value: 1.7616202870997768e+16 and parameters: {'iterations': 660, 'depth': 9, 'learning_rate': 0.0037643248969995487, 'l2_leaf_reg': 2.8288831118477664, 'bagging_temperature': 0.19601873464043817, 'random_strength': 9.968052797716759, 'border_count': 160}. Best is trial 1 with value: 1.7616202870997768e+16.\n",
      "[I 2024-11-19 19:34:36,366] Trial 2 finished with value: 1.79865548982126e+16 and parameters: {'iterations': 938, 'depth': 10, 'learning_rate': 0.011389651178916622, 'l2_leaf_reg': 4.27882490218354, 'bagging_temperature': 0.5242692441112873, 'random_strength': 0.08282209252855166, 'border_count': 63}. Best is trial 1 with value: 1.7616202870997768e+16.\n",
      "[I 2024-11-19 19:34:38,329] Trial 3 finished with value: 1.888046346915103e+16 and parameters: {'iterations': 775, 'depth': 6, 'learning_rate': 0.08252423840834683, 'l2_leaf_reg': 4.166870351371627, 'bagging_temperature': 0.07257976529751242, 'random_strength': 1.0980262790805206, 'border_count': 59}. Best is trial 1 with value: 1.7616202870997768e+16.\n",
      "[I 2024-11-19 19:34:38,813] Trial 4 finished with value: 1.7953639565999356e+16 and parameters: {'iterations': 262, 'depth': 4, 'learning_rate': 0.1235667861944359, 'l2_leaf_reg': 7.039324902929419, 'bagging_temperature': 0.919999266279551, 'random_strength': 1.6989639992684202, 'border_count': 179}. Best is trial 1 with value: 1.7616202870997768e+16.\n",
      "[I 2024-11-19 19:34:40,140] Trial 5 finished with value: 1.5954500368498484e+16 and parameters: {'iterations': 243, 'depth': 7, 'learning_rate': 0.2484312139335508, 'l2_leaf_reg': 7.7500972509738, 'bagging_temperature': 0.9313586337372671, 'random_strength': 8.86255955916866, 'border_count': 212}. Best is trial 5 with value: 1.5954500368498484e+16.\n",
      "[I 2024-11-19 19:34:50,887] Trial 6 finished with value: 1.972919250980943e+16 and parameters: {'iterations': 407, 'depth': 10, 'learning_rate': 0.004776283455213834, 'l2_leaf_reg': 2.327251441707755, 'bagging_temperature': 0.2998018942969336, 'random_strength': 0.6221600143001094, 'border_count': 222}. Best is trial 5 with value: 1.5954500368498484e+16.\n",
      "[I 2024-11-19 19:34:58,652] Trial 7 finished with value: 1.626473632440223e+16 and parameters: {'iterations': 783, 'depth': 8, 'learning_rate': 0.017359984132358473, 'l2_leaf_reg': 8.856114274900317, 'bagging_temperature': 0.07816678764483931, 'random_strength': 6.492425687517475, 'border_count': 214}. Best is trial 5 with value: 1.5954500368498484e+16.\n",
      "[I 2024-11-19 19:35:20,971] Trial 8 finished with value: 1.6663721897729032e+16 and parameters: {'iterations': 920, 'depth': 10, 'learning_rate': 0.07468243919295643, 'l2_leaf_reg': 7.304819955524233, 'bagging_temperature': 0.663046830330414, 'random_strength': 5.402488782544294, 'border_count': 101}. Best is trial 5 with value: 1.5954500368498484e+16.\n",
      "[I 2024-11-19 19:35:31,549] Trial 9 finished with value: 1.6429824503014874e+16 and parameters: {'iterations': 743, 'depth': 9, 'learning_rate': 0.017743332060910465, 'l2_leaf_reg': 6.037056721072502, 'bagging_temperature': 0.45923619160792817, 'random_strength': 8.772608064406274, 'border_count': 143}. Best is trial 5 with value: 1.5954500368498484e+16.\n",
      "[I 2024-11-19 19:35:32,038] Trial 10 finished with value: 1.881795492334569e+16 and parameters: {'iterations': 117, 'depth': 5, 'learning_rate': 0.28506251853581316, 'l2_leaf_reg': 9.895608420610092, 'bagging_temperature': 0.9901244838862923, 'random_strength': 7.3415799889487365, 'border_count': 253}. Best is trial 5 with value: 1.5954500368498484e+16.\n",
      "[I 2024-11-19 19:35:36,330] Trial 11 finished with value: 1.6826666331246474e+16 and parameters: {'iterations': 494, 'depth': 8, 'learning_rate': 0.024974576765582762, 'l2_leaf_reg': 9.08798554284369, 'bagging_temperature': 0.8044373793294469, 'random_strength': 6.563312426037349, 'border_count': 218}. Best is trial 5 with value: 1.5954500368498484e+16.\n",
      "[I 2024-11-19 19:35:38,357] Trial 12 finished with value: 1.6175908013328688e+16 and parameters: {'iterations': 379, 'depth': 7, 'learning_rate': 0.2618545766556262, 'l2_leaf_reg': 8.34163568999097, 'bagging_temperature': 0.03143061037090894, 'random_strength': 3.5207826489101626, 'border_count': 196}. Best is trial 5 with value: 1.5954500368498484e+16.\n",
      "[I 2024-11-19 19:35:39,617] Trial 13 finished with value: 1.795959440039611e+16 and parameters: {'iterations': 341, 'depth': 6, 'learning_rate': 0.29579771909354735, 'l2_leaf_reg': 8.006041699730638, 'bagging_temperature': 0.3660539767121313, 'random_strength': 3.0354359427273643, 'border_count': 185}. Best is trial 5 with value: 1.5954500368498484e+16.\n",
      "[I 2024-11-19 19:35:40,578] Trial 14 finished with value: 1.7105250173031862e+16 and parameters: {'iterations': 167, 'depth': 7, 'learning_rate': 0.04352984129665781, 'l2_leaf_reg': 7.958169421648574, 'bagging_temperature': 0.7729119400335037, 'random_strength': 3.259746592754367, 'border_count': 133}. Best is trial 5 with value: 1.5954500368498484e+16.\n",
      "[I 2024-11-19 19:35:42,772] Trial 15 finished with value: 1.6708404945733602e+16 and parameters: {'iterations': 521, 'depth': 6, 'learning_rate': 0.15928084861083305, 'l2_leaf_reg': 4.89834476377025, 'bagging_temperature': 0.20932971818457183, 'random_strength': 4.589786536965624, 'border_count': 253}. Best is trial 5 with value: 1.5954500368498484e+16.\n",
      "[I 2024-11-19 19:35:44,933] Trial 16 finished with value: 1.6959275524769014e+16 and parameters: {'iterations': 255, 'depth': 8, 'learning_rate': 0.050799562787722394, 'l2_leaf_reg': 9.042917631313768, 'bagging_temperature': 0.0028004988445188284, 'random_strength': 3.88987782217012, 'border_count': 193}. Best is trial 5 with value: 1.5954500368498484e+16.\n",
      "[I 2024-11-19 19:35:46,215] Trial 17 finished with value: 1.7032080656689398e+16 and parameters: {'iterations': 398, 'depth': 5, 'learning_rate': 0.17488694401628088, 'l2_leaf_reg': 1.0606558161836848, 'bagging_temperature': 0.813049048349932, 'random_strength': 7.972223970291074, 'border_count': 164}. Best is trial 5 with value: 1.5954500368498484e+16.\n",
      "[I 2024-11-19 19:35:47,619] Trial 18 finished with value: 1.7152906281345386e+16 and parameters: {'iterations': 262, 'depth': 7, 'learning_rate': 0.03803400692481091, 'l2_leaf_reg': 6.832503264110419, 'bagging_temperature': 0.5159441027937959, 'random_strength': 2.060512478027925, 'border_count': 205}. Best is trial 5 with value: 1.5954500368498484e+16.\n",
      "[I 2024-11-19 19:35:50,817] Trial 19 finished with value: 1.7437249314547682e+16 and parameters: {'iterations': 593, 'depth': 7, 'learning_rate': 0.1132696057339607, 'l2_leaf_reg': 8.022532656880527, 'bagging_temperature': 0.6660182417741773, 'random_strength': 5.512450950794295, 'border_count': 234}. Best is trial 5 with value: 1.5954500368498484e+16.\n",
      "[I 2024-11-19 19:35:51,882] Trial 20 finished with value: 2.0098802870747096e+16 and parameters: {'iterations': 429, 'depth': 5, 'learning_rate': 0.20798158455472066, 'l2_leaf_reg': 5.308131696631343, 'bagging_temperature': 0.29663002808415206, 'random_strength': 4.367538987262966, 'border_count': 117}. Best is trial 5 with value: 1.5954500368498484e+16.\n",
      "[I 2024-11-19 19:35:58,860] Trial 21 finished with value: 1.6928727183756756e+16 and parameters: {'iterations': 850, 'depth': 8, 'learning_rate': 0.004800411572082544, 'l2_leaf_reg': 9.008285598540427, 'bagging_temperature': 0.0039233647191084, 'random_strength': 6.4450807979961695, 'border_count': 207}. Best is trial 5 with value: 1.5954500368498484e+16.\n",
      "[I 2024-11-19 19:36:04,242] Trial 22 finished with value: 1.6575109737779492e+16 and parameters: {'iterations': 617, 'depth': 8, 'learning_rate': 0.008688846735355263, 'l2_leaf_reg': 9.721825579032364, 'bagging_temperature': 0.15139458052597585, 'random_strength': 8.424360672957304, 'border_count': 234}. Best is trial 5 with value: 1.5954500368498484e+16.\n",
      "[I 2024-11-19 19:36:08,909] Trial 23 finished with value: 3.5172834792850616e+16 and parameters: {'iterations': 334, 'depth': 9, 'learning_rate': 0.0014789004225262978, 'l2_leaf_reg': 8.641774493758236, 'bagging_temperature': 0.1025153005207337, 'random_strength': 6.46657918549083, 'border_count': 169}. Best is trial 5 with value: 1.5954500368498484e+16.\n",
      "[I 2024-11-19 19:36:09,649] Trial 24 finished with value: 3.605957204465686e+16 and parameters: {'iterations': 201, 'depth': 6, 'learning_rate': 0.0020862347386820614, 'l2_leaf_reg': 8.275334197386998, 'bagging_temperature': 0.3132809919809316, 'random_strength': 7.267285284173724, 'border_count': 202}. Best is trial 5 with value: 1.5954500368498484e+16.\n",
      "[I 2024-11-19 19:36:16,080] Trial 25 finished with value: 1.64727712353869e+16 and parameters: {'iterations': 683, 'depth': 8, 'learning_rate': 0.07588611330165057, 'l2_leaf_reg': 7.709306793977141, 'bagging_temperature': 0.42560824377092976, 'random_strength': 9.007336061545516, 'border_count': 231}. Best is trial 5 with value: 1.5954500368498484e+16.\n",
      "[I 2024-11-19 19:36:19,164] Trial 26 finished with value: 1.6989704304376312e+16 and parameters: {'iterations': 464, 'depth': 7, 'learning_rate': 0.009445974932890856, 'l2_leaf_reg': 6.527249182099217, 'bagging_temperature': 0.08046745575590024, 'random_strength': 5.589539102710227, 'border_count': 183}. Best is trial 5 with value: 1.5954500368498484e+16.\n",
      "[I 2024-11-19 19:36:22,514] Trial 27 finished with value: 1.7829739853070028e+16 and parameters: {'iterations': 350, 'depth': 9, 'learning_rate': 0.03017047065132713, 'l2_leaf_reg': 9.578772922361512, 'bagging_temperature': 0.21138868544822226, 'random_strength': 2.8499375343374878, 'border_count': 38}. Best is trial 5 with value: 1.5954500368498484e+16.\n",
      "[I 2024-11-19 19:36:24,497] Trial 28 finished with value: 1.6281699291989734e+16 and parameters: {'iterations': 549, 'depth': 6, 'learning_rate': 0.11436441769279054, 'l2_leaf_reg': 7.397585345874701, 'bagging_temperature': 0.6052043905824311, 'random_strength': 7.767823986575095, 'border_count': 151}. Best is trial 5 with value: 1.5954500368498484e+16.\n",
      "[I 2024-11-19 19:36:25,085] Trial 29 finished with value: 2.060128967670203e+16 and parameters: {'iterations': 104, 'depth': 7, 'learning_rate': 0.017047777563926707, 'l2_leaf_reg': 6.362884928782594, 'bagging_temperature': 0.9077848350068576, 'random_strength': 9.391217690861023, 'border_count': 210}. Best is trial 5 with value: 1.5954500368498484e+16.\n",
      "[I 2024-11-19 19:36:32,574] Trial 30 finished with value: 1.8648055544147956e+16 and parameters: {'iterations': 851, 'depth': 8, 'learning_rate': 0.20283836065881192, 'l2_leaf_reg': 8.895942820238856, 'bagging_temperature': 0.5846365338396737, 'random_strength': 3.8610274135768243, 'border_count': 239}. Best is trial 5 with value: 1.5954500368498484e+16.\n",
      "[I 2024-11-19 19:36:35,913] Trial 31 finished with value: 1.6903026049575626e+16 and parameters: {'iterations': 993, 'depth': 6, 'learning_rate': 0.1422631459464299, 'l2_leaf_reg': 7.58109744539854, 'bagging_temperature': 0.7098000879517863, 'random_strength': 7.766569542401751, 'border_count': 152}. Best is trial 5 with value: 1.5954500368498484e+16.\n",
      "[I 2024-11-19 19:36:38,824] Trial 32 finished with value: 1.6364764903277692e+16 and parameters: {'iterations': 561, 'depth': 7, 'learning_rate': 0.10342191397926857, 'l2_leaf_reg': 8.303829351678758, 'bagging_temperature': 0.581946157284668, 'random_strength': 7.040762146013343, 'border_count': 128}. Best is trial 5 with value: 1.5954500368498484e+16.\n",
      "[I 2024-11-19 19:36:41,106] Trial 33 finished with value: 1.8262051364668196e+16 and parameters: {'iterations': 682, 'depth': 6, 'learning_rate': 0.29703011107237925, 'l2_leaf_reg': 6.013618693720557, 'bagging_temperature': 0.8691402796779156, 'random_strength': 8.218502560683646, 'border_count': 186}. Best is trial 5 with value: 1.5954500368498484e+16.\n",
      "[I 2024-11-19 19:36:41,926] Trial 34 finished with value: 1.7713987960037442e+16 and parameters: {'iterations': 311, 'depth': 5, 'learning_rate': 0.05424398822359605, 'l2_leaf_reg': 7.333772502522531, 'bagging_temperature': 0.15094074569521584, 'random_strength': 9.534641865109403, 'border_count': 195}. Best is trial 5 with value: 1.5954500368498484e+16.\n",
      "[I 2024-11-19 19:36:43,199] Trial 35 finished with value: 1.8322545985233748e+16 and parameters: {'iterations': 768, 'depth': 4, 'learning_rate': 0.21567988718208433, 'l2_leaf_reg': 8.53516341627911, 'bagging_temperature': 0.3925330151741695, 'random_strength': 6.117010560935063, 'border_count': 172}. Best is trial 5 with value: 1.5954500368498484e+16.\n",
      "[I 2024-11-19 19:36:45,389] Trial 36 finished with value: 1.6918677287808252e+16 and parameters: {'iterations': 615, 'depth': 6, 'learning_rate': 0.09680222108382534, 'l2_leaf_reg': 6.85682520309544, 'bagging_temperature': 0.24196866736769124, 'random_strength': 7.611085944366989, 'border_count': 157}. Best is trial 5 with value: 1.5954500368498484e+16.\n",
      "[I 2024-11-19 19:36:47,807] Trial 37 finished with value: 1.6522548623698908e+16 and parameters: {'iterations': 460, 'depth': 7, 'learning_rate': 0.06714972802885535, 'l2_leaf_reg': 9.347372309622388, 'bagging_temperature': 0.9988997015158543, 'random_strength': 9.893236260743041, 'border_count': 85}. Best is trial 5 with value: 1.5954500368498484e+16.\n",
      "[I 2024-11-19 19:36:50,756] Trial 38 finished with value: 1.7335711095382082e+16 and parameters: {'iterations': 543, 'depth': 7, 'learning_rate': 0.13582025814904294, 'l2_leaf_reg': 5.599783533049357, 'bagging_temperature': 0.10882783997745166, 'random_strength': 8.788143162733508, 'border_count': 217}. Best is trial 5 with value: 1.5954500368498484e+16.\n",
      "[I 2024-11-19 19:36:53,306] Trial 39 finished with value: 3.3115435972361104e+16 and parameters: {'iterations': 198, 'depth': 9, 'learning_rate': 0.0027079002399818305, 'l2_leaf_reg': 4.444350976824337, 'bagging_temperature': 0.7247509229208753, 'random_strength': 4.9842510460463245, 'border_count': 107}. Best is trial 5 with value: 1.5954500368498484e+16.\n",
      "[I 2024-11-19 19:36:59,883] Trial 40 finished with value: 1.7350053639945796e+16 and parameters: {'iterations': 841, 'depth': 8, 'learning_rate': 0.01465320074849818, 'l2_leaf_reg': 7.132093293381504, 'bagging_temperature': 0.4714837419384145, 'random_strength': 2.283629683400087, 'border_count': 149}. Best is trial 5 with value: 1.5954500368498484e+16.\n",
      "[I 2024-11-19 19:37:01,948] Trial 41 finished with value: 1.6952472225460858e+16 and parameters: {'iterations': 394, 'depth': 7, 'learning_rate': 0.10403943666014984, 'l2_leaf_reg': 8.460866803058268, 'bagging_temperature': 0.5849923872561694, 'random_strength': 7.036192075672918, 'border_count': 135}. Best is trial 5 with value: 1.5954500368498484e+16.\n",
      "[I 2024-11-19 19:37:04,899] Trial 42 finished with value: 1.8480885459993724e+16 and parameters: {'iterations': 586, 'depth': 7, 'learning_rate': 0.22986586100789072, 'l2_leaf_reg': 3.364775482998199, 'bagging_temperature': 0.5636489945968364, 'random_strength': 6.869935445219667, 'border_count': 123}. Best is trial 5 with value: 1.5954500368498484e+16.\n",
      "[I 2024-11-19 19:37:07,339] Trial 43 finished with value: 1.7038090386852846e+16 and parameters: {'iterations': 731, 'depth': 6, 'learning_rate': 0.09425959344563879, 'l2_leaf_reg': 7.606324753508408, 'bagging_temperature': 0.6419548333139768, 'random_strength': 8.291394472241407, 'border_count': 93}. Best is trial 5 with value: 1.5954500368498484e+16.\n",
      "[I 2024-11-19 19:37:15,282] Trial 44 finished with value: 1.7604736571692928e+16 and parameters: {'iterations': 903, 'depth': 8, 'learning_rate': 0.1601507582512603, 'l2_leaf_reg': 8.190408220015076, 'bagging_temperature': 0.0392557848716383, 'random_strength': 5.998993560846298, 'border_count': 224}. Best is trial 5 with value: 1.5954500368498484e+16.\n",
      "[I 2024-11-19 19:37:16,748] Trial 45 finished with value: 1.9934883916205244e+16 and parameters: {'iterations': 299, 'depth': 7, 'learning_rate': 0.006684532954160309, 'l2_leaf_reg': 9.324777508257785, 'bagging_temperature': 0.5401969618201634, 'random_strength': 7.518637791018141, 'border_count': 78}. Best is trial 5 with value: 1.5954500368498484e+16.\n",
      "[I 2024-11-19 19:37:18,551] Trial 46 finished with value: 1.97061680326703e+16 and parameters: {'iterations': 517, 'depth': 6, 'learning_rate': 0.2312941801543535, 'l2_leaf_reg': 9.953686209084191, 'bagging_temperature': 0.6129313592465425, 'random_strength': 9.105958371436726, 'border_count': 138}. Best is trial 5 with value: 1.5954500368498484e+16.\n",
      "[I 2024-11-19 19:37:21,935] Trial 47 finished with value: 1.739126742185891e+16 and parameters: {'iterations': 646, 'depth': 7, 'learning_rate': 0.022257118900059936, 'l2_leaf_reg': 8.78918339765348, 'bagging_temperature': 0.7065505560251775, 'random_strength': 0.6717794260509948, 'border_count': 125}. Best is trial 5 with value: 1.5954500368498484e+16.\n",
      "[I 2024-11-19 19:37:27,639] Trial 48 finished with value: 1.6959337588190326e+16 and parameters: {'iterations': 237, 'depth': 10, 'learning_rate': 0.06203375617480436, 'l2_leaf_reg': 7.889397980661652, 'bagging_temperature': 0.48213749351908813, 'random_strength': 6.844585665982994, 'border_count': 195}. Best is trial 5 with value: 1.5954500368498484e+16.\n",
      "[I 2024-11-19 19:37:32,396] Trial 49 finished with value: 1.8612354508762788e+16 and parameters: {'iterations': 560, 'depth': 8, 'learning_rate': 0.17324206182844007, 'l2_leaf_reg': 7.346381124281044, 'bagging_temperature': 0.7866805606794788, 'random_strength': 4.9284024078642235, 'border_count': 247}. Best is trial 5 with value: 1.5954500368498484e+16.\n"
     ]
    },
    {
     "name": "stdout",
     "output_type": "stream",
     "text": [
      "Best parameters: {'iterations': 243, 'depth': 7, 'learning_rate': 0.2484312139335508, 'l2_leaf_reg': 7.7500972509738, 'bagging_temperature': 0.9313586337372671, 'random_strength': 8.86255955916866, 'border_count': 212}\n",
      "Best MSE: 1.5954500368498484e+16\n"
     ]
    }
   ],
   "source": [
    "# Función objetivo para Optuna\n",
    "def objective(trial):\n",
    "    # Definir el espacio de búsqueda de hiperparámetros\n",
    "    params = {\n",
    "        \"iterations\": trial.suggest_int(\"iterations\", 100, 1000),\n",
    "        \"depth\": trial.suggest_int(\"depth\", 4, 10),\n",
    "        \"learning_rate\": trial.suggest_float(\"learning_rate\", 1e-3, 0.3, log=True),\n",
    "        \"l2_leaf_reg\": trial.suggest_float(\"l2_leaf_reg\", 1, 10),\n",
    "        \"bagging_temperature\": trial.suggest_float(\"bagging_temperature\", 0, 1),\n",
    "        \"random_strength\": trial.suggest_float(\"random_strength\", 0, 10),\n",
    "        \"border_count\": trial.suggest_int(\"border_count\", 32, 255),\n",
    "    }\n",
    "    \n",
    "    # Dividir los datos en entrenamiento y validación\n",
    "    X_train_split, X_valid_split, y_train_split, y_valid_split = train_test_split(\n",
    "        X_train, y_train, test_size=0.2, random_state=42\n",
    "    )\n",
    "    \n",
    "    # Inicializar el modelo\n",
    "    model = CatBoostRegressor(**params, random_state=42, verbose=False)\n",
    "    \n",
    "    # Entrenar el modelo\n",
    "    model.fit(X_train_split, y_train_split)\n",
    "    \n",
    "    # Realizar predicciones en el conjunto de validación\n",
    "    y_pred = model.predict(X_valid_split)\n",
    "    \n",
    "    # Calcular el error cuadrático medio\n",
    "    mse = mean_squared_error(y_valid_split, y_pred)\n",
    "    return mse\n",
    "\n",
    "# Crear el estudio de Optuna\n",
    "study = optuna.create_study(direction=\"minimize\")\n",
    "study.optimize(objective, n_trials=50)\n",
    "\n",
    "# Mostrar los mejores hiperparámetros\n",
    "print(\"Best parameters:\", study.best_params)\n",
    "print(\"Best MSE:\", study.best_value)\n",
    "\n",
    "# Entrenar el modelo final con los mejores hiperparámetros\n",
    "best_params = study.best_params\n",
    "final_model = CatBoostRegressor(**best_params, random_state=42, verbose=False)\n",
    "\n",
    "final_model.fit(X_train, y_train)\n",
    "y_pred = final_model.predict(X_test)"
   ]
  },
  {
   "cell_type": "code",
   "execution_count": 17,
   "metadata": {},
   "outputs": [
    {
     "name": "stdout",
     "output_type": "stream",
     "text": [
      "mse: 1.6508878687959422e+16\n",
      "r2: 0.6799551365705885\n",
      "mape: 23.514817358757295\n"
     ]
    }
   ],
   "source": [
    "# Evaluate the model\n",
    "mse = mean_squared_error(y_test, y_pred)\n",
    "r2 = r2_score(y_test, y_pred)\n",
    "mape = mean_absolute_percentage_error(y_test, y_pred)\n",
    "print(f\"mse: {mse}\")\n",
    "print(f\"r2: {r2}\")\n",
    "print(f\"mape: {mape}\")"
   ]
  },
  {
   "cell_type": "code",
   "execution_count": 18,
   "metadata": {},
   "outputs": [
    {
     "data": {
      "text/html": [
       "<div>\n",
       "<style scoped>\n",
       "    .dataframe tbody tr th:only-of-type {\n",
       "        vertical-align: middle;\n",
       "    }\n",
       "\n",
       "    .dataframe tbody tr th {\n",
       "        vertical-align: top;\n",
       "    }\n",
       "\n",
       "    .dataframe thead th {\n",
       "        text-align: right;\n",
       "    }\n",
       "</style>\n",
       "<table border=\"1\" class=\"dataframe\">\n",
       "  <thead>\n",
       "    <tr style=\"text-align: right;\">\n",
       "      <th></th>\n",
       "      <th>y_real</th>\n",
       "      <th>y_pred</th>\n",
       "      <th>mape</th>\n",
       "    </tr>\n",
       "  </thead>\n",
       "  <tbody>\n",
       "    <tr>\n",
       "      <th>548</th>\n",
       "      <td>170128460</td>\n",
       "      <td>2.258799e+07</td>\n",
       "      <td>86.722978</td>\n",
       "    </tr>\n",
       "    <tr>\n",
       "      <th>704</th>\n",
       "      <td>201634991</td>\n",
       "      <td>1.254862e+08</td>\n",
       "      <td>37.765675</td>\n",
       "    </tr>\n",
       "    <tr>\n",
       "      <th>244</th>\n",
       "      <td>384335608</td>\n",
       "      <td>2.708084e+08</td>\n",
       "      <td>29.538554</td>\n",
       "    </tr>\n",
       "    <tr>\n",
       "      <th>552</th>\n",
       "      <td>74597643</td>\n",
       "      <td>2.481653e+07</td>\n",
       "      <td>66.732823</td>\n",
       "    </tr>\n",
       "    <tr>\n",
       "      <th>1164</th>\n",
       "      <td>15992615</td>\n",
       "      <td>4.808604e+07</td>\n",
       "      <td>200.676520</td>\n",
       "    </tr>\n",
       "    <tr>\n",
       "      <th>...</th>\n",
       "      <td>...</td>\n",
       "      <td>...</td>\n",
       "      <td>...</td>\n",
       "    </tr>\n",
       "    <tr>\n",
       "      <th>906</th>\n",
       "      <td>75700498</td>\n",
       "      <td>4.402521e+07</td>\n",
       "      <td>41.842905</td>\n",
       "    </tr>\n",
       "    <tr>\n",
       "      <th>273</th>\n",
       "      <td>294804195</td>\n",
       "      <td>3.469122e+08</td>\n",
       "      <td>17.675475</td>\n",
       "    </tr>\n",
       "    <tr>\n",
       "      <th>427</th>\n",
       "      <td>361366633</td>\n",
       "      <td>2.416133e+08</td>\n",
       "      <td>33.139004</td>\n",
       "    </tr>\n",
       "    <tr>\n",
       "      <th>362</th>\n",
       "      <td>56681566</td>\n",
       "      <td>1.648544e+08</td>\n",
       "      <td>190.843071</td>\n",
       "    </tr>\n",
       "    <tr>\n",
       "      <th>237</th>\n",
       "      <td>171120329</td>\n",
       "      <td>3.589761e+08</td>\n",
       "      <td>109.779918</td>\n",
       "    </tr>\n",
       "  </tbody>\n",
       "</table>\n",
       "<p>369 rows × 3 columns</p>\n",
       "</div>"
      ],
      "text/plain": [
       "         y_real        y_pred        mape\n",
       "548   170128460  2.258799e+07   86.722978\n",
       "704   201634991  1.254862e+08   37.765675\n",
       "244   384335608  2.708084e+08   29.538554\n",
       "552    74597643  2.481653e+07   66.732823\n",
       "1164   15992615  4.808604e+07  200.676520\n",
       "...         ...           ...         ...\n",
       "906    75700498  4.402521e+07   41.842905\n",
       "273   294804195  3.469122e+08   17.675475\n",
       "427   361366633  2.416133e+08   33.139004\n",
       "362    56681566  1.648544e+08  190.843071\n",
       "237   171120329  3.589761e+08  109.779918\n",
       "\n",
       "[369 rows x 3 columns]"
      ]
     },
     "execution_count": 18,
     "metadata": {},
     "output_type": "execute_result"
    }
   ],
   "source": [
    "test_preds_df = pd.DataFrame({'y_real': y_test['revenue'], 'y_pred': y_pred})\n",
    "test_preds_df['mape'] = abs(test_preds_df['y_real']-test_preds_df['y_pred'])/test_preds_df['y_real']*100\n",
    "test_preds_df"
   ]
  },
  {
   "cell_type": "code",
   "execution_count": 19,
   "metadata": {},
   "outputs": [
    {
     "data": {
      "application/vnd.plotly.v1+json": {
       "config": {
        "plotlyServerURL": "https://plot.ly"
       },
       "data": [
        {
         "text": [
          27.683,
          26.089,
          8.688,
          5.161,
          4.257,
          2.572,
          2.569,
          2.456,
          2.365,
          2.098,
          1.936,
          1.909,
          1.756,
          1.356,
          1.113,
          0.882,
          0.857,
          0.838,
          0.501,
          0.499,
          0.435,
          0.412,
          0.395,
          0.323,
          0.322,
          0.304,
          0.292,
          0.28,
          0.274,
          0.242,
          0.223,
          0.149,
          0.131,
          0.122,
          0.094,
          0.09,
          0.089,
          0.056,
          0.05,
          0.033,
          0.032,
          0.018,
          0.017,
          0.015,
          0.012,
          0.005,
          0.002,
          0.001,
          0,
          0,
          0
         ],
         "textposition": "auto",
         "type": "bar",
         "x": [
          "budget",
          "popularity",
          "runtime",
          "day_of_year",
          "day",
          "weekday",
          "Adventure",
          "month",
          "gdp",
          "Family",
          "year",
          "Science_Fiction",
          "Animation",
          "Twentieth Century Fox Film Corporation",
          "Drama",
          "Warner Bros.",
          "Universal Pictures",
          "Action",
          "United Kingdom",
          "Other_country",
          "Crime",
          "Mystery",
          "Fantasy",
          "Village Roadshow Pictures",
          "Walt Disney Pictures",
          "Romance",
          "Dune Entertainment",
          "Germany",
          "Thriller",
          "Comedy",
          "Horror",
          "Paramount Pictures",
          "Columbia Pictures",
          "New Line Cinema",
          "History",
          "France",
          "Western",
          "Relativity Media",
          "en_language",
          "Music",
          "United States of America",
          "War",
          "Other_language",
          "Other_company",
          "Canada",
          "es_language",
          "ja_language",
          "Documentary",
          "Foreign",
          "zh_language",
          "fr_language"
         ],
         "y": [
          27.682684738036734,
          26.08859259132817,
          8.687810739361645,
          5.160632702321035,
          4.257485343275076,
          2.5720181676047518,
          2.5689776360980368,
          2.4555257286449015,
          2.365428929319583,
          2.097701104964467,
          1.9358981605318792,
          1.908665958997102,
          1.7556615027731834,
          1.3557900897078046,
          1.1134492885315252,
          0.8822305140771164,
          0.8568358483290995,
          0.8377050211134771,
          0.5007865622049236,
          0.4989294530059113,
          0.43534998579135603,
          0.412174472186948,
          0.39492123884521396,
          0.32301627859271176,
          0.32208869817005853,
          0.30438071958200047,
          0.2922502650867383,
          0.2797361127047336,
          0.27384693852848047,
          0.2415011431721516,
          0.22280150246171065,
          0.14850468086252946,
          0.13096015338220135,
          0.12178070956754375,
          0.09363844493121996,
          0.08996943838546842,
          0.08856477363585352,
          0.05615657810481988,
          0.04972141855881495,
          0.03286772012286047,
          0.032142041678475876,
          0.01817182707804441,
          0.016577275545762795,
          0.014931430444968152,
          0.012371863635337082,
          0.00453594506521659,
          0.0024881364398871473,
          0.0014132607728373592,
          0.00022495084560647709,
          0.00010191559402736148,
          0
         ]
        }
       ],
       "layout": {
        "template": {
         "data": {
          "bar": [
           {
            "error_x": {
             "color": "#2a3f5f"
            },
            "error_y": {
             "color": "#2a3f5f"
            },
            "marker": {
             "line": {
              "color": "white",
              "width": 0.5
             },
             "pattern": {
              "fillmode": "overlay",
              "size": 10,
              "solidity": 0.2
             }
            },
            "type": "bar"
           }
          ],
          "barpolar": [
           {
            "marker": {
             "line": {
              "color": "white",
              "width": 0.5
             },
             "pattern": {
              "fillmode": "overlay",
              "size": 10,
              "solidity": 0.2
             }
            },
            "type": "barpolar"
           }
          ],
          "carpet": [
           {
            "aaxis": {
             "endlinecolor": "#2a3f5f",
             "gridcolor": "#C8D4E3",
             "linecolor": "#C8D4E3",
             "minorgridcolor": "#C8D4E3",
             "startlinecolor": "#2a3f5f"
            },
            "baxis": {
             "endlinecolor": "#2a3f5f",
             "gridcolor": "#C8D4E3",
             "linecolor": "#C8D4E3",
             "minorgridcolor": "#C8D4E3",
             "startlinecolor": "#2a3f5f"
            },
            "type": "carpet"
           }
          ],
          "choropleth": [
           {
            "colorbar": {
             "outlinewidth": 0,
             "ticks": ""
            },
            "type": "choropleth"
           }
          ],
          "contour": [
           {
            "colorbar": {
             "outlinewidth": 0,
             "ticks": ""
            },
            "colorscale": [
             [
              0,
              "#0d0887"
             ],
             [
              0.1111111111111111,
              "#46039f"
             ],
             [
              0.2222222222222222,
              "#7201a8"
             ],
             [
              0.3333333333333333,
              "#9c179e"
             ],
             [
              0.4444444444444444,
              "#bd3786"
             ],
             [
              0.5555555555555556,
              "#d8576b"
             ],
             [
              0.6666666666666666,
              "#ed7953"
             ],
             [
              0.7777777777777778,
              "#fb9f3a"
             ],
             [
              0.8888888888888888,
              "#fdca26"
             ],
             [
              1,
              "#f0f921"
             ]
            ],
            "type": "contour"
           }
          ],
          "contourcarpet": [
           {
            "colorbar": {
             "outlinewidth": 0,
             "ticks": ""
            },
            "type": "contourcarpet"
           }
          ],
          "heatmap": [
           {
            "colorbar": {
             "outlinewidth": 0,
             "ticks": ""
            },
            "colorscale": [
             [
              0,
              "#0d0887"
             ],
             [
              0.1111111111111111,
              "#46039f"
             ],
             [
              0.2222222222222222,
              "#7201a8"
             ],
             [
              0.3333333333333333,
              "#9c179e"
             ],
             [
              0.4444444444444444,
              "#bd3786"
             ],
             [
              0.5555555555555556,
              "#d8576b"
             ],
             [
              0.6666666666666666,
              "#ed7953"
             ],
             [
              0.7777777777777778,
              "#fb9f3a"
             ],
             [
              0.8888888888888888,
              "#fdca26"
             ],
             [
              1,
              "#f0f921"
             ]
            ],
            "type": "heatmap"
           }
          ],
          "heatmapgl": [
           {
            "colorbar": {
             "outlinewidth": 0,
             "ticks": ""
            },
            "colorscale": [
             [
              0,
              "#0d0887"
             ],
             [
              0.1111111111111111,
              "#46039f"
             ],
             [
              0.2222222222222222,
              "#7201a8"
             ],
             [
              0.3333333333333333,
              "#9c179e"
             ],
             [
              0.4444444444444444,
              "#bd3786"
             ],
             [
              0.5555555555555556,
              "#d8576b"
             ],
             [
              0.6666666666666666,
              "#ed7953"
             ],
             [
              0.7777777777777778,
              "#fb9f3a"
             ],
             [
              0.8888888888888888,
              "#fdca26"
             ],
             [
              1,
              "#f0f921"
             ]
            ],
            "type": "heatmapgl"
           }
          ],
          "histogram": [
           {
            "marker": {
             "pattern": {
              "fillmode": "overlay",
              "size": 10,
              "solidity": 0.2
             }
            },
            "type": "histogram"
           }
          ],
          "histogram2d": [
           {
            "colorbar": {
             "outlinewidth": 0,
             "ticks": ""
            },
            "colorscale": [
             [
              0,
              "#0d0887"
             ],
             [
              0.1111111111111111,
              "#46039f"
             ],
             [
              0.2222222222222222,
              "#7201a8"
             ],
             [
              0.3333333333333333,
              "#9c179e"
             ],
             [
              0.4444444444444444,
              "#bd3786"
             ],
             [
              0.5555555555555556,
              "#d8576b"
             ],
             [
              0.6666666666666666,
              "#ed7953"
             ],
             [
              0.7777777777777778,
              "#fb9f3a"
             ],
             [
              0.8888888888888888,
              "#fdca26"
             ],
             [
              1,
              "#f0f921"
             ]
            ],
            "type": "histogram2d"
           }
          ],
          "histogram2dcontour": [
           {
            "colorbar": {
             "outlinewidth": 0,
             "ticks": ""
            },
            "colorscale": [
             [
              0,
              "#0d0887"
             ],
             [
              0.1111111111111111,
              "#46039f"
             ],
             [
              0.2222222222222222,
              "#7201a8"
             ],
             [
              0.3333333333333333,
              "#9c179e"
             ],
             [
              0.4444444444444444,
              "#bd3786"
             ],
             [
              0.5555555555555556,
              "#d8576b"
             ],
             [
              0.6666666666666666,
              "#ed7953"
             ],
             [
              0.7777777777777778,
              "#fb9f3a"
             ],
             [
              0.8888888888888888,
              "#fdca26"
             ],
             [
              1,
              "#f0f921"
             ]
            ],
            "type": "histogram2dcontour"
           }
          ],
          "mesh3d": [
           {
            "colorbar": {
             "outlinewidth": 0,
             "ticks": ""
            },
            "type": "mesh3d"
           }
          ],
          "parcoords": [
           {
            "line": {
             "colorbar": {
              "outlinewidth": 0,
              "ticks": ""
             }
            },
            "type": "parcoords"
           }
          ],
          "pie": [
           {
            "automargin": true,
            "type": "pie"
           }
          ],
          "scatter": [
           {
            "fillpattern": {
             "fillmode": "overlay",
             "size": 10,
             "solidity": 0.2
            },
            "type": "scatter"
           }
          ],
          "scatter3d": [
           {
            "line": {
             "colorbar": {
              "outlinewidth": 0,
              "ticks": ""
             }
            },
            "marker": {
             "colorbar": {
              "outlinewidth": 0,
              "ticks": ""
             }
            },
            "type": "scatter3d"
           }
          ],
          "scattercarpet": [
           {
            "marker": {
             "colorbar": {
              "outlinewidth": 0,
              "ticks": ""
             }
            },
            "type": "scattercarpet"
           }
          ],
          "scattergeo": [
           {
            "marker": {
             "colorbar": {
              "outlinewidth": 0,
              "ticks": ""
             }
            },
            "type": "scattergeo"
           }
          ],
          "scattergl": [
           {
            "marker": {
             "colorbar": {
              "outlinewidth": 0,
              "ticks": ""
             }
            },
            "type": "scattergl"
           }
          ],
          "scattermapbox": [
           {
            "marker": {
             "colorbar": {
              "outlinewidth": 0,
              "ticks": ""
             }
            },
            "type": "scattermapbox"
           }
          ],
          "scatterpolar": [
           {
            "marker": {
             "colorbar": {
              "outlinewidth": 0,
              "ticks": ""
             }
            },
            "type": "scatterpolar"
           }
          ],
          "scatterpolargl": [
           {
            "marker": {
             "colorbar": {
              "outlinewidth": 0,
              "ticks": ""
             }
            },
            "type": "scatterpolargl"
           }
          ],
          "scatterternary": [
           {
            "marker": {
             "colorbar": {
              "outlinewidth": 0,
              "ticks": ""
             }
            },
            "type": "scatterternary"
           }
          ],
          "surface": [
           {
            "colorbar": {
             "outlinewidth": 0,
             "ticks": ""
            },
            "colorscale": [
             [
              0,
              "#0d0887"
             ],
             [
              0.1111111111111111,
              "#46039f"
             ],
             [
              0.2222222222222222,
              "#7201a8"
             ],
             [
              0.3333333333333333,
              "#9c179e"
             ],
             [
              0.4444444444444444,
              "#bd3786"
             ],
             [
              0.5555555555555556,
              "#d8576b"
             ],
             [
              0.6666666666666666,
              "#ed7953"
             ],
             [
              0.7777777777777778,
              "#fb9f3a"
             ],
             [
              0.8888888888888888,
              "#fdca26"
             ],
             [
              1,
              "#f0f921"
             ]
            ],
            "type": "surface"
           }
          ],
          "table": [
           {
            "cells": {
             "fill": {
              "color": "#EBF0F8"
             },
             "line": {
              "color": "white"
             }
            },
            "header": {
             "fill": {
              "color": "#C8D4E3"
             },
             "line": {
              "color": "white"
             }
            },
            "type": "table"
           }
          ]
         },
         "layout": {
          "annotationdefaults": {
           "arrowcolor": "#2a3f5f",
           "arrowhead": 0,
           "arrowwidth": 1
          },
          "autotypenumbers": "strict",
          "coloraxis": {
           "colorbar": {
            "outlinewidth": 0,
            "ticks": ""
           }
          },
          "colorscale": {
           "diverging": [
            [
             0,
             "#8e0152"
            ],
            [
             0.1,
             "#c51b7d"
            ],
            [
             0.2,
             "#de77ae"
            ],
            [
             0.3,
             "#f1b6da"
            ],
            [
             0.4,
             "#fde0ef"
            ],
            [
             0.5,
             "#f7f7f7"
            ],
            [
             0.6,
             "#e6f5d0"
            ],
            [
             0.7,
             "#b8e186"
            ],
            [
             0.8,
             "#7fbc41"
            ],
            [
             0.9,
             "#4d9221"
            ],
            [
             1,
             "#276419"
            ]
           ],
           "sequential": [
            [
             0,
             "#0d0887"
            ],
            [
             0.1111111111111111,
             "#46039f"
            ],
            [
             0.2222222222222222,
             "#7201a8"
            ],
            [
             0.3333333333333333,
             "#9c179e"
            ],
            [
             0.4444444444444444,
             "#bd3786"
            ],
            [
             0.5555555555555556,
             "#d8576b"
            ],
            [
             0.6666666666666666,
             "#ed7953"
            ],
            [
             0.7777777777777778,
             "#fb9f3a"
            ],
            [
             0.8888888888888888,
             "#fdca26"
            ],
            [
             1,
             "#f0f921"
            ]
           ],
           "sequentialminus": [
            [
             0,
             "#0d0887"
            ],
            [
             0.1111111111111111,
             "#46039f"
            ],
            [
             0.2222222222222222,
             "#7201a8"
            ],
            [
             0.3333333333333333,
             "#9c179e"
            ],
            [
             0.4444444444444444,
             "#bd3786"
            ],
            [
             0.5555555555555556,
             "#d8576b"
            ],
            [
             0.6666666666666666,
             "#ed7953"
            ],
            [
             0.7777777777777778,
             "#fb9f3a"
            ],
            [
             0.8888888888888888,
             "#fdca26"
            ],
            [
             1,
             "#f0f921"
            ]
           ]
          },
          "colorway": [
           "#636efa",
           "#EF553B",
           "#00cc96",
           "#ab63fa",
           "#FFA15A",
           "#19d3f3",
           "#FF6692",
           "#B6E880",
           "#FF97FF",
           "#FECB52"
          ],
          "font": {
           "color": "#2a3f5f"
          },
          "geo": {
           "bgcolor": "white",
           "lakecolor": "white",
           "landcolor": "white",
           "showlakes": true,
           "showland": true,
           "subunitcolor": "#C8D4E3"
          },
          "hoverlabel": {
           "align": "left"
          },
          "hovermode": "closest",
          "mapbox": {
           "style": "light"
          },
          "paper_bgcolor": "white",
          "plot_bgcolor": "white",
          "polar": {
           "angularaxis": {
            "gridcolor": "#EBF0F8",
            "linecolor": "#EBF0F8",
            "ticks": ""
           },
           "bgcolor": "white",
           "radialaxis": {
            "gridcolor": "#EBF0F8",
            "linecolor": "#EBF0F8",
            "ticks": ""
           }
          },
          "scene": {
           "xaxis": {
            "backgroundcolor": "white",
            "gridcolor": "#DFE8F3",
            "gridwidth": 2,
            "linecolor": "#EBF0F8",
            "showbackground": true,
            "ticks": "",
            "zerolinecolor": "#EBF0F8"
           },
           "yaxis": {
            "backgroundcolor": "white",
            "gridcolor": "#DFE8F3",
            "gridwidth": 2,
            "linecolor": "#EBF0F8",
            "showbackground": true,
            "ticks": "",
            "zerolinecolor": "#EBF0F8"
           },
           "zaxis": {
            "backgroundcolor": "white",
            "gridcolor": "#DFE8F3",
            "gridwidth": 2,
            "linecolor": "#EBF0F8",
            "showbackground": true,
            "ticks": "",
            "zerolinecolor": "#EBF0F8"
           }
          },
          "shapedefaults": {
           "line": {
            "color": "#2a3f5f"
           }
          },
          "ternary": {
           "aaxis": {
            "gridcolor": "#DFE8F3",
            "linecolor": "#A2B1C6",
            "ticks": ""
           },
           "baxis": {
            "gridcolor": "#DFE8F3",
            "linecolor": "#A2B1C6",
            "ticks": ""
           },
           "bgcolor": "white",
           "caxis": {
            "gridcolor": "#DFE8F3",
            "linecolor": "#A2B1C6",
            "ticks": ""
           }
          },
          "title": {
           "x": 0.05
          },
          "xaxis": {
           "automargin": true,
           "gridcolor": "#EBF0F8",
           "linecolor": "#EBF0F8",
           "ticks": "",
           "title": {
            "standoff": 15
           },
           "zerolinecolor": "#EBF0F8",
           "zerolinewidth": 2
          },
          "yaxis": {
           "automargin": true,
           "gridcolor": "#EBF0F8",
           "linecolor": "#EBF0F8",
           "ticks": "",
           "title": {
            "standoff": 15
           },
           "zerolinecolor": "#EBF0F8",
           "zerolinewidth": 2
          }
         }
        },
        "title": {
         "text": "Feature Importances from Random Forest"
        },
        "xaxis": {
         "title": {
          "text": "Feature"
         }
        },
        "yaxis": {
         "title": {
          "text": "Importance"
         }
        }
       }
      }
     },
     "metadata": {},
     "output_type": "display_data"
    }
   ],
   "source": [
    "# Extract feature importances\n",
    "importances = rf_regressor.feature_importances_\n",
    "\n",
    "# Create a DataFrame for easy visualization\n",
    "importance_df = pd.DataFrame({\n",
    "    'Feature': X_train.columns,\n",
    "    'Importance': importances\n",
    "}).sort_values(by='Importance', ascending=False)\n",
    "\n",
    "# Plotly bar chart\n",
    "fig = go.Figure(go.Bar(\n",
    "    x=importance_df['Feature'],\n",
    "    y=importance_df['Importance'],\n",
    "    text=importance_df['Importance'].round(3),  # Show importance values on bars\n",
    "    textposition='auto'  # Display text directly on top of bars\n",
    "))\n",
    "\n",
    "# Customize layout\n",
    "fig.update_layout(\n",
    "    title=\"Feature Importances from Random Forest\",\n",
    "    xaxis_title=\"Feature\",\n",
    "    yaxis_title=\"Importance\",\n",
    "    template=\"plotly_white\",\n",
    ")\n",
    "\n",
    "# Show plot\n",
    "fig.show()"
   ]
  },
  {
   "cell_type": "code",
   "execution_count": 20,
   "metadata": {},
   "outputs": [],
   "source": [
    "rf_regressor.fit(df_X, df_y)\n",
    "\n",
    "# Predict on the test set\n",
    "y_pred = rf_regressor.predict(df_X)"
   ]
  },
  {
   "cell_type": "code",
   "execution_count": 21,
   "metadata": {},
   "outputs": [],
   "source": [
    "df_pred_test = pd.DataFrame(y_pred)\n",
    "df_pred_test.columns = [\"revenue\"]\n",
    "df_pred_test['date'] = pd.to_datetime(df[['year', 'month', 'day']]).reset_index(drop=True)"
   ]
  },
  {
   "cell_type": "code",
   "execution_count": 22,
   "metadata": {},
   "outputs": [
    {
     "name": "stderr",
     "output_type": "stream",
     "text": [
      "C:\\Users\\clopearg\\AppData\\Local\\Temp\\ipykernel_48504\\3548366166.py:1: SettingWithCopyWarning:\n",
      "\n",
      "\n",
      "A value is trying to be set on a copy of a slice from a DataFrame.\n",
      "Try using .loc[row_indexer,col_indexer] = value instead\n",
      "\n",
      "See the caveats in the documentation: https://pandas.pydata.org/pandas-docs/stable/user_guide/indexing.html#returning-a-view-versus-a-copy\n",
      "\n"
     ]
    }
   ],
   "source": [
    "df_y['date'] = pd.to_datetime(df[['year', 'month', 'day']]).reset_index(drop=True)"
   ]
  },
  {
   "cell_type": "code",
   "execution_count": 23,
   "metadata": {},
   "outputs": [
    {
     "data": {
      "application/vnd.plotly.v1+json": {
       "config": {
        "plotlyServerURL": "https://plot.ly"
       },
       "data": [
        {
         "hoverinfo": "x+y",
         "line": {
          "color": "steelblue",
          "width": 0.5
         },
         "mode": "lines",
         "name": "Revenue",
         "type": "scatter",
         "x": [
          1937,
          1939,
          1940,
          1942,
          1962,
          1963,
          1964,
          1965,
          1966,
          1967,
          1969,
          1970,
          1971,
          1972,
          1973,
          1974,
          1975,
          1977,
          1978,
          1979,
          1980,
          1981,
          1982,
          1983,
          1984,
          1985,
          1986,
          1987,
          1988,
          1989,
          1990,
          1991,
          1992,
          1993,
          1994,
          1995,
          1996,
          1997,
          1998,
          1999,
          2000,
          2001,
          2002,
          2003,
          2004,
          2005,
          2006,
          2007,
          2008,
          2009,
          2010,
          2011,
          2012,
          2013,
          2014,
          2015
         ],
         "y": [
          192948089.80317673,
          59783922.96888283,
          97639887.65582742,
          243308428.85863507,
          82318455.33494192,
          88267682.86321622,
          63842739.31384602,
          129951437.13228479,
          10470543.256589025,
          119938738.08812167,
          90380334.86866662,
          54214420.47324169,
          71112251.7419888,
          236326527.9283236,
          270371584.9153534,
          115129472.18305026,
          232137954.40992877,
          451576577.72638804,
          91028807.158584,
          163954153.17387533,
          190887887.83704054,
          136200377.5720547,
          282232829.68513185,
          246931051.91437283,
          179218682.8739639,
          210164897.8289132,
          50819504.841857195,
          133790122.82056002,
          26650041.950941462,
          253194118.15274844,
          228070769.20243365,
          15118270.411735296,
          171263638.1819254,
          380784562.7163596,
          232091154.66440153,
          147132197.0874382,
          149284594.47624627,
          355949925.0169095,
          148222012.69651824,
          201558756.49484986,
          125168642.6629153,
          252127110.4298148,
          228910120.86614677,
          206451785.86370093,
          177937855.52938426,
          143118804.13102415,
          146080591.42734852,
          167868780.35752273,
          145103125.31744835,
          175879867.52907094,
          142890000.33635506,
          139092281.0261484,
          222682834.8857199,
          247230176.78083825,
          281830812.84183604,
          258189372.84090805
         ]
        },
        {
         "hoverinfo": "x+y",
         "line": {
          "color": "firebrick",
          "width": 0.5
         },
         "mode": "lines",
         "name": "Revenue real",
         "type": "scatter",
         "x": [
          1937,
          1939,
          1940,
          1942,
          1962,
          1963,
          1964,
          1965,
          1966,
          1967,
          1969,
          1970,
          1971,
          1972,
          1973,
          1974,
          1975,
          1977,
          1978,
          1979,
          1980,
          1981,
          1982,
          1983,
          1984,
          1985,
          1986,
          1987,
          1988,
          1989,
          1990,
          1991,
          1992,
          1993,
          1994,
          1995,
          1996,
          1997,
          1998,
          1999,
          2000,
          2001,
          2002,
          2003,
          2004,
          2005,
          2006,
          2007,
          2008,
          2009,
          2010,
          2011,
          2012,
          2013,
          2014,
          2015
         ],
         "y": [
          184925486,
          33754967,
          83320000,
          267447150,
          59600000,
          78898765,
          68590365,
          141195658,
          6000000,
          111584787,
          81974493,
          40000000,
          65609773.5,
          245066411,
          301541990.5,
          97572000,
          237841474,
          480418340,
          105500000,
          134900093.66666666,
          188214453.66666666,
          144496694.6,
          281893310.6666667,
          249941916.75,
          205685600,
          181558507.66666666,
          11000000,
          114652690,
          6948316.666666667,
          250705965,
          220802942.8,
          7434726,
          193652399.66666666,
          422993784.3333333,
          262285718.25,
          156172675.8,
          146918620.45454547,
          358063913.5555556,
          123903630.36363636,
          204831825.45454547,
          135656376.5625,
          244116027.52631578,
          237239313.2142857,
          200900740.5,
          184297390.66666666,
          137836984.91304347,
          143201600.15492958,
          170948609.2368421,
          142304536.75903615,
          174038177.34951457,
          143298693.38016528,
          141242674.73880598,
          222332547.8433735,
          250880832.63934427,
          279173547.0327869,
          256393572.52702704
         ]
        }
       ],
       "layout": {
        "font": {
         "size": 8
        },
        "legend": {
         "bgcolor": "white",
         "x": 0.01,
         "xanchor": "left",
         "y": 0.99,
         "yanchor": "top"
        },
        "template": {
         "data": {
          "bar": [
           {
            "error_x": {
             "color": "#2a3f5f"
            },
            "error_y": {
             "color": "#2a3f5f"
            },
            "marker": {
             "line": {
              "color": "#E5ECF6",
              "width": 0.5
             },
             "pattern": {
              "fillmode": "overlay",
              "size": 10,
              "solidity": 0.2
             }
            },
            "type": "bar"
           }
          ],
          "barpolar": [
           {
            "marker": {
             "line": {
              "color": "#E5ECF6",
              "width": 0.5
             },
             "pattern": {
              "fillmode": "overlay",
              "size": 10,
              "solidity": 0.2
             }
            },
            "type": "barpolar"
           }
          ],
          "carpet": [
           {
            "aaxis": {
             "endlinecolor": "#2a3f5f",
             "gridcolor": "white",
             "linecolor": "white",
             "minorgridcolor": "white",
             "startlinecolor": "#2a3f5f"
            },
            "baxis": {
             "endlinecolor": "#2a3f5f",
             "gridcolor": "white",
             "linecolor": "white",
             "minorgridcolor": "white",
             "startlinecolor": "#2a3f5f"
            },
            "type": "carpet"
           }
          ],
          "choropleth": [
           {
            "colorbar": {
             "outlinewidth": 0,
             "ticks": ""
            },
            "type": "choropleth"
           }
          ],
          "contour": [
           {
            "colorbar": {
             "outlinewidth": 0,
             "ticks": ""
            },
            "colorscale": [
             [
              0,
              "#0d0887"
             ],
             [
              0.1111111111111111,
              "#46039f"
             ],
             [
              0.2222222222222222,
              "#7201a8"
             ],
             [
              0.3333333333333333,
              "#9c179e"
             ],
             [
              0.4444444444444444,
              "#bd3786"
             ],
             [
              0.5555555555555556,
              "#d8576b"
             ],
             [
              0.6666666666666666,
              "#ed7953"
             ],
             [
              0.7777777777777778,
              "#fb9f3a"
             ],
             [
              0.8888888888888888,
              "#fdca26"
             ],
             [
              1,
              "#f0f921"
             ]
            ],
            "type": "contour"
           }
          ],
          "contourcarpet": [
           {
            "colorbar": {
             "outlinewidth": 0,
             "ticks": ""
            },
            "type": "contourcarpet"
           }
          ],
          "heatmap": [
           {
            "colorbar": {
             "outlinewidth": 0,
             "ticks": ""
            },
            "colorscale": [
             [
              0,
              "#0d0887"
             ],
             [
              0.1111111111111111,
              "#46039f"
             ],
             [
              0.2222222222222222,
              "#7201a8"
             ],
             [
              0.3333333333333333,
              "#9c179e"
             ],
             [
              0.4444444444444444,
              "#bd3786"
             ],
             [
              0.5555555555555556,
              "#d8576b"
             ],
             [
              0.6666666666666666,
              "#ed7953"
             ],
             [
              0.7777777777777778,
              "#fb9f3a"
             ],
             [
              0.8888888888888888,
              "#fdca26"
             ],
             [
              1,
              "#f0f921"
             ]
            ],
            "type": "heatmap"
           }
          ],
          "heatmapgl": [
           {
            "colorbar": {
             "outlinewidth": 0,
             "ticks": ""
            },
            "colorscale": [
             [
              0,
              "#0d0887"
             ],
             [
              0.1111111111111111,
              "#46039f"
             ],
             [
              0.2222222222222222,
              "#7201a8"
             ],
             [
              0.3333333333333333,
              "#9c179e"
             ],
             [
              0.4444444444444444,
              "#bd3786"
             ],
             [
              0.5555555555555556,
              "#d8576b"
             ],
             [
              0.6666666666666666,
              "#ed7953"
             ],
             [
              0.7777777777777778,
              "#fb9f3a"
             ],
             [
              0.8888888888888888,
              "#fdca26"
             ],
             [
              1,
              "#f0f921"
             ]
            ],
            "type": "heatmapgl"
           }
          ],
          "histogram": [
           {
            "marker": {
             "pattern": {
              "fillmode": "overlay",
              "size": 10,
              "solidity": 0.2
             }
            },
            "type": "histogram"
           }
          ],
          "histogram2d": [
           {
            "colorbar": {
             "outlinewidth": 0,
             "ticks": ""
            },
            "colorscale": [
             [
              0,
              "#0d0887"
             ],
             [
              0.1111111111111111,
              "#46039f"
             ],
             [
              0.2222222222222222,
              "#7201a8"
             ],
             [
              0.3333333333333333,
              "#9c179e"
             ],
             [
              0.4444444444444444,
              "#bd3786"
             ],
             [
              0.5555555555555556,
              "#d8576b"
             ],
             [
              0.6666666666666666,
              "#ed7953"
             ],
             [
              0.7777777777777778,
              "#fb9f3a"
             ],
             [
              0.8888888888888888,
              "#fdca26"
             ],
             [
              1,
              "#f0f921"
             ]
            ],
            "type": "histogram2d"
           }
          ],
          "histogram2dcontour": [
           {
            "colorbar": {
             "outlinewidth": 0,
             "ticks": ""
            },
            "colorscale": [
             [
              0,
              "#0d0887"
             ],
             [
              0.1111111111111111,
              "#46039f"
             ],
             [
              0.2222222222222222,
              "#7201a8"
             ],
             [
              0.3333333333333333,
              "#9c179e"
             ],
             [
              0.4444444444444444,
              "#bd3786"
             ],
             [
              0.5555555555555556,
              "#d8576b"
             ],
             [
              0.6666666666666666,
              "#ed7953"
             ],
             [
              0.7777777777777778,
              "#fb9f3a"
             ],
             [
              0.8888888888888888,
              "#fdca26"
             ],
             [
              1,
              "#f0f921"
             ]
            ],
            "type": "histogram2dcontour"
           }
          ],
          "mesh3d": [
           {
            "colorbar": {
             "outlinewidth": 0,
             "ticks": ""
            },
            "type": "mesh3d"
           }
          ],
          "parcoords": [
           {
            "line": {
             "colorbar": {
              "outlinewidth": 0,
              "ticks": ""
             }
            },
            "type": "parcoords"
           }
          ],
          "pie": [
           {
            "automargin": true,
            "type": "pie"
           }
          ],
          "scatter": [
           {
            "fillpattern": {
             "fillmode": "overlay",
             "size": 10,
             "solidity": 0.2
            },
            "type": "scatter"
           }
          ],
          "scatter3d": [
           {
            "line": {
             "colorbar": {
              "outlinewidth": 0,
              "ticks": ""
             }
            },
            "marker": {
             "colorbar": {
              "outlinewidth": 0,
              "ticks": ""
             }
            },
            "type": "scatter3d"
           }
          ],
          "scattercarpet": [
           {
            "marker": {
             "colorbar": {
              "outlinewidth": 0,
              "ticks": ""
             }
            },
            "type": "scattercarpet"
           }
          ],
          "scattergeo": [
           {
            "marker": {
             "colorbar": {
              "outlinewidth": 0,
              "ticks": ""
             }
            },
            "type": "scattergeo"
           }
          ],
          "scattergl": [
           {
            "marker": {
             "colorbar": {
              "outlinewidth": 0,
              "ticks": ""
             }
            },
            "type": "scattergl"
           }
          ],
          "scattermapbox": [
           {
            "marker": {
             "colorbar": {
              "outlinewidth": 0,
              "ticks": ""
             }
            },
            "type": "scattermapbox"
           }
          ],
          "scatterpolar": [
           {
            "marker": {
             "colorbar": {
              "outlinewidth": 0,
              "ticks": ""
             }
            },
            "type": "scatterpolar"
           }
          ],
          "scatterpolargl": [
           {
            "marker": {
             "colorbar": {
              "outlinewidth": 0,
              "ticks": ""
             }
            },
            "type": "scatterpolargl"
           }
          ],
          "scatterternary": [
           {
            "marker": {
             "colorbar": {
              "outlinewidth": 0,
              "ticks": ""
             }
            },
            "type": "scatterternary"
           }
          ],
          "surface": [
           {
            "colorbar": {
             "outlinewidth": 0,
             "ticks": ""
            },
            "colorscale": [
             [
              0,
              "#0d0887"
             ],
             [
              0.1111111111111111,
              "#46039f"
             ],
             [
              0.2222222222222222,
              "#7201a8"
             ],
             [
              0.3333333333333333,
              "#9c179e"
             ],
             [
              0.4444444444444444,
              "#bd3786"
             ],
             [
              0.5555555555555556,
              "#d8576b"
             ],
             [
              0.6666666666666666,
              "#ed7953"
             ],
             [
              0.7777777777777778,
              "#fb9f3a"
             ],
             [
              0.8888888888888888,
              "#fdca26"
             ],
             [
              1,
              "#f0f921"
             ]
            ],
            "type": "surface"
           }
          ],
          "table": [
           {
            "cells": {
             "fill": {
              "color": "#EBF0F8"
             },
             "line": {
              "color": "white"
             }
            },
            "header": {
             "fill": {
              "color": "#C8D4E3"
             },
             "line": {
              "color": "white"
             }
            },
            "type": "table"
           }
          ]
         },
         "layout": {
          "annotationdefaults": {
           "arrowcolor": "#2a3f5f",
           "arrowhead": 0,
           "arrowwidth": 1
          },
          "autotypenumbers": "strict",
          "coloraxis": {
           "colorbar": {
            "outlinewidth": 0,
            "ticks": ""
           }
          },
          "colorscale": {
           "diverging": [
            [
             0,
             "#8e0152"
            ],
            [
             0.1,
             "#c51b7d"
            ],
            [
             0.2,
             "#de77ae"
            ],
            [
             0.3,
             "#f1b6da"
            ],
            [
             0.4,
             "#fde0ef"
            ],
            [
             0.5,
             "#f7f7f7"
            ],
            [
             0.6,
             "#e6f5d0"
            ],
            [
             0.7,
             "#b8e186"
            ],
            [
             0.8,
             "#7fbc41"
            ],
            [
             0.9,
             "#4d9221"
            ],
            [
             1,
             "#276419"
            ]
           ],
           "sequential": [
            [
             0,
             "#0d0887"
            ],
            [
             0.1111111111111111,
             "#46039f"
            ],
            [
             0.2222222222222222,
             "#7201a8"
            ],
            [
             0.3333333333333333,
             "#9c179e"
            ],
            [
             0.4444444444444444,
             "#bd3786"
            ],
            [
             0.5555555555555556,
             "#d8576b"
            ],
            [
             0.6666666666666666,
             "#ed7953"
            ],
            [
             0.7777777777777778,
             "#fb9f3a"
            ],
            [
             0.8888888888888888,
             "#fdca26"
            ],
            [
             1,
             "#f0f921"
            ]
           ],
           "sequentialminus": [
            [
             0,
             "#0d0887"
            ],
            [
             0.1111111111111111,
             "#46039f"
            ],
            [
             0.2222222222222222,
             "#7201a8"
            ],
            [
             0.3333333333333333,
             "#9c179e"
            ],
            [
             0.4444444444444444,
             "#bd3786"
            ],
            [
             0.5555555555555556,
             "#d8576b"
            ],
            [
             0.6666666666666666,
             "#ed7953"
            ],
            [
             0.7777777777777778,
             "#fb9f3a"
            ],
            [
             0.8888888888888888,
             "#fdca26"
            ],
            [
             1,
             "#f0f921"
            ]
           ]
          },
          "colorway": [
           "#636efa",
           "#EF553B",
           "#00cc96",
           "#ab63fa",
           "#FFA15A",
           "#19d3f3",
           "#FF6692",
           "#B6E880",
           "#FF97FF",
           "#FECB52"
          ],
          "font": {
           "color": "#2a3f5f"
          },
          "geo": {
           "bgcolor": "white",
           "lakecolor": "white",
           "landcolor": "#E5ECF6",
           "showlakes": true,
           "showland": true,
           "subunitcolor": "white"
          },
          "hoverlabel": {
           "align": "left"
          },
          "hovermode": "closest",
          "mapbox": {
           "style": "light"
          },
          "paper_bgcolor": "white",
          "plot_bgcolor": "#E5ECF6",
          "polar": {
           "angularaxis": {
            "gridcolor": "white",
            "linecolor": "white",
            "ticks": ""
           },
           "bgcolor": "#E5ECF6",
           "radialaxis": {
            "gridcolor": "white",
            "linecolor": "white",
            "ticks": ""
           }
          },
          "scene": {
           "xaxis": {
            "backgroundcolor": "#E5ECF6",
            "gridcolor": "white",
            "gridwidth": 2,
            "linecolor": "white",
            "showbackground": true,
            "ticks": "",
            "zerolinecolor": "white"
           },
           "yaxis": {
            "backgroundcolor": "#E5ECF6",
            "gridcolor": "white",
            "gridwidth": 2,
            "linecolor": "white",
            "showbackground": true,
            "ticks": "",
            "zerolinecolor": "white"
           },
           "zaxis": {
            "backgroundcolor": "#E5ECF6",
            "gridcolor": "white",
            "gridwidth": 2,
            "linecolor": "white",
            "showbackground": true,
            "ticks": "",
            "zerolinecolor": "white"
           }
          },
          "shapedefaults": {
           "line": {
            "color": "#2a3f5f"
           }
          },
          "ternary": {
           "aaxis": {
            "gridcolor": "white",
            "linecolor": "white",
            "ticks": ""
           },
           "baxis": {
            "gridcolor": "white",
            "linecolor": "white",
            "ticks": ""
           },
           "bgcolor": "#E5ECF6",
           "caxis": {
            "gridcolor": "white",
            "linecolor": "white",
            "ticks": ""
           }
          },
          "title": {
           "x": 0.05
          },
          "xaxis": {
           "automargin": true,
           "gridcolor": "white",
           "linecolor": "white",
           "ticks": "",
           "title": {
            "standoff": 15
           },
           "zerolinecolor": "white",
           "zerolinewidth": 2
          },
          "yaxis": {
           "automargin": true,
           "gridcolor": "white",
           "linecolor": "white",
           "ticks": "",
           "title": {
            "standoff": 15
           },
           "zerolinecolor": "white",
           "zerolinewidth": 2
          }
         }
        },
        "title": {
         "text": "Evolución Temporal"
        },
        "xaxis": {
         "title": {
          "text": "Año"
         }
        },
        "yaxis": {
         "title": {
          "text": "Ventas (Millones)"
         }
        }
       }
      }
     },
     "metadata": {},
     "output_type": "display_data"
    }
   ],
   "source": [
    "df_aux = df_pred_test.groupby(df_pred_test[\"date\"].dt.year)['revenue'].mean().reset_index()[:-1]\n",
    "df_aux2 = df_y.groupby(df_y[\"date\"].dt.year)['revenue'].mean().reset_index()[:-1]\n",
    "\n",
    "\n",
    "fig = go.Figure()\n",
    "fig.add_trace(go.Scatter(\n",
    "    x=df_aux['date'], y=df_aux['revenue'],\n",
    "    hoverinfo='x+y',\n",
    "    mode='lines',\n",
    "    line=dict(width=0.5, color='steelblue'),\n",
    "    name = 'Revenue'\n",
    "))\n",
    "fig.add_trace(go.Scatter(\n",
    "    x=df_aux2['date'], y=df_aux2['revenue'],\n",
    "    hoverinfo='x+y',\n",
    "    mode='lines',\n",
    "    line=dict(width=0.5, color='firebrick'),\n",
    "    name = 'Revenue real'\n",
    "))\n",
    "\n",
    "fig.update_layout(\n",
    "    title = 'Evolución Temporal',\n",
    "    xaxis_title = 'Año',\n",
    "    yaxis_title = 'Ventas (Millones)',\n",
    "    legend=dict(\n",
    "        bgcolor = 'white',\n",
    "        yanchor=\"top\",\n",
    "        y=0.99,\n",
    "        xanchor=\"left\",\n",
    "        x=0.01),\n",
    "    font=dict(size=8),\n",
    "    # margin=dict(\n",
    "    #     l=0,\n",
    "    #     r=0,\n",
    "    #     b=0,\n",
    "    #     t=25,\n",
    "    #     pad=4\n",
    "    # )\n",
    ")"
   ]
  },
  {
   "cell_type": "code",
   "execution_count": null,
   "metadata": {},
   "outputs": [],
   "source": []
  }
 ],
 "metadata": {
  "kernelspec": {
   "display_name": ".venv",
   "language": "python",
   "name": "python3"
  },
  "language_info": {
   "codemirror_mode": {
    "name": "ipython",
    "version": 3
   },
   "file_extension": ".py",
   "mimetype": "text/x-python",
   "name": "python",
   "nbconvert_exporter": "python",
   "pygments_lexer": "ipython3",
   "version": "3.11.6"
  }
 },
 "nbformat": 4,
 "nbformat_minor": 2
}
